{
 "cells": [
  {
   "cell_type": "markdown",
   "id": "bc04dc4e",
   "metadata": {},
   "source": [
    "# WEB SCRAPING-ASSIGNMENT3"
   ]
  },
  {
   "cell_type": "code",
   "execution_count": 23,
   "id": "4a78a547",
   "metadata": {},
   "outputs": [
    {
     "name": "stdout",
     "output_type": "stream",
     "text": [
      "Requirement already satisfied: selenium in c:\\users\\spectrum buildtech\\anaconda3\\lib\\site-packages (4.8.0)\n",
      "Requirement already satisfied: trio~=0.17 in c:\\users\\spectrum buildtech\\anaconda3\\lib\\site-packages (from selenium) (0.22.0)\n",
      "Requirement already satisfied: urllib3[socks]~=1.26 in c:\\users\\spectrum buildtech\\anaconda3\\lib\\site-packages (from selenium) (1.26.9)\n",
      "Requirement already satisfied: certifi>=2021.10.8 in c:\\users\\spectrum buildtech\\anaconda3\\lib\\site-packages (from selenium) (2021.10.8)\n",
      "Requirement already satisfied: trio-websocket~=0.9 in c:\\users\\spectrum buildtech\\anaconda3\\lib\\site-packages (from selenium) (0.9.2)\n",
      "Requirement already satisfied: async-generator>=1.9 in c:\\users\\spectrum buildtech\\anaconda3\\lib\\site-packages (from trio~=0.17->selenium) (1.10)\n",
      "Requirement already satisfied: sniffio in c:\\users\\spectrum buildtech\\anaconda3\\lib\\site-packages (from trio~=0.17->selenium) (1.2.0)\n",
      "Requirement already satisfied: outcome in c:\\users\\spectrum buildtech\\anaconda3\\lib\\site-packages (from trio~=0.17->selenium) (1.2.0)\n",
      "Requirement already satisfied: idna in c:\\users\\spectrum buildtech\\anaconda3\\lib\\site-packages (from trio~=0.17->selenium) (3.3)\n",
      "Requirement already satisfied: sortedcontainers in c:\\users\\spectrum buildtech\\anaconda3\\lib\\site-packages (from trio~=0.17->selenium) (2.4.0)\n",
      "Requirement already satisfied: attrs>=19.2.0 in c:\\users\\spectrum buildtech\\anaconda3\\lib\\site-packages (from trio~=0.17->selenium) (21.4.0)\n",
      "Requirement already satisfied: exceptiongroup>=1.0.0rc9 in c:\\users\\spectrum buildtech\\anaconda3\\lib\\site-packages (from trio~=0.17->selenium) (1.1.0)\n",
      "Requirement already satisfied: cffi>=1.14 in c:\\users\\spectrum buildtech\\anaconda3\\lib\\site-packages (from trio~=0.17->selenium) (1.15.0)\n",
      "Requirement already satisfied: pycparser in c:\\users\\spectrum buildtech\\anaconda3\\lib\\site-packages (from cffi>=1.14->trio~=0.17->selenium) (2.21)\n",
      "Requirement already satisfied: wsproto>=0.14 in c:\\users\\spectrum buildtech\\anaconda3\\lib\\site-packages (from trio-websocket~=0.9->selenium) (1.2.0)\n",
      "Requirement already satisfied: PySocks!=1.5.7,<2.0,>=1.5.6 in c:\\users\\spectrum buildtech\\anaconda3\\lib\\site-packages (from urllib3[socks]~=1.26->selenium) (1.7.1)\n",
      "Requirement already satisfied: h11<1,>=0.9.0 in c:\\users\\spectrum buildtech\\anaconda3\\lib\\site-packages (from wsproto>=0.14->trio-websocket~=0.9->selenium) (0.14.0)\n"
     ]
    }
   ],
   "source": [
    "!pip install selenium"
   ]
  },
  {
   "cell_type": "code",
   "execution_count": 24,
   "id": "0c6a323b",
   "metadata": {},
   "outputs": [],
   "source": [
    "import selenium\n",
    "import pandas as pd\n",
    "from selenium import webdriver\n",
    "import warnings\n",
    "warnings.filterwarnings('ignore')\n",
    "from selenium.webdriver.common.by import By\n",
    "import requests\n",
    "import time\n",
    "from selenium.common.exceptions import NoSuchElementException"
   ]
  },
  {
   "cell_type": "markdown",
   "id": "7e110d96",
   "metadata": {},
   "source": [
    "# Q1"
   ]
  },
  {
   "cell_type": "markdown",
   "id": "aaede4e2",
   "metadata": {},
   "source": [
    "1. Write a python program which searches all the product under a particular product from www.amazon.in. The \n",
    "product to be searched will be taken as input from user. For e.g. If user input is ‘guitar’. Then search for \n",
    "guitars."
   ]
  },
  {
   "cell_type": "code",
   "execution_count": 25,
   "id": "41da35bb",
   "metadata": {},
   "outputs": [],
   "source": [
    "driver=webdriver.Chrome(r\"D:\\KN E D\\DS\\Internship\\chromedriver_win32.zip\\chromedriver.exe\")"
   ]
  },
  {
   "cell_type": "code",
   "execution_count": 26,
   "id": "c9c3058d",
   "metadata": {},
   "outputs": [],
   "source": [
    "driver.get(\"https://www.amazon.in/\")"
   ]
  },
  {
   "cell_type": "code",
   "execution_count": 27,
   "id": "42562ab3",
   "metadata": {},
   "outputs": [
    {
     "name": "stdout",
     "output_type": "stream",
     "text": [
      "Entre your item: guitar\n"
     ]
    }
   ],
   "source": [
    "search=driver.find_element(By.XPATH,\"/html/body/div[1]/header/div/div[1]/div[2]/div/form/div[2]/div[1]/input\")\n",
    "name=input(\"Entre your item: \")"
   ]
  },
  {
   "cell_type": "code",
   "execution_count": 28,
   "id": "8aa03888",
   "metadata": {},
   "outputs": [],
   "source": [
    "search_bar = driver.find_element(By.XPATH,'//*[@id=\"twotabsearchtextbox\"]') # Locating searc_bar by id\n",
    "\n",
    "search_bar.send_keys(name) # sending user input to search bar\n",
    "\n",
    "search_button = driver.find_element(By.XPATH,'//*[@id=\"nav-search-submit-button\"]')       # finding the xpath for search button \n",
    "\n",
    "search_button.click()   #searching the click button\n"
   ]
  },
  {
   "cell_type": "code",
   "execution_count": 7,
   "id": "2ec8799a",
   "metadata": {},
   "outputs": [],
   "source": [
    "#this is the one method to seacrh the product\n",
    "#clearing the old search bar data using this code\n",
    "\n",
    "#search_bar = driver.find_element(By.ID,\"twotabsearchtextbox\")    # Locating searc_bar by id\n",
    "\n",
    "#search_bar.clear()                                               # clearing search_bar\n",
    "\n",
    "#search_bar.send_keys(name)                                   # sending user input to search bar\n",
    "\n",
    "#search_button = driver.find_element(By.XPATH,'//div[@class=\"nav-search-submit nav-sprite\"]/span/input')       # Locating search_button by xpath\n",
    "\n",
    "#search_button.click()                                                               # Clicking the button to start search"
   ]
  },
  {
   "cell_type": "code",
   "execution_count": 29,
   "id": "1f3e7ac5",
   "metadata": {},
   "outputs": [],
   "source": [
    "productName=[]"
   ]
  },
  {
   "cell_type": "code",
   "execution_count": 30,
   "id": "f8557094",
   "metadata": {},
   "outputs": [
    {
     "name": "stdout",
     "output_type": "stream",
     "text": [
      "66 ['Kadence Slowhand Premium Jumbo Semi Acoustic Guitar with Heavy Padded Bag, guitar cable, Pro Capo (Black Spruce Wood)', 'Kadence Frontier Jumbo Semi Acoustic Guitar With Die Cast Keys, Super Combo (Bag, 1 pack Strings, Strap, Picks, Capo (Black)', 'Kadence Frontier guitar with Online Guitar learning course , Wine Red Acoustic Guitar with Die Cast Keys, Set of Strings, Strap, Picks and Bag (Wine Red, Acoustic)', 'INTERN 40 inches Acoustic Guitar with Pick-up & truss rod, carry bag, strings pack, strap & picks. Premium Wooden durable built, tonal stability with professional sound amplificaiton. (Black).', 'Juârez Acoustic Guitar, 38 Inch Cutaway, 038C with Bag, Strings, Pick and Strap, Black', 'Intern INT-38C Right hand Acoustic Guitar Kit, With Bag, Strings, Pick And Strap, Black, small', 'Juarez Lindenwood Acoustic Guitar, 38 Inches Curved Body Cutaway, 38CUR With Bag, Strings, Pick And Strap (Black)', 'Intern INT-38C Natural Linden Wood Acoustic Guitar Kit with Carry Bag & Picks', 'Yamaha F280 Acoustic Rosewood Guitar (Natural, Beige)', 'Intern INT-38C Acoustic Guitar Kit (Blue)', 'Fender Acoustic Guitar with Cutaway Electronics CD60SCE Natural 970113021 One of The Most reputed Guitar Brands in the World', 'Intern 38C Ebony Wood Cutaway Design Acoustic Guitar with Picks And Carry Bag (Black)', 'Intern Int-38c Linden Wood Acoustic Guitar Kit with Carry Bag and Picks (Brown)', 'JUAREZ JRZ38C 38 Inches Lindenwood Right Handed Acoustic Guitar With Bag, Strings, Pick And Strap (Natural, Brown, 6 Strings)', 'Kadence Frontier guitar with Online Guitar learning course , Wine Red Acoustic Guitar with Die Cast Keys, Set of Strings, Strap, Picks and Bag (Wine Red, Acoustic)', 'Kadence Slowhand Premium Jumbo Semi Acoustic Guitar with Heavy Padded Bag, guitar cable, Pro Capo (Black Spruce Wood)', 'Kadence Frontier Jumbo Semi Acoustic Guitar With Die Cast Keys, Super Combo (Bag, 1 pack Strings, Strap, Picks, Capo (Black)', 'Cort AD810 Dreadnought Acoustic Guitar with Gig Bag,Tuner,Picks and Strap (Natural Bundle)', 'Fender Acoustic Guitar Dreadnought CD60 V3 970110506 Black Right-Handed One of The Most reputed Guitar Brands in the World', 'Yamaha FS100C Acoustic Guitar, Natural', 'Hovner 215 Black F-Cut Rosewood Fretboard Acoustic Guitar With Bag,Strap,1 Set of Extra Strings and 2 Picks By K-Retail', 'Kadence Guitar Acoustica Series, 41” Jumbo Size 6-strings Acoustic Guitar, Spruce body with Pick Guard A311 with bag… B07JKYWGJN (KAD-A-311)', 'Revel 38 Inches Lindenwood Cutaway Design Acoustic Guitar With Carry Bag And Plectrums (Natural, Beige)', 'YAMAHA FS80C NATURAL CONCERT CUTAWAY GUITAR', 'Juarez Lindenwood Acoustic Guitar Kit, 38 Inches Cutaway, 38C With Bag, Strings, Pick And Strap, TBS Transparent (Blue Sunburst)', 'Juarez Lindenwood Acoustic Guitar Kit, 38 Inches Cutaway, 38C With Bag, Strings, Pick And Strap, 3TS Sunburst', 'Intern INT-38C-BK-G Cutaway Right Handed Acoustic Guitar Kit, with Bag, Nickel Strings, Pick And Strap (Black) -6 Strings', 'Fender Player Telecaster 145212506 Maple Neck Electric Guitar - Black', 'FOMIYES 21 Inches Mini Acoustic Guitar, Travel Guitar Musical Instrument, Wooden Guitar for Beginner Children (White)', 'GUITAR BRO - COMBO (Black Acoustic Guitar for Beginner, Guitar Learning Kit, Song Book, Video Lectures, Accessories like Pick, Bag)', 'Vault Traveller 34 Inch Acoustic Guitar With Truss Rod, Gig-Bag, Strap, Strings, Polishing Cloth, String Winder, Picks & E-Book - Natural Gloss', 'Acoustic Guitar, 39 Inch Cutaway, 039C with Bag, Strings, Pick and Strap, Random Colour Left Handed Acoustic Guitar Cutaway Package with Die Cast Keys, Set of Strings, Strap, Picks and Bag (Wine Red, Acoustic) with Gig Bag, Tuner, Picks and Strap (Natural Bundle), colors may be vary', 'Kadence 40 Incheses Frontier Series, rosewood Semi Acoustic Guitar With Die Cast Keys (Bag,Strap,Strings And 3 Picks) (Natural)', 'Kadence rosewood Guitar Frontier Series, Electric Acoustic Black Guitar With EQ, Die Cast Keys, Set Of Strings, Strap, Picks And Bag (Black EQ, Electric Acoustic)', 'Intern INT-38C Lindenwood Acoustic Guitar Kit (Sunburst) With Carry Bag, Picks, Strings Set And Guitar Strap (Small)', 'Medellin M38 carbon fiber body 38 Incheses Acoustic Guitar (Blue Burst) Durable Matt finish With hAndrest, strings, strap, bag, 3 Picks, capo, stAnd', 'Kadence 40 Incheses Frontier Series, wood Acoustic Guitar With/Wihtout EQ Die Cast Keys Combo (Bag,strap,strings And 3 picks) (Black, Acoustic)', 'INTERN Cutaway Design Acoustic Guitar Pack -Humidity Proof, Bend resistance, Durable Action, Natural tone & bright resonance. Black Carbon Fibre/Fiber Guitar with Bag, Strap, Strings set & Plectrums.', 'Intern 38C Wooden Acoustic Steel-String Guitar Premium White Cutaway Design With Carry Bag, Strings, Guitar Strap And Plectrums (Int-38C-Wh)', 'Yamaha F280 Acoustic Guitar, Natural With Bajaao Gig Bag', 'JUAREZ Wood Acoustic Guitar, [Left Handed] 96.52 Cm (38 Inch) Cutaway, 38Cl/Tbls With Bag, Strings, Pick And Strap, Blue Sunburst', 'Juarez Acoustic Guitar, 38 Inch Cutaway, 38CMB with Bag, Strings, Pick and Strap, Matte Black', 'Juârez Acoustic Guitar, 38 Inch Cutaway, JRZ38CT, Hippie Funky Design, with Bag, Picks, Strap & Extra String set', 'Juârez Lindenwood Acoustic Guitar, 38 Inches Cutaway, JRZ38C With Bag, Strings, Pick And Strap, Blue', 'JUAREZ JRZ-ST01, 6 Strings Linden Wood Electric Guitar, Right Handed with Bag/Case, 2 x Picks (3TS Sunburst)', 'Juârez JRZ38C/WH 6 Strings Acoustic Guitar 38 Inch Cutaway, Right Handed, White with Bag, Strings, Picks and Strap', 'Kadence Guitar Acoustica Series A05, Electric Acoustic Guitar, Zebra Wood with Pickup, Inbuilt tuner and Bag (Zebra Wood, Electro Acoustic)', 'Fender Squier 39 Inch 6 String Cutaway Acoustic Guitar Hardwood Fretboard-Natural SA 135C Right-Hand One of The Most reputed Guitar Brands in the World', 'YAMAHA F310, 6-Strings Rose Wood Acoustic Guitar, Natural', 'Yamaha PACIFICA012 Electric Guitar, Dark Blue Metallic', 'Kadence Slowhand Premium Jumbo Semi Acoustic Guitar with Heavy Padded Bag, guitar cable, Pro Capo (Black Spruce Wood)', 'Juârez Acoustic Guitar, 38 Inch Cutaway, JRZ38C with Bag, Strings, Pick and Strap, Red', 'Intern Int-38c Sunburst Linden Wood Acoustic Guitar Kit with Carry Bag and Picks', 'Juarez Acoustic Guitar, 38 Inch Cutaway with Pick Guard, 38CPG with Bag, Strings, Pick and Strap, Black', 'Vault EA20 Guitar Kit with Learn to Play Ebook, Bag, Strings, Straps, Picks, String winder & Polishing Cloth - 40 inch Cutaway Acoustic Guitar', 'Vault JB4 Jazz Bass 4-String Bass Guitar - White', 'Yamaha FS100C Acoustic Guitar, Black', 'Yamaha FX280 Natural Electro Acoustic Guitar', 'Kadence Frontier Jumbo Semi Acoustic Guitar With Die Cast Keys, Super Combo (Bag, 1 pack Strings, Strap, Picks, Capo (Black)', 'Fender Squier Acoustic Guitar Cutaway Electronics SA-105CE 930307006 Black Right-Handed One of The Most reputed Guitar Brands in the World', 'Yamaha FSX80C Semi acoustic cutaway guitar (natural)', 'Intern INT-38C Acoustic Guitar Kit (Red)', 'Medellin 38\" Acoustic Guitar premium wood with adjustable Truss-rod, free online learning course, Set Of Strings, Strap, Bag and 3 Picks (Sunburst Truss Rod)…… (white)', 'Juarez Acoustic Guitar, [LEFT HANDED] 96.52 cm (38 Inch) Cutaway, 38CL/3TS with Bag, Strings, Pick and Strap, 3TS Sunburst', 'Cort AD810 Dreadnought Acoustic Guitar with Gig Bag,Tuner,Picks and Strap (Natural Bundle)', 'MUSTANG Pack of 2 Universal Guitar Stand by Hola! Music Fits Acoustic Classical Electric Bass Guitars Mandolins Banjos Ukuleles and Other Stringed Instruments']\n"
     ]
    }
   ],
   "source": [
    "#scraping the product Name\n",
    "PName=driver.find_elements(By.XPATH,'//span[@class=\"a-size-base-plus a-color-base a-text-normal\"]')\n",
    "for i in PName:\n",
    "    if i.text is None:\n",
    "        productName.append(\"--\")\n",
    "    else:\n",
    "        productName.append(i.text)\n",
    "print(len(productName),productName)"
   ]
  },
  {
   "cell_type": "markdown",
   "id": "41af51ab",
   "metadata": {},
   "source": [
    "# Q2"
   ]
  },
  {
   "cell_type": "markdown",
   "id": "74cd5388",
   "metadata": {},
   "source": [
    "2. In the above question, now scrape the following details of each product listed in first 3 pages of your search \n",
    "results and save it in a data frame and csv. In case if any product has less than 3 pages in search results then \n",
    "scrape all the products available under that product name. Details to be scraped are: \"Brand \n",
    "Name\", \"Name of the Product\", \"Price\", \"Return/Exchange\", \"Expected Delivery\", \"Availability\" and \n",
    "“Product URL”. In case, if any of the details are missing for any of the product then replace it by “-“. "
   ]
  },
  {
   "cell_type": "code",
   "execution_count": 31,
   "id": "96751588",
   "metadata": {},
   "outputs": [],
   "source": [
    "#Importing required exception which needs to handled\n",
    "from selenium.common.exceptions import StaleElementReferenceException, NoSuchElementException\n",
    "\n",
    "#import regex\n",
    "import re"
   ]
  },
  {
   "cell_type": "code",
   "execution_count": 32,
   "id": "96237d40",
   "metadata": {},
   "outputs": [],
   "source": [
    "#fetching url to open each job\n",
    "job_opening_url = []\n",
    "start=0\n",
    "end=3\n",
    "for page in range(start,end):\n",
    "    url= driver.find_elements(By.XPATH,'//a[@class=\"a-link-normal s-underline-text s-underline-link-text s-link-style a-text-normal\"]')\n",
    "    for i in url:\n",
    "        job_opening_url.append(i.get_attribute('href'))#to retrive any link we use get_attribute\n",
    "    next_button=driver.find_elements(By.XPATH,\"/html/body/div[1]/div[2]/div[1]/div[1]/div/span[1]/div[1]/div[63]/div/div/span/a[3]\")"
   ]
  },
  {
   "cell_type": "code",
   "execution_count": 33,
   "id": "f1b4f890",
   "metadata": {},
   "outputs": [
    {
     "data": {
      "text/plain": [
       "198"
      ]
     },
     "execution_count": 33,
     "metadata": {},
     "output_type": "execute_result"
    }
   ],
   "source": [
    "len(job_opening_url)"
   ]
  },
  {
   "cell_type": "code",
   "execution_count": 34,
   "id": "3a620a7a",
   "metadata": {},
   "outputs": [
    {
     "data": {
      "text/plain": [
       "['https://www.amazon.in/sspa/click?ie=UTF8&spc=MTo0NjMxMjE5MzU2NzMyNzQ6MTY3Nzg1NDE2NTpzcF9hdGY6MjAwNTcxOTMwNTYyMDQ6OjA6Og&url=%2FKadence-Slowhand-Premium-Acoustic-Instrument%2Fdp%2FB077SZ667X%2Fref%3Dsr_1_1_sspa%3Fkeywords%3Dguitar%26qid%3D1677854165%26sr%3D8-1-spons%26sp_csd%3Dd2lkZ2V0TmFtZT1zcF9hdGY%26psc%3D1%26smid%3DAM04Z7MH4HSDD',\n",
       " 'https://www.amazon.in/sspa/click?ie=UTF8&spc=MTo0NjMxMjE5MzU2NzMyNzQ6MTY3Nzg1NDE2NTpzcF9hdGY6MjAxMjE3ODQyNDA5OTg6OjA6Og&url=%2FKadence-Frontier-Acoustic-Guitar-Equalizer%2Fdp%2FB01HRIHJWY%2Fref%3Dsr_1_2_sspa%3Fkeywords%3Dguitar%26qid%3D1677854165%26sr%3D8-2-spons%26sp_csd%3Dd2lkZ2V0TmFtZT1zcF9hdGY%26psc%3D1',\n",
       " 'https://www.amazon.in/sspa/click?ie=UTF8&spc=MTo0NjMxMjE5MzU2NzMyNzQ6MTY3Nzg1NDE2NTpzcF9hdGY6MjAwOTY2MDg3NTA0OTg6OjA6Og&url=%2FKadence-Frontier-Acoustic-Guitar-Strings%2Fdp%2FB01GDZ46AA%2Fref%3Dsr_1_3_sspa%3Fkeywords%3Dguitar%26qid%3D1677854165%26sr%3D8-3-spons%26sp_csd%3Dd2lkZ2V0TmFtZT1zcF9hdGY%26psc%3D1%26smid%3DAM04Z7MH4HSDD',\n",
       " 'https://www.amazon.in/sspa/click?ie=UTF8&spc=MTo0NjMxMjE5MzU2NzMyNzQ6MTY3Nzg1NDE2NTpzcF9hdGY6MjAxMDQyNTQzMDE4OTg6OjA6Og&url=%2FAcoustic-Pick-up-stability-professional-amplificaiton%2Fdp%2FB09YHCR3R8%2Fref%3Dsr_1_4_sspa%3Fkeywords%3Dguitar%26qid%3D1677854165%26sr%3D8-4-spons%26sp_csd%3Dd2lkZ2V0TmFtZT1zcF9hdGY%26psc%3D1',\n",
       " 'https://www.amazon.in/Juarez-Acoustic-Cutaway-038C-Strings/dp/B017NPCSLI/ref=sr_1_5?keywords=guitar&qid=1677854165&sr=8-5',\n",
       " 'https://www.amazon.in/Intern-INT-38C-Acoustic-Guitar-Black/dp/B073B6TQQY/ref=sr_1_6?keywords=guitar&qid=1677854165&sr=8-6',\n",
       " 'https://www.amazon.in/Juarez-Acoustic-Guitar-Cutaway-Strings/dp/B076QHZ4HZ/ref=sr_1_7?keywords=guitar&qid=1677854165&sr=8-7',\n",
       " 'https://www.amazon.in/Intern-INT-38C-Natural-Acoustic-Guitar/dp/B07X4LPJ6H/ref=sr_1_8?keywords=guitar&qid=1677854165&sr=8-8',\n",
       " 'https://www.amazon.in/Yamaha-F280-Acoustic-Guitar-Natural/dp/B08317Y4VP/ref=sr_1_9?keywords=guitar&qid=1677854165&sr=8-9',\n",
       " 'https://www.amazon.in/Intern-INT-38C-Acoustic-Guitar-Blue/dp/B073B5RZBV/ref=sr_1_10?keywords=guitar&qid=1677854165&sr=8-10',\n",
       " 'https://www.amazon.in/Fender-CD-60SCE-Electro-Acoustic-Guitar/dp/B084GYX81B/ref=sr_1_11?keywords=guitar&qid=1677854165&sr=8-11',\n",
       " 'https://www.amazon.in/Intern-38-inch-Cutaway-Design-Acoustic/dp/B07X4PN85R/ref=sr_1_12?keywords=guitar&qid=1677854165&sr=8-12',\n",
       " 'https://www.amazon.in/Intern-INT-38C-Brown-Acoustic-Guitar/dp/B07X2HV158/ref=sr_1_13?keywords=guitar&qid=1677854165&sr=8-13',\n",
       " 'https://www.amazon.in/JUAREZ-JRZ38C-Acoustic-Natural-Strings/dp/B01FYYTDWC/ref=sr_1_14?keywords=guitar&qid=1677854165&sr=8-14',\n",
       " 'https://www.amazon.in/sspa/click?ie=UTF8&spc=MTo0ODM3NDY3MTUyNzA1MTc0OjE2Nzc4NTQxNjU6c3Bfc2VhcmNoX3RoZW1hdGljOjIwMDk2NjA4NzUwNDk4OjowOjo&url=%2FKadence-Frontier-Acoustic-Guitar-Strings%2Fdp%2FB01GDZ46AA%2Fref%3Dsxin_25_pa_sp_search_thematic_sspa%3Fcontent-id%3Damzn1.sym.4d22510d-eb67-42e3-80e4-dd492aa3a3e0%253Aamzn1.sym.4d22510d-eb67-42e3-80e4-dd492aa3a3e0%26cv_ct_cx%3Dguitar%26keywords%3Dguitar%26pd_rd_i%3DB01GDZ46AA%26pd_rd_r%3D32b7ce9c-4d25-4262-a33b-043da9f3f2c5%26pd_rd_w%3DyDDRX%26pd_rd_wg%3D0RSio%26pf_rd_p%3D4d22510d-eb67-42e3-80e4-dd492aa3a3e0%26pf_rd_r%3DZ9EF0RNFT8Z9VS2QK177%26qid%3D1677854165%26sr%3D1-1-5b19f378-d955-407f-848e-18f7f0908484-spons%26sp_csd%3Dd2lkZ2V0TmFtZT1zcF9zZWFyY2hfdGhlbWF0aWM%26psc%3D1%26smid%3DAM04Z7MH4HSDD',\n",
       " 'https://www.amazon.in/sspa/click?ie=UTF8&spc=MTo0ODM3NDY3MTUyNzA1MTc0OjE2Nzc4NTQxNjU6c3Bfc2VhcmNoX3RoZW1hdGljOjIwMDU3MTkzMDU2MjA0OjoxOjo&url=%2FKadence-Slowhand-Premium-Acoustic-Instrument%2Fdp%2FB077SZ667X%2Fref%3Dsxin_25_pa_sp_search_thematic_sspa%3Fcontent-id%3Damzn1.sym.4d22510d-eb67-42e3-80e4-dd492aa3a3e0%253Aamzn1.sym.4d22510d-eb67-42e3-80e4-dd492aa3a3e0%26cv_ct_cx%3Dguitar%26keywords%3Dguitar%26pd_rd_i%3DB077SZ667X%26pd_rd_r%3D32b7ce9c-4d25-4262-a33b-043da9f3f2c5%26pd_rd_w%3DyDDRX%26pd_rd_wg%3D0RSio%26pf_rd_p%3D4d22510d-eb67-42e3-80e4-dd492aa3a3e0%26pf_rd_r%3DZ9EF0RNFT8Z9VS2QK177%26qid%3D1677854165%26sr%3D1-2-5b19f378-d955-407f-848e-18f7f0908484-spons%26sp_csd%3Dd2lkZ2V0TmFtZT1zcF9zZWFyY2hfdGhlbWF0aWM%26psc%3D1%26smid%3DAM04Z7MH4HSDD',\n",
       " 'https://www.amazon.in/sspa/click?ie=UTF8&spc=MTo0ODM3NDY3MTUyNzA1MTc0OjE2Nzc4NTQxNjU6c3Bfc2VhcmNoX3RoZW1hdGljOjIwMTIxNzg0MjQwOTk4OjoyOjo&url=%2FKadence-Frontier-Acoustic-Guitar-Equalizer%2Fdp%2FB01HRIHJWY%2Fref%3Dsxin_25_pa_sp_search_thematic_sspa%3Fcontent-id%3Damzn1.sym.4d22510d-eb67-42e3-80e4-dd492aa3a3e0%253Aamzn1.sym.4d22510d-eb67-42e3-80e4-dd492aa3a3e0%26cv_ct_cx%3Dguitar%26keywords%3Dguitar%26pd_rd_i%3DB01HRIHJWY%26pd_rd_r%3D32b7ce9c-4d25-4262-a33b-043da9f3f2c5%26pd_rd_w%3DyDDRX%26pd_rd_wg%3D0RSio%26pf_rd_p%3D4d22510d-eb67-42e3-80e4-dd492aa3a3e0%26pf_rd_r%3DZ9EF0RNFT8Z9VS2QK177%26qid%3D1677854165%26sr%3D1-3-5b19f378-d955-407f-848e-18f7f0908484-spons%26sp_csd%3Dd2lkZ2V0TmFtZT1zcF9zZWFyY2hfdGhlbWF0aWM%26psc%3D1',\n",
       " 'https://www.amazon.in/sspa/click?ie=UTF8&spc=MTo0ODM3NDY3MTUyNzA1MTc0OjE2Nzc4NTQxNjU6c3Bfc2VhcmNoX3RoZW1hdGljOjIwMDE5NjI1NTkyMTA0OjozOjo&url=%2FCort-AD810-Dreadnought-Acoustic-Guitar%2Fdp%2FB07KMBVR6V%2Fref%3Dsxin_25_pa_sp_search_thematic_sspa%3Fcontent-id%3Damzn1.sym.4d22510d-eb67-42e3-80e4-dd492aa3a3e0%253Aamzn1.sym.4d22510d-eb67-42e3-80e4-dd492aa3a3e0%26cv_ct_cx%3Dguitar%26keywords%3Dguitar%26pd_rd_i%3DB07KMBVR6V%26pd_rd_r%3D32b7ce9c-4d25-4262-a33b-043da9f3f2c5%26pd_rd_w%3DyDDRX%26pd_rd_wg%3D0RSio%26pf_rd_p%3D4d22510d-eb67-42e3-80e4-dd492aa3a3e0%26pf_rd_r%3DZ9EF0RNFT8Z9VS2QK177%26qid%3D1677854165%26sr%3D1-4-5b19f378-d955-407f-848e-18f7f0908484-spons%26sp_csd%3Dd2lkZ2V0TmFtZT1zcF9zZWFyY2hfdGhlbWF0aWM%26psc%3D1%26smid%3DA2E0IZ06LXDJ9X',\n",
       " 'https://www.amazon.in/Fender-Dread-String-Acoustic-Guitar/dp/B07RM4B5LJ/ref=sxin_26?asc_contentid=amzn1.osa.39dd7fbf-afb9-4b33-a89b-5dc1ff018d2f.A21TJRUUN4KGV.en_IN&asc_contenttype=article&ascsubtag=amzn1.osa.39dd7fbf-afb9-4b33-a89b-5dc1ff018d2f.A21TJRUUN4KGV.en_IN&content-id=amzn1.sym.feb2b32b-0085-4665-973c-36b431684408%3Aamzn1.sym.feb2b32b-0085-4665-973c-36b431684408&creativeASIN=B07RM4B5LJ&cv_ct_cx=guitar&cv_ct_id=amzn1.osa.39dd7fbf-afb9-4b33-a89b-5dc1ff018d2f.A21TJRUUN4KGV.en_IN&cv_ct_pg=search&cv_ct_we=asin&cv_ct_wn=osp-single-source-pecos-desktop&keywords=guitar&linkCode=oas&pd_rd_i=B07RM4B5LJ&pd_rd_r=32b7ce9c-4d25-4262-a33b-043da9f3f2c5&pd_rd_w=iAwzA&pd_rd_wg=0RSio&pf_rd_p=feb2b32b-0085-4665-973c-36b431684408&pf_rd_r=Z9EF0RNFT8Z9VS2QK177&qid=1677854165&sr=1-1-c84eb971-91f2-4a4d-acce-811265c24254&tag=sm-content-21',\n",
       " 'https://www.amazon.in/Yamaha-FS100C-Acoustic-Guitars-Natural/dp/B00QKD79QE/ref=sxin_26?asc_contentid=amzn1.osa.39dd7fbf-afb9-4b33-a89b-5dc1ff018d2f.A21TJRUUN4KGV.en_IN&asc_contenttype=article&ascsubtag=amzn1.osa.39dd7fbf-afb9-4b33-a89b-5dc1ff018d2f.A21TJRUUN4KGV.en_IN&content-id=amzn1.sym.feb2b32b-0085-4665-973c-36b431684408%3Aamzn1.sym.feb2b32b-0085-4665-973c-36b431684408&creativeASIN=B00QKD79QE&cv_ct_cx=guitar&cv_ct_id=amzn1.osa.39dd7fbf-afb9-4b33-a89b-5dc1ff018d2f.A21TJRUUN4KGV.en_IN&cv_ct_pg=search&cv_ct_we=asin&cv_ct_wn=osp-single-source-pecos-desktop&keywords=guitar&linkCode=oas&pd_rd_i=B00QKD79QE&pd_rd_r=32b7ce9c-4d25-4262-a33b-043da9f3f2c5&pd_rd_w=iAwzA&pd_rd_wg=0RSio&pf_rd_p=feb2b32b-0085-4665-973c-36b431684408&pf_rd_r=Z9EF0RNFT8Z9VS2QK177&qid=1677854165&sr=1-2-c84eb971-91f2-4a4d-acce-811265c24254&tag=sm-content-21',\n",
       " 'https://www.amazon.in/Rosewood-Fretboard-Acoustic-Strings-K-Retail/dp/B07KLG8C4P/ref=sxin_26?asc_contentid=amzn1.osa.39dd7fbf-afb9-4b33-a89b-5dc1ff018d2f.A21TJRUUN4KGV.en_IN&asc_contenttype=article&ascsubtag=amzn1.osa.39dd7fbf-afb9-4b33-a89b-5dc1ff018d2f.A21TJRUUN4KGV.en_IN&content-id=amzn1.sym.feb2b32b-0085-4665-973c-36b431684408%3Aamzn1.sym.feb2b32b-0085-4665-973c-36b431684408&creativeASIN=B07KLG8C4P&cv_ct_cx=guitar&cv_ct_id=amzn1.osa.39dd7fbf-afb9-4b33-a89b-5dc1ff018d2f.A21TJRUUN4KGV.en_IN&cv_ct_pg=search&cv_ct_we=asin&cv_ct_wn=osp-single-source-pecos-desktop&keywords=guitar&linkCode=oas&pd_rd_i=B07KLG8C4P&pd_rd_r=32b7ce9c-4d25-4262-a33b-043da9f3f2c5&pd_rd_w=iAwzA&pd_rd_wg=0RSio&pf_rd_p=feb2b32b-0085-4665-973c-36b431684408&pf_rd_r=Z9EF0RNFT8Z9VS2QK177&qid=1677854165&sr=1-3-c84eb971-91f2-4a4d-acce-811265c24254&tag=sm-content-21',\n",
       " 'https://www.amazon.in/Kadence-6-strings-Acoustic-Guitar-Natural/dp/B07JKYWGJN/ref=sxin_26?asc_contentid=amzn1.osa.39dd7fbf-afb9-4b33-a89b-5dc1ff018d2f.A21TJRUUN4KGV.en_IN&asc_contenttype=article&ascsubtag=amzn1.osa.39dd7fbf-afb9-4b33-a89b-5dc1ff018d2f.A21TJRUUN4KGV.en_IN&content-id=amzn1.sym.feb2b32b-0085-4665-973c-36b431684408%3Aamzn1.sym.feb2b32b-0085-4665-973c-36b431684408&creativeASIN=B07JKYWGJN&cv_ct_cx=guitar&cv_ct_id=amzn1.osa.39dd7fbf-afb9-4b33-a89b-5dc1ff018d2f.A21TJRUUN4KGV.en_IN&cv_ct_pg=search&cv_ct_we=asin&cv_ct_wn=osp-single-source-pecos-desktop&keywords=guitar&linkCode=oas&pd_rd_i=B07JKYWGJN&pd_rd_r=32b7ce9c-4d25-4262-a33b-043da9f3f2c5&pd_rd_w=iAwzA&pd_rd_wg=0RSio&pf_rd_p=feb2b32b-0085-4665-973c-36b431684408&pf_rd_r=Z9EF0RNFT8Z9VS2QK177&qid=1677854165&sr=1-4-c84eb971-91f2-4a4d-acce-811265c24254&tag=sm-content-21',\n",
       " 'https://www.amazon.in/Revel-RVL-38C-LGP-NT-Linden-Acoustic-Natural/dp/B085HVRHPS/ref=sr_1_15?keywords=guitar&qid=1677854165&sr=8-15',\n",
       " 'https://www.amazon.in/YAMAHA-NATURAL-CONCERT-CUTAWAY-GUITAR/dp/B08KW4DRKL/ref=sr_1_16?keywords=guitar&qid=1677854165&sr=8-16',\n",
       " 'https://www.amazon.in/JUAREZ-JRZ38C-Acoustic-Sunburst-Strings/dp/B01FYYTDS6/ref=sr_1_17?keywords=guitar&qid=1677854165&sr=8-17',\n",
       " 'https://www.amazon.in/JUAREZ-JRZ38C-Acoustic-Sunburst-Strings/dp/B01FYYTDTU/ref=sr_1_18?keywords=guitar&qid=1677854165&sr=8-18',\n",
       " 'https://www.amazon.in/Intern-INT-38C-BK-G-Guitar-Kit-Black/dp/B07K9497RC/ref=sr_1_19?keywords=guitar&qid=1677854165&sr=8-19',\n",
       " 'https://www.amazon.in/Fender-Player-Telecaster-Electric-Guitar/dp/B07CXGQKVH/ref=sr_1_20?keywords=guitar&qid=1677854165&sr=8-20',\n",
       " 'https://www.amazon.in/sspa/click?ie=UTF8&spc=MTo0NjMxMjE5MzU2NzMyNzQ6MTY3Nzg1NDE2NTpzcF9tdGY6MjAxMTU2NTczOTIwOTg6OjA6Og&url=%2FFOMIYES-Acoustic-Instrument-Beginner-Children%2Fdp%2FB0BQMB2161%2Fref%3Dsr_1_21_sspa%3Fkeywords%3Dguitar%26qid%3D1677854165%26sr%3D8-21-spons%26sp_csd%3Dd2lkZ2V0TmFtZT1zcF9tdGY%26psc%3D1',\n",
       " 'https://www.amazon.in/sspa/click?ie=UTF8&spc=MTo0NjMxMjE5MzU2NzMyNzQ6MTY3Nzg1NDE2NTpzcF9tdGY6MjAwMzE2ODgyMjYyMDE6OjA6Og&url=%2FGUITAR-BRO-Acoustic-Beginner-Accessories%2Fdp%2FB07T84GC8L%2Fref%3Dsr_1_22_sspa%3Fkeywords%3Dguitar%26qid%3D1677854165%26sr%3D8-22-spons%26sp_csd%3Dd2lkZ2V0TmFtZT1zcF9tdGY%26psc%3D1',\n",
       " 'https://www.amazon.in/sspa/click?ie=UTF8&spc=MTo0NjMxMjE5MzU2NzMyNzQ6MTY3Nzg1NDE2NTpzcF9tdGY6MjAwMzYyNDQ1NTk1OTg6OjA6Og&url=%2FTraveller-Acoustic-Guitar-Strings-Polishing%2Fdp%2FB07RK9962M%2Fref%3Dsr_1_23_sspa%3Fkeywords%3Dguitar%26qid%3D1677854165%26sr%3D8-23-spons%26sp_csd%3Dd2lkZ2V0TmFtZT1zcF9tdGY%26psc%3D1',\n",
       " 'https://www.amazon.in/sspa/click?ie=UTF8&spc=MTo0NjMxMjE5MzU2NzMyNzQ6MTY3Nzg1NDE2NTpzcF9tdGY6MjAwOTU2NTQzMTAwOTg6OjA6Og&url=%2FAcoustic-Guitar-Cutaway-Strings-Strap%2Fdp%2FB08NTC4KG4%2Fref%3Dsr_1_24_sspa%3Fkeywords%3Dguitar%26qid%3D1677854165%26sr%3D8-24-spons%26sp_csd%3Dd2lkZ2V0TmFtZT1zcF9tdGY%26psc%3D1',\n",
       " 'https://www.amazon.in/Kadence-Frontier-Acoustic-Natural-Equalizer/dp/B01I50UJG6/ref=sr_1_25?keywords=guitar&qid=1677854165&sr=8-25',\n",
       " 'https://www.amazon.in/Kadence-Frontier-Acoustic-Guitar-Strings/dp/B078GTJP5Y/ref=sr_1_26?keywords=guitar&qid=1677854165&sr=8-26',\n",
       " 'https://www.amazon.in/Intern-INT-38C-Acoustic-Guitar-Sunburst/dp/B073B5MJRM/ref=sr_1_27?keywords=guitar&qid=1677854165&sr=8-27',\n",
       " 'https://www.amazon.in/Medellin-Acoustic-Guitar-Carbon-Learning/dp/B09MSGMQ3Y/ref=sr_1_28?keywords=guitar&qid=1677854165&sr=8-28',\n",
       " 'https://www.amazon.in/Kadence-Frontier-Acoustic-Wihtout-strings/dp/B08PK9GZZY/ref=sr_1_29?keywords=guitar&qid=1677854165&sr=8-29',\n",
       " 'https://www.amazon.in/Acoustic-Humidity-resistance-resonance-Plectrums/dp/B09RQZ6HM2/ref=sr_1_30?keywords=guitar&qid=1677854165&sr=8-30',\n",
       " 'https://www.amazon.in/Intern-Acoustic-Steel-string-plectrums-INT-38C-WH/dp/B09LR94Z2X/ref=sr_1_31?keywords=guitar&qid=1677854165&sr=8-31',\n",
       " 'https://www.amazon.in/Yamaha-Acoustic-Guitar-Natural-Bajaao/dp/B08RMP2F6Z/ref=sr_1_32?keywords=guitar&qid=1677854165&sr=8-32',\n",
       " 'https://www.amazon.in/Acoustic-Cutaway-TBLS-Strings-Sunburst/dp/B098BCCY75/ref=sr_1_33?keywords=guitar&qid=1677854165&sr=8-33',\n",
       " 'https://www.amazon.in/Juarez-Acoustic-Guitar-Cutaway-Strings/dp/B084VRCCN7/ref=sr_1_34?keywords=guitar&qid=1677854165&sr=8-34',\n",
       " 'https://www.amazon.in/Juarez-Acoustic-Guitar-Cutaway-JRZ38CT/dp/B01N3TTYJQ/ref=sr_1_35?keywords=guitar&qid=1677854165&sr=8-35',\n",
       " 'https://www.amazon.in/JUAREZ-JRZ38C-Handed-Acoustic-Strings/dp/B01FYYTDX6/ref=sr_1_36?keywords=guitar&qid=1677854165&sr=8-36',\n",
       " 'https://www.amazon.in/JRZ-ST01-6-String-Electric-Sunburst-Without/dp/B01FYZSOEE/ref=sr_1_37?keywords=guitar&qid=1677854165&sr=8-37',\n",
       " 'https://www.amazon.in/Ju%C3%A2rez-JRZ38C-WH-Strings-Acoustic/dp/B072MFK4L6/ref=sr_1_38?keywords=guitar&qid=1677854165&sr=8-38',\n",
       " 'https://www.amazon.in/Kadence-Acoustica-Acoustic-Guitar-Zebra/dp/B07KXNKLJ2/ref=sr_1_39?keywords=guitar&qid=1677854165&sr=8-39',\n",
       " 'https://www.amazon.in/Fender-String-Cutaway-Acoustic-Guitar/dp/B07YX5W8MV/ref=sr_1_40?keywords=guitar&qid=1677854165&sr=8-40',\n",
       " 'https://www.amazon.in/Yamaha-F310-6-Strings-Acoustic-Natural/dp/B000RVYW7E/ref=sr_1_41?keywords=guitar&qid=1677854165&sr=8-41',\n",
       " 'https://www.amazon.in/Yamaha-PACIFICA012-Electric-Guitar-Metallic/dp/B00REF6CII/ref=sr_1_42?keywords=guitar&qid=1677854165&sr=8-42',\n",
       " 'https://www.amazon.in/Kadence-Slowhand-Premium-Acoustic-Instrument/dp/B077SZ667X/ref=sr_1_43?keywords=guitar&qid=1677854165&sr=8-43',\n",
       " 'https://www.amazon.in/JUAREZ-JRZ38C-Handed-Acoustic-Strings/dp/B01FYYTDW2/ref=sr_1_44?keywords=guitar&qid=1677854165&sr=8-44',\n",
       " 'https://www.amazon.in/Intern-INT-38C-Sunburst-Acoustic-Guitar/dp/B07X1J4D3Z/ref=sr_1_45?keywords=guitar&qid=1677854165&sr=8-45',\n",
       " 'https://www.amazon.in/Juarez-Acoustic-Guitar-Cutaway-Strings/dp/B075XMRKMY/ref=sr_1_46?keywords=guitar&qid=1677854165&sr=8-46',\n",
       " 'https://www.amazon.in/Guitar-Strings-Straps-String-Polishing/dp/B097N7NGHD/ref=sr_1_47?keywords=guitar&qid=1677854165&sr=8-47',\n",
       " 'https://www.amazon.in/Vault-Jazz-Bass-4-String-Guitar/dp/B09ZXZDCDR/ref=sr_1_48?keywords=guitar&qid=1677854165&sr=8-48',\n",
       " 'https://www.amazon.in/Yamaha-FS-100C-6-String-Acoustic-without/dp/B00PAS9CK6/ref=sr_1_49?keywords=guitar&qid=1677854165&sr=8-49',\n",
       " 'https://www.amazon.in/Yamaha-FX280-acoustic-Dreadnought-Natural/dp/B09HR6BNFQ/ref=sr_1_50?keywords=guitar&qid=1677854165&sr=8-50',\n",
       " 'https://www.amazon.in/Kadence-Frontier-Acoustic-Guitar-Equalizer/dp/B01HRIHJWY/ref=sr_1_51?keywords=guitar&qid=1677854165&sr=8-51',\n",
       " 'https://www.amazon.in/Fender-SA105CEBK-Acoustic-Guitar/dp/B01N6KME9M/ref=sr_1_52?keywords=guitar&qid=1677854165&sr=8-52',\n",
       " 'https://www.amazon.in/Yamaha-FSX80C-Acoustic-Cutaway-Natural/dp/B09HL3GFZF/ref=sr_1_53?keywords=guitar&qid=1677854165&sr=8-53',\n",
       " 'https://www.amazon.in/Intern-INT-38C-Acoustic-Guitar-Kit/dp/B073B6TF31/ref=sr_1_54?keywords=guitar&qid=1677854165&sr=8-54',\n",
       " 'https://www.amazon.in/Medellin-Acoustic-adjustable-Truss-rod-learning/dp/B0BMKX4HNP/ref=sr_1_55?keywords=guitar&qid=1677854165&sr=8-55',\n",
       " 'https://www.amazon.in/Acoustic-Cutaway-3TS-Strings-Sunburst/dp/B098BD1MHM/ref=sr_1_56?keywords=guitar&qid=1677854165&sr=8-56',\n",
       " 'https://www.amazon.in/sspa/click?ie=UTF8&spc=MTo0NjMxMjE5MzU2NzMyNzQ6MTY3Nzg1NDE2NTpzcF9idGY6MjAwMTk2MjU1OTIxMDQ6OjA6Og&url=%2FCort-AD810-Dreadnought-Acoustic-Guitar%2Fdp%2FB07KMBVR6V%2Fref%3Dsr_1_57_sspa%3Fkeywords%3Dguitar%26qid%3D1677854165%26sr%3D8-57-spons%26sp_csd%3Dd2lkZ2V0TmFtZT1zcF9idGY%26psc%3D1%26smid%3DA2E0IZ06LXDJ9X',\n",
       " 'https://www.amazon.in/sspa/click?ie=UTF8&spc=MTo0NjMxMjE5MzU2NzMyNzQ6MTY3Nzg1NDE2NTpzcF9idGY6MjAwODYzMzIxNjI5MDE6OjA6Og&url=%2FUniversal-Acoustic-Classical-Mandolins-Instruments%2Fdp%2FB08XBRNC7T%2Fref%3Dsr_1_58_sspa%3Fkeywords%3Dguitar%26qid%3D1677854165%26sr%3D8-58-spons%26sp_csd%3Dd2lkZ2V0TmFtZT1zcF9idGY%26psc%3D1',\n",
       " 'https://www.amazon.in/sspa/click?ie=UTF8&spc=MTo0NjMxMjE5MzU2NzMyNzQ6MTY3Nzg1NDE2NTpzcF9hdGY6MjAwNTcxOTMwNTYyMDQ6OjA6Og&url=%2FKadence-Slowhand-Premium-Acoustic-Instrument%2Fdp%2FB077SZ667X%2Fref%3Dsr_1_1_sspa%3Fkeywords%3Dguitar%26qid%3D1677854165%26sr%3D8-1-spons%26sp_csd%3Dd2lkZ2V0TmFtZT1zcF9hdGY%26psc%3D1%26smid%3DAM04Z7MH4HSDD',\n",
       " 'https://www.amazon.in/sspa/click?ie=UTF8&spc=MTo0NjMxMjE5MzU2NzMyNzQ6MTY3Nzg1NDE2NTpzcF9hdGY6MjAxMjE3ODQyNDA5OTg6OjA6Og&url=%2FKadence-Frontier-Acoustic-Guitar-Equalizer%2Fdp%2FB01HRIHJWY%2Fref%3Dsr_1_2_sspa%3Fkeywords%3Dguitar%26qid%3D1677854165%26sr%3D8-2-spons%26sp_csd%3Dd2lkZ2V0TmFtZT1zcF9hdGY%26psc%3D1',\n",
       " 'https://www.amazon.in/sspa/click?ie=UTF8&spc=MTo0NjMxMjE5MzU2NzMyNzQ6MTY3Nzg1NDE2NTpzcF9hdGY6MjAwOTY2MDg3NTA0OTg6OjA6Og&url=%2FKadence-Frontier-Acoustic-Guitar-Strings%2Fdp%2FB01GDZ46AA%2Fref%3Dsr_1_3_sspa%3Fkeywords%3Dguitar%26qid%3D1677854165%26sr%3D8-3-spons%26sp_csd%3Dd2lkZ2V0TmFtZT1zcF9hdGY%26psc%3D1%26smid%3DAM04Z7MH4HSDD',\n",
       " 'https://www.amazon.in/sspa/click?ie=UTF8&spc=MTo0NjMxMjE5MzU2NzMyNzQ6MTY3Nzg1NDE2NTpzcF9hdGY6MjAxMDQyNTQzMDE4OTg6OjA6Og&url=%2FAcoustic-Pick-up-stability-professional-amplificaiton%2Fdp%2FB09YHCR3R8%2Fref%3Dsr_1_4_sspa%3Fkeywords%3Dguitar%26qid%3D1677854165%26sr%3D8-4-spons%26sp_csd%3Dd2lkZ2V0TmFtZT1zcF9hdGY%26psc%3D1',\n",
       " 'https://www.amazon.in/Juarez-Acoustic-Cutaway-038C-Strings/dp/B017NPCSLI/ref=sr_1_5?keywords=guitar&qid=1677854165&sr=8-5',\n",
       " 'https://www.amazon.in/Intern-INT-38C-Acoustic-Guitar-Black/dp/B073B6TQQY/ref=sr_1_6?keywords=guitar&qid=1677854165&sr=8-6',\n",
       " 'https://www.amazon.in/Juarez-Acoustic-Guitar-Cutaway-Strings/dp/B076QHZ4HZ/ref=sr_1_7?keywords=guitar&qid=1677854165&sr=8-7',\n",
       " 'https://www.amazon.in/Intern-INT-38C-Natural-Acoustic-Guitar/dp/B07X4LPJ6H/ref=sr_1_8?keywords=guitar&qid=1677854165&sr=8-8',\n",
       " 'https://www.amazon.in/Yamaha-F280-Acoustic-Guitar-Natural/dp/B08317Y4VP/ref=sr_1_9?keywords=guitar&qid=1677854165&sr=8-9',\n",
       " 'https://www.amazon.in/Intern-INT-38C-Acoustic-Guitar-Blue/dp/B073B5RZBV/ref=sr_1_10?keywords=guitar&qid=1677854165&sr=8-10',\n",
       " 'https://www.amazon.in/Fender-CD-60SCE-Electro-Acoustic-Guitar/dp/B084GYX81B/ref=sr_1_11?keywords=guitar&qid=1677854165&sr=8-11',\n",
       " 'https://www.amazon.in/Intern-38-inch-Cutaway-Design-Acoustic/dp/B07X4PN85R/ref=sr_1_12?keywords=guitar&qid=1677854165&sr=8-12',\n",
       " 'https://www.amazon.in/Intern-INT-38C-Brown-Acoustic-Guitar/dp/B07X2HV158/ref=sr_1_13?keywords=guitar&qid=1677854165&sr=8-13',\n",
       " 'https://www.amazon.in/JUAREZ-JRZ38C-Acoustic-Natural-Strings/dp/B01FYYTDWC/ref=sr_1_14?keywords=guitar&qid=1677854165&sr=8-14',\n",
       " 'https://www.amazon.in/sspa/click?ie=UTF8&spc=MTo0ODM3NDY3MTUyNzA1MTc0OjE2Nzc4NTQxNjU6c3Bfc2VhcmNoX3RoZW1hdGljOjIwMDk2NjA4NzUwNDk4OjowOjo&url=%2FKadence-Frontier-Acoustic-Guitar-Strings%2Fdp%2FB01GDZ46AA%2Fref%3Dsxin_25_pa_sp_search_thematic_sspa%3Fcontent-id%3Damzn1.sym.4d22510d-eb67-42e3-80e4-dd492aa3a3e0%253Aamzn1.sym.4d22510d-eb67-42e3-80e4-dd492aa3a3e0%26cv_ct_cx%3Dguitar%26keywords%3Dguitar%26pd_rd_i%3DB01GDZ46AA%26pd_rd_r%3D32b7ce9c-4d25-4262-a33b-043da9f3f2c5%26pd_rd_w%3DyDDRX%26pd_rd_wg%3D0RSio%26pf_rd_p%3D4d22510d-eb67-42e3-80e4-dd492aa3a3e0%26pf_rd_r%3DZ9EF0RNFT8Z9VS2QK177%26qid%3D1677854165%26sr%3D1-1-5b19f378-d955-407f-848e-18f7f0908484-spons%26sp_csd%3Dd2lkZ2V0TmFtZT1zcF9zZWFyY2hfdGhlbWF0aWM%26psc%3D1%26smid%3DAM04Z7MH4HSDD',\n",
       " 'https://www.amazon.in/sspa/click?ie=UTF8&spc=MTo0ODM3NDY3MTUyNzA1MTc0OjE2Nzc4NTQxNjU6c3Bfc2VhcmNoX3RoZW1hdGljOjIwMDU3MTkzMDU2MjA0OjoxOjo&url=%2FKadence-Slowhand-Premium-Acoustic-Instrument%2Fdp%2FB077SZ667X%2Fref%3Dsxin_25_pa_sp_search_thematic_sspa%3Fcontent-id%3Damzn1.sym.4d22510d-eb67-42e3-80e4-dd492aa3a3e0%253Aamzn1.sym.4d22510d-eb67-42e3-80e4-dd492aa3a3e0%26cv_ct_cx%3Dguitar%26keywords%3Dguitar%26pd_rd_i%3DB077SZ667X%26pd_rd_r%3D32b7ce9c-4d25-4262-a33b-043da9f3f2c5%26pd_rd_w%3DyDDRX%26pd_rd_wg%3D0RSio%26pf_rd_p%3D4d22510d-eb67-42e3-80e4-dd492aa3a3e0%26pf_rd_r%3DZ9EF0RNFT8Z9VS2QK177%26qid%3D1677854165%26sr%3D1-2-5b19f378-d955-407f-848e-18f7f0908484-spons%26sp_csd%3Dd2lkZ2V0TmFtZT1zcF9zZWFyY2hfdGhlbWF0aWM%26psc%3D1%26smid%3DAM04Z7MH4HSDD',\n",
       " 'https://www.amazon.in/sspa/click?ie=UTF8&spc=MTo0ODM3NDY3MTUyNzA1MTc0OjE2Nzc4NTQxNjU6c3Bfc2VhcmNoX3RoZW1hdGljOjIwMTIxNzg0MjQwOTk4OjoyOjo&url=%2FKadence-Frontier-Acoustic-Guitar-Equalizer%2Fdp%2FB01HRIHJWY%2Fref%3Dsxin_25_pa_sp_search_thematic_sspa%3Fcontent-id%3Damzn1.sym.4d22510d-eb67-42e3-80e4-dd492aa3a3e0%253Aamzn1.sym.4d22510d-eb67-42e3-80e4-dd492aa3a3e0%26cv_ct_cx%3Dguitar%26keywords%3Dguitar%26pd_rd_i%3DB01HRIHJWY%26pd_rd_r%3D32b7ce9c-4d25-4262-a33b-043da9f3f2c5%26pd_rd_w%3DyDDRX%26pd_rd_wg%3D0RSio%26pf_rd_p%3D4d22510d-eb67-42e3-80e4-dd492aa3a3e0%26pf_rd_r%3DZ9EF0RNFT8Z9VS2QK177%26qid%3D1677854165%26sr%3D1-3-5b19f378-d955-407f-848e-18f7f0908484-spons%26sp_csd%3Dd2lkZ2V0TmFtZT1zcF9zZWFyY2hfdGhlbWF0aWM%26psc%3D1',\n",
       " 'https://www.amazon.in/sspa/click?ie=UTF8&spc=MTo0ODM3NDY3MTUyNzA1MTc0OjE2Nzc4NTQxNjU6c3Bfc2VhcmNoX3RoZW1hdGljOjIwMDE5NjI1NTkyMTA0OjozOjo&url=%2FCort-AD810-Dreadnought-Acoustic-Guitar%2Fdp%2FB07KMBVR6V%2Fref%3Dsxin_25_pa_sp_search_thematic_sspa%3Fcontent-id%3Damzn1.sym.4d22510d-eb67-42e3-80e4-dd492aa3a3e0%253Aamzn1.sym.4d22510d-eb67-42e3-80e4-dd492aa3a3e0%26cv_ct_cx%3Dguitar%26keywords%3Dguitar%26pd_rd_i%3DB07KMBVR6V%26pd_rd_r%3D32b7ce9c-4d25-4262-a33b-043da9f3f2c5%26pd_rd_w%3DyDDRX%26pd_rd_wg%3D0RSio%26pf_rd_p%3D4d22510d-eb67-42e3-80e4-dd492aa3a3e0%26pf_rd_r%3DZ9EF0RNFT8Z9VS2QK177%26qid%3D1677854165%26sr%3D1-4-5b19f378-d955-407f-848e-18f7f0908484-spons%26sp_csd%3Dd2lkZ2V0TmFtZT1zcF9zZWFyY2hfdGhlbWF0aWM%26psc%3D1%26smid%3DA2E0IZ06LXDJ9X',\n",
       " 'https://www.amazon.in/Fender-Dread-String-Acoustic-Guitar/dp/B07RM4B5LJ/ref=sxin_26?asc_contentid=amzn1.osa.39dd7fbf-afb9-4b33-a89b-5dc1ff018d2f.A21TJRUUN4KGV.en_IN&asc_contenttype=article&ascsubtag=amzn1.osa.39dd7fbf-afb9-4b33-a89b-5dc1ff018d2f.A21TJRUUN4KGV.en_IN&content-id=amzn1.sym.feb2b32b-0085-4665-973c-36b431684408%3Aamzn1.sym.feb2b32b-0085-4665-973c-36b431684408&creativeASIN=B07RM4B5LJ&cv_ct_cx=guitar&cv_ct_id=amzn1.osa.39dd7fbf-afb9-4b33-a89b-5dc1ff018d2f.A21TJRUUN4KGV.en_IN&cv_ct_pg=search&cv_ct_we=asin&cv_ct_wn=osp-single-source-pecos-desktop&keywords=guitar&linkCode=oas&pd_rd_i=B07RM4B5LJ&pd_rd_r=32b7ce9c-4d25-4262-a33b-043da9f3f2c5&pd_rd_w=iAwzA&pd_rd_wg=0RSio&pf_rd_p=feb2b32b-0085-4665-973c-36b431684408&pf_rd_r=Z9EF0RNFT8Z9VS2QK177&qid=1677854165&sr=1-1-c84eb971-91f2-4a4d-acce-811265c24254&tag=sm-content-21',\n",
       " 'https://www.amazon.in/Yamaha-FS100C-Acoustic-Guitars-Natural/dp/B00QKD79QE/ref=sxin_26?asc_contentid=amzn1.osa.39dd7fbf-afb9-4b33-a89b-5dc1ff018d2f.A21TJRUUN4KGV.en_IN&asc_contenttype=article&ascsubtag=amzn1.osa.39dd7fbf-afb9-4b33-a89b-5dc1ff018d2f.A21TJRUUN4KGV.en_IN&content-id=amzn1.sym.feb2b32b-0085-4665-973c-36b431684408%3Aamzn1.sym.feb2b32b-0085-4665-973c-36b431684408&creativeASIN=B00QKD79QE&cv_ct_cx=guitar&cv_ct_id=amzn1.osa.39dd7fbf-afb9-4b33-a89b-5dc1ff018d2f.A21TJRUUN4KGV.en_IN&cv_ct_pg=search&cv_ct_we=asin&cv_ct_wn=osp-single-source-pecos-desktop&keywords=guitar&linkCode=oas&pd_rd_i=B00QKD79QE&pd_rd_r=32b7ce9c-4d25-4262-a33b-043da9f3f2c5&pd_rd_w=iAwzA&pd_rd_wg=0RSio&pf_rd_p=feb2b32b-0085-4665-973c-36b431684408&pf_rd_r=Z9EF0RNFT8Z9VS2QK177&qid=1677854165&sr=1-2-c84eb971-91f2-4a4d-acce-811265c24254&tag=sm-content-21',\n",
       " 'https://www.amazon.in/Rosewood-Fretboard-Acoustic-Strings-K-Retail/dp/B07KLG8C4P/ref=sxin_26?asc_contentid=amzn1.osa.39dd7fbf-afb9-4b33-a89b-5dc1ff018d2f.A21TJRUUN4KGV.en_IN&asc_contenttype=article&ascsubtag=amzn1.osa.39dd7fbf-afb9-4b33-a89b-5dc1ff018d2f.A21TJRUUN4KGV.en_IN&content-id=amzn1.sym.feb2b32b-0085-4665-973c-36b431684408%3Aamzn1.sym.feb2b32b-0085-4665-973c-36b431684408&creativeASIN=B07KLG8C4P&cv_ct_cx=guitar&cv_ct_id=amzn1.osa.39dd7fbf-afb9-4b33-a89b-5dc1ff018d2f.A21TJRUUN4KGV.en_IN&cv_ct_pg=search&cv_ct_we=asin&cv_ct_wn=osp-single-source-pecos-desktop&keywords=guitar&linkCode=oas&pd_rd_i=B07KLG8C4P&pd_rd_r=32b7ce9c-4d25-4262-a33b-043da9f3f2c5&pd_rd_w=iAwzA&pd_rd_wg=0RSio&pf_rd_p=feb2b32b-0085-4665-973c-36b431684408&pf_rd_r=Z9EF0RNFT8Z9VS2QK177&qid=1677854165&sr=1-3-c84eb971-91f2-4a4d-acce-811265c24254&tag=sm-content-21',\n",
       " 'https://www.amazon.in/Kadence-6-strings-Acoustic-Guitar-Natural/dp/B07JKYWGJN/ref=sxin_26?asc_contentid=amzn1.osa.39dd7fbf-afb9-4b33-a89b-5dc1ff018d2f.A21TJRUUN4KGV.en_IN&asc_contenttype=article&ascsubtag=amzn1.osa.39dd7fbf-afb9-4b33-a89b-5dc1ff018d2f.A21TJRUUN4KGV.en_IN&content-id=amzn1.sym.feb2b32b-0085-4665-973c-36b431684408%3Aamzn1.sym.feb2b32b-0085-4665-973c-36b431684408&creativeASIN=B07JKYWGJN&cv_ct_cx=guitar&cv_ct_id=amzn1.osa.39dd7fbf-afb9-4b33-a89b-5dc1ff018d2f.A21TJRUUN4KGV.en_IN&cv_ct_pg=search&cv_ct_we=asin&cv_ct_wn=osp-single-source-pecos-desktop&keywords=guitar&linkCode=oas&pd_rd_i=B07JKYWGJN&pd_rd_r=32b7ce9c-4d25-4262-a33b-043da9f3f2c5&pd_rd_w=iAwzA&pd_rd_wg=0RSio&pf_rd_p=feb2b32b-0085-4665-973c-36b431684408&pf_rd_r=Z9EF0RNFT8Z9VS2QK177&qid=1677854165&sr=1-4-c84eb971-91f2-4a4d-acce-811265c24254&tag=sm-content-21',\n",
       " 'https://www.amazon.in/Revel-RVL-38C-LGP-NT-Linden-Acoustic-Natural/dp/B085HVRHPS/ref=sr_1_15?keywords=guitar&qid=1677854165&sr=8-15',\n",
       " 'https://www.amazon.in/YAMAHA-NATURAL-CONCERT-CUTAWAY-GUITAR/dp/B08KW4DRKL/ref=sr_1_16?keywords=guitar&qid=1677854165&sr=8-16',\n",
       " 'https://www.amazon.in/JUAREZ-JRZ38C-Acoustic-Sunburst-Strings/dp/B01FYYTDS6/ref=sr_1_17?keywords=guitar&qid=1677854165&sr=8-17',\n",
       " 'https://www.amazon.in/JUAREZ-JRZ38C-Acoustic-Sunburst-Strings/dp/B01FYYTDTU/ref=sr_1_18?keywords=guitar&qid=1677854165&sr=8-18',\n",
       " 'https://www.amazon.in/Intern-INT-38C-BK-G-Guitar-Kit-Black/dp/B07K9497RC/ref=sr_1_19?keywords=guitar&qid=1677854165&sr=8-19',\n",
       " 'https://www.amazon.in/Fender-Player-Telecaster-Electric-Guitar/dp/B07CXGQKVH/ref=sr_1_20?keywords=guitar&qid=1677854165&sr=8-20',\n",
       " 'https://www.amazon.in/sspa/click?ie=UTF8&spc=MTo0NjMxMjE5MzU2NzMyNzQ6MTY3Nzg1NDE2NTpzcF9tdGY6MjAxMTU2NTczOTIwOTg6OjA6Og&url=%2FFOMIYES-Acoustic-Instrument-Beginner-Children%2Fdp%2FB0BQMB2161%2Fref%3Dsr_1_21_sspa%3Fkeywords%3Dguitar%26qid%3D1677854165%26sr%3D8-21-spons%26sp_csd%3Dd2lkZ2V0TmFtZT1zcF9tdGY%26psc%3D1',\n",
       " 'https://www.amazon.in/sspa/click?ie=UTF8&spc=MTo0NjMxMjE5MzU2NzMyNzQ6MTY3Nzg1NDE2NTpzcF9tdGY6MjAwMzE2ODgyMjYyMDE6OjA6Og&url=%2FGUITAR-BRO-Acoustic-Beginner-Accessories%2Fdp%2FB07T84GC8L%2Fref%3Dsr_1_22_sspa%3Fkeywords%3Dguitar%26qid%3D1677854165%26sr%3D8-22-spons%26sp_csd%3Dd2lkZ2V0TmFtZT1zcF9tdGY%26psc%3D1',\n",
       " 'https://www.amazon.in/sspa/click?ie=UTF8&spc=MTo0NjMxMjE5MzU2NzMyNzQ6MTY3Nzg1NDE2NTpzcF9tdGY6MjAwMzYyNDQ1NTk1OTg6OjA6Og&url=%2FTraveller-Acoustic-Guitar-Strings-Polishing%2Fdp%2FB07RK9962M%2Fref%3Dsr_1_23_sspa%3Fkeywords%3Dguitar%26qid%3D1677854165%26sr%3D8-23-spons%26sp_csd%3Dd2lkZ2V0TmFtZT1zcF9tdGY%26psc%3D1',\n",
       " 'https://www.amazon.in/sspa/click?ie=UTF8&spc=MTo0NjMxMjE5MzU2NzMyNzQ6MTY3Nzg1NDE2NTpzcF9tdGY6MjAwOTU2NTQzMTAwOTg6OjA6Og&url=%2FAcoustic-Guitar-Cutaway-Strings-Strap%2Fdp%2FB08NTC4KG4%2Fref%3Dsr_1_24_sspa%3Fkeywords%3Dguitar%26qid%3D1677854165%26sr%3D8-24-spons%26sp_csd%3Dd2lkZ2V0TmFtZT1zcF9tdGY%26psc%3D1',\n",
       " 'https://www.amazon.in/Kadence-Frontier-Acoustic-Natural-Equalizer/dp/B01I50UJG6/ref=sr_1_25?keywords=guitar&qid=1677854165&sr=8-25',\n",
       " 'https://www.amazon.in/Kadence-Frontier-Acoustic-Guitar-Strings/dp/B078GTJP5Y/ref=sr_1_26?keywords=guitar&qid=1677854165&sr=8-26',\n",
       " 'https://www.amazon.in/Intern-INT-38C-Acoustic-Guitar-Sunburst/dp/B073B5MJRM/ref=sr_1_27?keywords=guitar&qid=1677854165&sr=8-27',\n",
       " 'https://www.amazon.in/Medellin-Acoustic-Guitar-Carbon-Learning/dp/B09MSGMQ3Y/ref=sr_1_28?keywords=guitar&qid=1677854165&sr=8-28',\n",
       " 'https://www.amazon.in/Kadence-Frontier-Acoustic-Wihtout-strings/dp/B08PK9GZZY/ref=sr_1_29?keywords=guitar&qid=1677854165&sr=8-29',\n",
       " 'https://www.amazon.in/Acoustic-Humidity-resistance-resonance-Plectrums/dp/B09RQZ6HM2/ref=sr_1_30?keywords=guitar&qid=1677854165&sr=8-30',\n",
       " 'https://www.amazon.in/Intern-Acoustic-Steel-string-plectrums-INT-38C-WH/dp/B09LR94Z2X/ref=sr_1_31?keywords=guitar&qid=1677854165&sr=8-31',\n",
       " 'https://www.amazon.in/Yamaha-Acoustic-Guitar-Natural-Bajaao/dp/B08RMP2F6Z/ref=sr_1_32?keywords=guitar&qid=1677854165&sr=8-32',\n",
       " 'https://www.amazon.in/Acoustic-Cutaway-TBLS-Strings-Sunburst/dp/B098BCCY75/ref=sr_1_33?keywords=guitar&qid=1677854165&sr=8-33',\n",
       " 'https://www.amazon.in/Juarez-Acoustic-Guitar-Cutaway-Strings/dp/B084VRCCN7/ref=sr_1_34?keywords=guitar&qid=1677854165&sr=8-34',\n",
       " 'https://www.amazon.in/Juarez-Acoustic-Guitar-Cutaway-JRZ38CT/dp/B01N3TTYJQ/ref=sr_1_35?keywords=guitar&qid=1677854165&sr=8-35',\n",
       " 'https://www.amazon.in/JUAREZ-JRZ38C-Handed-Acoustic-Strings/dp/B01FYYTDX6/ref=sr_1_36?keywords=guitar&qid=1677854165&sr=8-36',\n",
       " 'https://www.amazon.in/JRZ-ST01-6-String-Electric-Sunburst-Without/dp/B01FYZSOEE/ref=sr_1_37?keywords=guitar&qid=1677854165&sr=8-37',\n",
       " 'https://www.amazon.in/Ju%C3%A2rez-JRZ38C-WH-Strings-Acoustic/dp/B072MFK4L6/ref=sr_1_38?keywords=guitar&qid=1677854165&sr=8-38',\n",
       " 'https://www.amazon.in/Kadence-Acoustica-Acoustic-Guitar-Zebra/dp/B07KXNKLJ2/ref=sr_1_39?keywords=guitar&qid=1677854165&sr=8-39',\n",
       " 'https://www.amazon.in/Fender-String-Cutaway-Acoustic-Guitar/dp/B07YX5W8MV/ref=sr_1_40?keywords=guitar&qid=1677854165&sr=8-40',\n",
       " 'https://www.amazon.in/Yamaha-F310-6-Strings-Acoustic-Natural/dp/B000RVYW7E/ref=sr_1_41?keywords=guitar&qid=1677854165&sr=8-41',\n",
       " 'https://www.amazon.in/Yamaha-PACIFICA012-Electric-Guitar-Metallic/dp/B00REF6CII/ref=sr_1_42?keywords=guitar&qid=1677854165&sr=8-42',\n",
       " 'https://www.amazon.in/Kadence-Slowhand-Premium-Acoustic-Instrument/dp/B077SZ667X/ref=sr_1_43?keywords=guitar&qid=1677854165&sr=8-43',\n",
       " 'https://www.amazon.in/JUAREZ-JRZ38C-Handed-Acoustic-Strings/dp/B01FYYTDW2/ref=sr_1_44?keywords=guitar&qid=1677854165&sr=8-44',\n",
       " 'https://www.amazon.in/Intern-INT-38C-Sunburst-Acoustic-Guitar/dp/B07X1J4D3Z/ref=sr_1_45?keywords=guitar&qid=1677854165&sr=8-45',\n",
       " 'https://www.amazon.in/Juarez-Acoustic-Guitar-Cutaway-Strings/dp/B075XMRKMY/ref=sr_1_46?keywords=guitar&qid=1677854165&sr=8-46',\n",
       " 'https://www.amazon.in/Guitar-Strings-Straps-String-Polishing/dp/B097N7NGHD/ref=sr_1_47?keywords=guitar&qid=1677854165&sr=8-47',\n",
       " 'https://www.amazon.in/Vault-Jazz-Bass-4-String-Guitar/dp/B09ZXZDCDR/ref=sr_1_48?keywords=guitar&qid=1677854165&sr=8-48',\n",
       " 'https://www.amazon.in/Yamaha-FS-100C-6-String-Acoustic-without/dp/B00PAS9CK6/ref=sr_1_49?keywords=guitar&qid=1677854165&sr=8-49',\n",
       " 'https://www.amazon.in/Yamaha-FX280-acoustic-Dreadnought-Natural/dp/B09HR6BNFQ/ref=sr_1_50?keywords=guitar&qid=1677854165&sr=8-50',\n",
       " 'https://www.amazon.in/Kadence-Frontier-Acoustic-Guitar-Equalizer/dp/B01HRIHJWY/ref=sr_1_51?keywords=guitar&qid=1677854165&sr=8-51',\n",
       " 'https://www.amazon.in/Fender-SA105CEBK-Acoustic-Guitar/dp/B01N6KME9M/ref=sr_1_52?keywords=guitar&qid=1677854165&sr=8-52',\n",
       " 'https://www.amazon.in/Yamaha-FSX80C-Acoustic-Cutaway-Natural/dp/B09HL3GFZF/ref=sr_1_53?keywords=guitar&qid=1677854165&sr=8-53',\n",
       " 'https://www.amazon.in/Intern-INT-38C-Acoustic-Guitar-Kit/dp/B073B6TF31/ref=sr_1_54?keywords=guitar&qid=1677854165&sr=8-54',\n",
       " 'https://www.amazon.in/Medellin-Acoustic-adjustable-Truss-rod-learning/dp/B0BMKX4HNP/ref=sr_1_55?keywords=guitar&qid=1677854165&sr=8-55',\n",
       " 'https://www.amazon.in/Acoustic-Cutaway-3TS-Strings-Sunburst/dp/B098BD1MHM/ref=sr_1_56?keywords=guitar&qid=1677854165&sr=8-56',\n",
       " 'https://www.amazon.in/sspa/click?ie=UTF8&spc=MTo0NjMxMjE5MzU2NzMyNzQ6MTY3Nzg1NDE2NTpzcF9idGY6MjAwMTk2MjU1OTIxMDQ6OjA6Og&url=%2FCort-AD810-Dreadnought-Acoustic-Guitar%2Fdp%2FB07KMBVR6V%2Fref%3Dsr_1_57_sspa%3Fkeywords%3Dguitar%26qid%3D1677854165%26sr%3D8-57-spons%26sp_csd%3Dd2lkZ2V0TmFtZT1zcF9idGY%26psc%3D1%26smid%3DA2E0IZ06LXDJ9X',\n",
       " 'https://www.amazon.in/sspa/click?ie=UTF8&spc=MTo0NjMxMjE5MzU2NzMyNzQ6MTY3Nzg1NDE2NTpzcF9idGY6MjAwODYzMzIxNjI5MDE6OjA6Og&url=%2FUniversal-Acoustic-Classical-Mandolins-Instruments%2Fdp%2FB08XBRNC7T%2Fref%3Dsr_1_58_sspa%3Fkeywords%3Dguitar%26qid%3D1677854165%26sr%3D8-58-spons%26sp_csd%3Dd2lkZ2V0TmFtZT1zcF9idGY%26psc%3D1',\n",
       " 'https://www.amazon.in/sspa/click?ie=UTF8&spc=MTo0NjMxMjE5MzU2NzMyNzQ6MTY3Nzg1NDE2NTpzcF9hdGY6MjAwNTcxOTMwNTYyMDQ6OjA6Og&url=%2FKadence-Slowhand-Premium-Acoustic-Instrument%2Fdp%2FB077SZ667X%2Fref%3Dsr_1_1_sspa%3Fkeywords%3Dguitar%26qid%3D1677854165%26sr%3D8-1-spons%26sp_csd%3Dd2lkZ2V0TmFtZT1zcF9hdGY%26psc%3D1%26smid%3DAM04Z7MH4HSDD',\n",
       " 'https://www.amazon.in/sspa/click?ie=UTF8&spc=MTo0NjMxMjE5MzU2NzMyNzQ6MTY3Nzg1NDE2NTpzcF9hdGY6MjAxMjE3ODQyNDA5OTg6OjA6Og&url=%2FKadence-Frontier-Acoustic-Guitar-Equalizer%2Fdp%2FB01HRIHJWY%2Fref%3Dsr_1_2_sspa%3Fkeywords%3Dguitar%26qid%3D1677854165%26sr%3D8-2-spons%26sp_csd%3Dd2lkZ2V0TmFtZT1zcF9hdGY%26psc%3D1',\n",
       " 'https://www.amazon.in/sspa/click?ie=UTF8&spc=MTo0NjMxMjE5MzU2NzMyNzQ6MTY3Nzg1NDE2NTpzcF9hdGY6MjAwOTY2MDg3NTA0OTg6OjA6Og&url=%2FKadence-Frontier-Acoustic-Guitar-Strings%2Fdp%2FB01GDZ46AA%2Fref%3Dsr_1_3_sspa%3Fkeywords%3Dguitar%26qid%3D1677854165%26sr%3D8-3-spons%26sp_csd%3Dd2lkZ2V0TmFtZT1zcF9hdGY%26psc%3D1%26smid%3DAM04Z7MH4HSDD',\n",
       " 'https://www.amazon.in/sspa/click?ie=UTF8&spc=MTo0NjMxMjE5MzU2NzMyNzQ6MTY3Nzg1NDE2NTpzcF9hdGY6MjAxMDQyNTQzMDE4OTg6OjA6Og&url=%2FAcoustic-Pick-up-stability-professional-amplificaiton%2Fdp%2FB09YHCR3R8%2Fref%3Dsr_1_4_sspa%3Fkeywords%3Dguitar%26qid%3D1677854165%26sr%3D8-4-spons%26sp_csd%3Dd2lkZ2V0TmFtZT1zcF9hdGY%26psc%3D1',\n",
       " 'https://www.amazon.in/Juarez-Acoustic-Cutaway-038C-Strings/dp/B017NPCSLI/ref=sr_1_5?keywords=guitar&qid=1677854165&sr=8-5',\n",
       " 'https://www.amazon.in/Intern-INT-38C-Acoustic-Guitar-Black/dp/B073B6TQQY/ref=sr_1_6?keywords=guitar&qid=1677854165&sr=8-6',\n",
       " 'https://www.amazon.in/Juarez-Acoustic-Guitar-Cutaway-Strings/dp/B076QHZ4HZ/ref=sr_1_7?keywords=guitar&qid=1677854165&sr=8-7',\n",
       " 'https://www.amazon.in/Intern-INT-38C-Natural-Acoustic-Guitar/dp/B07X4LPJ6H/ref=sr_1_8?keywords=guitar&qid=1677854165&sr=8-8',\n",
       " 'https://www.amazon.in/Yamaha-F280-Acoustic-Guitar-Natural/dp/B08317Y4VP/ref=sr_1_9?keywords=guitar&qid=1677854165&sr=8-9',\n",
       " 'https://www.amazon.in/Intern-INT-38C-Acoustic-Guitar-Blue/dp/B073B5RZBV/ref=sr_1_10?keywords=guitar&qid=1677854165&sr=8-10',\n",
       " 'https://www.amazon.in/Fender-CD-60SCE-Electro-Acoustic-Guitar/dp/B084GYX81B/ref=sr_1_11?keywords=guitar&qid=1677854165&sr=8-11',\n",
       " 'https://www.amazon.in/Intern-38-inch-Cutaway-Design-Acoustic/dp/B07X4PN85R/ref=sr_1_12?keywords=guitar&qid=1677854165&sr=8-12',\n",
       " 'https://www.amazon.in/Intern-INT-38C-Brown-Acoustic-Guitar/dp/B07X2HV158/ref=sr_1_13?keywords=guitar&qid=1677854165&sr=8-13',\n",
       " 'https://www.amazon.in/JUAREZ-JRZ38C-Acoustic-Natural-Strings/dp/B01FYYTDWC/ref=sr_1_14?keywords=guitar&qid=1677854165&sr=8-14',\n",
       " 'https://www.amazon.in/sspa/click?ie=UTF8&spc=MTo0ODM3NDY3MTUyNzA1MTc0OjE2Nzc4NTQxNjU6c3Bfc2VhcmNoX3RoZW1hdGljOjIwMDk2NjA4NzUwNDk4OjowOjo&url=%2FKadence-Frontier-Acoustic-Guitar-Strings%2Fdp%2FB01GDZ46AA%2Fref%3Dsxin_25_pa_sp_search_thematic_sspa%3Fcontent-id%3Damzn1.sym.4d22510d-eb67-42e3-80e4-dd492aa3a3e0%253Aamzn1.sym.4d22510d-eb67-42e3-80e4-dd492aa3a3e0%26cv_ct_cx%3Dguitar%26keywords%3Dguitar%26pd_rd_i%3DB01GDZ46AA%26pd_rd_r%3D32b7ce9c-4d25-4262-a33b-043da9f3f2c5%26pd_rd_w%3DyDDRX%26pd_rd_wg%3D0RSio%26pf_rd_p%3D4d22510d-eb67-42e3-80e4-dd492aa3a3e0%26pf_rd_r%3DZ9EF0RNFT8Z9VS2QK177%26qid%3D1677854165%26sr%3D1-1-5b19f378-d955-407f-848e-18f7f0908484-spons%26sp_csd%3Dd2lkZ2V0TmFtZT1zcF9zZWFyY2hfdGhlbWF0aWM%26psc%3D1%26smid%3DAM04Z7MH4HSDD',\n",
       " 'https://www.amazon.in/sspa/click?ie=UTF8&spc=MTo0ODM3NDY3MTUyNzA1MTc0OjE2Nzc4NTQxNjU6c3Bfc2VhcmNoX3RoZW1hdGljOjIwMDU3MTkzMDU2MjA0OjoxOjo&url=%2FKadence-Slowhand-Premium-Acoustic-Instrument%2Fdp%2FB077SZ667X%2Fref%3Dsxin_25_pa_sp_search_thematic_sspa%3Fcontent-id%3Damzn1.sym.4d22510d-eb67-42e3-80e4-dd492aa3a3e0%253Aamzn1.sym.4d22510d-eb67-42e3-80e4-dd492aa3a3e0%26cv_ct_cx%3Dguitar%26keywords%3Dguitar%26pd_rd_i%3DB077SZ667X%26pd_rd_r%3D32b7ce9c-4d25-4262-a33b-043da9f3f2c5%26pd_rd_w%3DyDDRX%26pd_rd_wg%3D0RSio%26pf_rd_p%3D4d22510d-eb67-42e3-80e4-dd492aa3a3e0%26pf_rd_r%3DZ9EF0RNFT8Z9VS2QK177%26qid%3D1677854165%26sr%3D1-2-5b19f378-d955-407f-848e-18f7f0908484-spons%26sp_csd%3Dd2lkZ2V0TmFtZT1zcF9zZWFyY2hfdGhlbWF0aWM%26psc%3D1%26smid%3DAM04Z7MH4HSDD',\n",
       " 'https://www.amazon.in/sspa/click?ie=UTF8&spc=MTo0ODM3NDY3MTUyNzA1MTc0OjE2Nzc4NTQxNjU6c3Bfc2VhcmNoX3RoZW1hdGljOjIwMTIxNzg0MjQwOTk4OjoyOjo&url=%2FKadence-Frontier-Acoustic-Guitar-Equalizer%2Fdp%2FB01HRIHJWY%2Fref%3Dsxin_25_pa_sp_search_thematic_sspa%3Fcontent-id%3Damzn1.sym.4d22510d-eb67-42e3-80e4-dd492aa3a3e0%253Aamzn1.sym.4d22510d-eb67-42e3-80e4-dd492aa3a3e0%26cv_ct_cx%3Dguitar%26keywords%3Dguitar%26pd_rd_i%3DB01HRIHJWY%26pd_rd_r%3D32b7ce9c-4d25-4262-a33b-043da9f3f2c5%26pd_rd_w%3DyDDRX%26pd_rd_wg%3D0RSio%26pf_rd_p%3D4d22510d-eb67-42e3-80e4-dd492aa3a3e0%26pf_rd_r%3DZ9EF0RNFT8Z9VS2QK177%26qid%3D1677854165%26sr%3D1-3-5b19f378-d955-407f-848e-18f7f0908484-spons%26sp_csd%3Dd2lkZ2V0TmFtZT1zcF9zZWFyY2hfdGhlbWF0aWM%26psc%3D1',\n",
       " 'https://www.amazon.in/sspa/click?ie=UTF8&spc=MTo0ODM3NDY3MTUyNzA1MTc0OjE2Nzc4NTQxNjU6c3Bfc2VhcmNoX3RoZW1hdGljOjIwMDE5NjI1NTkyMTA0OjozOjo&url=%2FCort-AD810-Dreadnought-Acoustic-Guitar%2Fdp%2FB07KMBVR6V%2Fref%3Dsxin_25_pa_sp_search_thematic_sspa%3Fcontent-id%3Damzn1.sym.4d22510d-eb67-42e3-80e4-dd492aa3a3e0%253Aamzn1.sym.4d22510d-eb67-42e3-80e4-dd492aa3a3e0%26cv_ct_cx%3Dguitar%26keywords%3Dguitar%26pd_rd_i%3DB07KMBVR6V%26pd_rd_r%3D32b7ce9c-4d25-4262-a33b-043da9f3f2c5%26pd_rd_w%3DyDDRX%26pd_rd_wg%3D0RSio%26pf_rd_p%3D4d22510d-eb67-42e3-80e4-dd492aa3a3e0%26pf_rd_r%3DZ9EF0RNFT8Z9VS2QK177%26qid%3D1677854165%26sr%3D1-4-5b19f378-d955-407f-848e-18f7f0908484-spons%26sp_csd%3Dd2lkZ2V0TmFtZT1zcF9zZWFyY2hfdGhlbWF0aWM%26psc%3D1%26smid%3DA2E0IZ06LXDJ9X',\n",
       " 'https://www.amazon.in/Fender-Dread-String-Acoustic-Guitar/dp/B07RM4B5LJ/ref=sxin_26?asc_contentid=amzn1.osa.39dd7fbf-afb9-4b33-a89b-5dc1ff018d2f.A21TJRUUN4KGV.en_IN&asc_contenttype=article&ascsubtag=amzn1.osa.39dd7fbf-afb9-4b33-a89b-5dc1ff018d2f.A21TJRUUN4KGV.en_IN&content-id=amzn1.sym.feb2b32b-0085-4665-973c-36b431684408%3Aamzn1.sym.feb2b32b-0085-4665-973c-36b431684408&creativeASIN=B07RM4B5LJ&cv_ct_cx=guitar&cv_ct_id=amzn1.osa.39dd7fbf-afb9-4b33-a89b-5dc1ff018d2f.A21TJRUUN4KGV.en_IN&cv_ct_pg=search&cv_ct_we=asin&cv_ct_wn=osp-single-source-pecos-desktop&keywords=guitar&linkCode=oas&pd_rd_i=B07RM4B5LJ&pd_rd_r=32b7ce9c-4d25-4262-a33b-043da9f3f2c5&pd_rd_w=iAwzA&pd_rd_wg=0RSio&pf_rd_p=feb2b32b-0085-4665-973c-36b431684408&pf_rd_r=Z9EF0RNFT8Z9VS2QK177&qid=1677854165&sr=1-1-c84eb971-91f2-4a4d-acce-811265c24254&tag=sm-content-21',\n",
       " 'https://www.amazon.in/Yamaha-FS100C-Acoustic-Guitars-Natural/dp/B00QKD79QE/ref=sxin_26?asc_contentid=amzn1.osa.39dd7fbf-afb9-4b33-a89b-5dc1ff018d2f.A21TJRUUN4KGV.en_IN&asc_contenttype=article&ascsubtag=amzn1.osa.39dd7fbf-afb9-4b33-a89b-5dc1ff018d2f.A21TJRUUN4KGV.en_IN&content-id=amzn1.sym.feb2b32b-0085-4665-973c-36b431684408%3Aamzn1.sym.feb2b32b-0085-4665-973c-36b431684408&creativeASIN=B00QKD79QE&cv_ct_cx=guitar&cv_ct_id=amzn1.osa.39dd7fbf-afb9-4b33-a89b-5dc1ff018d2f.A21TJRUUN4KGV.en_IN&cv_ct_pg=search&cv_ct_we=asin&cv_ct_wn=osp-single-source-pecos-desktop&keywords=guitar&linkCode=oas&pd_rd_i=B00QKD79QE&pd_rd_r=32b7ce9c-4d25-4262-a33b-043da9f3f2c5&pd_rd_w=iAwzA&pd_rd_wg=0RSio&pf_rd_p=feb2b32b-0085-4665-973c-36b431684408&pf_rd_r=Z9EF0RNFT8Z9VS2QK177&qid=1677854165&sr=1-2-c84eb971-91f2-4a4d-acce-811265c24254&tag=sm-content-21',\n",
       " 'https://www.amazon.in/Rosewood-Fretboard-Acoustic-Strings-K-Retail/dp/B07KLG8C4P/ref=sxin_26?asc_contentid=amzn1.osa.39dd7fbf-afb9-4b33-a89b-5dc1ff018d2f.A21TJRUUN4KGV.en_IN&asc_contenttype=article&ascsubtag=amzn1.osa.39dd7fbf-afb9-4b33-a89b-5dc1ff018d2f.A21TJRUUN4KGV.en_IN&content-id=amzn1.sym.feb2b32b-0085-4665-973c-36b431684408%3Aamzn1.sym.feb2b32b-0085-4665-973c-36b431684408&creativeASIN=B07KLG8C4P&cv_ct_cx=guitar&cv_ct_id=amzn1.osa.39dd7fbf-afb9-4b33-a89b-5dc1ff018d2f.A21TJRUUN4KGV.en_IN&cv_ct_pg=search&cv_ct_we=asin&cv_ct_wn=osp-single-source-pecos-desktop&keywords=guitar&linkCode=oas&pd_rd_i=B07KLG8C4P&pd_rd_r=32b7ce9c-4d25-4262-a33b-043da9f3f2c5&pd_rd_w=iAwzA&pd_rd_wg=0RSio&pf_rd_p=feb2b32b-0085-4665-973c-36b431684408&pf_rd_r=Z9EF0RNFT8Z9VS2QK177&qid=1677854165&sr=1-3-c84eb971-91f2-4a4d-acce-811265c24254&tag=sm-content-21',\n",
       " 'https://www.amazon.in/Kadence-6-strings-Acoustic-Guitar-Natural/dp/B07JKYWGJN/ref=sxin_26?asc_contentid=amzn1.osa.39dd7fbf-afb9-4b33-a89b-5dc1ff018d2f.A21TJRUUN4KGV.en_IN&asc_contenttype=article&ascsubtag=amzn1.osa.39dd7fbf-afb9-4b33-a89b-5dc1ff018d2f.A21TJRUUN4KGV.en_IN&content-id=amzn1.sym.feb2b32b-0085-4665-973c-36b431684408%3Aamzn1.sym.feb2b32b-0085-4665-973c-36b431684408&creativeASIN=B07JKYWGJN&cv_ct_cx=guitar&cv_ct_id=amzn1.osa.39dd7fbf-afb9-4b33-a89b-5dc1ff018d2f.A21TJRUUN4KGV.en_IN&cv_ct_pg=search&cv_ct_we=asin&cv_ct_wn=osp-single-source-pecos-desktop&keywords=guitar&linkCode=oas&pd_rd_i=B07JKYWGJN&pd_rd_r=32b7ce9c-4d25-4262-a33b-043da9f3f2c5&pd_rd_w=iAwzA&pd_rd_wg=0RSio&pf_rd_p=feb2b32b-0085-4665-973c-36b431684408&pf_rd_r=Z9EF0RNFT8Z9VS2QK177&qid=1677854165&sr=1-4-c84eb971-91f2-4a4d-acce-811265c24254&tag=sm-content-21',\n",
       " 'https://www.amazon.in/Revel-RVL-38C-LGP-NT-Linden-Acoustic-Natural/dp/B085HVRHPS/ref=sr_1_15?keywords=guitar&qid=1677854165&sr=8-15',\n",
       " 'https://www.amazon.in/YAMAHA-NATURAL-CONCERT-CUTAWAY-GUITAR/dp/B08KW4DRKL/ref=sr_1_16?keywords=guitar&qid=1677854165&sr=8-16',\n",
       " 'https://www.amazon.in/JUAREZ-JRZ38C-Acoustic-Sunburst-Strings/dp/B01FYYTDS6/ref=sr_1_17?keywords=guitar&qid=1677854165&sr=8-17',\n",
       " 'https://www.amazon.in/JUAREZ-JRZ38C-Acoustic-Sunburst-Strings/dp/B01FYYTDTU/ref=sr_1_18?keywords=guitar&qid=1677854165&sr=8-18',\n",
       " 'https://www.amazon.in/Intern-INT-38C-BK-G-Guitar-Kit-Black/dp/B07K9497RC/ref=sr_1_19?keywords=guitar&qid=1677854165&sr=8-19',\n",
       " 'https://www.amazon.in/Fender-Player-Telecaster-Electric-Guitar/dp/B07CXGQKVH/ref=sr_1_20?keywords=guitar&qid=1677854165&sr=8-20',\n",
       " 'https://www.amazon.in/sspa/click?ie=UTF8&spc=MTo0NjMxMjE5MzU2NzMyNzQ6MTY3Nzg1NDE2NTpzcF9tdGY6MjAxMTU2NTczOTIwOTg6OjA6Og&url=%2FFOMIYES-Acoustic-Instrument-Beginner-Children%2Fdp%2FB0BQMB2161%2Fref%3Dsr_1_21_sspa%3Fkeywords%3Dguitar%26qid%3D1677854165%26sr%3D8-21-spons%26sp_csd%3Dd2lkZ2V0TmFtZT1zcF9tdGY%26psc%3D1',\n",
       " 'https://www.amazon.in/sspa/click?ie=UTF8&spc=MTo0NjMxMjE5MzU2NzMyNzQ6MTY3Nzg1NDE2NTpzcF9tdGY6MjAwMzE2ODgyMjYyMDE6OjA6Og&url=%2FGUITAR-BRO-Acoustic-Beginner-Accessories%2Fdp%2FB07T84GC8L%2Fref%3Dsr_1_22_sspa%3Fkeywords%3Dguitar%26qid%3D1677854165%26sr%3D8-22-spons%26sp_csd%3Dd2lkZ2V0TmFtZT1zcF9tdGY%26psc%3D1',\n",
       " 'https://www.amazon.in/sspa/click?ie=UTF8&spc=MTo0NjMxMjE5MzU2NzMyNzQ6MTY3Nzg1NDE2NTpzcF9tdGY6MjAwMzYyNDQ1NTk1OTg6OjA6Og&url=%2FTraveller-Acoustic-Guitar-Strings-Polishing%2Fdp%2FB07RK9962M%2Fref%3Dsr_1_23_sspa%3Fkeywords%3Dguitar%26qid%3D1677854165%26sr%3D8-23-spons%26sp_csd%3Dd2lkZ2V0TmFtZT1zcF9tdGY%26psc%3D1',\n",
       " 'https://www.amazon.in/sspa/click?ie=UTF8&spc=MTo0NjMxMjE5MzU2NzMyNzQ6MTY3Nzg1NDE2NTpzcF9tdGY6MjAwOTU2NTQzMTAwOTg6OjA6Og&url=%2FAcoustic-Guitar-Cutaway-Strings-Strap%2Fdp%2FB08NTC4KG4%2Fref%3Dsr_1_24_sspa%3Fkeywords%3Dguitar%26qid%3D1677854165%26sr%3D8-24-spons%26sp_csd%3Dd2lkZ2V0TmFtZT1zcF9tdGY%26psc%3D1',\n",
       " 'https://www.amazon.in/Kadence-Frontier-Acoustic-Natural-Equalizer/dp/B01I50UJG6/ref=sr_1_25?keywords=guitar&qid=1677854165&sr=8-25',\n",
       " 'https://www.amazon.in/Kadence-Frontier-Acoustic-Guitar-Strings/dp/B078GTJP5Y/ref=sr_1_26?keywords=guitar&qid=1677854165&sr=8-26',\n",
       " 'https://www.amazon.in/Intern-INT-38C-Acoustic-Guitar-Sunburst/dp/B073B5MJRM/ref=sr_1_27?keywords=guitar&qid=1677854165&sr=8-27',\n",
       " 'https://www.amazon.in/Medellin-Acoustic-Guitar-Carbon-Learning/dp/B09MSGMQ3Y/ref=sr_1_28?keywords=guitar&qid=1677854165&sr=8-28',\n",
       " 'https://www.amazon.in/Kadence-Frontier-Acoustic-Wihtout-strings/dp/B08PK9GZZY/ref=sr_1_29?keywords=guitar&qid=1677854165&sr=8-29',\n",
       " 'https://www.amazon.in/Acoustic-Humidity-resistance-resonance-Plectrums/dp/B09RQZ6HM2/ref=sr_1_30?keywords=guitar&qid=1677854165&sr=8-30',\n",
       " 'https://www.amazon.in/Intern-Acoustic-Steel-string-plectrums-INT-38C-WH/dp/B09LR94Z2X/ref=sr_1_31?keywords=guitar&qid=1677854165&sr=8-31',\n",
       " 'https://www.amazon.in/Yamaha-Acoustic-Guitar-Natural-Bajaao/dp/B08RMP2F6Z/ref=sr_1_32?keywords=guitar&qid=1677854165&sr=8-32',\n",
       " 'https://www.amazon.in/Acoustic-Cutaway-TBLS-Strings-Sunburst/dp/B098BCCY75/ref=sr_1_33?keywords=guitar&qid=1677854165&sr=8-33',\n",
       " 'https://www.amazon.in/Juarez-Acoustic-Guitar-Cutaway-Strings/dp/B084VRCCN7/ref=sr_1_34?keywords=guitar&qid=1677854165&sr=8-34',\n",
       " 'https://www.amazon.in/Juarez-Acoustic-Guitar-Cutaway-JRZ38CT/dp/B01N3TTYJQ/ref=sr_1_35?keywords=guitar&qid=1677854165&sr=8-35',\n",
       " 'https://www.amazon.in/JUAREZ-JRZ38C-Handed-Acoustic-Strings/dp/B01FYYTDX6/ref=sr_1_36?keywords=guitar&qid=1677854165&sr=8-36',\n",
       " 'https://www.amazon.in/JRZ-ST01-6-String-Electric-Sunburst-Without/dp/B01FYZSOEE/ref=sr_1_37?keywords=guitar&qid=1677854165&sr=8-37',\n",
       " 'https://www.amazon.in/Ju%C3%A2rez-JRZ38C-WH-Strings-Acoustic/dp/B072MFK4L6/ref=sr_1_38?keywords=guitar&qid=1677854165&sr=8-38',\n",
       " 'https://www.amazon.in/Kadence-Acoustica-Acoustic-Guitar-Zebra/dp/B07KXNKLJ2/ref=sr_1_39?keywords=guitar&qid=1677854165&sr=8-39',\n",
       " 'https://www.amazon.in/Fender-String-Cutaway-Acoustic-Guitar/dp/B07YX5W8MV/ref=sr_1_40?keywords=guitar&qid=1677854165&sr=8-40',\n",
       " 'https://www.amazon.in/Yamaha-F310-6-Strings-Acoustic-Natural/dp/B000RVYW7E/ref=sr_1_41?keywords=guitar&qid=1677854165&sr=8-41',\n",
       " 'https://www.amazon.in/Yamaha-PACIFICA012-Electric-Guitar-Metallic/dp/B00REF6CII/ref=sr_1_42?keywords=guitar&qid=1677854165&sr=8-42',\n",
       " 'https://www.amazon.in/Kadence-Slowhand-Premium-Acoustic-Instrument/dp/B077SZ667X/ref=sr_1_43?keywords=guitar&qid=1677854165&sr=8-43',\n",
       " 'https://www.amazon.in/JUAREZ-JRZ38C-Handed-Acoustic-Strings/dp/B01FYYTDW2/ref=sr_1_44?keywords=guitar&qid=1677854165&sr=8-44',\n",
       " 'https://www.amazon.in/Intern-INT-38C-Sunburst-Acoustic-Guitar/dp/B07X1J4D3Z/ref=sr_1_45?keywords=guitar&qid=1677854165&sr=8-45',\n",
       " 'https://www.amazon.in/Juarez-Acoustic-Guitar-Cutaway-Strings/dp/B075XMRKMY/ref=sr_1_46?keywords=guitar&qid=1677854165&sr=8-46',\n",
       " 'https://www.amazon.in/Guitar-Strings-Straps-String-Polishing/dp/B097N7NGHD/ref=sr_1_47?keywords=guitar&qid=1677854165&sr=8-47',\n",
       " 'https://www.amazon.in/Vault-Jazz-Bass-4-String-Guitar/dp/B09ZXZDCDR/ref=sr_1_48?keywords=guitar&qid=1677854165&sr=8-48',\n",
       " 'https://www.amazon.in/Yamaha-FS-100C-6-String-Acoustic-without/dp/B00PAS9CK6/ref=sr_1_49?keywords=guitar&qid=1677854165&sr=8-49',\n",
       " 'https://www.amazon.in/Yamaha-FX280-acoustic-Dreadnought-Natural/dp/B09HR6BNFQ/ref=sr_1_50?keywords=guitar&qid=1677854165&sr=8-50',\n",
       " 'https://www.amazon.in/Kadence-Frontier-Acoustic-Guitar-Equalizer/dp/B01HRIHJWY/ref=sr_1_51?keywords=guitar&qid=1677854165&sr=8-51',\n",
       " 'https://www.amazon.in/Fender-SA105CEBK-Acoustic-Guitar/dp/B01N6KME9M/ref=sr_1_52?keywords=guitar&qid=1677854165&sr=8-52',\n",
       " 'https://www.amazon.in/Yamaha-FSX80C-Acoustic-Cutaway-Natural/dp/B09HL3GFZF/ref=sr_1_53?keywords=guitar&qid=1677854165&sr=8-53',\n",
       " 'https://www.amazon.in/Intern-INT-38C-Acoustic-Guitar-Kit/dp/B073B6TF31/ref=sr_1_54?keywords=guitar&qid=1677854165&sr=8-54',\n",
       " 'https://www.amazon.in/Medellin-Acoustic-adjustable-Truss-rod-learning/dp/B0BMKX4HNP/ref=sr_1_55?keywords=guitar&qid=1677854165&sr=8-55',\n",
       " 'https://www.amazon.in/Acoustic-Cutaway-3TS-Strings-Sunburst/dp/B098BD1MHM/ref=sr_1_56?keywords=guitar&qid=1677854165&sr=8-56',\n",
       " 'https://www.amazon.in/sspa/click?ie=UTF8&spc=MTo0NjMxMjE5MzU2NzMyNzQ6MTY3Nzg1NDE2NTpzcF9idGY6MjAwMTk2MjU1OTIxMDQ6OjA6Og&url=%2FCort-AD810-Dreadnought-Acoustic-Guitar%2Fdp%2FB07KMBVR6V%2Fref%3Dsr_1_57_sspa%3Fkeywords%3Dguitar%26qid%3D1677854165%26sr%3D8-57-spons%26sp_csd%3Dd2lkZ2V0TmFtZT1zcF9idGY%26psc%3D1%26smid%3DA2E0IZ06LXDJ9X',\n",
       " 'https://www.amazon.in/sspa/click?ie=UTF8&spc=MTo0NjMxMjE5MzU2NzMyNzQ6MTY3Nzg1NDE2NTpzcF9idGY6MjAwODYzMzIxNjI5MDE6OjA6Og&url=%2FUniversal-Acoustic-Classical-Mandolins-Instruments%2Fdp%2FB08XBRNC7T%2Fref%3Dsr_1_58_sspa%3Fkeywords%3Dguitar%26qid%3D1677854165%26sr%3D8-58-spons%26sp_csd%3Dd2lkZ2V0TmFtZT1zcF9idGY%26psc%3D1']"
      ]
     },
     "execution_count": 34,
     "metadata": {},
     "output_type": "execute_result"
    }
   ],
   "source": [
    "job_opening_url"
   ]
  },
  {
   "cell_type": "code",
   "execution_count": 35,
   "id": "891d64a3",
   "metadata": {},
   "outputs": [],
   "source": [
    "BrandName=[]  #creating an empty list\n",
    "Name_of_product=[]\n",
    "Price=[]\n",
    "Return_Exchange=[]\n",
    "Expected_Delivery=[]\n",
    "Availability=[]\n",
    "Product_url=[]\n",
    "\n",
    "\n",
    "for i in job_opening_url[0:5]: #iterating over each and every url to fetch job titles\n",
    "    driver.get(i)    # Taking each url one by one as an input\n",
    "    time.sleep(5)\n",
    "    try:\n",
    "        brand = driver.find_element(By.XPATH,'/html/body/div[2]/div[2]/div[5]/div[4]/div[4]/div[44]/div/table/tbody/tr[1]')\n",
    "        BrandName.append(brand.text)\n",
    "    except NoSuchElementException:\n",
    "        BrandName.append('-')\n",
    "        \n",
    "        \n",
    "for i in job_opening_url[0:5]: #iterating over each and every url to fetch job titles\n",
    "    driver.get(i)    # Taking each url one by one as an input\n",
    "    time.sleep(5)\n",
    "    try:\n",
    "        Nameofproduct = driver.find_element(By.XPATH,'/html/body/div[2]/div[2]/div[5]/div[4]/div[4]/div[1]/div/h1/span')\n",
    "        Name_of_product.append(Nameofproduct.text)\n",
    "    except NoSuchElementException:\n",
    "        Name_of_product.append('-')\n",
    "        \n",
    "for i in job_opening_url[0:5]: #iterating over each and every url to fetch job titles\n",
    "    driver.get(i)    # Taking each url one by one as an input\n",
    "    time.sleep(5)\n",
    "    try:\n",
    "        productprice = driver.find_element(By.XPATH,'/html/body/div[2]/div[2]/div[5]/div[4]/div[1]/div[3]/div/div[1]/div/div/div/form/div/div/div/div/div[2]/div[1]/div/span/span[2]/span[2]')\n",
    "        Price.append(productprice.text)\n",
    "    except NoSuchElementException:\n",
    "        Price.append('-')\n",
    "        \n",
    "for i in job_opening_url[0:5]: #iterating over each and every url to fetch job titles\n",
    "    driver.get(i)    # Taking each url one by one as an input\n",
    "    time.sleep(5)\n",
    "    try:\n",
    "        Return = driver.find_element(By.XPATH,'/html/body/div[2]/div[2]/div[5]/div[4]/div[4]/div[22]/div[2]/div/div/div/div[2]/div/ol/li[3]/div/span')\n",
    "        Return_Exchange.append(Return.text)\n",
    "    except NoSuchElementException:\n",
    "        Return_Exchange.append('-')       \n",
    "        \n",
    "for i in job_opening_url[0:5]: #iterating over each and every url to fetch job titles\n",
    "    driver.get(i)    # Taking each url one by one as an input\n",
    "    time.sleep(5)\n",
    "    try:\n",
    "        ExpDel = driver.find_element(By.XPATH,'/html/body/div[2]/div[2]/div[5]/div[4]/div[1]/div[3]/div/div[1]/div/div/div/form/div/div/div/div/div[3]/div/div[2]/div[9]/div[1]/div/div/div[2]/span/span[1]')\n",
    "        Expected_Delivery.append(Expdel.text)\n",
    "    except NoSuchElementException:\n",
    "        Expected_Delivery.append('-')      \n",
    "        \n",
    "for i in job_opening_url[0:5]: #iterating over each and every url to fetch job titles\n",
    "    driver.get(i)    # Taking each url one by one as an input\n",
    "    time.sleep(5)\n",
    "    try:\n",
    "        Avail = driver.find_element(By.XPATH,'/html/body/div[2]/div[2]/div[5]/div[4]/div[1]/div[3]/div/div[1]/div/div/div/form/div/div/div/div/div[3]/div/div[4]/div/div[1]/span')\n",
    "        Availability.append(Avail.text)\n",
    "    except NoSuchElementException:\n",
    "        Availability.append('-')    "
   ]
  },
  {
   "cell_type": "code",
   "execution_count": 40,
   "id": "84803c7b",
   "metadata": {},
   "outputs": [],
   "source": [
    "url1=job_opening_url[0:5]"
   ]
  },
  {
   "cell_type": "code",
   "execution_count": 41,
   "id": "6ed65406",
   "metadata": {},
   "outputs": [
    {
     "data": {
      "text/plain": [
       "['https://www.amazon.in/sspa/click?ie=UTF8&spc=MTo0NjMxMjE5MzU2NzMyNzQ6MTY3Nzg1NDE2NTpzcF9hdGY6MjAwNTcxOTMwNTYyMDQ6OjA6Og&url=%2FKadence-Slowhand-Premium-Acoustic-Instrument%2Fdp%2FB077SZ667X%2Fref%3Dsr_1_1_sspa%3Fkeywords%3Dguitar%26qid%3D1677854165%26sr%3D8-1-spons%26sp_csd%3Dd2lkZ2V0TmFtZT1zcF9hdGY%26psc%3D1%26smid%3DAM04Z7MH4HSDD',\n",
       " 'https://www.amazon.in/sspa/click?ie=UTF8&spc=MTo0NjMxMjE5MzU2NzMyNzQ6MTY3Nzg1NDE2NTpzcF9hdGY6MjAxMjE3ODQyNDA5OTg6OjA6Og&url=%2FKadence-Frontier-Acoustic-Guitar-Equalizer%2Fdp%2FB01HRIHJWY%2Fref%3Dsr_1_2_sspa%3Fkeywords%3Dguitar%26qid%3D1677854165%26sr%3D8-2-spons%26sp_csd%3Dd2lkZ2V0TmFtZT1zcF9hdGY%26psc%3D1',\n",
       " 'https://www.amazon.in/sspa/click?ie=UTF8&spc=MTo0NjMxMjE5MzU2NzMyNzQ6MTY3Nzg1NDE2NTpzcF9hdGY6MjAwOTY2MDg3NTA0OTg6OjA6Og&url=%2FKadence-Frontier-Acoustic-Guitar-Strings%2Fdp%2FB01GDZ46AA%2Fref%3Dsr_1_3_sspa%3Fkeywords%3Dguitar%26qid%3D1677854165%26sr%3D8-3-spons%26sp_csd%3Dd2lkZ2V0TmFtZT1zcF9hdGY%26psc%3D1%26smid%3DAM04Z7MH4HSDD',\n",
       " 'https://www.amazon.in/sspa/click?ie=UTF8&spc=MTo0NjMxMjE5MzU2NzMyNzQ6MTY3Nzg1NDE2NTpzcF9hdGY6MjAxMDQyNTQzMDE4OTg6OjA6Og&url=%2FAcoustic-Pick-up-stability-professional-amplificaiton%2Fdp%2FB09YHCR3R8%2Fref%3Dsr_1_4_sspa%3Fkeywords%3Dguitar%26qid%3D1677854165%26sr%3D8-4-spons%26sp_csd%3Dd2lkZ2V0TmFtZT1zcF9hdGY%26psc%3D1',\n",
       " 'https://www.amazon.in/Juarez-Acoustic-Cutaway-038C-Strings/dp/B017NPCSLI/ref=sr_1_5?keywords=guitar&qid=1677854165&sr=8-5']"
      ]
     },
     "execution_count": 41,
     "metadata": {},
     "output_type": "execute_result"
    }
   ],
   "source": [
    "url1"
   ]
  },
  {
   "cell_type": "code",
   "execution_count": 42,
   "id": "96bbca67",
   "metadata": {},
   "outputs": [
    {
     "name": "stdout",
     "output_type": "stream",
     "text": [
      "5 5 5 5 5 5 5\n"
     ]
    }
   ],
   "source": [
    "print(len(BrandName),len(Name_of_product),len(Price),len(Return_Exchange),len(Expected_Delivery),len(Availability),len(url1))\n"
   ]
  },
  {
   "cell_type": "code",
   "execution_count": null,
   "id": "a12e480e",
   "metadata": {},
   "outputs": [],
   "source": [
    "#Dear sir, it takes lot of time to run the code in that purpose i will scap out of 3 pages i will scarp only 5 datas numbers."
   ]
  },
  {
   "cell_type": "code",
   "execution_count": 43,
   "id": "108f71af",
   "metadata": {},
   "outputs": [
    {
     "data": {
      "text/html": [
       "<div>\n",
       "<style scoped>\n",
       "    .dataframe tbody tr th:only-of-type {\n",
       "        vertical-align: middle;\n",
       "    }\n",
       "\n",
       "    .dataframe tbody tr th {\n",
       "        vertical-align: top;\n",
       "    }\n",
       "\n",
       "    .dataframe thead th {\n",
       "        text-align: right;\n",
       "    }\n",
       "</style>\n",
       "<table border=\"1\" class=\"dataframe\">\n",
       "  <thead>\n",
       "    <tr style=\"text-align: right;\">\n",
       "      <th></th>\n",
       "      <th>BrandName</th>\n",
       "      <th>Name_of_product</th>\n",
       "      <th>Price</th>\n",
       "      <th>Return/Exchange</th>\n",
       "      <th>Expected_Delivery</th>\n",
       "      <th>Availability</th>\n",
       "      <th>Product_URL</th>\n",
       "    </tr>\n",
       "  </thead>\n",
       "  <tbody>\n",
       "    <tr>\n",
       "      <th>0</th>\n",
       "      <td>-</td>\n",
       "      <td>-</td>\n",
       "      <td>-</td>\n",
       "      <td>-</td>\n",
       "      <td>-</td>\n",
       "      <td>-</td>\n",
       "      <td>https://www.amazon.in/sspa/click?ie=UTF8&amp;spc=M...</td>\n",
       "    </tr>\n",
       "    <tr>\n",
       "      <th>1</th>\n",
       "      <td>-</td>\n",
       "      <td>-</td>\n",
       "      <td>-</td>\n",
       "      <td>-</td>\n",
       "      <td>-</td>\n",
       "      <td>-</td>\n",
       "      <td>https://www.amazon.in/sspa/click?ie=UTF8&amp;spc=M...</td>\n",
       "    </tr>\n",
       "    <tr>\n",
       "      <th>2</th>\n",
       "      <td>-</td>\n",
       "      <td>-</td>\n",
       "      <td>-</td>\n",
       "      <td>-</td>\n",
       "      <td>-</td>\n",
       "      <td>-</td>\n",
       "      <td>https://www.amazon.in/sspa/click?ie=UTF8&amp;spc=M...</td>\n",
       "    </tr>\n",
       "    <tr>\n",
       "      <th>3</th>\n",
       "      <td>-</td>\n",
       "      <td>-</td>\n",
       "      <td>-</td>\n",
       "      <td>-</td>\n",
       "      <td>-</td>\n",
       "      <td>-</td>\n",
       "      <td>https://www.amazon.in/sspa/click?ie=UTF8&amp;spc=M...</td>\n",
       "    </tr>\n",
       "    <tr>\n",
       "      <th>4</th>\n",
       "      <td>-</td>\n",
       "      <td>-</td>\n",
       "      <td>-</td>\n",
       "      <td>-</td>\n",
       "      <td>-</td>\n",
       "      <td>-</td>\n",
       "      <td>https://www.amazon.in/Juarez-Acoustic-Cutaway-...</td>\n",
       "    </tr>\n",
       "  </tbody>\n",
       "</table>\n",
       "</div>"
      ],
      "text/plain": [
       "  BrandName Name_of_product Price Return/Exchange Expected_Delivery  \\\n",
       "0         -               -     -               -                 -   \n",
       "1         -               -     -               -                 -   \n",
       "2         -               -     -               -                 -   \n",
       "3         -               -     -               -                 -   \n",
       "4         -               -     -               -                 -   \n",
       "\n",
       "  Availability                                        Product_URL  \n",
       "0            -  https://www.amazon.in/sspa/click?ie=UTF8&spc=M...  \n",
       "1            -  https://www.amazon.in/sspa/click?ie=UTF8&spc=M...  \n",
       "2            -  https://www.amazon.in/sspa/click?ie=UTF8&spc=M...  \n",
       "3            -  https://www.amazon.in/sspa/click?ie=UTF8&spc=M...  \n",
       "4            -  https://www.amazon.in/Juarez-Acoustic-Cutaway-...  "
      ]
     },
     "execution_count": 43,
     "metadata": {},
     "output_type": "execute_result"
    }
   ],
   "source": [
    "import pandas as pd\n",
    "df=pd.DataFrame({'BrandName':BrandName,'Name_of_product':Name_of_product,'Price':Price,'Return/Exchange':Return_Exchange,'Expected_Delivery':Expected_Delivery,'Availability':Availability,'Product_URL':url1,})\n",
    "df"
   ]
  },
  {
   "cell_type": "markdown",
   "id": "15d329b6",
   "metadata": {},
   "source": [
    "# Q3"
   ]
  },
  {
   "cell_type": "code",
   "execution_count": 1,
   "id": "c8f53b0f",
   "metadata": {},
   "outputs": [
    {
     "name": "stdout",
     "output_type": "stream",
     "text": [
      "Requirement already satisfied: selenium in c:\\users\\spectrum buildtech\\anaconda3\\lib\\site-packages (4.8.0)\n",
      "Requirement already satisfied: certifi>=2021.10.8 in c:\\users\\spectrum buildtech\\anaconda3\\lib\\site-packages (from selenium) (2021.10.8)\n",
      "Requirement already satisfied: trio~=0.17 in c:\\users\\spectrum buildtech\\anaconda3\\lib\\site-packages (from selenium) (0.22.0)\n",
      "Requirement already satisfied: urllib3[socks]~=1.26 in c:\\users\\spectrum buildtech\\anaconda3\\lib\\site-packages (from selenium) (1.26.9)\n",
      "Requirement already satisfied: trio-websocket~=0.9 in c:\\users\\spectrum buildtech\\anaconda3\\lib\\site-packages (from selenium) (0.9.2)\n",
      "Requirement already satisfied: async-generator>=1.9 in c:\\users\\spectrum buildtech\\anaconda3\\lib\\site-packages (from trio~=0.17->selenium) (1.10)\n",
      "Requirement already satisfied: outcome in c:\\users\\spectrum buildtech\\anaconda3\\lib\\site-packages (from trio~=0.17->selenium) (1.2.0)\n",
      "Requirement already satisfied: idna in c:\\users\\spectrum buildtech\\anaconda3\\lib\\site-packages (from trio~=0.17->selenium) (3.3)\n",
      "Requirement already satisfied: sniffio in c:\\users\\spectrum buildtech\\anaconda3\\lib\\site-packages (from trio~=0.17->selenium) (1.2.0)\n",
      "Requirement already satisfied: exceptiongroup>=1.0.0rc9 in c:\\users\\spectrum buildtech\\anaconda3\\lib\\site-packages (from trio~=0.17->selenium) (1.1.0)\n",
      "Requirement already satisfied: attrs>=19.2.0 in c:\\users\\spectrum buildtech\\anaconda3\\lib\\site-packages (from trio~=0.17->selenium) (21.4.0)\n",
      "Requirement already satisfied: sortedcontainers in c:\\users\\spectrum buildtech\\anaconda3\\lib\\site-packages (from trio~=0.17->selenium) (2.4.0)\n",
      "Requirement already satisfied: cffi>=1.14 in c:\\users\\spectrum buildtech\\anaconda3\\lib\\site-packages (from trio~=0.17->selenium) (1.15.0)\n",
      "Requirement already satisfied: pycparser in c:\\users\\spectrum buildtech\\anaconda3\\lib\\site-packages (from cffi>=1.14->trio~=0.17->selenium) (2.21)\n",
      "Requirement already satisfied: wsproto>=0.14 in c:\\users\\spectrum buildtech\\anaconda3\\lib\\site-packages (from trio-websocket~=0.9->selenium) (1.2.0)\n",
      "Requirement already satisfied: PySocks!=1.5.7,<2.0,>=1.5.6 in c:\\users\\spectrum buildtech\\anaconda3\\lib\\site-packages (from urllib3[socks]~=1.26->selenium) (1.7.1)\n",
      "Requirement already satisfied: h11<1,>=0.9.0 in c:\\users\\spectrum buildtech\\anaconda3\\lib\\site-packages (from wsproto>=0.14->trio-websocket~=0.9->selenium) (0.14.0)\n"
     ]
    }
   ],
   "source": [
    "!pip install selenium"
   ]
  },
  {
   "cell_type": "code",
   "execution_count": 2,
   "id": "c1062b0c",
   "metadata": {},
   "outputs": [],
   "source": [
    "#importing libraries\n",
    "import selenium\n",
    "import pandas as pd\n",
    "import time\n",
    "from bs4 import BeautifulSoup\n",
    "\n",
    "\n",
    "#importing selenium webdriver\n",
    "from selenium import webdriver\n",
    "\n",
    "#Importing required exception which needs to handled\n",
    "from selenium.common.exceptions import StaleElementReferenceException, NoSuchElementException\n",
    "\n",
    "#Importing requests\n",
    "import requests\n",
    "\n",
    "#import regex\n",
    "import re\n",
    "from selenium.webdriver.common.by import By\n",
    "\n",
    "import time\n",
    "\n",
    "import warnings\n",
    "warnings.filterwarnings('ignore')"
   ]
  },
  {
   "cell_type": "markdown",
   "id": "73993fd1",
   "metadata": {},
   "source": [
    "3. Write a python program to access the search bar and search button on images.google.com and scrape 10 \n",
    "images each for keywords ‘fruits’, ‘cars’ and ‘Machine Learning’, ‘Guitar’, ‘Cakes’. "
   ]
  },
  {
   "cell_type": "code",
   "execution_count": 21,
   "id": "cfe60bbe",
   "metadata": {},
   "outputs": [],
   "source": [
    "driver= webdriver.Chrome(r\"D:\\KN E D\\DS\\Internship\\chromedriver_win32.zip\\chromedriver.exe\")"
   ]
  },
  {
   "cell_type": "code",
   "execution_count": 22,
   "id": "acd22437",
   "metadata": {},
   "outputs": [],
   "source": [
    "driver.get(\"https://www.google.co.in/\")"
   ]
  },
  {
   "cell_type": "code",
   "execution_count": 23,
   "id": "964bba2d",
   "metadata": {},
   "outputs": [],
   "source": [
    "designation=driver.find_element(By.CLASS_NAME,\"gLFyf\")\n",
    "designation.send_keys('fruits')"
   ]
  },
  {
   "cell_type": "code",
   "execution_count": 24,
   "id": "a488a529",
   "metadata": {},
   "outputs": [],
   "source": [
    "search=driver.find_element(By.CLASS_NAME,\"gNO89b\")\n",
    "search.click()"
   ]
  },
  {
   "cell_type": "code",
   "execution_count": 26,
   "id": "62e3cada",
   "metadata": {},
   "outputs": [],
   "source": [
    "searchimg=driver.find_element(By.XPATH,\"/html/body/div[7]/div/div[4]/div/div[1]/div/div[1]/div/div[2]/a\")\n",
    "searchimg.click()"
   ]
  },
  {
   "cell_type": "code",
   "execution_count": 39,
   "id": "703513cf",
   "metadata": {},
   "outputs": [
    {
     "data": {
      "text/plain": [
       "63"
      ]
     },
     "execution_count": 39,
     "metadata": {},
     "output_type": "execute_result"
    }
   ],
   "source": [
    "for _ in range(20):\n",
    "    driver.execute_script(\"window.scrollBy(0,1000)\")\n",
    "    \n",
    "images = driver.find_elements(By.XPATH,'//img[@class=\"rg_i Q4LuWd\"]')\n",
    "\n",
    "img_urls = []\n",
    "img_data = []\n",
    "for image in images:\n",
    "    source= image.get_attribute('src')\n",
    "    if source is not None:\n",
    "        if(source[0:4] == 'http'):\n",
    "            img_urls.append(source)\n",
    "            \n",
    "len(img_urls)"
   ]
  },
  {
   "cell_type": "code",
   "execution_count": 49,
   "id": "ea0987d8",
   "metadata": {},
   "outputs": [
    {
     "name": "stdout",
     "output_type": "stream",
     "text": [
      "Downloading 0 of 10 images\n",
      "Downloading 1 of 10 images\n",
      "Downloading 2 of 10 images\n",
      "Downloading 3 of 10 images\n",
      "Downloading 4 of 10 images\n",
      "Downloading 5 of 10 images\n",
      "Downloading 6 of 10 images\n",
      "Downloading 7 of 10 images\n",
      "Downloading 8 of 10 images\n",
      "Downloading 9 of 10 images\n",
      "Downloading 10 of 10 images\n"
     ]
    }
   ],
   "source": [
    "#using the for loop for break the loop\n",
    "\n",
    "for i in range(len(img_urls)):\n",
    "    if i > 10:\n",
    "        break\n",
    "    print(\"Downloading {0} of {1} images\" .format(i, 10))\n",
    "    response= requests.get(img_urls[i])\n",
    "    file = open(r\"D:\\KN E D\\DS\\Internship\\Worksheet\"+str(i)+\".jpg\", \"wb\") #we have to download the images in that case we provide wb or re\n",
    "    file.write(response.content)"
   ]
  },
  {
   "cell_type": "markdown",
   "id": "a4485f0f",
   "metadata": {},
   "source": [
    "Cars"
   ]
  },
  {
   "cell_type": "code",
   "execution_count": 51,
   "id": "adee092b",
   "metadata": {},
   "outputs": [],
   "source": [
    "driver= webdriver.Chrome(r\"D:\\KN E D\\DS\\Internship\\chromedriver_win32.zip\\chromedriver.exe\")"
   ]
  },
  {
   "cell_type": "code",
   "execution_count": 52,
   "id": "b33ebb15",
   "metadata": {},
   "outputs": [],
   "source": [
    "driver.get(\"https://www.google.co.in/\")"
   ]
  },
  {
   "cell_type": "code",
   "execution_count": 53,
   "id": "9cd94aa8",
   "metadata": {},
   "outputs": [],
   "source": [
    "designation=driver.find_element(By.CLASS_NAME,\"gLFyf\")\n",
    "designation.send_keys('cars')"
   ]
  },
  {
   "cell_type": "code",
   "execution_count": 54,
   "id": "5d2bae56",
   "metadata": {},
   "outputs": [],
   "source": [
    "search=driver.find_element(By.CLASS_NAME,\"gNO89b\")\n",
    "search.click()"
   ]
  },
  {
   "cell_type": "code",
   "execution_count": 55,
   "id": "6eedf410",
   "metadata": {},
   "outputs": [],
   "source": [
    "searchimg=driver.find_element(By.XPATH,\"/html/body/div[7]/div/div[4]/div/div[1]/div/div[1]/div/div[2]/a\")\n",
    "searchimg.click()"
   ]
  },
  {
   "cell_type": "code",
   "execution_count": 67,
   "id": "6907316e",
   "metadata": {},
   "outputs": [
    {
     "name": "stdout",
     "output_type": "stream",
     "text": [
      "Downloading 0 of 10 images\n",
      "Downloading 1 of 10 images\n",
      "Downloading 2 of 10 images\n",
      "Downloading 3 of 10 images\n",
      "Downloading 4 of 10 images\n",
      "Downloading 5 of 10 images\n",
      "Downloading 6 of 10 images\n",
      "Downloading 7 of 10 images\n",
      "Downloading 8 of 10 images\n",
      "Downloading 9 of 10 images\n",
      "Downloading 10 of 10 images\n"
     ]
    }
   ],
   "source": [
    "for _ in range(20):\n",
    "    driver.execute_script(\"window.scrollBy(0,1000)\")\n",
    "    \n",
    "carimages = driver.find_elements(By.XPATH,'//img[@class=\"rg_i Q4LuWd\"]')\n",
    "\n",
    "carimg_urls = []\n",
    "carimg_data = []\n",
    "for image in carimages:\n",
    "    source= image.get_attribute('src')\n",
    "    if source is not None:\n",
    "        if(source[0:4] == 'http'):\n",
    "            carimg_urls.append(source)\n",
    "            \n",
    "for i in range(len(carimg_urls)):\n",
    "    if i > 10:\n",
    "        break\n",
    "    print(\"Downloading {0} of {1} images\" .format(i, 10))\n",
    "    response= requests.get(carimg_urls[i])\n",
    "    file = open(r\"D:\\KN E D\\DS\\Internship\\Worksheet\"+str(i)+\".jpg\", \"wb\") #we have to download the images in that case we provide wb or re\n",
    "    file.write(response.content)"
   ]
  },
  {
   "cell_type": "markdown",
   "id": "9077cc42",
   "metadata": {},
   "source": [
    "Machine learning"
   ]
  },
  {
   "cell_type": "code",
   "execution_count": 68,
   "id": "78da2a29",
   "metadata": {},
   "outputs": [],
   "source": [
    "driver= webdriver.Chrome(r\"D:\\KN E D\\DS\\Internship\\chromedriver_win32.zip\\chromedriver.exe\")"
   ]
  },
  {
   "cell_type": "code",
   "execution_count": 69,
   "id": "cad76c4b",
   "metadata": {},
   "outputs": [],
   "source": [
    "driver.get(\"https://www.google.co.in/\")"
   ]
  },
  {
   "cell_type": "code",
   "execution_count": 70,
   "id": "d2c75da9",
   "metadata": {},
   "outputs": [],
   "source": [
    "designation=driver.find_element(By.CLASS_NAME,\"gLFyf\")\n",
    "designation.send_keys('Machine learning')"
   ]
  },
  {
   "cell_type": "code",
   "execution_count": 71,
   "id": "26d43399",
   "metadata": {},
   "outputs": [],
   "source": [
    "search=driver.find_element(By.CLASS_NAME,\"gNO89b\")\n",
    "search.click()"
   ]
  },
  {
   "cell_type": "code",
   "execution_count": 72,
   "id": "174ef60c",
   "metadata": {},
   "outputs": [],
   "source": [
    "searchimg=driver.find_element(By.XPATH,\"/html/body/div[7]/div/div[4]/div/div[1]/div/div[1]/div/div[2]/a\")\n",
    "searchimg.click()"
   ]
  },
  {
   "cell_type": "code",
   "execution_count": 74,
   "id": "13b57918",
   "metadata": {},
   "outputs": [
    {
     "name": "stdout",
     "output_type": "stream",
     "text": [
      "Downloading 0 of 10 images\n",
      "Downloading 1 of 10 images\n",
      "Downloading 2 of 10 images\n",
      "Downloading 3 of 10 images\n",
      "Downloading 4 of 10 images\n",
      "Downloading 5 of 10 images\n",
      "Downloading 6 of 10 images\n",
      "Downloading 7 of 10 images\n",
      "Downloading 8 of 10 images\n",
      "Downloading 9 of 10 images\n",
      "Downloading 10 of 10 images\n"
     ]
    }
   ],
   "source": [
    "for _ in range(20):\n",
    "    driver.execute_script(\"window.scrollBy(0,1000)\")\n",
    "    \n",
    "MLimages = driver.find_elements(By.XPATH,'//img[@class=\"rg_i Q4LuWd\"]')\n",
    "\n",
    "MLimg_urls = []\n",
    "MLimg_data = []\n",
    "for image in MLimages:\n",
    "    source= image.get_attribute('src')\n",
    "    if source is not None:\n",
    "        if(source[0:4] == 'http'):\n",
    "            MLimg_urls.append(source)\n",
    "            \n",
    "for i in range(len(MLimg_urls)):\n",
    "    if i > 10:\n",
    "        break\n",
    "    print(\"Downloading {0} of {1} images\" .format(i, 10))\n",
    "    response= requests.get(MLimg_urls[i])\n",
    "    file = open(r\"D:\\KN E D\\DS\\Internship\\Worksheet\"+str(i)+\".jpg\", \"wb\") #we have to download the images in that case we provide wb or re\n",
    "    file.write(response.content)"
   ]
  },
  {
   "cell_type": "markdown",
   "id": "35cddbb0",
   "metadata": {},
   "source": [
    "Guitar"
   ]
  },
  {
   "cell_type": "code",
   "execution_count": 80,
   "id": "2aa9f1a6",
   "metadata": {},
   "outputs": [],
   "source": [
    "driver= webdriver.Chrome(r\"D:\\KN E D\\DS\\Internship\\chromedriver_win32.zip\\chromedriver.exe\")"
   ]
  },
  {
   "cell_type": "code",
   "execution_count": 81,
   "id": "cd295458",
   "metadata": {},
   "outputs": [],
   "source": [
    "driver.get(\"https://www.google.co.in/\")"
   ]
  },
  {
   "cell_type": "code",
   "execution_count": 82,
   "id": "4b170d2f",
   "metadata": {},
   "outputs": [],
   "source": [
    "designation=driver.find_element(By.CLASS_NAME,\"gLFyf\")\n",
    "designation.send_keys('Guitar')"
   ]
  },
  {
   "cell_type": "code",
   "execution_count": 83,
   "id": "c81c6c1f",
   "metadata": {},
   "outputs": [],
   "source": [
    "search=driver.find_element(By.CLASS_NAME,\"gNO89b\")\n",
    "search.click()"
   ]
  },
  {
   "cell_type": "code",
   "execution_count": 84,
   "id": "cefde1ab",
   "metadata": {},
   "outputs": [],
   "source": [
    "searchimg=driver.find_element(By.XPATH,\"/html/body/div[7]/div/div[4]/div/div[1]/div/div[1]/div/div[3]/a\")\n",
    "searchimg.click()"
   ]
  },
  {
   "cell_type": "code",
   "execution_count": 85,
   "id": "be8d2e7d",
   "metadata": {},
   "outputs": [
    {
     "name": "stdout",
     "output_type": "stream",
     "text": [
      "Downloading 0 of 10 images\n",
      "Downloading 1 of 10 images\n",
      "Downloading 2 of 10 images\n",
      "Downloading 3 of 10 images\n",
      "Downloading 4 of 10 images\n",
      "Downloading 5 of 10 images\n",
      "Downloading 6 of 10 images\n",
      "Downloading 7 of 10 images\n",
      "Downloading 8 of 10 images\n",
      "Downloading 9 of 10 images\n",
      "Downloading 10 of 10 images\n"
     ]
    }
   ],
   "source": [
    "for _ in range(20):\n",
    "    driver.execute_script(\"window.scrollBy(0,1000)\")\n",
    "    \n",
    "Gimages = driver.find_elements(By.XPATH,'//img[@class=\"rg_i Q4LuWd\"]')\n",
    "\n",
    "Gimg_urls = []\n",
    "Gimg_data = []\n",
    "for image in Gimages:\n",
    "    source= image.get_attribute('src')\n",
    "    if source is not None:\n",
    "        if(source[0:4] == 'http'):\n",
    "            Gimg_urls.append(source)\n",
    "            \n",
    "for i in range(len(Gimg_urls)):\n",
    "    if i > 10:\n",
    "        break\n",
    "    print(\"Downloading {0} of {1} images\" .format(i, 10))\n",
    "    response= requests.get(Gimg_urls[i])\n",
    "    file = open(r\"D:\\KN E D\\DS\\Internship\\Worksheet\"+str(i)+\".jpg\", \"wb\") #we have to download the images in that case we provide wb or re\n",
    "    file.write(response.content)"
   ]
  },
  {
   "cell_type": "markdown",
   "id": "7e1df42f",
   "metadata": {},
   "source": [
    "Cakes"
   ]
  },
  {
   "cell_type": "code",
   "execution_count": 86,
   "id": "f253a070",
   "metadata": {},
   "outputs": [],
   "source": [
    "driver= webdriver.Chrome(r\"D:\\KN E D\\DS\\Internship\\chromedriver_win32.zip\\chromedriver.exe\")"
   ]
  },
  {
   "cell_type": "code",
   "execution_count": 87,
   "id": "89484ec9",
   "metadata": {},
   "outputs": [],
   "source": [
    "driver.get(\"https://www.google.co.in/\")"
   ]
  },
  {
   "cell_type": "code",
   "execution_count": 88,
   "id": "132384d1",
   "metadata": {},
   "outputs": [],
   "source": [
    "designation=driver.find_element(By.CLASS_NAME,\"gLFyf\")\n",
    "designation.send_keys('Cakes')"
   ]
  },
  {
   "cell_type": "code",
   "execution_count": 89,
   "id": "48cfc11a",
   "metadata": {},
   "outputs": [],
   "source": [
    "search=driver.find_element(By.CLASS_NAME,\"gNO89b\")\n",
    "search.click()"
   ]
  },
  {
   "cell_type": "code",
   "execution_count": 90,
   "id": "3880bcc5",
   "metadata": {},
   "outputs": [],
   "source": [
    "searchimg=driver.find_element(By.XPATH,\"/html/body/div[7]/div/div[4]/div/div[1]/div/div[1]/div/div[2]/a\")\n",
    "searchimg.click()"
   ]
  },
  {
   "cell_type": "code",
   "execution_count": 91,
   "id": "6cd085c2",
   "metadata": {},
   "outputs": [
    {
     "name": "stdout",
     "output_type": "stream",
     "text": [
      "Downloading 0 of 10 images\n",
      "Downloading 1 of 10 images\n",
      "Downloading 2 of 10 images\n",
      "Downloading 3 of 10 images\n",
      "Downloading 4 of 10 images\n",
      "Downloading 5 of 10 images\n",
      "Downloading 6 of 10 images\n",
      "Downloading 7 of 10 images\n",
      "Downloading 8 of 10 images\n",
      "Downloading 9 of 10 images\n",
      "Downloading 10 of 10 images\n"
     ]
    }
   ],
   "source": [
    "for _ in range(20):\n",
    "    driver.execute_script(\"window.scrollBy(0,1000)\")\n",
    "    \n",
    "cakesimages = driver.find_elements(By.XPATH,'//img[@class=\"rg_i Q4LuWd\"]')\n",
    "\n",
    "cakesimg_urls = []\n",
    "cakesimg_data = []\n",
    "for image in cakesimages:\n",
    "    source= image.get_attribute('src')\n",
    "    if source is not None:\n",
    "        if(source[0:4] == 'http'):\n",
    "            cakesimg_urls.append(source)\n",
    "            \n",
    "for i in range(len(cakesimg_urls)):\n",
    "    if i > 10:\n",
    "        break\n",
    "    print(\"Downloading {0} of {1} images\" .format(i, 10))\n",
    "    response= requests.get(cakesimg_urls[i])\n",
    "    file = open(r\"D:\\KN E D\\DS\\Internship\\Worksheet\"+str(i)+\".jpg\", \"wb\") #we have to download the images in that case we provide wb or re\n",
    "    file.write(response.content)"
   ]
  },
  {
   "cell_type": "markdown",
   "id": "462e6847",
   "metadata": {},
   "source": [
    "# Q4"
   ]
  },
  {
   "cell_type": "markdown",
   "id": "304f5725",
   "metadata": {},
   "source": [
    "4. Write a python program to search for a smartphone(e.g.: Oneplus Nord, pixel 4A, etc.) on www.flipkart.com\n",
    "and scrape following details for all the search results displayed on 1st page. Details to be scraped: “Brand \n",
    "Name”, “Smartphone name”, “Colour”, “RAM”, “Storage(ROM)”, “Primary Camera”, \n",
    "“Secondary Camera”, “Display Size”, “Battery Capacity”, “Price”, “Product URL”. Incase if any of the \n",
    "details is missing then replace it by “- “. Save your results in a dataframe and CSV. "
   ]
  },
  {
   "cell_type": "code",
   "execution_count": 1,
   "id": "7e5e0eb1",
   "metadata": {},
   "outputs": [
    {
     "name": "stdout",
     "output_type": "stream",
     "text": [
      "Requirement already satisfied: selenium in c:\\users\\spectrum buildtech\\anaconda3\\lib\\site-packages (4.8.0)\n",
      "Requirement already satisfied: trio~=0.17 in c:\\users\\spectrum buildtech\\anaconda3\\lib\\site-packages (from selenium) (0.22.0)\n",
      "Requirement already satisfied: certifi>=2021.10.8 in c:\\users\\spectrum buildtech\\anaconda3\\lib\\site-packages (from selenium) (2021.10.8)\n",
      "Requirement already satisfied: urllib3[socks]~=1.26 in c:\\users\\spectrum buildtech\\anaconda3\\lib\\site-packages (from selenium) (1.26.9)\n",
      "Requirement already satisfied: trio-websocket~=0.9 in c:\\users\\spectrum buildtech\\anaconda3\\lib\\site-packages (from selenium) (0.9.2)\n",
      "Requirement already satisfied: attrs>=19.2.0 in c:\\users\\spectrum buildtech\\anaconda3\\lib\\site-packages (from trio~=0.17->selenium) (21.4.0)\n",
      "Requirement already satisfied: outcome in c:\\users\\spectrum buildtech\\anaconda3\\lib\\site-packages (from trio~=0.17->selenium) (1.2.0)\n",
      "Requirement already satisfied: exceptiongroup>=1.0.0rc9 in c:\\users\\spectrum buildtech\\anaconda3\\lib\\site-packages (from trio~=0.17->selenium) (1.1.0)\n",
      "Requirement already satisfied: idna in c:\\users\\spectrum buildtech\\anaconda3\\lib\\site-packages (from trio~=0.17->selenium) (3.3)\n",
      "Requirement already satisfied: sortedcontainers in c:\\users\\spectrum buildtech\\anaconda3\\lib\\site-packages (from trio~=0.17->selenium) (2.4.0)\n",
      "Requirement already satisfied: async-generator>=1.9 in c:\\users\\spectrum buildtech\\anaconda3\\lib\\site-packages (from trio~=0.17->selenium) (1.10)\n",
      "Requirement already satisfied: cffi>=1.14 in c:\\users\\spectrum buildtech\\anaconda3\\lib\\site-packages (from trio~=0.17->selenium) (1.15.0)\n",
      "Requirement already satisfied: sniffio in c:\\users\\spectrum buildtech\\anaconda3\\lib\\site-packages (from trio~=0.17->selenium) (1.2.0)\n",
      "Requirement already satisfied: pycparser in c:\\users\\spectrum buildtech\\anaconda3\\lib\\site-packages (from cffi>=1.14->trio~=0.17->selenium) (2.21)\n",
      "Requirement already satisfied: wsproto>=0.14 in c:\\users\\spectrum buildtech\\anaconda3\\lib\\site-packages (from trio-websocket~=0.9->selenium) (1.2.0)\n",
      "Requirement already satisfied: PySocks!=1.5.7,<2.0,>=1.5.6 in c:\\users\\spectrum buildtech\\anaconda3\\lib\\site-packages (from urllib3[socks]~=1.26->selenium) (1.7.1)\n",
      "Requirement already satisfied: h11<1,>=0.9.0 in c:\\users\\spectrum buildtech\\anaconda3\\lib\\site-packages (from wsproto>=0.14->trio-websocket~=0.9->selenium) (0.14.0)\n"
     ]
    }
   ],
   "source": [
    "!pip install selenium"
   ]
  },
  {
   "cell_type": "code",
   "execution_count": 2,
   "id": "af223c5e",
   "metadata": {},
   "outputs": [],
   "source": [
    "#importing libraries\n",
    "import selenium\n",
    "import pandas as pd\n",
    "import time\n",
    "from bs4 import BeautifulSoup\n",
    "\n",
    "\n",
    "#importing selenium webdriver\n",
    "from selenium import webdriver\n",
    "\n",
    "#Importing required exception which needs to handled\n",
    "from selenium.common.exceptions import StaleElementReferenceException, NoSuchElementException\n",
    "\n",
    "#Importing requests\n",
    "import requests\n",
    "\n",
    "#import regex\n",
    "import re\n",
    "from selenium.webdriver.common.by import By\n",
    "\n",
    "import time\n",
    "\n",
    "import warnings\n",
    "warnings.filterwarnings('ignore')"
   ]
  },
  {
   "cell_type": "code",
   "execution_count": 41,
   "id": "8bdea3c9",
   "metadata": {},
   "outputs": [],
   "source": [
    "driver= webdriver.Chrome(r\"D:\\KN E D\\DS\\Internship\\chromedriver_win32.zip\\chromedriver.exe\")"
   ]
  },
  {
   "cell_type": "code",
   "execution_count": 42,
   "id": "716ec19c",
   "metadata": {},
   "outputs": [],
   "source": [
    "driver.get(\"https://www.flipkart.com/\")"
   ]
  },
  {
   "cell_type": "code",
   "execution_count": 43,
   "id": "b0fbf2a7",
   "metadata": {},
   "outputs": [],
   "source": [
    "Psearch=driver.find_element(By.CLASS_NAME,\"_3704LK\")\n",
    "Psearch.send_keys('Oneplus Nord')"
   ]
  },
  {
   "cell_type": "code",
   "execution_count": 44,
   "id": "b08022e6",
   "metadata": {},
   "outputs": [],
   "source": [
    "search=driver.find_element(By.CLASS_NAME,\"L0Z3Pu\")\n",
    "search.click()"
   ]
  },
  {
   "cell_type": "code",
   "execution_count": 45,
   "id": "78d3f75d",
   "metadata": {},
   "outputs": [],
   "source": [
    "#fetching url to open each job\n",
    "job_opening_url = []\n",
    "start=0\n",
    "end=1\n",
    "for page in range(start,end):\n",
    "    url= driver.find_elements(By.XPATH,'//a[@class=\"_1fQZEK\"]')\n",
    "    for i in url:\n",
    "        job_opening_url.append(i.get_attribute('href'))#to retrive any link we use get_attribute\n",
    "    next_button=driver.find_elements(By.XPATH,\"/html/body/div[1]/div/div[3]/div[1]/div[2]/div[26]/div/div/nav/a[3]\")"
   ]
  },
  {
   "cell_type": "code",
   "execution_count": 46,
   "id": "2f8f5aed",
   "metadata": {},
   "outputs": [
    {
     "data": {
      "text/plain": [
       "24"
      ]
     },
     "execution_count": 46,
     "metadata": {},
     "output_type": "execute_result"
    }
   ],
   "source": [
    "len(job_opening_url)"
   ]
  },
  {
   "cell_type": "code",
   "execution_count": 47,
   "id": "c3cd1842",
   "metadata": {},
   "outputs": [
    {
     "data": {
      "text/plain": [
       "['https://www.flipkart.com/oneplus-nord-ce-2-lite-5g-blue-tide-128-gb/p/itm7acae55b999e6?pid=MOBGMFREBAHZQGY9&lid=LSTMOBGMFREBAHZQGY9IP1D4X&marketplace=FLIPKART&q=Oneplus+Nord&store=tyy%2F4io&srno=s_1_1&otracker=search&otracker1=search&iid=41fed907-86be-462c-8cec-64a194fcac6c.MOBGMFREBAHZQGY9.SEARCH&ssid=xuu04co9xc0000001677995617455&qH=53863d4d978d5074',\n",
       " 'https://www.flipkart.com/oneplus-nord-ce-2-lite-5g-black-dusk-128-gb/p/itm537fc2aa73747?pid=MOBGHBZHB7YJT5HF&lid=LSTMOBGHBZHB7YJT5HFQ1BZJD&marketplace=FLIPKART&q=Oneplus+Nord&store=tyy%2F4io&srno=s_1_2&otracker=search&otracker1=search&iid=41fed907-86be-462c-8cec-64a194fcac6c.MOBGHBZHB7YJT5HF.SEARCH&ssid=xuu04co9xc0000001677995617455&qH=53863d4d978d5074',\n",
       " 'https://www.flipkart.com/oneplus-nord-ce-5g-silver-ray-256-gb/p/itmc4c02029d9c90?pid=MOBGDM5SUVH9VMZD&lid=LSTMOBGDM5SUVH9VMZD8R82FH&marketplace=FLIPKART&q=Oneplus+Nord&store=tyy%2F4io&srno=s_1_3&otracker=search&otracker1=search&iid=41fed907-86be-462c-8cec-64a194fcac6c.MOBGDM5SUVH9VMZD.SEARCH&ssid=xuu04co9xc0000001677995617455&qH=53863d4d978d5074',\n",
       " 'https://www.flipkart.com/oneplus-nord-ce-5g-charcoal-ink-128-gb/p/itmc4c02029d9c90?pid=MOBGDM4D6RNZR2SA&lid=LSTMOBGDM4D6RNZR2SA9QQN6E&marketplace=FLIPKART&q=Oneplus+Nord&store=tyy%2F4io&srno=s_1_4&otracker=search&otracker1=search&iid=41fed907-86be-462c-8cec-64a194fcac6c.MOBGDM4D6RNZR2SA.SEARCH&ssid=xuu04co9xc0000001677995617455&qH=53863d4d978d5074',\n",
       " 'https://www.flipkart.com/oneplus-nord-2t-5g-jade-fog-128-gb/p/itm31ac32e308282?pid=MOBGHBZHFAUYKH3U&lid=LSTMOBGHBZHFAUYKH3UBOO0MO&marketplace=FLIPKART&q=Oneplus+Nord&store=tyy%2F4io&srno=s_1_5&otracker=search&otracker1=search&iid=41fed907-86be-462c-8cec-64a194fcac6c.MOBGHBZHFAUYKH3U.SEARCH&ssid=xuu04co9xc0000001677995617455&qH=53863d4d978d5074',\n",
       " 'https://www.flipkart.com/oneplus-nord-2-5g-gray-sierra-128-gb/p/itmd16c63dadf5c5?pid=MOBGDBFFA5EGECHQ&lid=LSTMOBGDBFFA5EGECHQQKVBBR&marketplace=FLIPKART&q=Oneplus+Nord&store=tyy%2F4io&srno=s_1_6&otracker=search&otracker1=search&iid=41fed907-86be-462c-8cec-64a194fcac6c.MOBGDBFFA5EGECHQ.SEARCH&ssid=xuu04co9xc0000001677995617455&qH=53863d4d978d5074',\n",
       " 'https://www.flipkart.com/oneplus-nord-ce-2-lite-5g-blue-tide-128-gb/p/itm7acae55b999e6?pid=MOBGHBNGY5NDH3GV&lid=LSTMOBGHBNGY5NDH3GVBYKQXG&marketplace=FLIPKART&q=Oneplus+Nord&store=tyy%2F4io&srno=s_1_7&otracker=search&otracker1=search&iid=41fed907-86be-462c-8cec-64a194fcac6c.MOBGHBNGY5NDH3GV.SEARCH&ssid=xuu04co9xc0000001677995617455&qH=53863d4d978d5074',\n",
       " 'https://www.flipkart.com/oneplus-nord-ce-5g-blue-void-256-gb/p/itmc4c02029d9c90?pid=MOBGDTZ8HJVDQZSN&lid=LSTMOBGDTZ8HJVDQZSNMTRPQK&marketplace=FLIPKART&q=Oneplus+Nord&store=tyy%2F4io&srno=s_1_8&otracker=search&otracker1=search&iid=41fed907-86be-462c-8cec-64a194fcac6c.MOBGDTZ8HJVDQZSN.SEARCH&ssid=xuu04co9xc0000001677995617455&qH=53863d4d978d5074',\n",
       " 'https://www.flipkart.com/oneplus-nord-ce-5g-charcoal-ink-256-gb/p/itmc4c02029d9c90?pid=MOBGDM4JGS4AUQRN&lid=LSTMOBGDM4JGS4AUQRNGASBBY&marketplace=FLIPKART&q=Oneplus+Nord&store=tyy%2F4io&srno=s_1_9&otracker=search&otracker1=search&iid=41fed907-86be-462c-8cec-64a194fcac6c.MOBGDM4JGS4AUQRN.SEARCH&ssid=xuu04co9xc0000001677995617455&qH=53863d4d978d5074',\n",
       " 'https://www.flipkart.com/oneplus-nord-ce-2-lite-5g-black-dusk-128-gb/p/itmc56272cceee9d?pid=MOBGHBZHQMNV4KKS&lid=LSTMOBGHBZHQMNV4KKSZIAZ1Z&marketplace=FLIPKART&q=Oneplus+Nord&store=tyy%2F4io&srno=s_1_10&otracker=search&otracker1=search&iid=41fed907-86be-462c-8cec-64a194fcac6c.MOBGHBZHQMNV4KKS.SEARCH&ssid=xuu04co9xc0000001677995617455&qH=53863d4d978d5074',\n",
       " 'https://www.flipkart.com/oneplus-nord-2t-5g-gray-shadow-128-gb/p/itmeadf76c1e8943?pid=MOBGHBZH2S8MWQGQ&lid=LSTMOBGHBZH2S8MWQGQ4WO33L&marketplace=FLIPKART&q=Oneplus+Nord&store=tyy%2F4io&srno=s_1_11&otracker=search&otracker1=search&iid=41fed907-86be-462c-8cec-64a194fcac6c.MOBGHBZH2S8MWQGQ.SEARCH&ssid=xuu04co9xc0000001677995617455&qH=53863d4d978d5074',\n",
       " 'https://www.flipkart.com/oneplus-nord-2-5g-blue-haze-256-gb/p/itmd16c63dadf5c5?pid=MOBGDBFHW7596ZTU&lid=LSTMOBGDBFHW7596ZTUTRT8EP&marketplace=FLIPKART&q=Oneplus+Nord&store=tyy%2F4io&srno=s_1_12&otracker=search&otracker1=search&iid=41fed907-86be-462c-8cec-64a194fcac6c.MOBGDBFHW7596ZTU.SEARCH&ssid=xuu04co9xc0000001677995617455&qH=53863d4d978d5074',\n",
       " 'https://www.flipkart.com/oneplus-nord-2-5g-blue-haze-128-gb/p/itmd16c63dadf5c5?pid=MOBGDBFJXFJPVWKA&lid=LSTMOBGDBFJXFJPVWKA9WW7RD&marketplace=FLIPKART&q=Oneplus+Nord&store=tyy%2F4io&srno=s_1_13&otracker=search&otracker1=search&iid=41fed907-86be-462c-8cec-64a194fcac6c.MOBGDBFJXFJPVWKA.SEARCH&ssid=xuu04co9xc0000001677995617455&qH=53863d4d978d5074',\n",
       " 'https://www.flipkart.com/oneplus-nord-ce-2-5g-gray-mirror-128-gb/p/itm33d69f9705a3d?pid=MOBGHHZGCZHJR938&lid=LSTMOBGHHZGCZHJR938SOVHYZ&marketplace=FLIPKART&q=Oneplus+Nord&store=tyy%2F4io&srno=s_1_14&otracker=search&otracker1=search&iid=41fed907-86be-462c-8cec-64a194fcac6c.MOBGHHZGCZHJR938.SEARCH&ssid=xuu04co9xc0000001677995617455&qH=53863d4d978d5074',\n",
       " 'https://www.flipkart.com/oneplus-nord-ce-5g-charcoal-ink-128-gb/p/itmc4c02029d9c90?pid=MOBGDM46BMYENNJN&lid=LSTMOBGDM46BMYENNJNXCWS2A&marketplace=FLIPKART&q=Oneplus+Nord&store=tyy%2F4io&srno=s_1_15&otracker=search&otracker1=search&iid=41fed907-86be-462c-8cec-64a194fcac6c.MOBGDM46BMYENNJN.SEARCH&ssid=xuu04co9xc0000001677995617455&qH=53863d4d978d5074',\n",
       " 'https://www.flipkart.com/oneplus-nord-ce-5g-silver-ray-128-gb/p/itmc4c02029d9c90?pid=MOBGDM57QA9WVYBK&lid=LSTMOBGDM57QA9WVYBK9RKH07&marketplace=FLIPKART&q=Oneplus+Nord&store=tyy%2F4io&srno=s_1_16&otracker=search&otracker1=search&iid=41fed907-86be-462c-8cec-64a194fcac6c.MOBGDM57QA9WVYBK.SEARCH&ssid=xuu04co9xc0000001677995617455&qH=53863d4d978d5074',\n",
       " 'https://www.flipkart.com/oneplus-nord-ce-5g-blue-void-128-gb/p/itmc4c02029d9c90?pid=MOBGDM4QYUZKNAR4&lid=LSTMOBGDM4QYUZKNAR4TI51KT&marketplace=FLIPKART&q=Oneplus+Nord&store=tyy%2F4io&srno=s_1_17&otracker=search&otracker1=search&iid=41fed907-86be-462c-8cec-64a194fcac6c.MOBGDM4QYUZKNAR4.SEARCH&ssid=xuu04co9xc0000001677995617455&qH=53863d4d978d5074',\n",
       " 'https://www.flipkart.com/oneplus-nord-ce-5g-silver-gray-128-gb/p/itmc4c02029d9c90?pid=MOBGDM5FDYUKKJQG&lid=LSTMOBGDM5FDYUKKJQGJNGKMI&marketplace=FLIPKART&q=Oneplus+Nord&store=tyy%2F4io&srno=s_1_18&otracker=search&otracker1=search&iid=41fed907-86be-462c-8cec-64a194fcac6c.MOBGDM5FDYUKKJQG.SEARCH&ssid=xuu04co9xc0000001677995617455&qH=53863d4d978d5074',\n",
       " 'https://www.flipkart.com/oneplus-nord-ce-2-5g-bahama-blue-128-gb/p/itm2a9883679c57c?pid=MOBGJMUH64MTF6PK&lid=LSTMOBGJMUH64MTF6PKUUE9II&marketplace=FLIPKART&q=Oneplus+Nord&store=tyy%2F4io&srno=s_1_19&otracker=search&otracker1=search&iid=41fed907-86be-462c-8cec-64a194fcac6c.MOBGJMUH64MTF6PK.SEARCH&ssid=xuu04co9xc0000001677995617455&qH=53863d4d978d5074',\n",
       " 'https://www.flipkart.com/oneplus-nord-ce-2-5g-gray-mirror-128-gb/p/itm4644f5bbeb9bb?pid=MOBGKN6FDR7TNMHS&lid=LSTMOBGKN6FDR7TNMHSL5NRW1&marketplace=FLIPKART&q=Oneplus+Nord&store=tyy%2F4io&srno=s_1_20&otracker=search&otracker1=search&iid=41fed907-86be-462c-8cec-64a194fcac6c.MOBGKN6FDR7TNMHS.SEARCH&ssid=xuu04co9xc0000001677995617455&qH=53863d4d978d5074',\n",
       " 'https://www.flipkart.com/oneplus-nord-2t-5g-jade-fog-256-gb/p/itm97eda8b1a1566?pid=MOBGHBZHF4YCMGZY&lid=LSTMOBGHBZHF4YCMGZYFNFMJN&marketplace=FLIPKART&q=Oneplus+Nord&store=tyy%2F4io&srno=s_1_21&otracker=search&otracker1=search&iid=41fed907-86be-462c-8cec-64a194fcac6c.MOBGHBZHF4YCMGZY.SEARCH&ssid=xuu04co9xc0000001677995617455&qH=53863d4d978d5074',\n",
       " 'https://www.flipkart.com/oneplus-nord-2t-5g-gray-shadow-256-gb/p/itm97eda8b1a1566?pid=MOBGHBZHNPGQGXJY&lid=LSTMOBGHBZHNPGQGXJYJMMJOA&marketplace=FLIPKART&q=Oneplus+Nord&store=tyy%2F4io&srno=s_1_22&otracker=search&otracker1=search&iid=41fed907-86be-462c-8cec-64a194fcac6c.MOBGHBZHNPGQGXJY.SEARCH&ssid=xuu04co9xc0000001677995617455&qH=53863d4d978d5074',\n",
       " 'https://www.flipkart.com/oneplus-nord-ce-2-5g-bahama-blue-128-gb/p/itm33d69f9705a3d?pid=MOBGHHZ6GTKRDZZR&lid=LSTMOBGHHZ6GTKRDZZR3GAIUV&marketplace=FLIPKART&q=Oneplus+Nord&store=tyy%2F4io&srno=s_1_23&otracker=search&otracker1=search&iid=41fed907-86be-462c-8cec-64a194fcac6c.MOBGHHZ6GTKRDZZR.SEARCH&ssid=xuu04co9xc0000001677995617455&qH=53863d4d978d5074',\n",
       " 'https://www.flipkart.com/oneplus-nord-ce-5g-blue-void-128-gb/p/itmd6dcbd8116ed1?pid=MOBGDM4UUD2FDBPH&lid=LSTMOBGDM4UUD2FDBPHAJNBM9&marketplace=FLIPKART&q=Oneplus+Nord&store=tyy%2F4io&srno=s_1_24&otracker=search&otracker1=search&iid=41fed907-86be-462c-8cec-64a194fcac6c.MOBGDM4UUD2FDBPH.SEARCH&ssid=xuu04co9xc0000001677995617455&qH=53863d4d978d5074']"
      ]
     },
     "execution_count": 47,
     "metadata": {},
     "output_type": "execute_result"
    }
   ],
   "source": [
    "job_opening_url"
   ]
  },
  {
   "cell_type": "code",
   "execution_count": 48,
   "id": "5775ef9a",
   "metadata": {},
   "outputs": [],
   "source": [
    "Msearch=driver.find_element(By.CLASS_NAME,\"_1fQZEK\")\n",
    "Msearch.click()"
   ]
  },
  {
   "cell_type": "code",
   "execution_count": 49,
   "id": "7e20bc54",
   "metadata": {},
   "outputs": [
    {
     "ename": "AttributeError",
     "evalue": "'list' object has no attribute 'click'",
     "output_type": "error",
     "traceback": [
      "\u001b[1;31m---------------------------------------------------------------------------\u001b[0m",
      "\u001b[1;31mAttributeError\u001b[0m                            Traceback (most recent call last)",
      "Input \u001b[1;32mIn [49]\u001b[0m, in \u001b[0;36m<cell line: 2>\u001b[1;34m()\u001b[0m\n\u001b[0;32m      1\u001b[0m Read_More\u001b[38;5;241m=\u001b[39mdriver\u001b[38;5;241m.\u001b[39mfind_elements(By\u001b[38;5;241m.\u001b[39mXPATH,\u001b[38;5;124m\"\u001b[39m\u001b[38;5;124m/html/body/div[1]/div/div[3]/div[1]/div[2]/div[7]/div[4]/div/div[2]/button\u001b[39m\u001b[38;5;124m\"\u001b[39m)\n\u001b[1;32m----> 2\u001b[0m \u001b[43mRead_More\u001b[49m\u001b[38;5;241;43m.\u001b[39;49m\u001b[43mclick\u001b[49m()\n",
      "\u001b[1;31mAttributeError\u001b[0m: 'list' object has no attribute 'click'"
     ]
    }
   ],
   "source": [
    "Read_More=driver.find_elements(By.XPATH,\"/html/body/div[1]/div/div[3]/div[1]/div[2]/div[7]/div[4]/div/div[2]/button\")\n",
    "Read_More.click()"
   ]
  },
  {
   "cell_type": "code",
   "execution_count": 50,
   "id": "60c1c992",
   "metadata": {},
   "outputs": [],
   "source": [
    "BrandName=[]  #creating an empty list\n",
    "Colour=[]\n",
    "RAM=[]\n",
    "ROM=[]\n",
    "Primarycamera=[]\n",
    "Displaysize=[]\n",
    "Batterycapacity=[]\n",
    "Price=[]\n",
    "\n",
    "\n",
    "for i in job_opening_url: #iterating over each and every url to fetch job titles\n",
    "    driver.get(i)    # Taking each url one by one as an input\n",
    "    time.sleep(5)\n",
    "    try:\n",
    "        brand = driver.find_element(By.XPATH,'/html/body/div[1]/div/div[3]/div[1]/div[2]/div[2]/div/div/div/a/div[2]/div[1]/div[1]')\n",
    "        BrandName.append(brand.text)\n",
    "    except NoSuchElementException:\n",
    "        BrandName.append('-')\n",
    "        \n",
    "        \n",
    "for i in job_opening_url: #iterating over each and every url to fetch job titles\n",
    "    driver.get(i)    # Taking each url one by one as an input\n",
    "    time.sleep(5)\n",
    "    try:\n",
    "        Mcolour = driver.find_element(By.XPATH,'/html/body/div[1]/div/div[3]/div[1]/div[2]/div[7]/div[4]/div/div[2]/div/div[1]/table/tbody/tr[4]/td[2]/ul/li')\n",
    "        Colour.append(Mcolour.text)\n",
    "    except NoSuchElementException:\n",
    "        Colour.append('-')\n",
    "        \n",
    "for i in job_opening_url: #iterating over each and every url to fetch job titles\n",
    "    driver.get(i)    # Taking each url one by one as an input\n",
    "    time.sleep(5)\n",
    "    try:\n",
    "        MRAM = driver.find_element(By.XPATH,'/html/body/div[1]/div/div[3]/div[1]/div[2]/div[2]/div/div/div/a/div[2]/div[1]/div[3]/ul/li[1]')\n",
    "        RAM.append(MRAM.text)\n",
    "    except NoSuchElementException:\n",
    "        RAM.append('-')\n",
    "        \n",
    "        \n",
    "for i in job_opening_url: #iterating over each and every url to fetch job titles\n",
    "    driver.get(i)    # Taking each url one by one as an input\n",
    "    time.sleep(5)\n",
    "    try:\n",
    "        MROM = driver.find_element(By.XPATH,'/html/body/div[1]/div/div[3]/div[1]/div[2]/div[2]/div/div/div/a/div[2]/div[1]/div[3]/ul/li[1]')\n",
    "        ROM.append(MROM.text)\n",
    "    except NoSuchElementException:\n",
    "        ROM.append('-') \n",
    "        \n",
    "        \n",
    "for i in job_opening_url: #iterating over each and every url to fetch job titles\n",
    "    driver.get(i)    # Taking each url one by one as an input\n",
    "    time.sleep(5)\n",
    "    try:\n",
    "        MPC = driver.find_element(By.XPATH,'/html/body/div[1]/div/div[3]/div[1]/div[2]/div[2]/div/div/div/a/div[2]/div[1]/div[3]/ul/li[3]')\n",
    "        Primarycamera.append(MPC.text)\n",
    "    except NoSuchElementException:\n",
    "        Primarycamera.append('-')\n",
    "        \n",
    "        \n",
    "for i in job_opening_url: #iterating over each and every url to fetch job titles\n",
    "    driver.get(i)    # Taking each url one by one as an input\n",
    "    time.sleep(5)\n",
    "    try:\n",
    "        MDS = driver.find_element(By.XPATH,'/html/body/div[1]/div/div[3]/div[1]/div[2]/div[2]/div/div/div/a/div[2]/div[1]/div[3]/ul/li[2]')\n",
    "        Displaysize.append(MDS.text)\n",
    "    except NoSuchElementException:\n",
    "        Displaysize.append('-')\n",
    "        \n",
    "for i in job_opening_url: #iterating over each and every url to fetch job titles\n",
    "    driver.get(i)    # Taking each url one by one as an input\n",
    "    time.sleep(5)\n",
    "    try:\n",
    "        BC = driver.find_element(By.XPATH,'/html/body/div[1]/div/div[3]/div[1]/div[2]/div[2]/div/div/div/a/div[2]/div[1]/div[3]/ul/li[4]')\n",
    "        Batterycapacity.append(BC.text)\n",
    "    except NoSuchElementException:\n",
    "        Batterycapacity.append('-')\n",
    "        \n",
    "        \n",
    "for i in job_opening_url: #iterating over each and every url to fetch job titles\n",
    "    driver.get(i)    # Taking each url one by one as an input\n",
    "    time.sleep(5)\n",
    "    try:\n",
    "        MP = driver.find_element(By.XPATH,'/html/body/div[1]/div/div[3]/div[1]/div[2]/div[2]/div/div/div/a/div[2]/div[2]/div[1]/div[1]/div[1]')\n",
    "        Price.append(MP.text)\n",
    "    except NoSuchElementException:\n",
    "        Price.append('-')        \n",
    "        \n",
    "        "
   ]
  },
  {
   "cell_type": "code",
   "execution_count": null,
   "id": "60134757",
   "metadata": {},
   "outputs": [],
   "source": [
    "BrandName=[]  #creating an empty list\n",
    "Colour=[]\n",
    "RAM=[]\n",
    "ROM=[]\n",
    "Primarycamera=[]\n",
    "Displaysize=[]\n",
    "Batterycapacity=[]\n",
    "Price=[]"
   ]
  },
  {
   "cell_type": "code",
   "execution_count": 51,
   "id": "e9d8d998",
   "metadata": {},
   "outputs": [
    {
     "name": "stdout",
     "output_type": "stream",
     "text": [
      "24 24 24 24 24 24 24 24\n"
     ]
    }
   ],
   "source": [
    "print(len(BrandName),len(Colour),len(RAM),len(ROM),len(Primarycamera),len(Displaysize),len(Batterycapacity),len(Price))\n"
   ]
  },
  {
   "cell_type": "code",
   "execution_count": 53,
   "id": "2a350f30",
   "metadata": {},
   "outputs": [
    {
     "data": {
      "text/html": [
       "<div>\n",
       "<style scoped>\n",
       "    .dataframe tbody tr th:only-of-type {\n",
       "        vertical-align: middle;\n",
       "    }\n",
       "\n",
       "    .dataframe tbody tr th {\n",
       "        vertical-align: top;\n",
       "    }\n",
       "\n",
       "    .dataframe thead th {\n",
       "        text-align: right;\n",
       "    }\n",
       "</style>\n",
       "<table border=\"1\" class=\"dataframe\">\n",
       "  <thead>\n",
       "    <tr style=\"text-align: right;\">\n",
       "      <th></th>\n",
       "      <th>BrandName</th>\n",
       "      <th>Colour</th>\n",
       "      <th>RAM</th>\n",
       "      <th>ROM</th>\n",
       "      <th>Primarycamera</th>\n",
       "      <th>Displaysize</th>\n",
       "      <th>Batterycapacity</th>\n",
       "      <th>Price</th>\n",
       "      <th>job_opening_url</th>\n",
       "    </tr>\n",
       "  </thead>\n",
       "  <tbody>\n",
       "    <tr>\n",
       "      <th>0</th>\n",
       "      <td>-</td>\n",
       "      <td>Blue Tide</td>\n",
       "      <td>-</td>\n",
       "      <td>-</td>\n",
       "      <td>-</td>\n",
       "      <td>-</td>\n",
       "      <td>-</td>\n",
       "      <td>-</td>\n",
       "      <td>https://www.flipkart.com/oneplus-nord-ce-2-lit...</td>\n",
       "    </tr>\n",
       "    <tr>\n",
       "      <th>1</th>\n",
       "      <td>-</td>\n",
       "      <td>-</td>\n",
       "      <td>-</td>\n",
       "      <td>-</td>\n",
       "      <td>-</td>\n",
       "      <td>-</td>\n",
       "      <td>-</td>\n",
       "      <td>-</td>\n",
       "      <td>https://www.flipkart.com/oneplus-nord-ce-2-lit...</td>\n",
       "    </tr>\n",
       "    <tr>\n",
       "      <th>2</th>\n",
       "      <td>-</td>\n",
       "      <td>Silver Ray</td>\n",
       "      <td>-</td>\n",
       "      <td>-</td>\n",
       "      <td>-</td>\n",
       "      <td>-</td>\n",
       "      <td>-</td>\n",
       "      <td>-</td>\n",
       "      <td>https://www.flipkart.com/oneplus-nord-ce-5g-si...</td>\n",
       "    </tr>\n",
       "    <tr>\n",
       "      <th>3</th>\n",
       "      <td>-</td>\n",
       "      <td>-</td>\n",
       "      <td>-</td>\n",
       "      <td>-</td>\n",
       "      <td>-</td>\n",
       "      <td>-</td>\n",
       "      <td>-</td>\n",
       "      <td>-</td>\n",
       "      <td>https://www.flipkart.com/oneplus-nord-ce-5g-ch...</td>\n",
       "    </tr>\n",
       "    <tr>\n",
       "      <th>4</th>\n",
       "      <td>-</td>\n",
       "      <td>-</td>\n",
       "      <td>-</td>\n",
       "      <td>-</td>\n",
       "      <td>-</td>\n",
       "      <td>-</td>\n",
       "      <td>-</td>\n",
       "      <td>-</td>\n",
       "      <td>https://www.flipkart.com/oneplus-nord-2t-5g-ja...</td>\n",
       "    </tr>\n",
       "    <tr>\n",
       "      <th>5</th>\n",
       "      <td>-</td>\n",
       "      <td>-</td>\n",
       "      <td>-</td>\n",
       "      <td>-</td>\n",
       "      <td>-</td>\n",
       "      <td>-</td>\n",
       "      <td>-</td>\n",
       "      <td>-</td>\n",
       "      <td>https://www.flipkart.com/oneplus-nord-2-5g-gra...</td>\n",
       "    </tr>\n",
       "    <tr>\n",
       "      <th>6</th>\n",
       "      <td>-</td>\n",
       "      <td>-</td>\n",
       "      <td>-</td>\n",
       "      <td>-</td>\n",
       "      <td>-</td>\n",
       "      <td>-</td>\n",
       "      <td>-</td>\n",
       "      <td>-</td>\n",
       "      <td>https://www.flipkart.com/oneplus-nord-ce-2-lit...</td>\n",
       "    </tr>\n",
       "    <tr>\n",
       "      <th>7</th>\n",
       "      <td>-</td>\n",
       "      <td>-</td>\n",
       "      <td>-</td>\n",
       "      <td>-</td>\n",
       "      <td>-</td>\n",
       "      <td>-</td>\n",
       "      <td>-</td>\n",
       "      <td>-</td>\n",
       "      <td>https://www.flipkart.com/oneplus-nord-ce-5g-bl...</td>\n",
       "    </tr>\n",
       "    <tr>\n",
       "      <th>8</th>\n",
       "      <td>-</td>\n",
       "      <td>-</td>\n",
       "      <td>-</td>\n",
       "      <td>-</td>\n",
       "      <td>-</td>\n",
       "      <td>-</td>\n",
       "      <td>-</td>\n",
       "      <td>-</td>\n",
       "      <td>https://www.flipkart.com/oneplus-nord-ce-5g-ch...</td>\n",
       "    </tr>\n",
       "    <tr>\n",
       "      <th>9</th>\n",
       "      <td>-</td>\n",
       "      <td>-</td>\n",
       "      <td>-</td>\n",
       "      <td>-</td>\n",
       "      <td>-</td>\n",
       "      <td>-</td>\n",
       "      <td>-</td>\n",
       "      <td>-</td>\n",
       "      <td>https://www.flipkart.com/oneplus-nord-ce-2-lit...</td>\n",
       "    </tr>\n",
       "    <tr>\n",
       "      <th>10</th>\n",
       "      <td>-</td>\n",
       "      <td>-</td>\n",
       "      <td>-</td>\n",
       "      <td>-</td>\n",
       "      <td>-</td>\n",
       "      <td>-</td>\n",
       "      <td>-</td>\n",
       "      <td>-</td>\n",
       "      <td>https://www.flipkart.com/oneplus-nord-2t-5g-gr...</td>\n",
       "    </tr>\n",
       "    <tr>\n",
       "      <th>11</th>\n",
       "      <td>-</td>\n",
       "      <td>-</td>\n",
       "      <td>-</td>\n",
       "      <td>-</td>\n",
       "      <td>-</td>\n",
       "      <td>-</td>\n",
       "      <td>-</td>\n",
       "      <td>-</td>\n",
       "      <td>https://www.flipkart.com/oneplus-nord-2-5g-blu...</td>\n",
       "    </tr>\n",
       "    <tr>\n",
       "      <th>12</th>\n",
       "      <td>-</td>\n",
       "      <td>-</td>\n",
       "      <td>-</td>\n",
       "      <td>-</td>\n",
       "      <td>-</td>\n",
       "      <td>-</td>\n",
       "      <td>-</td>\n",
       "      <td>-</td>\n",
       "      <td>https://www.flipkart.com/oneplus-nord-2-5g-blu...</td>\n",
       "    </tr>\n",
       "    <tr>\n",
       "      <th>13</th>\n",
       "      <td>-</td>\n",
       "      <td>-</td>\n",
       "      <td>-</td>\n",
       "      <td>-</td>\n",
       "      <td>-</td>\n",
       "      <td>-</td>\n",
       "      <td>-</td>\n",
       "      <td>-</td>\n",
       "      <td>https://www.flipkart.com/oneplus-nord-ce-2-5g-...</td>\n",
       "    </tr>\n",
       "    <tr>\n",
       "      <th>14</th>\n",
       "      <td>-</td>\n",
       "      <td>-</td>\n",
       "      <td>-</td>\n",
       "      <td>-</td>\n",
       "      <td>-</td>\n",
       "      <td>-</td>\n",
       "      <td>-</td>\n",
       "      <td>-</td>\n",
       "      <td>https://www.flipkart.com/oneplus-nord-ce-5g-ch...</td>\n",
       "    </tr>\n",
       "    <tr>\n",
       "      <th>15</th>\n",
       "      <td>-</td>\n",
       "      <td>-</td>\n",
       "      <td>-</td>\n",
       "      <td>-</td>\n",
       "      <td>-</td>\n",
       "      <td>-</td>\n",
       "      <td>-</td>\n",
       "      <td>-</td>\n",
       "      <td>https://www.flipkart.com/oneplus-nord-ce-5g-si...</td>\n",
       "    </tr>\n",
       "    <tr>\n",
       "      <th>16</th>\n",
       "      <td>-</td>\n",
       "      <td>-</td>\n",
       "      <td>-</td>\n",
       "      <td>-</td>\n",
       "      <td>-</td>\n",
       "      <td>-</td>\n",
       "      <td>-</td>\n",
       "      <td>-</td>\n",
       "      <td>https://www.flipkart.com/oneplus-nord-ce-5g-bl...</td>\n",
       "    </tr>\n",
       "    <tr>\n",
       "      <th>17</th>\n",
       "      <td>-</td>\n",
       "      <td>-</td>\n",
       "      <td>-</td>\n",
       "      <td>-</td>\n",
       "      <td>-</td>\n",
       "      <td>-</td>\n",
       "      <td>-</td>\n",
       "      <td>-</td>\n",
       "      <td>https://www.flipkart.com/oneplus-nord-ce-5g-si...</td>\n",
       "    </tr>\n",
       "    <tr>\n",
       "      <th>18</th>\n",
       "      <td>-</td>\n",
       "      <td>-</td>\n",
       "      <td>-</td>\n",
       "      <td>-</td>\n",
       "      <td>-</td>\n",
       "      <td>-</td>\n",
       "      <td>-</td>\n",
       "      <td>-</td>\n",
       "      <td>https://www.flipkart.com/oneplus-nord-ce-2-5g-...</td>\n",
       "    </tr>\n",
       "    <tr>\n",
       "      <th>19</th>\n",
       "      <td>-</td>\n",
       "      <td>-</td>\n",
       "      <td>-</td>\n",
       "      <td>-</td>\n",
       "      <td>-</td>\n",
       "      <td>-</td>\n",
       "      <td>-</td>\n",
       "      <td>-</td>\n",
       "      <td>https://www.flipkart.com/oneplus-nord-ce-2-5g-...</td>\n",
       "    </tr>\n",
       "    <tr>\n",
       "      <th>20</th>\n",
       "      <td>-</td>\n",
       "      <td>-</td>\n",
       "      <td>-</td>\n",
       "      <td>-</td>\n",
       "      <td>-</td>\n",
       "      <td>-</td>\n",
       "      <td>-</td>\n",
       "      <td>-</td>\n",
       "      <td>https://www.flipkart.com/oneplus-nord-2t-5g-ja...</td>\n",
       "    </tr>\n",
       "    <tr>\n",
       "      <th>21</th>\n",
       "      <td>-</td>\n",
       "      <td>-</td>\n",
       "      <td>-</td>\n",
       "      <td>-</td>\n",
       "      <td>-</td>\n",
       "      <td>-</td>\n",
       "      <td>-</td>\n",
       "      <td>-</td>\n",
       "      <td>https://www.flipkart.com/oneplus-nord-2t-5g-gr...</td>\n",
       "    </tr>\n",
       "    <tr>\n",
       "      <th>22</th>\n",
       "      <td>-</td>\n",
       "      <td>-</td>\n",
       "      <td>-</td>\n",
       "      <td>-</td>\n",
       "      <td>-</td>\n",
       "      <td>-</td>\n",
       "      <td>-</td>\n",
       "      <td>-</td>\n",
       "      <td>https://www.flipkart.com/oneplus-nord-ce-2-5g-...</td>\n",
       "    </tr>\n",
       "    <tr>\n",
       "      <th>23</th>\n",
       "      <td>-</td>\n",
       "      <td>-</td>\n",
       "      <td>-</td>\n",
       "      <td>-</td>\n",
       "      <td>-</td>\n",
       "      <td>-</td>\n",
       "      <td>-</td>\n",
       "      <td>-</td>\n",
       "      <td>https://www.flipkart.com/oneplus-nord-ce-5g-bl...</td>\n",
       "    </tr>\n",
       "  </tbody>\n",
       "</table>\n",
       "</div>"
      ],
      "text/plain": [
       "   BrandName      Colour RAM ROM Primarycamera Displaysize Batterycapacity  \\\n",
       "0          -   Blue Tide   -   -             -           -               -   \n",
       "1          -           -   -   -             -           -               -   \n",
       "2          -  Silver Ray   -   -             -           -               -   \n",
       "3          -           -   -   -             -           -               -   \n",
       "4          -           -   -   -             -           -               -   \n",
       "5          -           -   -   -             -           -               -   \n",
       "6          -           -   -   -             -           -               -   \n",
       "7          -           -   -   -             -           -               -   \n",
       "8          -           -   -   -             -           -               -   \n",
       "9          -           -   -   -             -           -               -   \n",
       "10         -           -   -   -             -           -               -   \n",
       "11         -           -   -   -             -           -               -   \n",
       "12         -           -   -   -             -           -               -   \n",
       "13         -           -   -   -             -           -               -   \n",
       "14         -           -   -   -             -           -               -   \n",
       "15         -           -   -   -             -           -               -   \n",
       "16         -           -   -   -             -           -               -   \n",
       "17         -           -   -   -             -           -               -   \n",
       "18         -           -   -   -             -           -               -   \n",
       "19         -           -   -   -             -           -               -   \n",
       "20         -           -   -   -             -           -               -   \n",
       "21         -           -   -   -             -           -               -   \n",
       "22         -           -   -   -             -           -               -   \n",
       "23         -           -   -   -             -           -               -   \n",
       "\n",
       "   Price                                    job_opening_url  \n",
       "0      -  https://www.flipkart.com/oneplus-nord-ce-2-lit...  \n",
       "1      -  https://www.flipkart.com/oneplus-nord-ce-2-lit...  \n",
       "2      -  https://www.flipkart.com/oneplus-nord-ce-5g-si...  \n",
       "3      -  https://www.flipkart.com/oneplus-nord-ce-5g-ch...  \n",
       "4      -  https://www.flipkart.com/oneplus-nord-2t-5g-ja...  \n",
       "5      -  https://www.flipkart.com/oneplus-nord-2-5g-gra...  \n",
       "6      -  https://www.flipkart.com/oneplus-nord-ce-2-lit...  \n",
       "7      -  https://www.flipkart.com/oneplus-nord-ce-5g-bl...  \n",
       "8      -  https://www.flipkart.com/oneplus-nord-ce-5g-ch...  \n",
       "9      -  https://www.flipkart.com/oneplus-nord-ce-2-lit...  \n",
       "10     -  https://www.flipkart.com/oneplus-nord-2t-5g-gr...  \n",
       "11     -  https://www.flipkart.com/oneplus-nord-2-5g-blu...  \n",
       "12     -  https://www.flipkart.com/oneplus-nord-2-5g-blu...  \n",
       "13     -  https://www.flipkart.com/oneplus-nord-ce-2-5g-...  \n",
       "14     -  https://www.flipkart.com/oneplus-nord-ce-5g-ch...  \n",
       "15     -  https://www.flipkart.com/oneplus-nord-ce-5g-si...  \n",
       "16     -  https://www.flipkart.com/oneplus-nord-ce-5g-bl...  \n",
       "17     -  https://www.flipkart.com/oneplus-nord-ce-5g-si...  \n",
       "18     -  https://www.flipkart.com/oneplus-nord-ce-2-5g-...  \n",
       "19     -  https://www.flipkart.com/oneplus-nord-ce-2-5g-...  \n",
       "20     -  https://www.flipkart.com/oneplus-nord-2t-5g-ja...  \n",
       "21     -  https://www.flipkart.com/oneplus-nord-2t-5g-gr...  \n",
       "22     -  https://www.flipkart.com/oneplus-nord-ce-2-5g-...  \n",
       "23     -  https://www.flipkart.com/oneplus-nord-ce-5g-bl...  "
      ]
     },
     "execution_count": 53,
     "metadata": {},
     "output_type": "execute_result"
    }
   ],
   "source": [
    "import pandas as pd\n",
    "df=pd.DataFrame({'BrandName':BrandName,'Colour':Colour,'RAM':RAM,'ROM':ROM,'Primarycamera':Primarycamera,'Displaysize':Displaysize, 'Batterycapacity':Batterycapacity,'Price':Price,'job_opening_url':job_opening_url})\n",
    "df"
   ]
  },
  {
   "cell_type": "markdown",
   "id": "1684948f",
   "metadata": {},
   "source": [
    "# Q5"
   ]
  },
  {
   "cell_type": "markdown",
   "id": "4a4ece5f",
   "metadata": {},
   "source": [
    "5. Write a program to scrap geospatial coordinates (latitude, longitude) of a city searched on google maps."
   ]
  },
  {
   "cell_type": "code",
   "execution_count": 61,
   "id": "589f86eb",
   "metadata": {},
   "outputs": [],
   "source": [
    "driver= webdriver.Chrome(r\"D:\\KN E D\\DS\\Internship\\chromedriver_win32.zip\\chromedriver.exe\")"
   ]
  },
  {
   "cell_type": "code",
   "execution_count": 62,
   "id": "c9a31cf6",
   "metadata": {},
   "outputs": [],
   "source": [
    "# opening google maps\n",
    "driver.get(\"https://www.google.co.in/maps\")\n",
    "time.sleep(3)"
   ]
  },
  {
   "cell_type": "code",
   "execution_count": 63,
   "id": "0bd7dc71",
   "metadata": {},
   "outputs": [],
   "source": [
    "searchgmap=driver.find_element(By.CLASS_NAME,\"tactile-searchbox-input\")\n",
    "searchgmap.send_keys('Bangalore')"
   ]
  },
  {
   "cell_type": "code",
   "execution_count": 64,
   "id": "c102fca7",
   "metadata": {},
   "outputs": [],
   "source": [
    "search=driver.find_element(By.CLASS_NAME,\"mL3xi\")\n",
    "search.click()"
   ]
  },
  {
   "cell_type": "code",
   "execution_count": 65,
   "id": "52c81cdb",
   "metadata": {},
   "outputs": [
    {
     "name": "stdout",
     "output_type": "stream",
     "text": [
      "URL Extracted:  https://www.google.co.in/maps/place/Bengaluru,+Karnataka/@12.9926749,77.6524858,10.26z/data=!4m6!3m5!1s0x3bae1670c9b44e6d:0xf8dfc3e8517e4fe0!8m2!3d12.9715987!4d77.5945627!16zL20vMDljMTc\n",
      "Latitude = 12.9926749, Longitude = 77.6524858\n"
     ]
    }
   ],
   "source": [
    "try:\n",
    "    url_string = driver.current_url\n",
    "    print(\"URL Extracted: \", url_string)\n",
    "    lat_lng = re.findall(r'@(.*)data',url_string)\n",
    "    if len(lat_lng):\n",
    "        lat_lng_list = lat_lng[0].split(\",\")\n",
    "        if len(lat_lng_list)>=2:\n",
    "            lat = lat_lng_list[0]\n",
    "            lng = lat_lng_list[1]\n",
    "        print(\"Latitude = {}, Longitude = {}\".format(lat, lng))\n",
    "\n",
    "except Exception as e:\n",
    "        print(\"Error: \", str(e))"
   ]
  },
  {
   "cell_type": "markdown",
   "id": "0c9deae0",
   "metadata": {},
   "source": [
    "# Q6"
   ]
  },
  {
   "cell_type": "markdown",
   "id": "9d3c9e47",
   "metadata": {},
   "source": [
    "6. Write a program to scrap all the available details of best gaming laptops from digit.in."
   ]
  },
  {
   "cell_type": "code",
   "execution_count": 80,
   "id": "720f8c5a",
   "metadata": {},
   "outputs": [],
   "source": [
    "driver= webdriver.Chrome(r\"D:\\KN E D\\DS\\Internship\\chromedriver_win32.zip\\chromedriver.exe\")"
   ]
  },
  {
   "cell_type": "code",
   "execution_count": 81,
   "id": "7d73ee27",
   "metadata": {},
   "outputs": [],
   "source": [
    "driver.get(\"https://www.digit.in\")"
   ]
  },
  {
   "cell_type": "code",
   "execution_count": 82,
   "id": "8e6fb139",
   "metadata": {},
   "outputs": [],
   "source": [
    "Top10s=driver.find_element(By.XPATH,\"/html/body/div[2]/div/ul/li[3]/a\")\n",
    "Top10s.click()"
   ]
  },
  {
   "cell_type": "code",
   "execution_count": 83,
   "id": "cba2aad1",
   "metadata": {},
   "outputs": [],
   "source": [
    "Searchgaminglaptop=driver.find_element(By.XPATH,\"/html/body/div[7]/div/div[2]/div[2]/div[3]/ul/li[9]/a\")\n",
    "Searchgaminglaptop.click()"
   ]
  },
  {
   "cell_type": "code",
   "execution_count": 84,
   "id": "44f682b7",
   "metadata": {},
   "outputs": [],
   "source": [
    "Best_Gaming_laptops=[]"
   ]
  },
  {
   "cell_type": "code",
   "execution_count": 85,
   "id": "19dcd851",
   "metadata": {},
   "outputs": [],
   "source": [
    "Gamimg_laptops=driver.find_elements(By.XPATH,'//div[@class=\"TopNumbeHeading\"]')\n",
    "for i in Gamimg_laptops:\n",
    "    Gaming=i.text\n",
    "    Best_Gaming_laptops.append(Gaming)"
   ]
  },
  {
   "cell_type": "code",
   "execution_count": 86,
   "id": "f9eb56af",
   "metadata": {},
   "outputs": [
    {
     "data": {
      "text/plain": [
       "['1.\\nMSI Titan GT77-12UHS',\n",
       " '2.\\nLenovo Legion 7',\n",
       " '4.\\nAcer Predator Triton 500 SE PT516-52s',\n",
       " '5.\\nOmen By HP (16-B1371TX)',\n",
       " '6.\\nAcer Predator Helios 300 AN515-45',\n",
       " '7.\\nMSI Delta 15 (A5EFK-083IN)',\n",
       " '8.\\nOmen By HP (16-C0141AX)',\n",
       " '9.\\nLenovo Legion 5i Pro (82RF00MGIN)',\n",
       " '10.\\nAlienware M15 R5 Ryzen Edition Icc-C780001win']"
      ]
     },
     "execution_count": 86,
     "metadata": {},
     "output_type": "execute_result"
    }
   ],
   "source": [
    "Best_Gaming_laptops"
   ]
  },
  {
   "cell_type": "markdown",
   "id": "c5561fb8",
   "metadata": {},
   "source": [
    "# Q7"
   ]
  },
  {
   "cell_type": "markdown",
   "id": "e0b1eea1",
   "metadata": {},
   "source": [
    "7. Write a python program to scrape the details for all billionaires from www.forbes.com. Details to be scrapped: \n",
    "“Rank”, “Name”, “Net worth”, “Age”, “Citizenship”, “Source”, “Industry”. "
   ]
  },
  {
   "cell_type": "code",
   "execution_count": 87,
   "id": "04523e2b",
   "metadata": {},
   "outputs": [],
   "source": [
    "driver= webdriver.Chrome(r\"D:\\KN E D\\DS\\Internship\\chromedriver_win32.zip\\chromedriver.exe\")"
   ]
  },
  {
   "cell_type": "code",
   "execution_count": 89,
   "id": "da2d33a9",
   "metadata": {},
   "outputs": [],
   "source": [
    "driver.get(\"https://www.forbes.com\")"
   ]
  },
  {
   "cell_type": "code",
   "execution_count": 94,
   "id": "86a630bc",
   "metadata": {},
   "outputs": [],
   "source": [
    "Leftcorner=driver.find_element(By.XPATH,\"/html/body/div[1]/header/nav/div[1]\")\n",
    "Leftcorner.click()"
   ]
  },
  {
   "cell_type": "code",
   "execution_count": 95,
   "id": "11a871cd",
   "metadata": {},
   "outputs": [],
   "source": [
    "Billionaires=driver.find_element(By.XPATH,\"/html/body/div[1]/header/nav/div[1]/div/div/div[2]/ul/li[1]/div[1]\")\n",
    "Billionaires.click()"
   ]
  },
  {
   "cell_type": "code",
   "execution_count": 96,
   "id": "9d18ec04",
   "metadata": {},
   "outputs": [],
   "source": [
    "WorldsBillionaires=driver.find_element(By.XPATH,\"/html/body/div[1]/header/nav/div[1]/div/div/div[2]/ul/li[1]/div[2]/div[3]/ul/li[1]/a\")\n",
    "WorldsBillionaires.click()"
   ]
  },
  {
   "cell_type": "code",
   "execution_count": 97,
   "id": "27b9d548",
   "metadata": {},
   "outputs": [],
   "source": [
    "Forbes_Rank=[]\n",
    "Forbes_Name=[]\n",
    "Net_Worth=[]\n",
    "Forbes_Age=[]\n",
    "Forbes_Citizenship=[]\n",
    "Forbes_Source=[]\n",
    "Forbes_Industry=[]"
   ]
  },
  {
   "cell_type": "code",
   "execution_count": 98,
   "id": "3e4dd0c9",
   "metadata": {},
   "outputs": [],
   "source": [
    "\n",
    "Rank_tags=driver.find_elements(By.XPATH,'//div[@class=\"rank\"]')\n",
    "for i in Rank_tags:\n",
    "    Rank=i.text\n",
    "    Forbes_Rank.append(Rank)\n",
    "    \n",
    "Name_tags=driver.find_elements(By.XPATH,'//div[@class=\"personName\"]')\n",
    "for i in Name_tags:\n",
    "    Name=i.text\n",
    "    Forbes_Name.append(Name)    \n",
    "    \n",
    "Worth_tags=driver.find_elements(By.XPATH,'//div[@class=\"netWorth\"]')\n",
    "for i in Worth_tags:\n",
    "    Worth=i.text\n",
    "    Net_Worth.append(Worth)\n",
    "    \n",
    "Age_tags=driver.find_elements(By.XPATH,'//div[@class=\"age\"]')\n",
    "for i in Age_tags:\n",
    "    Age=i.text\n",
    "    Forbes_Age.append(Age)\n",
    "\n",
    "Citizenship_tags=driver.find_elements(By.XPATH,'//div[@class=\"countryOfCitizenship\"]')\n",
    "for i in Citizenship_tags:\n",
    "    Citizenship=i.text\n",
    "    Forbes_Citizenship.append(Citizenship)    \n",
    "    \n",
    "Source_tags=driver.find_elements(By.XPATH,'//div[@class=\"source-column\"]')\n",
    "for i in Source_tags:\n",
    "    Source=i.text\n",
    "    Forbes_Source.append(Source)    \n",
    "    \n",
    "Industry_tags=driver.find_elements(By.XPATH,'//div[@class=\"category\"]')\n",
    "for i in Industry_tags:\n",
    "    Industry=i.text\n",
    "    Forbes_Industry.append(Industry)    \n"
   ]
  },
  {
   "cell_type": "code",
   "execution_count": 99,
   "id": "82e4c307",
   "metadata": {},
   "outputs": [
    {
     "name": "stdout",
     "output_type": "stream",
     "text": [
      "200 200 200 200 200 200 200\n"
     ]
    }
   ],
   "source": [
    "print(len(Forbes_Rank),len(Forbes_Name),len(Net_Worth),len(Forbes_Age),len(Forbes_Citizenship),len(Forbes_Source),len(Forbes_Industry))"
   ]
  },
  {
   "cell_type": "code",
   "execution_count": 100,
   "id": "ec4ff60f",
   "metadata": {},
   "outputs": [
    {
     "data": {
      "text/html": [
       "<div>\n",
       "<style scoped>\n",
       "    .dataframe tbody tr th:only-of-type {\n",
       "        vertical-align: middle;\n",
       "    }\n",
       "\n",
       "    .dataframe tbody tr th {\n",
       "        vertical-align: top;\n",
       "    }\n",
       "\n",
       "    .dataframe thead th {\n",
       "        text-align: right;\n",
       "    }\n",
       "</style>\n",
       "<table border=\"1\" class=\"dataframe\">\n",
       "  <thead>\n",
       "    <tr style=\"text-align: right;\">\n",
       "      <th></th>\n",
       "      <th>Rank</th>\n",
       "      <th>Name</th>\n",
       "      <th>Net_Worth</th>\n",
       "      <th>Age</th>\n",
       "      <th>Citizenship</th>\n",
       "      <th>Source</th>\n",
       "      <th>Industry</th>\n",
       "    </tr>\n",
       "  </thead>\n",
       "  <tbody>\n",
       "    <tr>\n",
       "      <th>0</th>\n",
       "      <td>1.</td>\n",
       "      <td>Elon Musk</td>\n",
       "      <td>$219 B</td>\n",
       "      <td>50</td>\n",
       "      <td>United States</td>\n",
       "      <td>Tesla, SpaceX</td>\n",
       "      <td>Automotive</td>\n",
       "    </tr>\n",
       "    <tr>\n",
       "      <th>1</th>\n",
       "      <td>2.</td>\n",
       "      <td>Jeff Bezos</td>\n",
       "      <td>$171 B</td>\n",
       "      <td>58</td>\n",
       "      <td>United States</td>\n",
       "      <td>Amazon</td>\n",
       "      <td>Technology</td>\n",
       "    </tr>\n",
       "    <tr>\n",
       "      <th>2</th>\n",
       "      <td>3.</td>\n",
       "      <td>Bernard Arnault &amp; family</td>\n",
       "      <td>$158 B</td>\n",
       "      <td>73</td>\n",
       "      <td>France</td>\n",
       "      <td>LVMH</td>\n",
       "      <td>Fashion &amp; Retail</td>\n",
       "    </tr>\n",
       "    <tr>\n",
       "      <th>3</th>\n",
       "      <td>4.</td>\n",
       "      <td>Bill Gates</td>\n",
       "      <td>$129 B</td>\n",
       "      <td>66</td>\n",
       "      <td>United States</td>\n",
       "      <td>Microsoft</td>\n",
       "      <td>Technology</td>\n",
       "    </tr>\n",
       "    <tr>\n",
       "      <th>4</th>\n",
       "      <td>5.</td>\n",
       "      <td>Warren Buffett</td>\n",
       "      <td>$118 B</td>\n",
       "      <td>91</td>\n",
       "      <td>United States</td>\n",
       "      <td>Berkshire Hathaway</td>\n",
       "      <td>Finance &amp; Investments</td>\n",
       "    </tr>\n",
       "    <tr>\n",
       "      <th>...</th>\n",
       "      <td>...</td>\n",
       "      <td>...</td>\n",
       "      <td>...</td>\n",
       "      <td>...</td>\n",
       "      <td>...</td>\n",
       "      <td>...</td>\n",
       "      <td>...</td>\n",
       "    </tr>\n",
       "    <tr>\n",
       "      <th>195</th>\n",
       "      <td>192.</td>\n",
       "      <td>Marcel Herrmann Telles</td>\n",
       "      <td>$10.3 B</td>\n",
       "      <td>72</td>\n",
       "      <td>Brazil</td>\n",
       "      <td>beer</td>\n",
       "      <td>Food &amp; Beverage</td>\n",
       "    </tr>\n",
       "    <tr>\n",
       "      <th>196</th>\n",
       "      <td>197.</td>\n",
       "      <td>Leon Black</td>\n",
       "      <td>$10 B</td>\n",
       "      <td>70</td>\n",
       "      <td>United States</td>\n",
       "      <td>private equity</td>\n",
       "      <td>Finance &amp; Investments</td>\n",
       "    </tr>\n",
       "    <tr>\n",
       "      <th>197</th>\n",
       "      <td>197.</td>\n",
       "      <td>Joe Gebbia</td>\n",
       "      <td>$10 B</td>\n",
       "      <td>40</td>\n",
       "      <td>United States</td>\n",
       "      <td>Airbnb</td>\n",
       "      <td>Technology</td>\n",
       "    </tr>\n",
       "    <tr>\n",
       "      <th>198</th>\n",
       "      <td>197.</td>\n",
       "      <td>David Geffen</td>\n",
       "      <td>$10 B</td>\n",
       "      <td>79</td>\n",
       "      <td>United States</td>\n",
       "      <td>movies, record labels</td>\n",
       "      <td>Media &amp; Entertainment</td>\n",
       "    </tr>\n",
       "    <tr>\n",
       "      <th>199</th>\n",
       "      <td>197.</td>\n",
       "      <td>Yu Renrong</td>\n",
       "      <td>$10 B</td>\n",
       "      <td>56</td>\n",
       "      <td>China</td>\n",
       "      <td>semiconductors</td>\n",
       "      <td>Manufacturing</td>\n",
       "    </tr>\n",
       "  </tbody>\n",
       "</table>\n",
       "<p>200 rows × 7 columns</p>\n",
       "</div>"
      ],
      "text/plain": [
       "     Rank                      Name Net_Worth Age    Citizenship  \\\n",
       "0      1.                 Elon Musk    $219 B  50  United States   \n",
       "1      2.                Jeff Bezos    $171 B  58  United States   \n",
       "2      3.  Bernard Arnault & family    $158 B  73         France   \n",
       "3      4.                Bill Gates    $129 B  66  United States   \n",
       "4      5.            Warren Buffett    $118 B  91  United States   \n",
       "..    ...                       ...       ...  ..            ...   \n",
       "195  192.    Marcel Herrmann Telles   $10.3 B  72         Brazil   \n",
       "196  197.                Leon Black     $10 B  70  United States   \n",
       "197  197.                Joe Gebbia     $10 B  40  United States   \n",
       "198  197.              David Geffen     $10 B  79  United States   \n",
       "199  197.                Yu Renrong     $10 B  56          China   \n",
       "\n",
       "                    Source               Industry  \n",
       "0            Tesla, SpaceX             Automotive  \n",
       "1                   Amazon             Technology  \n",
       "2                     LVMH       Fashion & Retail  \n",
       "3                Microsoft             Technology  \n",
       "4       Berkshire Hathaway  Finance & Investments  \n",
       "..                     ...                    ...  \n",
       "195                   beer        Food & Beverage  \n",
       "196         private equity  Finance & Investments  \n",
       "197                 Airbnb             Technology  \n",
       "198  movies, record labels  Media & Entertainment  \n",
       "199         semiconductors          Manufacturing  \n",
       "\n",
       "[200 rows x 7 columns]"
      ]
     },
     "execution_count": 100,
     "metadata": {},
     "output_type": "execute_result"
    }
   ],
   "source": [
    "import pandas as pd\n",
    "df=pd.DataFrame({'Rank':Forbes_Rank,'Name':Forbes_Name,'Net_Worth':Net_Worth,'Age':Forbes_Age,'Citizenship':Forbes_Citizenship,'Source':Forbes_Source,'Industry':Forbes_Industry})\n",
    "df"
   ]
  },
  {
   "cell_type": "markdown",
   "id": "d5c9eb34",
   "metadata": {},
   "source": [
    "# Q8"
   ]
  },
  {
   "cell_type": "markdown",
   "id": "0bac0a5b",
   "metadata": {},
   "source": [
    "8. Write a program to extract at least 500 Comments, Comment upvote and time when comment was posted \n",
    "from any YouTube Video. "
   ]
  },
  {
   "cell_type": "code",
   "execution_count": 104,
   "id": "3e0fef92",
   "metadata": {},
   "outputs": [],
   "source": [
    "driver= webdriver.Chrome(r\"D:\\KN E D\\DS\\Internship\\chromedriver_win32.zip\\chromedriver.exe\")"
   ]
  },
  {
   "cell_type": "code",
   "execution_count": 105,
   "id": "519e64af",
   "metadata": {},
   "outputs": [],
   "source": [
    "driver.get(\"https://www.youtube.com\")"
   ]
  },
  {
   "cell_type": "code",
   "execution_count": 106,
   "id": "fd035c92",
   "metadata": {},
   "outputs": [],
   "source": [
    "Kabzaa=driver.find_element(By.XPATH,\"/html/body/ytd-app/div[1]/ytd-page-manager/ytd-browse/ytd-two-column-browse-results-renderer/div[1]/ytd-rich-grid-renderer/div[6]/ytd-rich-section-renderer[2]/div/ytd-rich-shelf-renderer/div[1]/div[2]/ytd-rich-item-renderer[1]/div/ytd-rich-grid-media/div[1]/div[2]/div[1]/h3/a/yt-formatted-string\")\n",
    "Kabzaa.click()"
   ]
  },
  {
   "cell_type": "code",
   "execution_count": 107,
   "id": "a296b57d",
   "metadata": {},
   "outputs": [],
   "source": [
    "for _ in range(20):\n",
    "    driver.execute_script(\"window.scrollBy(0,1000)\")"
   ]
  },
  {
   "cell_type": "code",
   "execution_count": 109,
   "id": "f99e7174",
   "metadata": {},
   "outputs": [],
   "source": [
    "Vedio_Comments=[]\n",
    "\n",
    "Comments_tags=driver.find_elements(By.XPATH,'//span[@class=\"style-scope yt-formatted-string\"]')\n",
    "for i in Comments_tags[0:500]:\n",
    "    Comments=i.text\n",
    "    Vedio_Comments.append(Comments)\n"
   ]
  },
  {
   "cell_type": "code",
   "execution_count": 110,
   "id": "c12366d8",
   "metadata": {},
   "outputs": [
    {
     "data": {
      "text/plain": [
       "['7,000',\n",
       " 'Comments',\n",
       " 'ಇತಿಹಾಸ ಸೃಷ್ಟಿ ಮಾಡುವದರಲ್ಲಿ ಯಾವುದೇ ಸಂಶಯವೇ ಇಲ್ಲ',\n",
       " ' ಶುಭವಾಗಲಿ ಕಬ್ಜ ತಂಡಕ್ಕೆ',\n",
       " '️',\n",
       " 'Thank u director and team of Kabzaa for reaching all Uppi and Kiccha fans expectations you dint disappoints us',\n",
       " 'Being a fan of KGF, I sincerely want to this movie to gross over 1000Cr worldwide, and I believe Kabzaa will reignite the \"Kannada industry\" on a global scale again. ',\n",
       " '️',\n",
       " '️',\n",
       " '️',\n",
       " 'Proud to be kannadiga ',\n",
       " '️,This movie take Indian cinema to higher.totally goosebumps \\U0001fae8',\n",
       " '.',\n",
       " \"Loved the kichcha sudeep's     \",\n",
       " '',\n",
       " 'base  voice',\n",
       " ' ',\n",
       " '',\n",
       " 'Dialogue',\n",
       " 'ಒಂದು ಸಮ್ರಾಜ್ಯ ಕಟ್ಟೋದು ಕತ್ತಿಯಿಂದ ಅಲ್ಲ ಅದನ್ನು ಹಿಡಿಯೋ ಬಲವಾದ ಕೈಯಿಂದ',\n",
       " '',\n",
       " 'Pure Goosbumbs',\n",
       " 'Trailer is cut nicely. Shows how far R.Chandru has come really upgraded his skill as a director which is a huge plus in Kannada industry. Chandru, instead of speaking words actually went to drawing board learnt new skills and has really mastered presentation for this current age, this itself deserves huge respect ',\n",
       " '',\n",
       " 'Hoping the story to be good ',\n",
       " 'No one can match the style of Kiccha and Boss entry in the movie is totally Mind blowing all the best Kabzaa Jaii Sudeepanna',\n",
       " 'I wish this movie to make an history in the Industry',\n",
       " '️\\u200d',\n",
       " ' from D BOSS fan ',\n",
       " '️',\n",
       " \"Don't forget to use headphones \",\n",
       " ' you will feel next level goosebumps ',\n",
       " 'All kiccha fans what a bass voice',\n",
       " 'Kannada cinema is capable of producing world-class movies that can compete with the best of the best.Kudos To Kannada Film Makers',\n",
       " 'The Swag of Kiccha and Uppi cannot be matched by any bollywood and hollywood actors',\n",
       " 'The BGM by Ravi basur and the direction shots are just thrilling in the teaser',\n",
       " 'Kannada industry is growing at another level ',\n",
       " 'On behalf of all kichcha sudeepa sir fans we wish this movie a GRAND SUCCESS ',\n",
       " 'Ravi Basrur sir magic beats starts here ',\n",
       " ' always giving heart touching bgm for each and every movies all the best to kabzaa team on ',\n",
       " 'Now this is a suspense thriller trailer ',\n",
       " '',\n",
       " \" Visuals r awesome . Can't wait to watch on theatre.\",\n",
       " 'Looks like another KGF... ',\n",
       " '',\n",
       " '',\n",
       " '',\n",
       " 'But uppi sir completely different so waiting for ',\n",
       " ' ',\n",
       " '',\n",
       " '',\n",
       " '',\n",
       " '',\n",
       " '',\n",
       " 'Kannada industry is going to rule the world ',\n",
       " '️',\n",
       " '',\n",
       " '',\n",
       " 'Proud to be a kannadiga ',\n",
       " '️',\n",
       " 'Superb ',\n",
       " '..direction,choreography, visuals effects,bgm next level..real star uppi is back ',\n",
       " '..long suits him perfectly n the man who shown long to indian film industry...all best to kabza..from dboss fans..',\n",
       " 'ಮಧ್ಯ ರಾತ್ರಿಯಲ್ಲಿ ಬಂತು kabzaa trailer ನಾನ್ ಹಿಂದಿಯಲ್ಲಿ ನೋಡಿದ್ದೆ ಆದ್ರೆ ಸುದೀಪ್ sir voice ಕೇಳಿ goosebumps ಬಂತು ಗುರು ಎನ್ ಗುರು ಅದು trailer + BGM + ಕಿಚ್ಚ voice ',\n",
       " 'KicchaSudeep narration ',\n",
       " ' that base voice gives goosebumps... kabzaa trailer not disappointd me.... looking forward to watch it on theatre ',\n",
       " ' is just mind blowing ',\n",
       " ' high level choreography ',\n",
       " 'Dialogue mass',\n",
       " '',\n",
       " 'Action mass',\n",
       " '',\n",
       " 'Expression mass',\n",
       " '',\n",
       " 'Dance mass',\n",
       " '',\n",
       " '',\n",
       " '',\n",
       " '',\n",
       " '',\n",
       " 'The deadly combo of Uppi and kiccha  in the teaser bring Super Feel after long time this combo is back',\n",
       " 'Definitely everyone got goosebumps ',\n",
       " '\"ಉಪ್ಪಿಗಿಂತ ರುಚಿ ಬೇರೆಯಿಲ್ಲ\"',\n",
       " '',\n",
       " '\"ಉಪ್ಪಿಯಂತ ನಟಭಯಂಕರ ಎಲ್ಲೂ ಇಲ್ಲ\"',\n",
       " '',\n",
       " '\"ಉಪ್ಪಿಯ ನಿದೆ೯ಶನಕ್ಕೆ ಸರಿಸಾಟಿ ಎಲ್ಲೂ ಇಲ್ಲ\" ರಿಯಲ್ ಸ್ಟಾರ್',\n",
       " 'The efforts of 3 years finally gave a crown of success its time to celebrate the success of kabza',\n",
       " 'Colourful visuals.... Super Bgm.... Kannada industry goaring up.... ',\n",
       " 'What a trailer  ನೋಡ್ತಿದ್ರೆ Goosebumps ಬರ್ತಿದೆ ',\n",
       " '  ಕಬ್ಜ ಟ್ರೈಲರ್ ಸೂಪರ್ ಇದೆ ಚಂದ್ರು sir....',\n",
       " ' ಒಳ್ಳೆ promotion ಮಾಡಿ ನಮ್ಮ ಕನ್ನಡ ಸಿನಿಮಾ ಎಲ್ಲಾ ಕಡೆ ದೊಡ್ಡ ಯಶಸ್ಸು ಕಾಣಲಿ ....',\n",
       " '️ waiting for ಕಬ್ಜ.... ',\n",
       " 'all the best ಚಂದ್ರು sir, ಉಪ್ಪಿ sir, and movie ಟೀಮ್...',\n",
       " '️',\n",
       " 'Awesome Entry of Shivarajkumar at the beginning of the trailer .24 ',\n",
       " '...sudeepa you killed it ...and Uppi you created again history ',\n",
       " '..Sunil puranik you effort got the fruits ...r chandru you showed what you are ',\n",
       " '...and there is a still one surprise hidden ...wait and watch ',\n",
       " ' this will be the next big thing in india, god level VFX+BGM+cinematography ',\n",
       " '',\n",
       " ' Uppi and kiccha and shivanna on another level ',\n",
       " \"3 hero's in one theatre fans will enjoy a lot \",\n",
       " 'Ultimate visuals and charectors of the story are just lit',\n",
       " '...I believe that it gonna reach another milestone to the Indian film industry..Real star will be back with swag...',\n",
       " 'ರಾಜ ವಂಶ ಅಭಿಮಾನಿಗಳ ಇದ ಕಬ್ಜ ಟೀಮ್ ಗೆ ಶುಭಾವಾಗಲಿ ',\n",
       " '  ಜೈ ಅಪ್ಪು ಬಾಸ್ ',\n",
       " '️',\n",
       " '️',\n",
       " \"The look of Kiccha and Uppi sir totally stylish we can call them stylish hero's after Kabzaa movie\",\n",
       " 'Another hit loading from Kannada industry...',\n",
       " \"Sudeep Sir's voice \",\n",
       " ', BGM at ',\n",
       " ' ',\n",
       " \", Upendra Sir's entry, action and dialogue \",\n",
       " '️, well garnished by emotions at last.. overall a great expectation. Next milestone in Sandalwood. ',\n",
       " 'The thought of every looks of the characters and the costume is just brilliant idea',\n",
       " 'The movie will really hit soo hard to all audiences tha teaser itself is a great work',\n",
       " 'Kannada industry next level ',\n",
       " 'No one is talking about',\n",
       " '',\n",
       " \" kichcha sudeep's  \",\n",
       " '',\n",
       " 'Base voice',\n",
       " '',\n",
       " 'Dialogue',\n",
       " 'As indian person , this trailer feels like KGF.... But i can say heart fully stroy and screenplay completely will be different .',\n",
       " '',\n",
       " \"Because uppi sir and R. Chandru sir will do the different level of movie's always and I believe him\",\n",
       " 'ನಿಜವಾದ ಐತಿಹಾಸಿಕ ಚಲನಚಿತ್ರ ಆಗುವಲ್ಲಿ ಯಾವುದೇ ಸಂಶಯವಿಲ್ಲ... ಜೈ ಕಬ್ಜಾ ',\n",
       " '️',\n",
       " 'Superb trailer ',\n",
       " '',\n",
       " 'Extraordinary visuals, editing ',\n",
       " '',\n",
       " 'BGM ',\n",
       " 'If you want to play me, I will play the game! ',\n",
       " '',\n",
       " ' if you want to kill me, I will end the game!! ',\n",
       " '',\n",
       " 'Pure Mast Goosbumbs trailer',\n",
       " 'No words can explain this trailer ',\n",
       " ' Really Mind-blowing Visuals ',\n",
       " ' ದಯವಿಟ್ಟು ಪ್ರಚಾರ ಮಾಡಿ R Chandru ಅವ್ರೆ ಕಂಡಿತಾ,ನಾವು ನಿಮ್ಮನ್ನ ಯಾವುದೇ interview ಅಲ್ಲಿ ನೋಡಿಲ್ಲ ನೀಜ್ವಾಗ್ಲು ಇಂತಹ ಒಳ್ಳೆ ಸಿನೆಮಾಗೆ pramotion ತುಂಬಾನೇ ಬೇಕಾಗಿದೆ ನಿಮ್ ಹತ್ರ ಇನ್ನ 12 ದಿನ ಇದೆ not like 12 days its huge 12 days please promote more ',\n",
       " '️',\n",
       " 'on behalf of all Upendra and Kiccha fans in the world we wish this movie a great success ',\n",
       " 'The teaser had something Different emotions carried out throughout the teaser brilliant work done by team',\n",
       " 'The way they just gave us visual treat is just superb',\n",
       " '',\n",
       " 'All the best kabzaa The day is yours enjoy it',\n",
       " 'ಮನಸ್ಸಿನಲ್ಲಿ ಸದಾಕಾಲ ಉಳಿಯುವ ಒಂದು ಮೆಲೋಡಿ ಟ್ರೈಲರ್ ',\n",
       " '️',\n",
       " 'Mind blowing Trailer ...',\n",
       " \"that's the power of kannada movie \",\n",
       " 'Jai karnataka',\n",
       " 'ಮತ್ತೊಂದು ಭಯಂಕರವಾದ ಸಿನಿಮಾಗೆ ಸ್ವಾಗತ ',\n",
       " '️ ಕನ್ನಡ ಸಿನಿಮಾ ಲೋಕ will definitly ruling Indian cinema industry ',\n",
       " 'Efforts done by entire team is really great ',\n",
       " 'Superb work Kabzaa team teaser was amazing',\n",
       " 'Once again we r going to experience the movie between goosebumps ',\n",
       " 'Just mind blowing trailer making, bgm, dialogue, quality, cinematography ',\n",
       " \"That Sudeep's Base Voice Gives Goosebumps \",\n",
       " 'BGM ',\n",
       " '+ visuals top notch+ huge bunch of actors ',\n",
       " 'I we wish this movie a great success',\n",
       " '',\n",
       " 'From KGF Fans ',\n",
       " 'The cameraman has done really good work because they are the best one to give good clips for us',\n",
       " 'One more blockbuster on board soon',\n",
       " 'On the behalf of Rocking Star Yash fans I wish KABZAA will also get the same love from the audience that KGF get!! ',\n",
       " ' ',\n",
       " 'The elivation of Kannadiga makes India to be proud.. All the best Kabza team.. Shivanna always u r an legend',\n",
       " 'Oftar KGF',\n",
       " '',\n",
       " 'KABZAA  Pure  Goosebumps... ',\n",
       " 'Next level Trailer ',\n",
       " ' ',\n",
       " ' lovely ',\n",
       " ' Jai KICCHA BOSS ',\n",
       " 'The credit goes to R Chandru the director for taking a huge responsibility of the movie.. would never seen a movie like this before',\n",
       " 'Something is there,, behind this effort,,nd it will create new history on big screen in worldwide,,,',\n",
       " ',,,uppi, kichcha, shivanna combination ',\n",
       " 'We want more multi starrer movies like this ',\n",
       " 'All over India getting great response for Kabzaa teaser hindi Youtubers appreciating it',\n",
       " 'Upendra sir ',\n",
       " '',\n",
       " 'Kiccha voice ',\n",
       " 'ಇತಿಹಾಸ ಸೃಷ್ಟಿ ಆಗೋದು ಪಕ್ಕ ',\n",
       " '️',\n",
       " ' ',\n",
       " '',\n",
       " 'ಜೈ ಅಪ್ಪು ಬಾಸ್ ',\n",
       " 'Wow super trailer',\n",
       " ' super efforts by our kannada industry people ',\n",
       " 'The biggest and Highlight bid the teaser is kiccha and Uppi ',\n",
       " '',\n",
       " 'Just imagine the crowd after seeing these two on the the bigg screen',\n",
       " 'Finally Releasing ',\n",
       " ' after 40 months ',\n",
       " '',\n",
       " 'All The Best Team KABZAA...',\n",
       " 'Goosebumps ',\n",
       " 'Next level Jai Kiccha boss',\n",
       " '️',\n",
       " '️',\n",
       " 'Awesome look ..... Each n every word in the ಟ್ರೈಲರ್ will touch our heart..... ',\n",
       " \"Kiccha Sudeep's looks are mind blowing. His appearance attracted more than anything in this movieee\",\n",
       " 'Such a versatile actors directors and entire team selection of the kabzaa movie is ultimate',\n",
       " 'BGM is next level mind blowing and visuals are ',\n",
       " 'No story yet revealed, there will be something big on big screens ',\n",
       " 'One more Epic after KGF. Good to see KFI making good content mass movies. Upendra and Kichha Sudeep in some stellar roles.  Waiting Kabza ',\n",
       " 'Being a fan of KGF, I sincerely want to this movie to gross over 500Cr worldwide, and I believe Kabzaa will reignite the \"Kannada industry\" on a global scale again. ',\n",
       " 'Goosebumps ',\n",
       " '️',\n",
       " '️',\n",
       " 'Goosebumps ',\n",
       " '️',\n",
       " 'All over India getting great response for Kabzaa teaser hindi Youtubers appreciating it',\n",
       " 'Upendra sir ',\n",
       " '',\n",
       " 'Kiccha voice ',\n",
       " 'ಇತಿಹಾಸ ಸೃಷ್ಟಿ ಆಗೋದು ಪಕ್ಕ ',\n",
       " '️',\n",
       " ' ',\n",
       " '',\n",
       " 'ಜೈ ಅಪ್ಪು ಬಾಸ್ ',\n",
       " 'Wow super trailer',\n",
       " ' super efforts by our kannada industry people ',\n",
       " 'The biggest and Highlight bid the teaser is kiccha and Uppi ',\n",
       " '',\n",
       " 'Just imagine the crowd after seeing these two on the the bigg screen',\n",
       " 'Finally Releasing ',\n",
       " ' after 40 months ',\n",
       " '',\n",
       " 'All The Best Team KABZAA...',\n",
       " 'Goosebumps ',\n",
       " 'Next level Jai Kiccha boss',\n",
       " '️',\n",
       " '️',\n",
       " 'Awesome look ..... Each n every word in the ಟ್ರೈಲರ್ will touch our heart..... ',\n",
       " \"Kiccha Sudeep's looks are mind blowing. His appearance attracted more than anything in this movieee\",\n",
       " 'Such a versatile actors directors and entire team selection of the kabzaa movie is ultimate',\n",
       " 'BGM is next level mind blowing and visuals are ',\n",
       " 'No story yet revealed, there will be something big on big screens ',\n",
       " 'One more Epic after KGF. Good to see KFI making good content mass movies. Upendra and Kichha Sudeep in some stellar roles.  Waiting Kabza ',\n",
       " 'Being a fan of KGF, I sincerely want to this movie to gross over 500Cr worldwide, and I believe Kabzaa will reignite the \"Kannada industry\" on a global scale again. ',\n",
       " 'Goosebumps ',\n",
       " '️',\n",
       " '️',\n",
       " 'Goosebumps ',\n",
       " '️',\n",
       " 'All over India getting great response for Kabzaa teaser hindi Youtubers appreciating it',\n",
       " 'Upendra sir ',\n",
       " '',\n",
       " 'Kiccha voice ',\n",
       " 'ಇತಿಹಾಸ ಸೃಷ್ಟಿ ಆಗೋದು ಪಕ್ಕ ',\n",
       " '️',\n",
       " ' ',\n",
       " '',\n",
       " 'ಜೈ ಅಪ್ಪು ಬಾಸ್ ',\n",
       " 'Wow super trailer',\n",
       " ' super efforts by our kannada industry people ',\n",
       " 'The biggest and Highlight bid the teaser is kiccha and Uppi ',\n",
       " '',\n",
       " 'Just imagine the crowd after seeing these two on the the bigg screen',\n",
       " 'Finally Releasing ',\n",
       " ' after 40 months ',\n",
       " '',\n",
       " 'All The Best Team KABZAA...',\n",
       " 'Goosebumps ',\n",
       " 'Next level Jai Kiccha boss',\n",
       " '️',\n",
       " '️',\n",
       " 'Awesome look ..... Each n every word in the ಟ್ರೈಲರ್ will touch our heart..... ',\n",
       " \"Kiccha Sudeep's looks are mind blowing. His appearance attracted more than anything in this movieee\",\n",
       " 'Such a versatile actors directors and entire team selection of the kabzaa movie is ultimate',\n",
       " 'BGM is next level mind blowing and visuals are ',\n",
       " 'No story yet revealed, there will be something big on big screens ',\n",
       " 'One more Epic after KGF. Good to see KFI making good content mass movies. Upendra and Kichha Sudeep in some stellar roles.  Waiting Kabza ',\n",
       " 'Being a fan of KGF, I sincerely want to this movie to gross over 500Cr worldwide, and I believe Kabzaa will reignite the \"Kannada industry\" on a global scale again. ',\n",
       " 'Goosebumps ',\n",
       " '️',\n",
       " '️',\n",
       " 'Goosebumps ',\n",
       " '️',\n",
       " 'Super Star UPENDRA',\n",
       " '',\n",
       " 'Super voice ',\n",
       " 'On behalf of all Upendra fans in the world we wish this movie a great success ',\n",
       " ' trailer',\n",
       " '',\n",
       " 'Best wishes from Appu boss fan ',\n",
       " '️ Jai Appu Boss',\n",
       " '',\n",
       " 'Jai Uppi boss',\n",
       " '',\n",
       " 'Jai Kiccha boss ',\n",
       " '',\n",
       " '',\n",
       " '',\n",
       " '',\n",
       " '',\n",
       " 'Dialogues next level.... All the best whole team ',\n",
       " 'That trailer in the start of the video is just amazing ',\n",
       " 'Bgm+Editing ',\n",
       " ' next level in our industry',\n",
       " \"The makers and the making behind the camera is just a lit..no words can describe the teaser it's just a Goosebumps till end\",\n",
       " 'jai kiccha uppi boss',\n",
       " 'ತುಂಬಾ ದಿನಗಳ ನಂತರ ಕನ್ನಡಕ್ಕೆ ಮತ್ತೊಂದು ಮಾಸ ಸಿನಿಮಾದ ಎಂಟ್ರಿ ಆಗಿದೆ',\n",
       " 'Prashant Neel created History',\n",
       " '',\n",
       " 'R Chandru is on the way to write New history',\n",
       " 'Proud we have such director in our industry',\n",
       " 'Nice trailer ',\n",
       " '',\n",
       " 'He is back ',\n",
       " '',\n",
       " 'Asesome love u kannadiga ',\n",
       " 'Fan base that Uppi and Kiccha has can create a new history from this deadly combo Movie Kabzaa',\n",
       " '',\n",
       " 'R Chandru sir director made our dream come to true',\n",
       " 'One of my favourite kannada trailer... From kerala',\n",
       " 'Ground breaking bgm+next level cinematography+stunning cast selection and their performance= Ufff ಸಂಪೂರ್ಣವಾಗಿ ಉತ್ತಮ ಕೆಲಸ',\n",
       " '. Biggest blockbuster on the way',\n",
       " '.',\n",
       " 'BGM, colour composition, action sequences, entry scene yella chindi yagide ... Sudeep sir look much younger and upendra sir look awesome waiting for punch dailogs.. all the best kabzaa team ',\n",
       " 'The set work is most highlited thing in the teaser wow should appreciate because these give us real feel ',\n",
       " 'Record Breaking entry video trailer in our industry',\n",
       " 'Sudeep sir voice ....',\n",
       " \"Looking highvoltage action movie after KGF chapter's,Kiccha Sir Very authentic look of Bakshi over all very fantastic movie by R Chandru sir ,BGM Ravi Barsur ,UPPI sir bagge yen helenge ella loved \",\n",
       " 'itt ,waiting to ,',\n",
       " 'Watch in silver screen overall our Pride industry doing good content movies, Thankyou chandru sir &team giving good movie to our \"KANNADA INDUSTRY\" ',\n",
       " 'R Chandru hats off for your work and respect for your dedication towards kannada movie',\n",
       " 'Am really proud to be the kannada fan really happy with the trailer now hoping for the movie which fulfills in the same manner as the trailer did',\n",
       " 'Proud to be a Kannadiga ',\n",
       " '️',\n",
       " 'ಇತಿಹಾಸ ಸೃಷ್ಠಿ ಮಾಡುತ್ತೆ ಆದ್ರೆ ಪ್ರಮೋಶನ್ ಜಾಸ್ತಿ ಮಾಡಿ ಚಂದ್ರು ಅವ್ರೆ Crazy ',\n",
       " ' teaser All the Best From. Kichha Fans ',\n",
       " '️',\n",
       " 'Uppi, Kiccha, Shivanna, obobru entry gu theatre blast ',\n",
       " 'Everything is Perfect... BGM+ Dialogues+ Cinematography+ Upendra sir Look+ Kiccha & Shivanna sir Voice everything  Just Wow ',\n",
       " ' Our Proud our Kannada Cinema ',\n",
       " 'Pakka action packed trailer its just awesome ',\n",
       " 'This is the next level trailer ',\n",
       " '',\n",
       " 'Going to be ',\n",
       " \"Proud to say it's a kannada movie \",\n",
       " '️\\u200d',\n",
       " 'Omg what an Bgm action sequences... Waaaaa',\n",
       " \"Imagine the sound in the theatres listening to the bgm's by the brilliant Ravi basur\",\n",
       " ' Jai D Boss',\n",
       " 'Next level ',\n",
       " ' ',\n",
       " ' Uppi is back ',\n",
       " 'All the best UPPI sir',\n",
       " ' fan of D BOSS ',\n",
       " 'Trailer is interesting..',\n",
       " ' eagerly waiting..',\n",
       " 'The Real KING Is BACK To RULE KANNADA Industry ',\n",
       " 'ಇದೇ ರೀತಿ ಕನ್ನಡ ಸಿನಿಮಾ ಬೇಳಿಬೇಕು ಜೈ ಉಪ್ಪಿ ಬಾಸ್ ',\n",
       " '️',\n",
       " 'Hollywood, Bollywood, Tollywood  ಎಲ್ಲ ಕಡೆನೂ ಇಂದು SANDALWOODದೇ ದರ್ಭರ್...ಚಂದ್ರು ಸರ್ ಟ್ರೈಲರ್ ಮಾತ್ರ ',\n",
       " '& Thank you Amitabh sir for launching our Kannada movie Trailer',\n",
       " 'Goosebumps Triler',\n",
       " ' Uppi Sir',\n",
       " 'Jai Kiccha',\n",
       " 'Jai Uppi',\n",
       " 'I think this movie going to be join in hit list.... Hero looks promising ',\n",
       " 'DBOSS FANS ALWAYS BLESS KABZAA',\n",
       " 'Am really proud to be the kannada fan really happy with the trailer now hoping for the movie which fulfills in the same manner as the trailer did',\n",
       " 'Proud to be a Kannadiga ',\n",
       " '️',\n",
       " 'ಇತಿಹಾಸ ಸೃಷ್ಠಿ ಮಾಡುತ್ತೆ ಆದ್ರೆ ಪ್ರಮೋಶನ್ ಜಾಸ್ತಿ ಮಾಡಿ ಚಂದ್ರು ಅವ್ರೆ Crazy ',\n",
       " ' teaser All the Best From. Kichha Fans ',\n",
       " '️',\n",
       " 'Uppi, Kiccha, Shivanna, obobru entry gu theatre blast ',\n",
       " 'Everything is Perfect... BGM+ Dialogues+ Cinematography+ Upendra sir Look+ Kiccha & Shivanna sir Voice everything  Just Wow ',\n",
       " ' Our Proud our Kannada Cinema ',\n",
       " 'Pakka action packed trailer its just awesome ',\n",
       " 'This is the next level trailer ',\n",
       " '',\n",
       " 'Going to be ',\n",
       " \"Proud to say it's a kannada movie \",\n",
       " '️\\u200d',\n",
       " 'Omg what an Bgm action sequences... Waaaaa',\n",
       " \"Imagine the sound in the theatres listening to the bgm's by the brilliant Ravi basur\",\n",
       " ' Jai D Boss',\n",
       " 'Next level ',\n",
       " ' ',\n",
       " ' Uppi is back ',\n",
       " 'All the best UPPI sir',\n",
       " ' fan of D BOSS ',\n",
       " 'Trailer is interesting..',\n",
       " ' eagerly waiting..',\n",
       " 'The Real KING Is BACK To RULE KANNADA Industry ',\n",
       " 'ಇದೇ ರೀತಿ ಕನ್ನಡ ಸಿನಿಮಾ ಬೇಳಿಬೇಕು ಜೈ ಉಪ್ಪಿ ಬಾಸ್ ',\n",
       " '️',\n",
       " 'Hollywood, Bollywood, Tollywood  ಎಲ್ಲ ಕಡೆನೂ ಇಂದು SANDALWOODದೇ ದರ್ಭರ್...ಚಂದ್ರು ಸರ್ ಟ್ರೈಲರ್ ಮಾತ್ರ ',\n",
       " '& Thank you Amitabh sir for launching our Kannada movie Trailer',\n",
       " 'Goosebumps Triler',\n",
       " ' Uppi Sir',\n",
       " 'Jai Kiccha',\n",
       " 'Jai Uppi',\n",
       " 'I think this movie going to be join in hit list.... Hero looks promising ',\n",
       " 'DBOSS FANS ALWAYS BLESS KABZAA',\n",
       " 'Opening scene masssss ',\n",
       " \"Let's support Kannada movie and make it to reach all audience over India\",\n",
       " ' jai kiccha uppi  boss',\n",
       " 'This is what a pan Indian movie should look like and kabzaa is mind blowing ',\n",
       " 'Teaser of Kabzaa is really good happy with it all the best to Kabzaa team',\n",
       " '',\n",
       " 'Appu Boss fans Miss you boss',\n",
       " 'ಈ ಟ್ರೈಲರ್ ವರ್ಣಿಸಲು ಪದಗಳೇ ಇಲ್ಲ  ',\n",
       " ' ಸೂಪರ್ ಟ್ರೈಲರ್ ಸರ್ ',\n",
       " \"3 legend's in one frame \",\n",
       " 'His silency attitude. Just awesome ',\n",
       " \"Now'a day's KFI be like : \",\n",
       " '',\n",
       " \"It's our time to make history...\",\n",
       " '️',\n",
       " '',\n",
       " ' loading ...',\n",
       " '',\n",
       " 'Goosebumps gurrented..',\n",
       " '',\n",
       " '',\n",
       " '',\n",
       " 'As a dboss fan I wish to say that,this is the Best ever trailer released in kannada language',\n",
       " 'ಅದ್ಬುತವಾದ ಟ್ರೈಲರ್ ',\n",
       " '️',\n",
       " 'I love this trailer',\n",
       " 'Goosebumps ',\n",
       " 'All the best from d boss fans ',\n",
       " 'The \"Kabza\" trailer is an absolute masterpiece! The visuals, music, and action sequences are top-notch, and the \"Uppi ',\n",
       " ' sir\" performance is simply outstanding. I\\'m sure it\\'s going to break All indian box office records.',\n",
       " 'History repeat. All records kabza. ',\n",
       " '️',\n",
       " 'What a back ground music ',\n",
       " 'no one can stop Kfi only roaring ',\n",
       " 'That last bit of music was psych ',\n",
       " 'ಇಂತಹ ಸಿನಿಮಾಗಳು ನಮ್ಮ ಕನ್ನಡ ಚಿತ್ರರಂಗಕ್ಕೆ ಬೇಕಂದ್ರೆ ಆರ್ ಚಂದ್ರು ಅಂತ ಅದ್ಭುತ ನಿರ್ದೇಶಕರು ನಮಗೆ ಬೇಕು',\n",
       " 'ಕನ್ನಡದ ಕಬ್ಜ ಸಿನಮಾ ಇತಿಹಾಸ ಸೃಷ್ಠಿ ಮಾಡಬೇಕೆಂದು ಹಾರೈಸುತ್ತಾನೆ from appu fan ',\n",
       " '️',\n",
       " 'Every single scene shows the lots of hard work behind it',\n",
       " '',\n",
       " 'Will really cross 1000 crore all over India',\n",
       " 'Opening scene masssss ',\n",
       " \"Let's support Kannada movie and make it to reach all audience over India\",\n",
       " ' jai kiccha uppi  boss',\n",
       " 'This is what a pan Indian movie should look like and kabzaa is mind blowing ',\n",
       " 'Teaser of Kabzaa is really good happy with it all the best to Kabzaa team',\n",
       " '',\n",
       " 'Appu Boss fans Miss you boss',\n",
       " 'ಈ ಟ್ರೈಲರ್ ವರ್ಣಿಸಲು ಪದಗಳೇ ಇಲ್ಲ  ',\n",
       " ' ಸೂಪರ್ ಟ್ರೈಲರ್ ಸರ್ ',\n",
       " \"3 legend's in one frame \",\n",
       " 'His silency attitude. Just awesome ',\n",
       " \"Now'a day's KFI be like : \",\n",
       " '',\n",
       " \"It's our time to make history...\",\n",
       " '️',\n",
       " '',\n",
       " ' loading ...',\n",
       " '',\n",
       " 'Goosebumps gurrented..',\n",
       " '',\n",
       " '',\n",
       " '',\n",
       " 'As a dboss fan I wish to say that,this is the Best ever trailer released in kannada language',\n",
       " 'ಅದ್ಬುತವಾದ ಟ್ರೈಲರ್ ',\n",
       " '️',\n",
       " 'I love this trailer',\n",
       " 'Goosebumps ',\n",
       " 'All the best from d boss fans ',\n",
       " 'The \"Kabza\" trailer is an absolute masterpiece! The visuals, music, and action sequences are top-notch, and the \"Uppi ',\n",
       " ' sir\" performance is simply outstanding. I\\'m sure it\\'s going to break All indian box office records.',\n",
       " 'History repeat. All records kabza. ',\n",
       " '️',\n",
       " 'What a back ground music ',\n",
       " 'no one can stop Kfi only roaring ',\n",
       " 'That last bit of music was psych ',\n",
       " 'ಇಂತಹ ಸಿನಿಮಾಗಳು ನಮ್ಮ ಕನ್ನಡ ಚಿತ್ರರಂಗಕ್ಕೆ ಬೇಕಂದ್ರೆ ಆರ್ ಚಂದ್ರು ಅಂತ ಅದ್ಭುತ ನಿರ್ದೇಶಕರು ನಮಗೆ ಬೇಕು',\n",
       " 'ಕನ್ನಡದ ಕಬ್ಜ ಸಿನಮಾ ಇತಿಹಾಸ ಸೃಷ್ಠಿ ಮಾಡಬೇಕೆಂದು ಹಾರೈಸುತ್ತಾನೆ from appu fan ',\n",
       " '️',\n",
       " 'Every single scene shows the lots of hard work behind it',\n",
       " '',\n",
       " 'Will really cross 1000 crore all over India',\n",
       " 'Opening scene masssss ',\n",
       " \"Let's support Kannada movie and make it to reach all audience over India\",\n",
       " ' jai kiccha uppi  boss',\n",
       " 'This is what a pan Indian movie should look like and kabzaa is mind blowing ',\n",
       " 'Teaser of Kabzaa is really good happy with it all the best to Kabzaa team',\n",
       " '',\n",
       " 'Appu Boss fans Miss you boss',\n",
       " 'ಈ ಟ್ರೈಲರ್ ವರ್ಣಿಸಲು ಪದಗಳೇ ಇಲ್ಲ  ',\n",
       " ' ಸೂಪರ್ ಟ್ರೈಲರ್ ಸರ್ ',\n",
       " \"3 legend's in one frame \",\n",
       " 'His silency attitude. Just awesome ',\n",
       " \"Now'a day's KFI be like : \",\n",
       " '']"
      ]
     },
     "execution_count": 110,
     "metadata": {},
     "output_type": "execute_result"
    }
   ],
   "source": [
    "Vedio_Comments"
   ]
  },
  {
   "cell_type": "markdown",
   "id": "55ebc623",
   "metadata": {},
   "source": [
    "# Q9"
   ]
  },
  {
   "cell_type": "markdown",
   "id": "caff9045",
   "metadata": {},
   "source": [
    "Write a python program to scrape a data for all available Hostels from https://www.hostelworld.com/ in \n",
    "“London” location. You have to scrape hostel name, distance from city centre, ratings, total reviews, overall \n",
    "reviews, privates from price, dorms from price, facilities and property description. "
   ]
  },
  {
   "cell_type": "code",
   "execution_count": 5,
   "id": "bf72a257",
   "metadata": {},
   "outputs": [],
   "source": [
    "driver= webdriver.Chrome(r\"D:\\KN E D\\DS\\Internship\\chromedriver_win32.zip\\chromedriver.exe\")"
   ]
  },
  {
   "cell_type": "code",
   "execution_count": 6,
   "id": "7780ab38",
   "metadata": {},
   "outputs": [],
   "source": [
    "driver.get(\"https://www.hostelworld.com/\")"
   ]
  },
  {
   "cell_type": "code",
   "execution_count": 8,
   "id": "b5c7dfb6",
   "metadata": {},
   "outputs": [],
   "source": [
    "london_tag=driver.find_element(By.XPATH,\"/html/body/div[3]/div/div/div[2]/div[2]/div/div/div[4]/div/div[2]/div/div[1]/div/div/div/input\")\n",
    "london_tag.send_keys('London')"
   ]
  },
  {
   "cell_type": "code",
   "execution_count": 9,
   "id": "3bc82155",
   "metadata": {},
   "outputs": [],
   "source": [
    "search=driver.find_element(By.XPATH,\"/html/body/div[3]/div/div/div[2]/div[2]/div/div/div[4]/div/div[2]/div/div[1]/div/div/ul/li[2]/div\")\n",
    "search.click()"
   ]
  },
  {
   "cell_type": "code",
   "execution_count": 10,
   "id": "fa37318f",
   "metadata": {},
   "outputs": [],
   "source": [
    "Letsgo=driver.find_element(By.XPATH,\"/html/body/div[3]/div/div/div[2]/div[2]/div/div/div[4]/div/div[2]/div/div[5]/button\")\n",
    "Letsgo.click()"
   ]
  },
  {
   "cell_type": "code",
   "execution_count": null,
   "id": "ed566103",
   "metadata": {},
   "outputs": [],
   "source": [
    "#Rise a ticket Property_Description=[]\n",
    "#Description=driver.find_elements(By.XPATH,'//div[@class=\"has-wifi\"]')\n",
    "#for i in Description_tags:\n",
    " #   Description=i.text\n",
    " #   Property_Description.append(Description)\n"
   ]
  },
  {
   "cell_type": "code",
   "execution_count": 13,
   "id": "79df8512",
   "metadata": {},
   "outputs": [],
   "source": [
    "Hotel_Name=[]\n",
    "Distance_fromcitycentre=[]\n",
    "Hotel_Ratings=[]\n",
    "Total_Reviews=[]\n",
    "Overall_OReviews=[]\n",
    "Privates_PFromprice=[]\n",
    "Dorms_DFromprice=[]\n",
    "Hotel_Facilities=[]"
   ]
  },
  {
   "cell_type": "code",
   "execution_count": 14,
   "id": "8424bd0c",
   "metadata": {},
   "outputs": [],
   "source": [
    "Name_tags=driver.find_elements(By.XPATH,'//h2[@class=\"title title-6\"]')\n",
    "for i in Name_tags:\n",
    "    Name=i.text\n",
    "    Hotel_Name.append(Name)\n",
    "\n",
    "fromcitycentre_tags=driver.find_elements(By.XPATH,'//span[@class=\"description\"]')\n",
    "for i in fromcitycentre_tags:\n",
    "    fromcitycentre=i.text\n",
    "    Distance_fromcitycentre.append(fromcitycentre)\n",
    "    \n",
    "Ratings_tags=driver.find_elements(By.XPATH,'//div[@class=\"score orange big\"]')\n",
    "for i in Ratings_tags:\n",
    "    Ratings=i.text\n",
    "    Hotel_Ratings.append(Ratings)\n",
    "    \n",
    "Reviews_tags=driver.find_elements(By.XPATH,'//div[@class=\"reviews\"]')\n",
    "for i in Reviews_tags:\n",
    "    Reviews=i.text\n",
    "    Total_Reviews.append(Reviews)\n",
    "    \n",
    "OReviews_tags=driver.find_elements(By.XPATH,'//div[@class=\"keyword\"]')\n",
    "for i in OReviews_tags:\n",
    "    OReviews=i.text\n",
    "    Overall_OReviews.append(OReviews)\n",
    "    \n",
    "PFromprice_tags=driver.find_elements(By.XPATH,'//div[@class=\"price-col\"]')\n",
    "for i in PFromprice_tags:\n",
    "    PFromprice=i.text\n",
    "    Privates_PFromprice.append(PFromprice)\n",
    "    \n",
    "DFromprice_tags=driver.find_elements(By.XPATH,'//div[@class=\"price-col\"]')\n",
    "for i in DFromprice_tags:\n",
    "    DFromprice=i.text\n",
    "    Dorms_DFromprice.append(DFromprice)\n",
    "    \n",
    "Facilities_tags=driver.find_elements(By.XPATH,'//div[@class=\"has-wifi\"]')\n",
    "for i in Facilities_tags:\n",
    "    Facilities=i.text\n",
    "    Hotel_Facilities.append(Facilities) \n",
    "    \n",
    "\n"
   ]
  },
  {
   "cell_type": "code",
   "execution_count": 15,
   "id": "fbc196b4",
   "metadata": {},
   "outputs": [
    {
     "name": "stdout",
     "output_type": "stream",
     "text": [
      "30 30 28 30 31 60 60 27\n"
     ]
    }
   ],
   "source": [
    "print(len(Hotel_Name),len(Distance_fromcitycentre),len(Hotel_Ratings),len(Total_Reviews),len(Overall_OReviews),len(Privates_PFromprice),len(Dorms_DFromprice),len(Hotel_Facilities))"
   ]
  },
  {
   "cell_type": "code",
   "execution_count": 16,
   "id": "490ef5e4",
   "metadata": {},
   "outputs": [
    {
     "data": {
      "text/plain": [
       "[\"Wombat's City Hostel London\",\n",
       " \"St Christopher's Village\",\n",
       " 'Hostel One Notting Hill',\n",
       " 'Generator London',\n",
       " 'Pickwick Hall',\n",
       " 'Smart Hyde Park Inn Hostel',\n",
       " 'NX London Hostel',\n",
       " 'Urbany Hostel London',\n",
       " 'Safestay London Elephant & Castle',\n",
       " 'No.8 Willesden Hostel London',\n",
       " 'Safestay London Kensington Holland Park',\n",
       " \"St Christopher's Camden\",\n",
       " 'Phoenix Hostel',\n",
       " 'No.8 Seven Sisters',\n",
       " 'Smart Camden Inn Hostel',\n",
       " \"St Christopher's Hammersmith\",\n",
       " 'Prime Backpackers Angel',\n",
       " 'London Backpackers',\n",
       " 'Barmy Badger Backpackers',\n",
       " 'Clink261',\n",
       " 'Smart Hyde Park View Hostel',\n",
       " 'PubLove @ The Steam Engine, Waterloo',\n",
       " 'Astor Kensington',\n",
       " \"St Christopher's Greenwich\",\n",
       " 'Park Villa',\n",
       " 'Kensal Green Backpackers',\n",
       " 'Saint James Backpackers',\n",
       " 'Strand Continental',\n",
       " 'Hootananny Hostel',\n",
       " 'PubLove @ The Crown, Battersea']"
      ]
     },
     "execution_count": 16,
     "metadata": {},
     "output_type": "execute_result"
    }
   ],
   "source": [
    "Hotel_Name"
   ]
  },
  {
   "cell_type": "code",
   "execution_count": 17,
   "id": "170ca837",
   "metadata": {},
   "outputs": [
    {
     "data": {
      "text/plain": [
       "['Hostel - 3.6km from city centre',\n",
       " 'Hostel - 1.8km from city centre',\n",
       " 'Hostel - 5.5km from city centre',\n",
       " 'Hostel - 3km from city centre',\n",
       " 'Hostel - 2.3km from city centre',\n",
       " 'Hostel - 5km from city centre',\n",
       " 'Hostel - 6.1km from city centre',\n",
       " 'Hostel - 5.4km from city centre',\n",
       " 'Hostel - 1.7km from city centre',\n",
       " 'Hostel - 10km from city centre',\n",
       " 'Hostel - 5.8km from city centre',\n",
       " 'Hostel - 4.3km from city centre',\n",
       " 'Hostel - 4.2km from city centre',\n",
       " 'Hostel - 9km from city centre',\n",
       " 'Hostel - 4.4km from city centre',\n",
       " 'Hostel - 7.5km from city centre',\n",
       " 'Hostel - 3.6km from city centre',\n",
       " 'Hostel - 11.9km from city centre',\n",
       " 'Hostel - 5.5km from city centre',\n",
       " 'Hostel - 3.2km from city centre',\n",
       " 'Hostel - 4.8km from city centre',\n",
       " 'Hostel - 0.5km from city centre',\n",
       " 'Hostel - 4.9km from city centre',\n",
       " 'Hostel - 7.6km from city centre',\n",
       " 'Hostel - 6.3km from city centre',\n",
       " 'Hostel - 8.2km from city centre',\n",
       " 'Hostel - 5.5km from city centre',\n",
       " 'Hostel - 1.3km from city centre',\n",
       " 'Hostel - 5km from city centre',\n",
       " 'Hostel - 4.7km from city centre']"
      ]
     },
     "execution_count": 17,
     "metadata": {},
     "output_type": "execute_result"
    }
   ],
   "source": [
    "Distance_fromcitycentre"
   ]
  },
  {
   "cell_type": "code",
   "execution_count": 18,
   "id": "923d3ea2",
   "metadata": {},
   "outputs": [
    {
     "data": {
      "text/plain": [
       "['8.9',\n",
       " '7.8',\n",
       " '9.4',\n",
       " '7.4',\n",
       " '8.7',\n",
       " '7.5',\n",
       " '8.0',\n",
       " '9.1',\n",
       " '7.3',\n",
       " '6.7',\n",
       " '7.3',\n",
       " '8.0',\n",
       " '7.1',\n",
       " '8.1',\n",
       " '7.6',\n",
       " '8.1',\n",
       " '7.7',\n",
       " '8.9',\n",
       " '8.3',\n",
       " '8.0',\n",
       " '8.0',\n",
       " '8.0',\n",
       " '7.1',\n",
       " '9.0',\n",
       " '7.6',\n",
       " '7.1',\n",
       " '7.6',\n",
       " '7.3']"
      ]
     },
     "execution_count": 18,
     "metadata": {},
     "output_type": "execute_result"
    }
   ],
   "source": [
    "Hotel_Ratings"
   ]
  },
  {
   "cell_type": "code",
   "execution_count": 19,
   "id": "a60b0469",
   "metadata": {},
   "outputs": [
    {
     "data": {
      "text/plain": [
       "['14623 Total Reviews',\n",
       " '11977 Total Reviews',\n",
       " '1809 Total Reviews',\n",
       " '7383 Total Reviews',\n",
       " '2575 Total Reviews',\n",
       " '6529 Total Reviews',\n",
       " '1706 Total Reviews',\n",
       " '681 Total Reviews',\n",
       " '4856 Total Reviews',\n",
       " '4957 Total Reviews',\n",
       " '1450 Total Reviews',\n",
       " '3997 Total Reviews',\n",
       " '3996 Total Reviews',\n",
       " '3968 Total Reviews',\n",
       " '3037 Total Reviews',\n",
       " '4207 Total Reviews',\n",
       " '715 Total Reviews',\n",
       " '4424 Total Reviews',\n",
       " '1895 Total Reviews',\n",
       " '202 Total Reviews',\n",
       " '4678 Total Reviews',\n",
       " '375 Total Reviews',\n",
       " '6470 Total Reviews',\n",
       " '3317 Total Reviews',\n",
       " '886 Total Reviews',\n",
       " '3702 Total Reviews',\n",
       " '1868 Total Reviews',\n",
       " '941 Total Reviews',\n",
       " '1497 Total Reviews',\n",
       " '294 Total Reviews']"
      ]
     },
     "execution_count": 19,
     "metadata": {},
     "output_type": "execute_result"
    }
   ],
   "source": [
    "Total_Reviews"
   ]
  },
  {
   "cell_type": "code",
   "execution_count": 21,
   "id": "86a67669",
   "metadata": {},
   "outputs": [
    {
     "data": {
      "text/plain": [
       "['Very Good',\n",
       " 'Fabulous',\n",
       " 'Very Good',\n",
       " 'Superb',\n",
       " 'Very Good',\n",
       " 'Fabulous',\n",
       " 'Very Good',\n",
       " 'Fabulous',\n",
       " 'Superb',\n",
       " 'Very Good',\n",
       " 'Good',\n",
       " 'Very Good',\n",
       " 'Fabulous',\n",
       " 'Very Good',\n",
       " 'Rating',\n",
       " 'Fabulous',\n",
       " 'Very Good',\n",
       " 'Fabulous',\n",
       " 'Very Good',\n",
       " 'Fabulous',\n",
       " 'Fabulous',\n",
       " 'Fabulous',\n",
       " 'Fabulous',\n",
       " 'Fabulous',\n",
       " 'Very Good',\n",
       " 'Superb',\n",
       " 'Rating',\n",
       " 'Very Good',\n",
       " 'Very Good',\n",
       " 'Very Good',\n",
       " 'Very Good']"
      ]
     },
     "execution_count": 21,
     "metadata": {},
     "output_type": "execute_result"
    }
   ],
   "source": [
    "Overall_OReviews"
   ]
  },
  {
   "cell_type": "code",
   "execution_count": 25,
   "id": "5e3e5a70",
   "metadata": {},
   "outputs": [
    {
     "data": {
      "text/plain": [
       "['Privates From\\nRs28990.54 Rs23192',\n",
       " 'Dorms From\\nRs4442.82 Rs3554',\n",
       " 'No Privates Available',\n",
       " 'Dorms From\\nRs1701.99 Rs1532',\n",
       " 'Privates From\\nRs15670',\n",
       " 'Dorms From\\nRs2886',\n",
       " 'Privates From\\nRs9246',\n",
       " 'Dorms From\\nRs1994',\n",
       " 'Privates From\\nRs12800',\n",
       " 'No Dorms Available',\n",
       " 'Privates From\\nRs11710.76 Rs10540',\n",
       " 'No Dorms Available',\n",
       " 'No Privates Available',\n",
       " 'Dorms From\\nRs2594.46 Rs2205',\n",
       " 'No Privates Available',\n",
       " 'Dorms From\\nRs2796',\n",
       " 'Privates From\\nRs7089',\n",
       " 'Dorms From\\nRs1507',\n",
       " 'Privates From\\nRs2949',\n",
       " 'Dorms From\\nRs1341',\n",
       " 'No Privates Available',\n",
       " 'Dorms From\\nRs1507',\n",
       " 'No Privates Available',\n",
       " 'Dorms From\\nRs1810.3 Rs1629',\n",
       " 'No Privates Available',\n",
       " 'Dorms From\\nRs1713.29 Rs1628',\n",
       " 'No Privates Available',\n",
       " 'Dorms From\\nRs1488',\n",
       " 'No Privates Available',\n",
       " 'Dorms From\\nRs1956',\n",
       " 'No Privates Available',\n",
       " 'Dorms From\\nRs1738.09 Rs1564',\n",
       " 'No Privates Available',\n",
       " 'Dorms From\\nRs2748',\n",
       " 'Privates From\\nRs7178',\n",
       " 'Dorms From\\nRs1772',\n",
       " 'Privates From\\nRs8566',\n",
       " 'Dorms From\\nRs2987',\n",
       " 'No Privates Available',\n",
       " 'Dorms From\\nRs2078',\n",
       " 'No Privates Available',\n",
       " 'Dorms From\\nRs1950',\n",
       " 'No Privates Available',\n",
       " 'Dorms From\\nRs3446',\n",
       " 'No Privates Available',\n",
       " 'Dorms From\\nRs1772',\n",
       " 'No Privates Available',\n",
       " 'Dorms From\\nRs1610.09 Rs1449',\n",
       " 'No Privates Available',\n",
       " 'Dorms From\\nRs4332',\n",
       " 'Privates From\\nRs7157',\n",
       " 'Dorms From\\nRs2659',\n",
       " 'Privates From\\nRs8781',\n",
       " 'Dorms From\\nRs2560',\n",
       " 'Privates From\\nRs8370',\n",
       " 'Dorms From\\nRs3348',\n",
       " 'No Privates Available',\n",
       " 'Dorms From\\nRs2463',\n",
       " 'No Privates Available',\n",
       " 'Dorms From\\nRs2626']"
      ]
     },
     "execution_count": 25,
     "metadata": {},
     "output_type": "execute_result"
    }
   ],
   "source": [
    "Privates_PFromprice"
   ]
  },
  {
   "cell_type": "code",
   "execution_count": 26,
   "id": "eee68265",
   "metadata": {},
   "outputs": [
    {
     "data": {
      "text/plain": [
       "['Privates From\\nRs28990.54 Rs23192',\n",
       " 'Dorms From\\nRs4442.82 Rs3554',\n",
       " 'No Privates Available',\n",
       " 'Dorms From\\nRs1701.99 Rs1532',\n",
       " 'Privates From\\nRs15670',\n",
       " 'Dorms From\\nRs2886',\n",
       " 'Privates From\\nRs9246',\n",
       " 'Dorms From\\nRs1994',\n",
       " 'Privates From\\nRs12800',\n",
       " 'No Dorms Available',\n",
       " 'Privates From\\nRs11710.76 Rs10540',\n",
       " 'No Dorms Available',\n",
       " 'No Privates Available',\n",
       " 'Dorms From\\nRs2594.46 Rs2205',\n",
       " 'No Privates Available',\n",
       " 'Dorms From\\nRs2796',\n",
       " 'Privates From\\nRs7089',\n",
       " 'Dorms From\\nRs1507',\n",
       " 'Privates From\\nRs2949',\n",
       " 'Dorms From\\nRs1341',\n",
       " 'No Privates Available',\n",
       " 'Dorms From\\nRs1507',\n",
       " 'No Privates Available',\n",
       " 'Dorms From\\nRs1810.3 Rs1629',\n",
       " 'No Privates Available',\n",
       " 'Dorms From\\nRs1713.29 Rs1628',\n",
       " 'No Privates Available',\n",
       " 'Dorms From\\nRs1488',\n",
       " 'No Privates Available',\n",
       " 'Dorms From\\nRs1956',\n",
       " 'No Privates Available',\n",
       " 'Dorms From\\nRs1738.09 Rs1564',\n",
       " 'No Privates Available',\n",
       " 'Dorms From\\nRs2748',\n",
       " 'Privates From\\nRs7178',\n",
       " 'Dorms From\\nRs1772',\n",
       " 'Privates From\\nRs8566',\n",
       " 'Dorms From\\nRs2987',\n",
       " 'No Privates Available',\n",
       " 'Dorms From\\nRs2078',\n",
       " 'No Privates Available',\n",
       " 'Dorms From\\nRs1950',\n",
       " 'No Privates Available',\n",
       " 'Dorms From\\nRs3446',\n",
       " 'No Privates Available',\n",
       " 'Dorms From\\nRs1772',\n",
       " 'No Privates Available',\n",
       " 'Dorms From\\nRs1610.09 Rs1449',\n",
       " 'No Privates Available',\n",
       " 'Dorms From\\nRs4332',\n",
       " 'Privates From\\nRs7157',\n",
       " 'Dorms From\\nRs2659',\n",
       " 'Privates From\\nRs8781',\n",
       " 'Dorms From\\nRs2560',\n",
       " 'Privates From\\nRs8370',\n",
       " 'Dorms From\\nRs3348',\n",
       " 'No Privates Available',\n",
       " 'Dorms From\\nRs2463',\n",
       " 'No Privates Available',\n",
       " 'Dorms From\\nRs2626']"
      ]
     },
     "execution_count": 26,
     "metadata": {},
     "output_type": "execute_result"
    }
   ],
   "source": [
    "Dorms_DFromprice"
   ]
  },
  {
   "cell_type": "code",
   "execution_count": 27,
   "id": "7ca2a4ee",
   "metadata": {},
   "outputs": [
    {
     "data": {
      "text/plain": [
       "['Free WiFi',\n",
       " 'Free WiFi',\n",
       " 'Free WiFi',\n",
       " 'Free WiFi',\n",
       " 'Free WiFi',\n",
       " 'Free WiFi',\n",
       " 'Free WiFi',\n",
       " 'Free WiFi',\n",
       " 'Free WiFi',\n",
       " 'Free WiFi',\n",
       " 'Free WiFi',\n",
       " 'Free WiFi',\n",
       " 'Free WiFi',\n",
       " 'Free WiFi',\n",
       " 'Free WiFi',\n",
       " 'Free WiFi',\n",
       " 'Free WiFi',\n",
       " 'Free WiFi',\n",
       " 'Free WiFi',\n",
       " 'Free WiFi',\n",
       " 'Free WiFi',\n",
       " 'Free WiFi',\n",
       " 'Free WiFi',\n",
       " 'Free WiFi',\n",
       " 'Free WiFi',\n",
       " 'Free WiFi',\n",
       " 'Free WiFi']"
      ]
     },
     "execution_count": 27,
     "metadata": {},
     "output_type": "execute_result"
    }
   ],
   "source": [
    "Hotel_Facilities"
   ]
  },
  {
   "cell_type": "markdown",
   "id": "b185dc89",
   "metadata": {},
   "source": [
    "# Q3"
   ]
  },
  {
   "cell_type": "code",
   "execution_count": 78,
   "id": "b89cf97a",
   "metadata": {},
   "outputs": [],
   "source": [
    "driver= webdriver.Chrome(r\"D:\\KN E D\\DS\\Internship\\chromedriver_win32.zip\\chromedriver.exe\")"
   ]
  },
  {
   "cell_type": "code",
   "execution_count": 79,
   "id": "ecabe5f9",
   "metadata": {},
   "outputs": [],
   "source": [
    "driver.get(\"https://www.flipkart.com/\")"
   ]
  },
  {
   "cell_type": "code",
   "execution_count": 80,
   "id": "c3797f2d",
   "metadata": {},
   "outputs": [],
   "source": [
    "closetab=driver.find_element(By.XPATH,\"/html/body/div[2]/div/div/button\")\n",
    "closetab.click()"
   ]
  },
  {
   "cell_type": "code",
   "execution_count": 81,
   "id": "f9c19a93",
   "metadata": {},
   "outputs": [],
   "source": [
    "Psearch=driver.find_element(By.CLASS_NAME,\"_3704LK\")\n",
    "Psearch.send_keys('Oneplus Nord')"
   ]
  },
  {
   "cell_type": "code",
   "execution_count": 82,
   "id": "94ecb3b3",
   "metadata": {},
   "outputs": [],
   "source": [
    "search=driver.find_element(By.CLASS_NAME,\"L0Z3Pu\")\n",
    "search.click()"
   ]
  },
  {
   "cell_type": "code",
   "execution_count": 84,
   "id": "8f094050",
   "metadata": {},
   "outputs": [],
   "source": [
    "#fetching url to open each job\n",
    "job_opening_url = []\n",
    "start=0\n",
    "end=1\n",
    "for page in range(start,end):\n",
    "    url= driver.find_elements(By.XPATH,'//a[@class=\"_1fQZEK\"]')\n",
    "    for i in url:\n",
    "        job_opening_url.append(i.get_attribute('href'))#to retrive any link we use get_attribute\n",
    "    next_button=driver.find_elements(By.XPATH,\"/html/body/div[1]/div/div[3]/div[1]/div[2]/div[26]/div/div/nav/a[3]\")"
   ]
  },
  {
   "cell_type": "code",
   "execution_count": 85,
   "id": "b641226f",
   "metadata": {},
   "outputs": [
    {
     "data": {
      "text/plain": [
       "24"
      ]
     },
     "execution_count": 85,
     "metadata": {},
     "output_type": "execute_result"
    }
   ],
   "source": [
    "len(job_opening_url)"
   ]
  },
  {
   "cell_type": "code",
   "execution_count": 86,
   "id": "922c55b7",
   "metadata": {},
   "outputs": [
    {
     "data": {
      "text/plain": [
       "['https://www.flipkart.com/oneplus-nord-ce-2-lite-5g-blue-tide-128-gb/p/itm7acae55b999e6?pid=MOBGMFREBAHZQGY9&lid=LSTMOBGMFREBAHZQGY9IP1D4X&marketplace=FLIPKART&q=Oneplus+Nord&store=tyy%2F4io&srno=s_1_1&otracker=search&otracker1=search&fm=organic&iid=131dcf4a-5a59-4a70-808e-7e94ea92f601.MOBGMFREBAHZQGY9.SEARCH&ppt=hp&ppn=homepage&ssid=4n375vtt1c0000001678121037693&qH=53863d4d978d5074',\n",
       " 'https://www.flipkart.com/oneplus-nord-ce-2-lite-5g-blue-tide-128-gb/p/itm7acae55b999e6?pid=MOBGHBNGY5NDH3GV&lid=LSTMOBGHBNGY5NDH3GVAIZDNM&marketplace=FLIPKART&q=Oneplus+Nord&store=tyy%2F4io&srno=s_1_2&otracker=search&otracker1=search&fm=organic&iid=131dcf4a-5a59-4a70-808e-7e94ea92f601.MOBGHBNGY5NDH3GV.SEARCH&ppt=hp&ppn=homepage&ssid=4n375vtt1c0000001678121037693&qH=53863d4d978d5074',\n",
       " 'https://www.flipkart.com/oneplus-nord-ce-5g-silver-ray-256-gb/p/itmc4c02029d9c90?pid=MOBGDM5SUVH9VMZD&lid=LSTMOBGDM5SUVH9VMZDXXIG5M&marketplace=FLIPKART&q=Oneplus+Nord&store=tyy%2F4io&spotlightTagId=TrendingId_tyy%2F4io&srno=s_1_3&otracker=search&otracker1=search&fm=organic&iid=131dcf4a-5a59-4a70-808e-7e94ea92f601.MOBGDM5SUVH9VMZD.SEARCH&ppt=hp&ppn=homepage&ssid=4n375vtt1c0000001678121037693&qH=53863d4d978d5074',\n",
       " 'https://www.flipkart.com/oneplus-nord-ce-5g-charcoal-ink-128-gb/p/itmc4c02029d9c90?pid=MOBGDM4D6RNZR2SA&lid=LSTMOBGDM4D6RNZR2SA9QQN6E&marketplace=FLIPKART&q=Oneplus+Nord&store=tyy%2F4io&srno=s_1_4&otracker=search&otracker1=search&fm=organic&iid=131dcf4a-5a59-4a70-808e-7e94ea92f601.MOBGDM4D6RNZR2SA.SEARCH&ppt=hp&ppn=homepage&ssid=4n375vtt1c0000001678121037693&qH=53863d4d978d5074',\n",
       " 'https://www.flipkart.com/oneplus-nord-ce-2-lite-5g-black-dusk-128-gb/p/itm537fc2aa73747?pid=MOBGHBZHB7YJT5HF&lid=LSTMOBGHBZHB7YJT5HFKKNVFF&marketplace=FLIPKART&q=Oneplus+Nord&store=tyy%2F4io&srno=s_1_5&otracker=search&otracker1=search&fm=organic&iid=131dcf4a-5a59-4a70-808e-7e94ea92f601.MOBGHBZHB7YJT5HF.SEARCH&ppt=hp&ppn=homepage&ssid=4n375vtt1c0000001678121037693&qH=53863d4d978d5074',\n",
       " 'https://www.flipkart.com/oneplus-nord-2t-5g-jade-fog-128-gb/p/itm31ac32e308282?pid=MOBGHBZHFAUYKH3U&lid=LSTMOBGHBZHFAUYKH3UBOO0MO&marketplace=FLIPKART&q=Oneplus+Nord&store=tyy%2F4io&srno=s_1_6&otracker=search&otracker1=search&fm=organic&iid=131dcf4a-5a59-4a70-808e-7e94ea92f601.MOBGHBZHFAUYKH3U.SEARCH&ppt=hp&ppn=homepage&ssid=4n375vtt1c0000001678121037693&qH=53863d4d978d5074',\n",
       " 'https://www.flipkart.com/oneplus-nord-2-5g-gray-sierra-128-gb/p/itmd16c63dadf5c5?pid=MOBGDBFFA5EGECHQ&lid=LSTMOBGDBFFA5EGECHQQKVBBR&marketplace=FLIPKART&q=Oneplus+Nord&store=tyy%2F4io&srno=s_1_7&otracker=search&otracker1=search&fm=organic&iid=131dcf4a-5a59-4a70-808e-7e94ea92f601.MOBGDBFFA5EGECHQ.SEARCH&ppt=hp&ppn=homepage&ssid=4n375vtt1c0000001678121037693&qH=53863d4d978d5074',\n",
       " 'https://www.flipkart.com/oneplus-nord-ce-5g-blue-void-256-gb/p/itmc4c02029d9c90?pid=MOBGDTZ8HJVDQZSN&lid=LSTMOBGDTZ8HJVDQZSNMTRPQK&marketplace=FLIPKART&q=Oneplus+Nord&store=tyy%2F4io&srno=s_1_8&otracker=search&otracker1=search&fm=organic&iid=131dcf4a-5a59-4a70-808e-7e94ea92f601.MOBGDTZ8HJVDQZSN.SEARCH&ppt=hp&ppn=homepage&ssid=4n375vtt1c0000001678121037693&qH=53863d4d978d5074',\n",
       " 'https://www.flipkart.com/oneplus-nord-ce-5g-charcoal-ink-256-gb/p/itmc4c02029d9c90?pid=MOBGDM4JGS4AUQRN&lid=LSTMOBGDM4JGS4AUQRNGASBBY&marketplace=FLIPKART&q=Oneplus+Nord&store=tyy%2F4io&srno=s_1_9&otracker=search&otracker1=search&fm=organic&iid=131dcf4a-5a59-4a70-808e-7e94ea92f601.MOBGDM4JGS4AUQRN.SEARCH&ppt=hp&ppn=homepage&ssid=4n375vtt1c0000001678121037693&qH=53863d4d978d5074',\n",
       " 'https://www.flipkart.com/oneplus-nord-2t-5g-gray-shadow-128-gb/p/itmeadf76c1e8943?pid=MOBGHBZH2S8MWQGQ&lid=LSTMOBGHBZH2S8MWQGQ4WO33L&marketplace=FLIPKART&q=Oneplus+Nord&store=tyy%2F4io&srno=s_1_10&otracker=search&otracker1=search&fm=organic&iid=131dcf4a-5a59-4a70-808e-7e94ea92f601.MOBGHBZH2S8MWQGQ.SEARCH&ppt=hp&ppn=homepage&ssid=4n375vtt1c0000001678121037693&qH=53863d4d978d5074',\n",
       " 'https://www.flipkart.com/oneplus-nord-ce-2-lite-5g-black-dusk-128-gb/p/itmc56272cceee9d?pid=MOBGHBZHQMNV4KKS&lid=LSTMOBGHBZHQMNV4KKSXVXFXQ&marketplace=FLIPKART&q=Oneplus+Nord&store=tyy%2F4io&srno=s_1_11&otracker=search&otracker1=search&fm=organic&iid=131dcf4a-5a59-4a70-808e-7e94ea92f601.MOBGHBZHQMNV4KKS.SEARCH&ppt=hp&ppn=homepage&ssid=4n375vtt1c0000001678121037693&qH=53863d4d978d5074',\n",
       " 'https://www.flipkart.com/oneplus-nord-ce-2-5g-gray-mirror-128-gb/p/itm33d69f9705a3d?pid=MOBGHHZGCZHJR938&lid=LSTMOBGHHZGCZHJR938SOVHYZ&marketplace=FLIPKART&q=Oneplus+Nord&store=tyy%2F4io&spotlightTagId=TrendingId_tyy%2F4io&srno=s_1_12&otracker=search&otracker1=search&fm=organic&iid=131dcf4a-5a59-4a70-808e-7e94ea92f601.MOBGHHZGCZHJR938.SEARCH&ppt=hp&ppn=homepage&ssid=4n375vtt1c0000001678121037693&qH=53863d4d978d5074',\n",
       " 'https://www.flipkart.com/oneplus-nord-2-5g-blue-haze-256-gb/p/itmd16c63dadf5c5?pid=MOBGDBFHW7596ZTU&lid=LSTMOBGDBFHW7596ZTUTRT8EP&marketplace=FLIPKART&q=Oneplus+Nord&store=tyy%2F4io&srno=s_1_13&otracker=search&otracker1=search&fm=organic&iid=131dcf4a-5a59-4a70-808e-7e94ea92f601.MOBGDBFHW7596ZTU.SEARCH&ppt=hp&ppn=homepage&ssid=4n375vtt1c0000001678121037693&qH=53863d4d978d5074',\n",
       " 'https://www.flipkart.com/oneplus-nord-2-5g-blue-haze-128-gb/p/itmd16c63dadf5c5?pid=MOBGDBFJXFJPVWKA&lid=LSTMOBGDBFJXFJPVWKA9WW7RD&marketplace=FLIPKART&q=Oneplus+Nord&store=tyy%2F4io&srno=s_1_14&otracker=search&otracker1=search&fm=organic&iid=131dcf4a-5a59-4a70-808e-7e94ea92f601.MOBGDBFJXFJPVWKA.SEARCH&ppt=hp&ppn=homepage&ssid=4n375vtt1c0000001678121037693&qH=53863d4d978d5074',\n",
       " 'https://www.flipkart.com/oneplus-nord-ce-2-5g-gray-mirror-128-gb/p/itm4644f5bbeb9bb?pid=MOBGKN6FDR7TNMHS&lid=LSTMOBGKN6FDR7TNMHSL5NRW1&marketplace=FLIPKART&q=Oneplus+Nord&store=tyy%2F4io&srno=s_1_15&otracker=search&otracker1=search&fm=organic&iid=131dcf4a-5a59-4a70-808e-7e94ea92f601.MOBGKN6FDR7TNMHS.SEARCH&ppt=hp&ppn=homepage&ssid=4n375vtt1c0000001678121037693&qH=53863d4d978d5074',\n",
       " 'https://www.flipkart.com/oneplus-nord-ce-5g-blue-void-128-gb/p/itmc4c02029d9c90?pid=MOBGDM4QYUZKNAR4&lid=LSTMOBGDM4QYUZKNAR4TI51KT&marketplace=FLIPKART&q=Oneplus+Nord&store=tyy%2F4io&srno=s_1_16&otracker=search&otracker1=search&fm=organic&iid=131dcf4a-5a59-4a70-808e-7e94ea92f601.MOBGDM4QYUZKNAR4.SEARCH&ppt=hp&ppn=homepage&ssid=4n375vtt1c0000001678121037693&qH=53863d4d978d5074',\n",
       " 'https://www.flipkart.com/oneplus-nord-ce-5g-charcoal-ink-128-gb/p/itmc4c02029d9c90?pid=MOBGDM46BMYENNJN&lid=LSTMOBGDM46BMYENNJNXCWS2A&marketplace=FLIPKART&q=Oneplus+Nord&store=tyy%2F4io&srno=s_1_17&otracker=search&otracker1=search&fm=organic&iid=131dcf4a-5a59-4a70-808e-7e94ea92f601.MOBGDM46BMYENNJN.SEARCH&ppt=hp&ppn=homepage&ssid=4n375vtt1c0000001678121037693&qH=53863d4d978d5074',\n",
       " 'https://www.flipkart.com/oneplus-nord-ce-5g-silver-ray-128-gb/p/itmc4c02029d9c90?pid=MOBGDM57QA9WVYBK&lid=LSTMOBGDM57QA9WVYBK9RKH07&marketplace=FLIPKART&q=Oneplus+Nord&store=tyy%2F4io&srno=s_1_18&otracker=search&otracker1=search&fm=organic&iid=131dcf4a-5a59-4a70-808e-7e94ea92f601.MOBGDM57QA9WVYBK.SEARCH&ppt=hp&ppn=homepage&ssid=4n375vtt1c0000001678121037693&qH=53863d4d978d5074',\n",
       " 'https://www.flipkart.com/oneplus-nord-ce-5g-silver-gray-128-gb/p/itmc4c02029d9c90?pid=MOBGDM5FDYUKKJQG&lid=LSTMOBGDM5FDYUKKJQGJNGKMI&marketplace=FLIPKART&q=Oneplus+Nord&store=tyy%2F4io&srno=s_1_19&otracker=search&otracker1=search&fm=organic&iid=131dcf4a-5a59-4a70-808e-7e94ea92f601.MOBGDM5FDYUKKJQG.SEARCH&ppt=hp&ppn=homepage&ssid=4n375vtt1c0000001678121037693&qH=53863d4d978d5074',\n",
       " 'https://www.flipkart.com/oneplus-nord-ce-2-5g-bahama-blue-128-gb/p/itm2a9883679c57c?pid=MOBGJMUH64MTF6PK&lid=LSTMOBGJMUH64MTF6PKUUE9II&marketplace=FLIPKART&q=Oneplus+Nord&store=tyy%2F4io&srno=s_1_20&otracker=search&otracker1=search&fm=organic&iid=131dcf4a-5a59-4a70-808e-7e94ea92f601.MOBGJMUH64MTF6PK.SEARCH&ppt=hp&ppn=homepage&ssid=4n375vtt1c0000001678121037693&qH=53863d4d978d5074',\n",
       " 'https://www.flipkart.com/oneplus-nord-2t-5g-jade-fog-256-gb/p/itm97eda8b1a1566?pid=MOBGHBZHF4YCMGZY&lid=LSTMOBGHBZHF4YCMGZYFNFMJN&marketplace=FLIPKART&q=Oneplus+Nord&store=tyy%2F4io&srno=s_1_21&otracker=search&otracker1=search&fm=organic&iid=131dcf4a-5a59-4a70-808e-7e94ea92f601.MOBGHBZHF4YCMGZY.SEARCH&ppt=hp&ppn=homepage&ssid=4n375vtt1c0000001678121037693&qH=53863d4d978d5074',\n",
       " 'https://www.flipkart.com/oneplus-nord-2t-5g-gray-shadow-256-gb/p/itm97eda8b1a1566?pid=MOBGHBZHNPGQGXJY&lid=LSTMOBGHBZHNPGQGXJYYCGWX0&marketplace=FLIPKART&q=Oneplus+Nord&store=tyy%2F4io&srno=s_1_22&otracker=search&otracker1=search&fm=organic&iid=131dcf4a-5a59-4a70-808e-7e94ea92f601.MOBGHBZHNPGQGXJY.SEARCH&ppt=hp&ppn=homepage&ssid=4n375vtt1c0000001678121037693&qH=53863d4d978d5074',\n",
       " 'https://www.flipkart.com/oneplus-nord-ce-5g-blue-void-128-gb/p/itmd6dcbd8116ed1?pid=MOBGDM4UUD2FDBPH&lid=LSTMOBGDM4UUD2FDBPHAJNBM9&marketplace=FLIPKART&q=Oneplus+Nord&store=tyy%2F4io&srno=s_1_23&otracker=search&otracker1=search&fm=organic&iid=131dcf4a-5a59-4a70-808e-7e94ea92f601.MOBGDM4UUD2FDBPH.SEARCH&ppt=hp&ppn=homepage&ssid=4n375vtt1c0000001678121037693&qH=53863d4d978d5074',\n",
       " 'https://www.flipkart.com/oneplus-nord-ce-2-5g-bahama-blue-128-gb/p/itm2a9883679c57c?pid=MOBGDBYZ2HVZAHZD&lid=LSTMOBGDBYZ2HVZAHZDBA4D0I&marketplace=FLIPKART&q=Oneplus+Nord&store=tyy%2F4io&srno=s_1_24&otracker=search&otracker1=search&fm=organic&iid=131dcf4a-5a59-4a70-808e-7e94ea92f601.MOBGDBYZ2HVZAHZD.SEARCH&ppt=hp&ppn=homepage&ssid=4n375vtt1c0000001678121037693&qH=53863d4d978d5074']"
      ]
     },
     "execution_count": 86,
     "metadata": {},
     "output_type": "execute_result"
    }
   ],
   "source": [
    "job_opening_url"
   ]
  },
  {
   "cell_type": "code",
   "execution_count": 87,
   "id": "7bc7e50d",
   "metadata": {},
   "outputs": [],
   "source": [
    "search_PI=driver.find_element(By.XPATH,\"/html/body/div[1]/div/div[3]/div[1]/div[2]/div[2]/div/div/div/a/div[2]/div[1]/div[1]\")\n",
    "search_PI.click()"
   ]
  },
  {
   "cell_type": "code",
   "execution_count": 99,
   "id": "e5d3bf5a",
   "metadata": {},
   "outputs": [],
   "source": [
    "BrandName=[]  #creating an empty list\n",
    "\n",
    "for i in job_opening_url: #iterating over each and every url to fetch job titles\n",
    "    driver.get(i)    # Taking each url one by one as an input\n",
    "    time.sleep(5)\n",
    "    try:\n",
    "        brand = driver.find_element(By.XPATH,'/html/body/div[1]/div/div[3]/div[1]/div[2]/div[2]/div/div[1]/h1/span')\n",
    "        BrandName.append(brand.text)\n",
    "    except NoSuchElementException:\n",
    "        BrandName.append('-')"
   ]
  },
  {
   "cell_type": "code",
   "execution_count": 100,
   "id": "b8cfc915",
   "metadata": {},
   "outputs": [
    {
     "data": {
      "text/plain": [
       "['OnePlus Nord CE 2 Lite 5G (Blue Tide, 128 GB)  (6 GB RAM)',\n",
       " 'OnePlus Nord CE 2 Lite 5G (Blue Tide, 128 GB)  (8 GB RAM)',\n",
       " 'OnePlus Nord CE 5G (Silver Ray, 256 GB)  (12 GB RAM)',\n",
       " 'OnePlus Nord CE 5G (Charcoal Ink, 128 GB)  (8 GB RAM)',\n",
       " 'OnePlus Nord CE 2 Lite 5G (Black Dusk, 128 GB)  (6 GB RAM)',\n",
       " 'OnePlus Nord 2T 5G (Jade Fog, 128 GB)  (8 GB RAM)',\n",
       " 'OnePlus Nord 2 5G (Gray Sierra, 128 GB)  (8 GB RAM)',\n",
       " 'OnePlus Nord CE 5G (Blue Void, 256 GB)  (12 GB RAM)',\n",
       " 'OnePlus Nord CE 5G (Charcoal Ink, 256 GB)  (12 GB RAM)',\n",
       " 'OnePlus Nord 2T 5G (Gray Shadow, 128 GB)  (8 GB RAM)',\n",
       " 'OnePlus Nord CE 2 Lite 5G (Black Dusk, 128 GB)  (8 GB RAM)',\n",
       " 'OnePlus Nord CE 2 5G (Gray Mirror, 128 GB)  (6 GB RAM)',\n",
       " 'OnePlus Nord 2 5G (Blue Haze, 256 GB)  (12 GB RAM)',\n",
       " 'OnePlus Nord 2 5G (Blue Haze, 128 GB)  (8 GB RAM)',\n",
       " 'OnePlus Nord CE 2 5G (Gray Mirror, 128 GB)  (8 GB RAM)',\n",
       " 'OnePlus Nord CE 5G (Blue Void, 128 GB)  (6 GB RAM)',\n",
       " 'OnePlus Nord CE 5G (Charcoal Ink, 128 GB)  (6 GB RAM)',\n",
       " 'OnePlus Nord CE 5G (Silver Ray, 128 GB)  (6 GB RAM)',\n",
       " 'OnePlus Nord CE 5G (Silver Gray, 128 GB)  (8 GB RAM)',\n",
       " 'OnePlus Nord CE 2 5G (Bahama Blue, 128 GB)  (8 GB RAM)',\n",
       " 'OnePlus Nord 2T 5G (Jade Fog, 256 GB)  (12 GB RAM)',\n",
       " 'OnePlus Nord 2T 5G (Gray Shadow, 256 GB)  (12 GB RAM)',\n",
       " 'OnePlus Nord CE 5G (Blue Void, 128 GB)  (8 GB RAM)',\n",
       " 'OnePlus Nord CE 2 5G (Bahama Blue, 128 GB)  (6 GB RAM)']"
      ]
     },
     "execution_count": 100,
     "metadata": {},
     "output_type": "execute_result"
    }
   ],
   "source": [
    "BrandName"
   ]
  },
  {
   "cell_type": "code",
   "execution_count": 90,
   "id": "3ab3116f",
   "metadata": {},
   "outputs": [],
   "source": [
    "Colour=[] #creating an empty list\n",
    "RAM=[]\n",
    "ROM=[]\n",
    "Primarycamera=[]\n",
    "Displaysize=[]\n",
    "Batterycapacity=[]\n",
    "Price=[]"
   ]
  },
  {
   "cell_type": "code",
   "execution_count": 101,
   "id": "2672f5ed",
   "metadata": {},
   "outputs": [],
   "source": [
    "for i in job_opening_url: #iterating over each and every url to fetch job titles\n",
    "    driver.get(i)    # Taking each url one by one as an input\n",
    "    time.sleep(5)\n",
    "    try:\n",
    "        Mcolour = driver.find_element(By.XPATH,'/html/body/div[1]/div/div[3]/div[1]/div[2]/div[8]/div/div/div[4]/div/div[2]/div/div[1]/table/tbody/tr[4]/td[2]/ul/li')\n",
    "        Colour.append(Mcolour.text)\n",
    "    except NoSuchElementException:\n",
    "        Colour.append('-')"
   ]
  },
  {
   "cell_type": "code",
   "execution_count": 122,
   "id": "efa5d2c7",
   "metadata": {},
   "outputs": [
    {
     "data": {
      "text/plain": [
       "['-',\n",
       " 'Blue Tide',\n",
       " '-',\n",
       " 'Blue Tide',\n",
       " '-',\n",
       " '-',\n",
       " 'Blue Tide',\n",
       " '-',\n",
       " 'Charcoal Ink',\n",
       " '-',\n",
       " '-',\n",
       " '-',\n",
       " 'Blue Void',\n",
       " 'Charcoal Ink',\n",
       " '-',\n",
       " 'Black Dusk',\n",
       " '-',\n",
       " '-',\n",
       " '-',\n",
       " '-',\n",
       " 'Blue Void',\n",
       " 'Charcoal Ink',\n",
       " 'Silver Ray',\n",
       " 'Silver Gray',\n",
       " '-',\n",
       " '-',\n",
       " '-',\n",
       " 'Blue Void',\n",
       " '-']"
      ]
     },
     "execution_count": 122,
     "metadata": {},
     "output_type": "execute_result"
    }
   ],
   "source": [
    "Colour"
   ]
  },
  {
   "cell_type": "code",
   "execution_count": 123,
   "id": "2134a9da",
   "metadata": {},
   "outputs": [],
   "source": [
    "Colour1=Colour[0:24]"
   ]
  },
  {
   "cell_type": "code",
   "execution_count": 103,
   "id": "f6cbdeef",
   "metadata": {},
   "outputs": [],
   "source": [
    "for i in job_opening_url: #iterating over each and every url to fetch job titles\n",
    "    driver.get(i)    # Taking each url one by one as an input\n",
    "    time.sleep(5)\n",
    "    try:\n",
    "        MRAM = driver.find_element(By.XPATH,'/html/body/div[1]/div/div[3]/div[1]/div[2]/div[6]/div[1]/div/div[2]/ul/li[1]')\n",
    "        RAM.append(MRAM.text)\n",
    "    except NoSuchElementException:\n",
    "        RAM.append('-')"
   ]
  },
  {
   "cell_type": "code",
   "execution_count": 109,
   "id": "c71131e4",
   "metadata": {},
   "outputs": [
    {
     "data": {
      "text/plain": [
       "['6 GB RAM | 128 GB ROM',\n",
       " '-',\n",
       " '6 GB RAM | 128 GB ROM',\n",
       " '-',\n",
       " '12 GB RAM | 256 GB ROM',\n",
       " '-',\n",
       " '-',\n",
       " '8 GB RAM | 128 GB ROM',\n",
       " '8 GB RAM | 128 GB ROM',\n",
       " '-',\n",
       " '-',\n",
       " '8 GB RAM | 128 GB ROM',\n",
       " '-',\n",
       " '6 GB RAM | 128 GB ROM',\n",
       " '12 GB RAM | 256 GB ROM',\n",
       " '8 GB RAM | 128 GB ROM',\n",
       " '8 GB RAM | 128 GB ROM',\n",
       " '-',\n",
       " '-',\n",
       " '-',\n",
       " '-',\n",
       " '8 GB RAM | 128 GB ROM',\n",
       " '12 GB RAM | 256 GB ROM',\n",
       " '12 GB RAM | 256 GB ROM',\n",
       " '-',\n",
       " '6 GB RAM | 128 GB ROM']"
      ]
     },
     "execution_count": 109,
     "metadata": {},
     "output_type": "execute_result"
    }
   ],
   "source": [
    "RAM"
   ]
  },
  {
   "cell_type": "code",
   "execution_count": 125,
   "id": "ea1e26e5",
   "metadata": {},
   "outputs": [],
   "source": [
    "RAM1=RAM[0:24]"
   ]
  },
  {
   "cell_type": "code",
   "execution_count": 110,
   "id": "55571670",
   "metadata": {},
   "outputs": [],
   "source": [
    "for i in job_opening_url: #iterating over each and every url to fetch job titles\n",
    "    driver.get(i)    # Taking each url one by one as an input\n",
    "    time.sleep(5)\n",
    "    try:\n",
    "        MPC = driver.find_element(By.XPATH,'/html/body/div[1]/div/div[3]/div[1]/div[2]/div[6]/div[1]/div/div[2]/ul/li[3]')\n",
    "        Primarycamera.append(MPC.text)\n",
    "    except NoSuchElementException:\n",
    "        Primarycamera.append('-')"
   ]
  },
  {
   "cell_type": "code",
   "execution_count": 111,
   "id": "8ba6f127",
   "metadata": {},
   "outputs": [
    {
     "data": {
      "text/plain": [
       "['64MP Rear Camera',\n",
       " '-',\n",
       " '64MP Rear Camera',\n",
       " '-',\n",
       " '-',\n",
       " '50MP Rear Camera',\n",
       " '50MP Rear Camera',\n",
       " '-',\n",
       " '-',\n",
       " '50MP Rear Camera',\n",
       " '-',\n",
       " '50MP Rear Camera',\n",
       " '50MP Rear Camera',\n",
       " '50MP Rear Camera',\n",
       " '50MP Rear Camera',\n",
       " '-',\n",
       " '-',\n",
       " '-',\n",
       " '-',\n",
       " '64MP Rear Camera',\n",
       " '50MP Rear Camera',\n",
       " '50MP Rear Camera',\n",
       " '-',\n",
       " '64MP Rear Camera']"
      ]
     },
     "execution_count": 111,
     "metadata": {},
     "output_type": "execute_result"
    }
   ],
   "source": [
    "Primarycamera"
   ]
  },
  {
   "cell_type": "code",
   "execution_count": 112,
   "id": "57b3065c",
   "metadata": {},
   "outputs": [],
   "source": [
    "for i in job_opening_url: #iterating over each and every url to fetch job titles\n",
    "    driver.get(i)    # Taking each url one by one as an input\n",
    "    time.sleep(5)\n",
    "    try:\n",
    "        MDS = driver.find_element(By.XPATH,'/html/body/div[1]/div/div[3]/div[1]/div[2]/div[6]/div[1]/div/div[2]/ul/li[2]')\n",
    "        Displaysize.append(MDS.text)\n",
    "    except NoSuchElementException:\n",
    "        Displaysize.append('-')"
   ]
  },
  {
   "cell_type": "code",
   "execution_count": 113,
   "id": "4b449de0",
   "metadata": {},
   "outputs": [
    {
     "data": {
      "text/plain": [
       "['16.74 cm (6.59 inch) Display',\n",
       " '-',\n",
       " '16.33 cm (6.43 inch) Display',\n",
       " '-',\n",
       " '-',\n",
       " '17.02 cm (6.7 inch) Display',\n",
       " '16.33 cm (6.43 inch) Display',\n",
       " '-',\n",
       " '-',\n",
       " '17.02 cm (6.7 inch) Display',\n",
       " '-',\n",
       " '16.33 cm (6.43 inch) Display',\n",
       " '16.33 cm (6.43 inch) Display',\n",
       " '16.33 cm (6.43 inch) Display',\n",
       " '16.33 cm (6.43 inch) Display',\n",
       " '-',\n",
       " '-',\n",
       " '-',\n",
       " '-',\n",
       " '16.33 cm (6.43 inch) Display',\n",
       " '17.02 cm (6.7 inch) Display',\n",
       " '17.02 cm (6.7 inch) Display',\n",
       " '-',\n",
       " '16.33 cm (6.43 inch) Display']"
      ]
     },
     "execution_count": 113,
     "metadata": {},
     "output_type": "execute_result"
    }
   ],
   "source": [
    "Displaysize"
   ]
  },
  {
   "cell_type": "code",
   "execution_count": 114,
   "id": "55b0a726",
   "metadata": {},
   "outputs": [],
   "source": [
    "for i in job_opening_url: #iterating over each and every url to fetch job titles\n",
    "    driver.get(i)    # Taking each url one by one as an input\n",
    "    time.sleep(5)\n",
    "    try:\n",
    "        BC = driver.find_element(By.XPATH,'/html/body/div[1]/div/div[3]/div[1]/div[2]/div[6]/div[1]/div/div[2]/ul/li[4]')\n",
    "        Batterycapacity.append(BC.text)\n",
    "    except NoSuchElementException:\n",
    "        Batterycapacity.append('-')"
   ]
  },
  {
   "cell_type": "code",
   "execution_count": 115,
   "id": "ff5f1c2e",
   "metadata": {},
   "outputs": [
    {
     "data": {
      "text/plain": [
       "['5000 mAh Battery',\n",
       " '-',\n",
       " '4500 mAh Battery',\n",
       " '-',\n",
       " '-',\n",
       " '4500 mAh Battery',\n",
       " '4500 mAh Battery',\n",
       " '-',\n",
       " '-',\n",
       " '4500 mAh Battery',\n",
       " '-',\n",
       " '4500 mAh Battery',\n",
       " '4500 mAh Battery',\n",
       " '4500 mAh Battery',\n",
       " '4500 mAh Battery',\n",
       " '-',\n",
       " '-',\n",
       " '-',\n",
       " '-',\n",
       " '4500 mAh Battery',\n",
       " '4500 mAh Battery',\n",
       " '4500 mAh Battery',\n",
       " '-',\n",
       " '4500 mAh Battery']"
      ]
     },
     "execution_count": 115,
     "metadata": {},
     "output_type": "execute_result"
    }
   ],
   "source": [
    "Batterycapacity"
   ]
  },
  {
   "cell_type": "code",
   "execution_count": 116,
   "id": "10d62b9e",
   "metadata": {},
   "outputs": [],
   "source": [
    "for i in job_opening_url: #iterating over each and every url to fetch job titles\n",
    "    driver.get(i)    # Taking each url one by one as an input\n",
    "    time.sleep(5)\n",
    "    try:\n",
    "        MP = driver.find_element(By.XPATH,'/html/body/div[1]/div/div[3]/div[1]/div[2]/div[2]/div/div[3]/div[1]/div/div')\n",
    "        Price.append(MP.text)\n",
    "    except NoSuchElementException:\n",
    "        Price.append('-')"
   ]
  },
  {
   "cell_type": "code",
   "execution_count": 117,
   "id": "cd474d21",
   "metadata": {},
   "outputs": [
    {
     "data": {
      "text/plain": [
       "['₹19,988',\n",
       " '₹21,998',\n",
       " '₹27,988',\n",
       " '₹24,990',\n",
       " '-',\n",
       " '₹28,981',\n",
       " '₹29,999',\n",
       " '₹27,900',\n",
       " '₹27,900',\n",
       " '₹28,949',\n",
       " '-',\n",
       " '₹23,999',\n",
       " '-',\n",
       " '₹29,799',\n",
       " '₹24,990',\n",
       " '₹22,999',\n",
       " '₹20,999',\n",
       " '₹24,499',\n",
       " '₹24,999',\n",
       " '₹24,999',\n",
       " '₹32,990',\n",
       " '₹32,580',\n",
       " '₹24,989',\n",
       " '₹23,990']"
      ]
     },
     "execution_count": 117,
     "metadata": {},
     "output_type": "execute_result"
    }
   ],
   "source": [
    "Price"
   ]
  },
  {
   "cell_type": "code",
   "execution_count": 126,
   "id": "8cce24a8",
   "metadata": {},
   "outputs": [
    {
     "name": "stdout",
     "output_type": "stream",
     "text": [
      "24 24 24 24 24 24 24 24\n"
     ]
    }
   ],
   "source": [
    "print(len(BrandName),len(Colour1),len(RAM1),len(Primarycamera),len(Displaysize),len(Batterycapacity),len(Price),len(job_opening_url))"
   ]
  },
  {
   "cell_type": "code",
   "execution_count": 127,
   "id": "3e106527",
   "metadata": {},
   "outputs": [
    {
     "data": {
      "text/html": [
       "<div>\n",
       "<style scoped>\n",
       "    .dataframe tbody tr th:only-of-type {\n",
       "        vertical-align: middle;\n",
       "    }\n",
       "\n",
       "    .dataframe tbody tr th {\n",
       "        vertical-align: top;\n",
       "    }\n",
       "\n",
       "    .dataframe thead th {\n",
       "        text-align: right;\n",
       "    }\n",
       "</style>\n",
       "<table border=\"1\" class=\"dataframe\">\n",
       "  <thead>\n",
       "    <tr style=\"text-align: right;\">\n",
       "      <th></th>\n",
       "      <th>BrandName</th>\n",
       "      <th>Colour</th>\n",
       "      <th>RAM_ROM</th>\n",
       "      <th>Primarycamera</th>\n",
       "      <th>Displaysize</th>\n",
       "      <th>Batterycapacity</th>\n",
       "      <th>Price</th>\n",
       "      <th>job_opening_url</th>\n",
       "    </tr>\n",
       "  </thead>\n",
       "  <tbody>\n",
       "    <tr>\n",
       "      <th>0</th>\n",
       "      <td>OnePlus Nord CE 2 Lite 5G (Blue Tide, 128 GB) ...</td>\n",
       "      <td>-</td>\n",
       "      <td>6 GB RAM | 128 GB ROM</td>\n",
       "      <td>64MP Rear Camera</td>\n",
       "      <td>16.74 cm (6.59 inch) Display</td>\n",
       "      <td>5000 mAh Battery</td>\n",
       "      <td>₹19,988</td>\n",
       "      <td>https://www.flipkart.com/oneplus-nord-ce-2-lit...</td>\n",
       "    </tr>\n",
       "    <tr>\n",
       "      <th>1</th>\n",
       "      <td>OnePlus Nord CE 2 Lite 5G (Blue Tide, 128 GB) ...</td>\n",
       "      <td>Blue Tide</td>\n",
       "      <td>-</td>\n",
       "      <td>-</td>\n",
       "      <td>-</td>\n",
       "      <td>-</td>\n",
       "      <td>₹21,998</td>\n",
       "      <td>https://www.flipkart.com/oneplus-nord-ce-2-lit...</td>\n",
       "    </tr>\n",
       "    <tr>\n",
       "      <th>2</th>\n",
       "      <td>OnePlus Nord CE 5G (Silver Ray, 256 GB)  (12 G...</td>\n",
       "      <td>-</td>\n",
       "      <td>6 GB RAM | 128 GB ROM</td>\n",
       "      <td>64MP Rear Camera</td>\n",
       "      <td>16.33 cm (6.43 inch) Display</td>\n",
       "      <td>4500 mAh Battery</td>\n",
       "      <td>₹27,988</td>\n",
       "      <td>https://www.flipkart.com/oneplus-nord-ce-5g-si...</td>\n",
       "    </tr>\n",
       "    <tr>\n",
       "      <th>3</th>\n",
       "      <td>OnePlus Nord CE 5G (Charcoal Ink, 128 GB)  (8 ...</td>\n",
       "      <td>Blue Tide</td>\n",
       "      <td>-</td>\n",
       "      <td>-</td>\n",
       "      <td>-</td>\n",
       "      <td>-</td>\n",
       "      <td>₹24,990</td>\n",
       "      <td>https://www.flipkart.com/oneplus-nord-ce-5g-ch...</td>\n",
       "    </tr>\n",
       "    <tr>\n",
       "      <th>4</th>\n",
       "      <td>OnePlus Nord CE 2 Lite 5G (Black Dusk, 128 GB)...</td>\n",
       "      <td>-</td>\n",
       "      <td>12 GB RAM | 256 GB ROM</td>\n",
       "      <td>-</td>\n",
       "      <td>-</td>\n",
       "      <td>-</td>\n",
       "      <td>-</td>\n",
       "      <td>https://www.flipkart.com/oneplus-nord-ce-2-lit...</td>\n",
       "    </tr>\n",
       "    <tr>\n",
       "      <th>5</th>\n",
       "      <td>OnePlus Nord 2T 5G (Jade Fog, 128 GB)  (8 GB RAM)</td>\n",
       "      <td>-</td>\n",
       "      <td>-</td>\n",
       "      <td>50MP Rear Camera</td>\n",
       "      <td>17.02 cm (6.7 inch) Display</td>\n",
       "      <td>4500 mAh Battery</td>\n",
       "      <td>₹28,981</td>\n",
       "      <td>https://www.flipkart.com/oneplus-nord-2t-5g-ja...</td>\n",
       "    </tr>\n",
       "    <tr>\n",
       "      <th>6</th>\n",
       "      <td>OnePlus Nord 2 5G (Gray Sierra, 128 GB)  (8 GB...</td>\n",
       "      <td>Blue Tide</td>\n",
       "      <td>-</td>\n",
       "      <td>50MP Rear Camera</td>\n",
       "      <td>16.33 cm (6.43 inch) Display</td>\n",
       "      <td>4500 mAh Battery</td>\n",
       "      <td>₹29,999</td>\n",
       "      <td>https://www.flipkart.com/oneplus-nord-2-5g-gra...</td>\n",
       "    </tr>\n",
       "    <tr>\n",
       "      <th>7</th>\n",
       "      <td>OnePlus Nord CE 5G (Blue Void, 256 GB)  (12 GB...</td>\n",
       "      <td>-</td>\n",
       "      <td>8 GB RAM | 128 GB ROM</td>\n",
       "      <td>-</td>\n",
       "      <td>-</td>\n",
       "      <td>-</td>\n",
       "      <td>₹27,900</td>\n",
       "      <td>https://www.flipkart.com/oneplus-nord-ce-5g-bl...</td>\n",
       "    </tr>\n",
       "    <tr>\n",
       "      <th>8</th>\n",
       "      <td>OnePlus Nord CE 5G (Charcoal Ink, 256 GB)  (12...</td>\n",
       "      <td>Charcoal Ink</td>\n",
       "      <td>8 GB RAM | 128 GB ROM</td>\n",
       "      <td>-</td>\n",
       "      <td>-</td>\n",
       "      <td>-</td>\n",
       "      <td>₹27,900</td>\n",
       "      <td>https://www.flipkart.com/oneplus-nord-ce-5g-ch...</td>\n",
       "    </tr>\n",
       "    <tr>\n",
       "      <th>9</th>\n",
       "      <td>OnePlus Nord 2T 5G (Gray Shadow, 128 GB)  (8 G...</td>\n",
       "      <td>-</td>\n",
       "      <td>-</td>\n",
       "      <td>50MP Rear Camera</td>\n",
       "      <td>17.02 cm (6.7 inch) Display</td>\n",
       "      <td>4500 mAh Battery</td>\n",
       "      <td>₹28,949</td>\n",
       "      <td>https://www.flipkart.com/oneplus-nord-2t-5g-gr...</td>\n",
       "    </tr>\n",
       "    <tr>\n",
       "      <th>10</th>\n",
       "      <td>OnePlus Nord CE 2 Lite 5G (Black Dusk, 128 GB)...</td>\n",
       "      <td>-</td>\n",
       "      <td>-</td>\n",
       "      <td>-</td>\n",
       "      <td>-</td>\n",
       "      <td>-</td>\n",
       "      <td>-</td>\n",
       "      <td>https://www.flipkart.com/oneplus-nord-ce-2-lit...</td>\n",
       "    </tr>\n",
       "    <tr>\n",
       "      <th>11</th>\n",
       "      <td>OnePlus Nord CE 2 5G (Gray Mirror, 128 GB)  (6...</td>\n",
       "      <td>-</td>\n",
       "      <td>8 GB RAM | 128 GB ROM</td>\n",
       "      <td>50MP Rear Camera</td>\n",
       "      <td>16.33 cm (6.43 inch) Display</td>\n",
       "      <td>4500 mAh Battery</td>\n",
       "      <td>₹23,999</td>\n",
       "      <td>https://www.flipkart.com/oneplus-nord-ce-2-5g-...</td>\n",
       "    </tr>\n",
       "    <tr>\n",
       "      <th>12</th>\n",
       "      <td>OnePlus Nord 2 5G (Blue Haze, 256 GB)  (12 GB ...</td>\n",
       "      <td>Blue Void</td>\n",
       "      <td>-</td>\n",
       "      <td>50MP Rear Camera</td>\n",
       "      <td>16.33 cm (6.43 inch) Display</td>\n",
       "      <td>4500 mAh Battery</td>\n",
       "      <td>-</td>\n",
       "      <td>https://www.flipkart.com/oneplus-nord-2-5g-blu...</td>\n",
       "    </tr>\n",
       "    <tr>\n",
       "      <th>13</th>\n",
       "      <td>OnePlus Nord 2 5G (Blue Haze, 128 GB)  (8 GB RAM)</td>\n",
       "      <td>Charcoal Ink</td>\n",
       "      <td>6 GB RAM | 128 GB ROM</td>\n",
       "      <td>50MP Rear Camera</td>\n",
       "      <td>16.33 cm (6.43 inch) Display</td>\n",
       "      <td>4500 mAh Battery</td>\n",
       "      <td>₹29,799</td>\n",
       "      <td>https://www.flipkart.com/oneplus-nord-2-5g-blu...</td>\n",
       "    </tr>\n",
       "    <tr>\n",
       "      <th>14</th>\n",
       "      <td>OnePlus Nord CE 2 5G (Gray Mirror, 128 GB)  (8...</td>\n",
       "      <td>-</td>\n",
       "      <td>12 GB RAM | 256 GB ROM</td>\n",
       "      <td>50MP Rear Camera</td>\n",
       "      <td>16.33 cm (6.43 inch) Display</td>\n",
       "      <td>4500 mAh Battery</td>\n",
       "      <td>₹24,990</td>\n",
       "      <td>https://www.flipkart.com/oneplus-nord-ce-2-5g-...</td>\n",
       "    </tr>\n",
       "    <tr>\n",
       "      <th>15</th>\n",
       "      <td>OnePlus Nord CE 5G (Blue Void, 128 GB)  (6 GB ...</td>\n",
       "      <td>Black Dusk</td>\n",
       "      <td>8 GB RAM | 128 GB ROM</td>\n",
       "      <td>-</td>\n",
       "      <td>-</td>\n",
       "      <td>-</td>\n",
       "      <td>₹22,999</td>\n",
       "      <td>https://www.flipkart.com/oneplus-nord-ce-5g-bl...</td>\n",
       "    </tr>\n",
       "    <tr>\n",
       "      <th>16</th>\n",
       "      <td>OnePlus Nord CE 5G (Charcoal Ink, 128 GB)  (6 ...</td>\n",
       "      <td>-</td>\n",
       "      <td>8 GB RAM | 128 GB ROM</td>\n",
       "      <td>-</td>\n",
       "      <td>-</td>\n",
       "      <td>-</td>\n",
       "      <td>₹20,999</td>\n",
       "      <td>https://www.flipkart.com/oneplus-nord-ce-5g-ch...</td>\n",
       "    </tr>\n",
       "    <tr>\n",
       "      <th>17</th>\n",
       "      <td>OnePlus Nord CE 5G (Silver Ray, 128 GB)  (6 GB...</td>\n",
       "      <td>-</td>\n",
       "      <td>-</td>\n",
       "      <td>-</td>\n",
       "      <td>-</td>\n",
       "      <td>-</td>\n",
       "      <td>₹24,499</td>\n",
       "      <td>https://www.flipkart.com/oneplus-nord-ce-5g-si...</td>\n",
       "    </tr>\n",
       "    <tr>\n",
       "      <th>18</th>\n",
       "      <td>OnePlus Nord CE 5G (Silver Gray, 128 GB)  (8 G...</td>\n",
       "      <td>-</td>\n",
       "      <td>-</td>\n",
       "      <td>-</td>\n",
       "      <td>-</td>\n",
       "      <td>-</td>\n",
       "      <td>₹24,999</td>\n",
       "      <td>https://www.flipkart.com/oneplus-nord-ce-5g-si...</td>\n",
       "    </tr>\n",
       "    <tr>\n",
       "      <th>19</th>\n",
       "      <td>OnePlus Nord CE 2 5G (Bahama Blue, 128 GB)  (8...</td>\n",
       "      <td>-</td>\n",
       "      <td>-</td>\n",
       "      <td>64MP Rear Camera</td>\n",
       "      <td>16.33 cm (6.43 inch) Display</td>\n",
       "      <td>4500 mAh Battery</td>\n",
       "      <td>₹24,999</td>\n",
       "      <td>https://www.flipkart.com/oneplus-nord-ce-2-5g-...</td>\n",
       "    </tr>\n",
       "    <tr>\n",
       "      <th>20</th>\n",
       "      <td>OnePlus Nord 2T 5G (Jade Fog, 256 GB)  (12 GB ...</td>\n",
       "      <td>Blue Void</td>\n",
       "      <td>-</td>\n",
       "      <td>50MP Rear Camera</td>\n",
       "      <td>17.02 cm (6.7 inch) Display</td>\n",
       "      <td>4500 mAh Battery</td>\n",
       "      <td>₹32,990</td>\n",
       "      <td>https://www.flipkart.com/oneplus-nord-2t-5g-ja...</td>\n",
       "    </tr>\n",
       "    <tr>\n",
       "      <th>21</th>\n",
       "      <td>OnePlus Nord 2T 5G (Gray Shadow, 256 GB)  (12 ...</td>\n",
       "      <td>Charcoal Ink</td>\n",
       "      <td>8 GB RAM | 128 GB ROM</td>\n",
       "      <td>50MP Rear Camera</td>\n",
       "      <td>17.02 cm (6.7 inch) Display</td>\n",
       "      <td>4500 mAh Battery</td>\n",
       "      <td>₹32,580</td>\n",
       "      <td>https://www.flipkart.com/oneplus-nord-2t-5g-gr...</td>\n",
       "    </tr>\n",
       "    <tr>\n",
       "      <th>22</th>\n",
       "      <td>OnePlus Nord CE 5G (Blue Void, 128 GB)  (8 GB ...</td>\n",
       "      <td>Silver Ray</td>\n",
       "      <td>12 GB RAM | 256 GB ROM</td>\n",
       "      <td>-</td>\n",
       "      <td>-</td>\n",
       "      <td>-</td>\n",
       "      <td>₹24,989</td>\n",
       "      <td>https://www.flipkart.com/oneplus-nord-ce-5g-bl...</td>\n",
       "    </tr>\n",
       "    <tr>\n",
       "      <th>23</th>\n",
       "      <td>OnePlus Nord CE 2 5G (Bahama Blue, 128 GB)  (6...</td>\n",
       "      <td>Silver Gray</td>\n",
       "      <td>12 GB RAM | 256 GB ROM</td>\n",
       "      <td>64MP Rear Camera</td>\n",
       "      <td>16.33 cm (6.43 inch) Display</td>\n",
       "      <td>4500 mAh Battery</td>\n",
       "      <td>₹23,990</td>\n",
       "      <td>https://www.flipkart.com/oneplus-nord-ce-2-5g-...</td>\n",
       "    </tr>\n",
       "  </tbody>\n",
       "</table>\n",
       "</div>"
      ],
      "text/plain": [
       "                                            BrandName        Colour  \\\n",
       "0   OnePlus Nord CE 2 Lite 5G (Blue Tide, 128 GB) ...             -   \n",
       "1   OnePlus Nord CE 2 Lite 5G (Blue Tide, 128 GB) ...     Blue Tide   \n",
       "2   OnePlus Nord CE 5G (Silver Ray, 256 GB)  (12 G...             -   \n",
       "3   OnePlus Nord CE 5G (Charcoal Ink, 128 GB)  (8 ...     Blue Tide   \n",
       "4   OnePlus Nord CE 2 Lite 5G (Black Dusk, 128 GB)...             -   \n",
       "5   OnePlus Nord 2T 5G (Jade Fog, 128 GB)  (8 GB RAM)             -   \n",
       "6   OnePlus Nord 2 5G (Gray Sierra, 128 GB)  (8 GB...     Blue Tide   \n",
       "7   OnePlus Nord CE 5G (Blue Void, 256 GB)  (12 GB...             -   \n",
       "8   OnePlus Nord CE 5G (Charcoal Ink, 256 GB)  (12...  Charcoal Ink   \n",
       "9   OnePlus Nord 2T 5G (Gray Shadow, 128 GB)  (8 G...             -   \n",
       "10  OnePlus Nord CE 2 Lite 5G (Black Dusk, 128 GB)...             -   \n",
       "11  OnePlus Nord CE 2 5G (Gray Mirror, 128 GB)  (6...             -   \n",
       "12  OnePlus Nord 2 5G (Blue Haze, 256 GB)  (12 GB ...     Blue Void   \n",
       "13  OnePlus Nord 2 5G (Blue Haze, 128 GB)  (8 GB RAM)  Charcoal Ink   \n",
       "14  OnePlus Nord CE 2 5G (Gray Mirror, 128 GB)  (8...             -   \n",
       "15  OnePlus Nord CE 5G (Blue Void, 128 GB)  (6 GB ...    Black Dusk   \n",
       "16  OnePlus Nord CE 5G (Charcoal Ink, 128 GB)  (6 ...             -   \n",
       "17  OnePlus Nord CE 5G (Silver Ray, 128 GB)  (6 GB...             -   \n",
       "18  OnePlus Nord CE 5G (Silver Gray, 128 GB)  (8 G...             -   \n",
       "19  OnePlus Nord CE 2 5G (Bahama Blue, 128 GB)  (8...             -   \n",
       "20  OnePlus Nord 2T 5G (Jade Fog, 256 GB)  (12 GB ...     Blue Void   \n",
       "21  OnePlus Nord 2T 5G (Gray Shadow, 256 GB)  (12 ...  Charcoal Ink   \n",
       "22  OnePlus Nord CE 5G (Blue Void, 128 GB)  (8 GB ...    Silver Ray   \n",
       "23  OnePlus Nord CE 2 5G (Bahama Blue, 128 GB)  (6...   Silver Gray   \n",
       "\n",
       "                   RAM_ROM     Primarycamera                   Displaysize  \\\n",
       "0    6 GB RAM | 128 GB ROM  64MP Rear Camera  16.74 cm (6.59 inch) Display   \n",
       "1                        -                 -                             -   \n",
       "2    6 GB RAM | 128 GB ROM  64MP Rear Camera  16.33 cm (6.43 inch) Display   \n",
       "3                        -                 -                             -   \n",
       "4   12 GB RAM | 256 GB ROM                 -                             -   \n",
       "5                        -  50MP Rear Camera   17.02 cm (6.7 inch) Display   \n",
       "6                        -  50MP Rear Camera  16.33 cm (6.43 inch) Display   \n",
       "7    8 GB RAM | 128 GB ROM                 -                             -   \n",
       "8    8 GB RAM | 128 GB ROM                 -                             -   \n",
       "9                        -  50MP Rear Camera   17.02 cm (6.7 inch) Display   \n",
       "10                       -                 -                             -   \n",
       "11   8 GB RAM | 128 GB ROM  50MP Rear Camera  16.33 cm (6.43 inch) Display   \n",
       "12                       -  50MP Rear Camera  16.33 cm (6.43 inch) Display   \n",
       "13   6 GB RAM | 128 GB ROM  50MP Rear Camera  16.33 cm (6.43 inch) Display   \n",
       "14  12 GB RAM | 256 GB ROM  50MP Rear Camera  16.33 cm (6.43 inch) Display   \n",
       "15   8 GB RAM | 128 GB ROM                 -                             -   \n",
       "16   8 GB RAM | 128 GB ROM                 -                             -   \n",
       "17                       -                 -                             -   \n",
       "18                       -                 -                             -   \n",
       "19                       -  64MP Rear Camera  16.33 cm (6.43 inch) Display   \n",
       "20                       -  50MP Rear Camera   17.02 cm (6.7 inch) Display   \n",
       "21   8 GB RAM | 128 GB ROM  50MP Rear Camera   17.02 cm (6.7 inch) Display   \n",
       "22  12 GB RAM | 256 GB ROM                 -                             -   \n",
       "23  12 GB RAM | 256 GB ROM  64MP Rear Camera  16.33 cm (6.43 inch) Display   \n",
       "\n",
       "     Batterycapacity    Price  \\\n",
       "0   5000 mAh Battery  ₹19,988   \n",
       "1                  -  ₹21,998   \n",
       "2   4500 mAh Battery  ₹27,988   \n",
       "3                  -  ₹24,990   \n",
       "4                  -        -   \n",
       "5   4500 mAh Battery  ₹28,981   \n",
       "6   4500 mAh Battery  ₹29,999   \n",
       "7                  -  ₹27,900   \n",
       "8                  -  ₹27,900   \n",
       "9   4500 mAh Battery  ₹28,949   \n",
       "10                 -        -   \n",
       "11  4500 mAh Battery  ₹23,999   \n",
       "12  4500 mAh Battery        -   \n",
       "13  4500 mAh Battery  ₹29,799   \n",
       "14  4500 mAh Battery  ₹24,990   \n",
       "15                 -  ₹22,999   \n",
       "16                 -  ₹20,999   \n",
       "17                 -  ₹24,499   \n",
       "18                 -  ₹24,999   \n",
       "19  4500 mAh Battery  ₹24,999   \n",
       "20  4500 mAh Battery  ₹32,990   \n",
       "21  4500 mAh Battery  ₹32,580   \n",
       "22                 -  ₹24,989   \n",
       "23  4500 mAh Battery  ₹23,990   \n",
       "\n",
       "                                      job_opening_url  \n",
       "0   https://www.flipkart.com/oneplus-nord-ce-2-lit...  \n",
       "1   https://www.flipkart.com/oneplus-nord-ce-2-lit...  \n",
       "2   https://www.flipkart.com/oneplus-nord-ce-5g-si...  \n",
       "3   https://www.flipkart.com/oneplus-nord-ce-5g-ch...  \n",
       "4   https://www.flipkart.com/oneplus-nord-ce-2-lit...  \n",
       "5   https://www.flipkart.com/oneplus-nord-2t-5g-ja...  \n",
       "6   https://www.flipkart.com/oneplus-nord-2-5g-gra...  \n",
       "7   https://www.flipkart.com/oneplus-nord-ce-5g-bl...  \n",
       "8   https://www.flipkart.com/oneplus-nord-ce-5g-ch...  \n",
       "9   https://www.flipkart.com/oneplus-nord-2t-5g-gr...  \n",
       "10  https://www.flipkart.com/oneplus-nord-ce-2-lit...  \n",
       "11  https://www.flipkart.com/oneplus-nord-ce-2-5g-...  \n",
       "12  https://www.flipkart.com/oneplus-nord-2-5g-blu...  \n",
       "13  https://www.flipkart.com/oneplus-nord-2-5g-blu...  \n",
       "14  https://www.flipkart.com/oneplus-nord-ce-2-5g-...  \n",
       "15  https://www.flipkart.com/oneplus-nord-ce-5g-bl...  \n",
       "16  https://www.flipkart.com/oneplus-nord-ce-5g-ch...  \n",
       "17  https://www.flipkart.com/oneplus-nord-ce-5g-si...  \n",
       "18  https://www.flipkart.com/oneplus-nord-ce-5g-si...  \n",
       "19  https://www.flipkart.com/oneplus-nord-ce-2-5g-...  \n",
       "20  https://www.flipkart.com/oneplus-nord-2t-5g-ja...  \n",
       "21  https://www.flipkart.com/oneplus-nord-2t-5g-gr...  \n",
       "22  https://www.flipkart.com/oneplus-nord-ce-5g-bl...  \n",
       "23  https://www.flipkart.com/oneplus-nord-ce-2-5g-...  "
      ]
     },
     "execution_count": 127,
     "metadata": {},
     "output_type": "execute_result"
    }
   ],
   "source": [
    "import pandas as pd\n",
    "df=pd.DataFrame({'BrandName':BrandName,'Colour':Colour1,'RAM_ROM':RAM1,'Primarycamera':Primarycamera,'Displaysize':Displaysize, 'Batterycapacity':Batterycapacity,'Price':Price,'job_opening_url':job_opening_url})\n",
    "df"
   ]
  },
  {
   "cell_type": "code",
   "execution_count": 128,
   "id": "9b3e0ccb",
   "metadata": {},
   "outputs": [],
   "source": [
    "df.to_csv('Onepus_Nord.csv')"
   ]
  },
  {
   "cell_type": "markdown",
   "id": "038ddd7b",
   "metadata": {},
   "source": [
    "# Q1"
   ]
  },
  {
   "cell_type": "code",
   "execution_count": 3,
   "id": "a213876b",
   "metadata": {},
   "outputs": [],
   "source": [
    "driver=webdriver.Chrome(r\"D:\\KN E D\\DS\\Internship\\chromedriver_win32.zip\\chromedriver.exe\")"
   ]
  },
  {
   "cell_type": "code",
   "execution_count": 4,
   "id": "c9698b9b",
   "metadata": {},
   "outputs": [],
   "source": [
    "driver.get(\"https://www.amazon.in/\")"
   ]
  },
  {
   "cell_type": "code",
   "execution_count": 7,
   "id": "bb0a14ca",
   "metadata": {},
   "outputs": [
    {
     "name": "stdout",
     "output_type": "stream",
     "text": [
      "Entre your item: guitar\n"
     ]
    }
   ],
   "source": [
    "search=driver.find_element(By.XPATH,\"/html/body/div[1]/header/div/div[1]/div[2]/div/form/div[2]/div[1]/input\")\n",
    "name=input(\"Entre your item: \")"
   ]
  },
  {
   "cell_type": "code",
   "execution_count": 8,
   "id": "b5d52d04",
   "metadata": {},
   "outputs": [],
   "source": [
    "search_bar = driver.find_element(By.XPATH,'//*[@id=\"twotabsearchtextbox\"]') # Locating searc_bar by id\n",
    "\n",
    "search_bar.send_keys(name) # sending user input to search bar\n",
    "\n",
    "search_button = driver.find_element(By.XPATH,'//*[@id=\"nav-search-submit-button\"]')       # finding the xpath for search button \n",
    "\n",
    "search_button.click()   #searching the click button"
   ]
  },
  {
   "cell_type": "code",
   "execution_count": 10,
   "id": "729e2f41",
   "metadata": {},
   "outputs": [],
   "source": [
    "productName=[]"
   ]
  },
  {
   "cell_type": "code",
   "execution_count": 11,
   "id": "929d3573",
   "metadata": {},
   "outputs": [
    {
     "name": "stdout",
     "output_type": "stream",
     "text": [
      "65 ['Kadence Frontier Jumbo Semi Acoustic Guitar With Die Cast Keys, Super Combo (Bag, 1 pack Strings, Strap, Picks, Capo (Black)', 'Kadence Slowhand Premium Jumbo Semi Acoustic Guitar with Heavy Padded Bag, guitar cable, Pro Capo (Black Spruce Wood)', 'Kadence Frontier guitar with Online Guitar learning course , Wine Red Acoustic Guitar with Die Cast Keys, Set of Strings, Strap, Picks and Bag (Wine Red, Acoustic)', 'Vault Traveller 34 Inch Acoustic Guitar With Truss Rod, Gig-Bag, Strap, Strings, Polishing Cloth, String Winder, Picks & E-Book - Natural Gloss', 'Juârez Acoustic Guitar, 38 Inch Cutaway, 038C with Bag, Strings, Pick and Strap, Black', 'Intern INT-38C Right hand Acoustic Guitar Kit, With Bag, Strings, Pick And Strap, Black, small', 'Juarez Lindenwood Acoustic Guitar Kit, 38 Inches Cutaway, 38C With Bag, Strings, Pick And Strap, TBS Transparent (Blue Sunburst)', 'Juarez Lindenwood Acoustic Guitar, 38 Inches Curved Body Cutaway, 38CUR With Bag, Strings, Pick And Strap (Black)', 'Yamaha F280 Acoustic Rosewood Guitar (Natural, Beige)', 'Intern 38C Ebony Wood Cutaway Design Acoustic Guitar with Picks And Carry Bag (Black)', 'Intern INT-38C Acoustic Guitar Kit (Blue)', 'Intern INT-38C Natural Linden Wood Acoustic Guitar Kit with Carry Bag & Picks', 'JUAREZ JRZ38C 38 Inches Lindenwood Right Handed Acoustic Guitar With Bag, Strings, Pick And Strap (Natural, Brown, 6 Strings)', 'Juarez JRZ-ST01 6-String Electric Guitar, Right Handed, Black, with Case/Bag and Picks', 'Kadence Slowhand Premium Jumbo Semi Acoustic Guitar with Heavy Padded Bag, guitar cable, Pro Capo (Black Spruce Wood)', 'Kadence Frontier Jumbo Semi Acoustic Guitar With Die Cast Keys, Super Combo (Bag, 1 pack Strings, Strap, Picks, Capo (Black)', 'Kadence Frontier guitar with Online Guitar learning course , Wine Red Acoustic Guitar with Die Cast Keys, Set of Strings, Strap, Picks and Bag (Wine Red, Acoustic)', '', 'Fender Acoustic Guitar Dreadnought CD60 V3 970110506 Black Right-Handed One of The Most reputed Guitar Brands in the World', 'Yamaha FS100C Acoustic Guitar, Natural', '', '', 'Juarez Lindenwood Acoustic Guitar Kit, 38 Inches Cutaway, 38C With Bag, Strings, Pick And Strap, 3TS Sunburst', 'Intern Int-38c Linden Wood Acoustic Guitar Kit with Carry Bag and Picks (Brown)', 'Intern INT-38C Lindenwood Acoustic Guitar Kit (Sunburst) With Carry Bag, Picks, Strings Set And Guitar Strap (Small)', 'Kadence rosewood Guitar Frontier Series, Electric Acoustic Black Guitar With EQ, Die Cast Keys, Set Of Strings, Strap, Picks And Bag (Black EQ, Electric Acoustic)', 'Revel Acoustic Guitar with Carry bag and Plectrums. Beginner and Learners standard size configuration (Blue),Full,RVL-38C-LGP-BLS…', 'Hovner 215 Black F-Cut Rosewood Fretboard Acoustic Guitar With Bag,Strap,1 Set of Extra Strings and 2 Picks By K-Retail', 'Giusen Venus Black 41 Inch Rosewood Fretboard Acoustic Guitar With Bag,Strap,1 Set of Extra Strings and 2 Picks', 'GUITAR BRO - COMBO (Black Acoustic Guitar for Beginner, Guitar Learning Kit, Song Book, Video Lectures, Accessories like Pick, Bag)', 'Techblaze Digital Guitar Tuner with Three Picks, Digital Calibration Tuner with LCD Display for Guitar Easy to Use Highly Accurate Clip-on Electronic Tuner Specialized for Acoustic and Electric Guitar', 'Cort AD810 Dreadnought Acoustic Guitar with Gig Bag,Tuner,Picks and Strap (Natural Bundle)', 'YAMAHA FS80C NATURAL CONCERT CUTAWAY GUITAR', 'YAMAHA FS80C BLACK CONCERT CUTAWAY GUITAR', 'Yamaha FS100C Acoustic Guitar, Black', 'YAMAHA F310, 6-Strings Rose Wood Acoustic Guitar, Natural', 'Intern 38C Wooden Acoustic Steel-String Guitar Premium White Cutaway Design With Carry Bag, Strings, Guitar Strap And Plectrums (Int-38C-Wh)', 'Juarez Acoustic Guitar, 38 Inch Cutaway with Pick Guard, 38CPG with Bag, Strings, Pick and Strap, Black', 'Juârez Acoustic Guitar, 38 Inch Cutaway, JRZ38C with Bag, Strings, Pick and Strap, Red', 'INTERN Cutaway Design Acoustic Guitar Pack -Humidity Proof, Bend resistance, Durable Action, Natural tone & bright resonance. Black Carbon Fibre/Fiber Guitar with Bag, Strap, Strings set & Plectrums.', 'Vault JB4 Jazz Bass 4-String Bass Guitar - White', 'JUAREZ JRZ-ST01, 6 Strings Linden Wood Electric Guitar, Right Handed with Bag/Case, 2 x Picks (3TS Sunburst)', 'Juarez Acoustic Guitar, 38 Inch Cutaway, 38CMB with Bag, Strings, Pick and Strap, Matte Black', 'Juârez Acoustic Guitar, 38 Inch Cutaway, JRZ38CT, Hippie Funky Design, with Bag, Picks, Strap & Extra String set', 'JUAREZ Wood Acoustic Guitar, [Left Handed] 96.52 Cm (38 Inch) Cutaway, 38Cl/Tbls With Bag, Strings, Pick And Strap, Blue Sunburst', 'Fender Squier 39 Inch 6 String Cutaway Acoustic Guitar Hardwood Fretboard-Natural SA 135C Right-Hand One of The Most reputed Guitar Brands in the World', 'Juârez JRZ38C/WH 6 Strings Acoustic Guitar 38 Inch Cutaway, Right Handed, White with Bag, Strings, Picks and Strap', 'Sterling Ray4HH 4-String Electric Bass Guitar - Lake Blue Metallic (RAY4HH-LBM-R1)', 'Tanglewood Crossroads TWCR O Acoustic Guitar, 6 Strings, Orchestra, Whiskey Barrel Burst Satin Finish', 'Kadence Frontier guitar with Online Guitar learning course , Wine Red Acoustic Guitar with Die Cast Keys, Set of Strings, Strap, Picks and Bag (Wine Red, Acoustic)', 'Juârez Lindenwood Acoustic Guitar, 38 Inches Cutaway, JRZ38C With Bag, Strings, Pick And Strap, Blue', 'INTERN 41 inches Acoustic Guitar with truss rod. Includes carry bag, strings pack, strap & plectrums. Premium Wooden durable built, tonal stability & for all age-groups (Jamming Black).…', 'Yamaha FSX80C Semi acoustic cutaway guitar (natural)', 'Yamaha F280 Acoustic Guitar, Natural With Bajaao Gig Bag', 'Yamaha F280 Acoustic Guitar, Tobacco Brown Sunburst', 'Juarez Acoustic Guitar, [ LEFT HANDED] 38 Inch Cutaway, 38CL/BK with Bag, Strings, Pick and Strap, Black', 'Intern INT-38C Acoustic Guitar Kit (Red)', 'Henrix 38C PRO 38 Inch Cutaway Acoustic Guitar With with Die-cast Tuners, Dual-action Truss Rod, Gig-Bag, Picks, String set, String Winder, Strap & Polishing Cloth - Black', 'Intern INT-38C 38 Incheses basswood-BLS-G Cutaway Right HAnded Acoustic Guitar Kit, With Bag, Strings, Pick And Strap (Blue, 6 Strings)', 'Kadence 40 Incheses Frontier Series, rosewood Semi Acoustic Guitar With Die Cast Keys (Bag,Strap,Strings And 3 Picks) (own)', 'Juarez Acoustic Guitar, [LEFT HANDED] 96.52 cm (38 Inch) Cutaway, 38CL/3TS with Bag, Strings, Pick and Strap, 3TS Sunburst', 'Yamaha FSX80C Semi acoustic cutaway guitar (Black)', 'Fender Acoustic Guitar Dreadnought CD60 V3 970110506 Black Right-Handed One of The Most reputed Guitar Brands in the World', 'MUSTANG Junior 30 Inch Acoustic Guitar for Kids', 'MUSTANG Pack of 2 Universal Guitar Stand by Hola! Music Fits Acoustic Classical Electric Bass Guitars Mandolins Banjos Ukuleles and Other Stringed Instruments']\n"
     ]
    }
   ],
   "source": [
    "#scraping the product Name\n",
    "PName=driver.find_elements(By.XPATH,'//span[@class=\"a-size-base-plus a-color-base a-text-normal\"]')\n",
    "for i in PName:\n",
    "    if i.text is None:\n",
    "        productName.append(\"--\")\n",
    "    else:\n",
    "        productName.append(i.text)\n",
    "print(len(productName),productName)"
   ]
  },
  {
   "cell_type": "markdown",
   "id": "227cbc75",
   "metadata": {},
   "source": [
    "# Q2"
   ]
  },
  {
   "cell_type": "code",
   "execution_count": 12,
   "id": "2e222723",
   "metadata": {},
   "outputs": [],
   "source": [
    "#fetching url to open each job\n",
    "job_opening_url = []\n",
    "start=0\n",
    "end=3\n",
    "for page in range(start,end):\n",
    "    url= driver.find_elements(By.XPATH,'//a[@class=\"a-link-normal s-underline-text s-underline-link-text s-link-style a-text-normal\"]')\n",
    "    for i in url:\n",
    "        job_opening_url.append(i.get_attribute('href'))#to retrive any link we use get_attribute\n",
    "    next_button=driver.find_elements(By.XPATH,\"/html/body/div[1]/div[2]/div[1]/div[1]/div/span[1]/div[1]/div[63]/div/div/span/a[3]\")"
   ]
  },
  {
   "cell_type": "code",
   "execution_count": 13,
   "id": "f59815a5",
   "metadata": {},
   "outputs": [
    {
     "data": {
      "text/plain": [
       "201"
      ]
     },
     "execution_count": 13,
     "metadata": {},
     "output_type": "execute_result"
    }
   ],
   "source": [
    "len(job_opening_url)"
   ]
  },
  {
   "cell_type": "code",
   "execution_count": 14,
   "id": "5feb13b3",
   "metadata": {},
   "outputs": [
    {
     "data": {
      "text/plain": [
       "['https://www.amazon.in/sspa/click?ie=UTF8&spc=MToyMTEwNzA2NzQwMTU4NDU4OjE2NzgyMDY5Mzg6c3BfYXRmOjIwMTIxNzg0MjQwOTk4OjowOjo&url=%2FKadence-Frontier-Acoustic-Guitar-Equalizer%2Fdp%2FB01HRIHJWY%2Fref%3Dsr_1_1_sspa%3Fcrid%3D3TG6PE6O6IMRD%26keywords%3Dguitar%26qid%3D1678206938%26sprefix%3D%252Caps%252C2105%26sr%3D8-1-spons%26sp_csd%3Dd2lkZ2V0TmFtZT1zcF9hdGY%26psc%3D1',\n",
       " 'https://www.amazon.in/sspa/click?ie=UTF8&spc=MToyMTEwNzA2NzQwMTU4NDU4OjE2NzgyMDY5Mzg6c3BfYXRmOjIwMDU3MTkzMDU2MjA0OjowOjo&url=%2FKadence-Slowhand-Premium-Acoustic-Instrument%2Fdp%2FB077SZ667X%2Fref%3Dsr_1_2_sspa%3Fcrid%3D3TG6PE6O6IMRD%26keywords%3Dguitar%26qid%3D1678206938%26sprefix%3D%252Caps%252C2105%26sr%3D8-2-spons%26sp_csd%3Dd2lkZ2V0TmFtZT1zcF9hdGY%26psc%3D1%26smid%3DAM04Z7MH4HSDD',\n",
       " 'https://www.amazon.in/sspa/click?ie=UTF8&spc=MToyMTEwNzA2NzQwMTU4NDU4OjE2NzgyMDY5Mzg6c3BfYXRmOjIwMDk2NjA4NzUwNDk4OjowOjo&url=%2FKadence-Frontier-Acoustic-Guitar-Strings%2Fdp%2FB01GDZ46AA%2Fref%3Dsr_1_3_sspa%3Fcrid%3D3TG6PE6O6IMRD%26keywords%3Dguitar%26qid%3D1678206938%26sprefix%3D%252Caps%252C2105%26sr%3D8-3-spons%26sp_csd%3Dd2lkZ2V0TmFtZT1zcF9hdGY%26psc%3D1%26smid%3DAM04Z7MH4HSDD',\n",
       " 'https://www.amazon.in/sspa/click?ie=UTF8&spc=MToyMTEwNzA2NzQwMTU4NDU4OjE2NzgyMDY5Mzg6c3BfYXRmOjIwMDM2MjI1NzQxMDk4OjowOjo&url=%2FTraveller-Acoustic-Guitar-Strings-Polishing%2Fdp%2FB07RK9962M%2Fref%3Dsr_1_4_sspa%3Fcrid%3D3TG6PE6O6IMRD%26keywords%3Dguitar%26qid%3D1678206938%26sprefix%3D%252Caps%252C2105%26sr%3D8-4-spons%26sp_csd%3Dd2lkZ2V0TmFtZT1zcF9hdGY%26psc%3D1',\n",
       " 'https://www.amazon.in/Juarez-Acoustic-Cutaway-038C-Strings/dp/B017NPCSLI/ref=sr_1_5?crid=3TG6PE6O6IMRD&keywords=guitar&qid=1678206938&sprefix=%2Caps%2C2105&sr=8-5',\n",
       " 'https://www.amazon.in/Intern-INT-38C-Acoustic-Guitar-Black/dp/B073B6TQQY/ref=sr_1_6?crid=3TG6PE6O6IMRD&keywords=guitar&qid=1678206938&sprefix=%2Caps%2C2105&sr=8-6',\n",
       " 'https://www.amazon.in/JUAREZ-JRZ38C-Acoustic-Sunburst-Strings/dp/B01FYYTDS6/ref=sr_1_7?crid=3TG6PE6O6IMRD&keywords=guitar&qid=1678206938&sprefix=%2Caps%2C2105&sr=8-7',\n",
       " 'https://www.amazon.in/Juarez-Acoustic-Guitar-Cutaway-Strings/dp/B076QHZ4HZ/ref=sr_1_8?crid=3TG6PE6O6IMRD&keywords=guitar&qid=1678206938&sprefix=%2Caps%2C2105&sr=8-8',\n",
       " 'https://www.amazon.in/Yamaha-F280-Acoustic-Guitar-Natural/dp/B08317Y4VP/ref=sr_1_9?crid=3TG6PE6O6IMRD&keywords=guitar&qid=1678206938&sprefix=%2Caps%2C2105&sr=8-9',\n",
       " 'https://www.amazon.in/Intern-38-inch-Cutaway-Design-Acoustic/dp/B07X4PN85R/ref=sr_1_10?crid=3TG6PE6O6IMRD&keywords=guitar&qid=1678206938&sprefix=%2Caps%2C2105&sr=8-10',\n",
       " 'https://www.amazon.in/Intern-INT-38C-Acoustic-Guitar-Blue/dp/B073B5RZBV/ref=sr_1_11?crid=3TG6PE6O6IMRD&keywords=guitar&qid=1678206938&sprefix=%2Caps%2C2105&sr=8-11',\n",
       " 'https://www.amazon.in/Intern-INT-38C-Natural-Acoustic-Guitar/dp/B07X4LPJ6H/ref=sr_1_12?crid=3TG6PE6O6IMRD&keywords=guitar&qid=1678206938&sprefix=%2Caps%2C2105&sr=8-12',\n",
       " 'https://www.amazon.in/JUAREZ-JRZ38C-Acoustic-Natural-Strings/dp/B01FYYTDWC/ref=sr_1_13?crid=3TG6PE6O6IMRD&keywords=guitar&qid=1678206938&sprefix=%2Caps%2C2105&sr=8-13',\n",
       " 'https://www.amazon.in/Juarez-JRZ-ST01-6-String-Electric-Without/dp/B01FYZSOEO/ref=sr_1_14?crid=3TG6PE6O6IMRD&keywords=guitar&qid=1678206938&sprefix=%2Caps%2C2105&sr=8-14',\n",
       " 'https://www.amazon.in/sspa/click?ie=UTF8&spc=MTo2NjA4MjY3NDE0Njk5ODMxOjE2NzgyMDY5Mzg6c3Bfc2VhcmNoX3RoZW1hdGljOjIwMDU3MTkzMDU2MjA0OjowOjo&url=%2FKadence-Slowhand-Premium-Acoustic-Instrument%2Fdp%2FB077SZ667X%2Fref%3Dsxin_25_pa_sp_search_thematic_sspa%3Fcontent-id%3Damzn1.sym.4d22510d-eb67-42e3-80e4-dd492aa3a3e0%253Aamzn1.sym.4d22510d-eb67-42e3-80e4-dd492aa3a3e0%26crid%3D3TG6PE6O6IMRD%26cv_ct_cx%3Dguitar%26keywords%3Dguitar%26pd_rd_i%3DB077SZ667X%26pd_rd_r%3D5745e324-f45a-422d-82b5-91a934159ee4%26pd_rd_w%3DdDGhl%26pd_rd_wg%3DlMvF2%26pf_rd_p%3D4d22510d-eb67-42e3-80e4-dd492aa3a3e0%26pf_rd_r%3DPMD32AMMPQ9SPDZ25272%26qid%3D1678206938%26sprefix%3D%252Caps%252C2105%26sr%3D1-1-5b19f378-d955-407f-848e-18f7f0908484-spons%26sp_csd%3Dd2lkZ2V0TmFtZT1zcF9zZWFyY2hfdGhlbWF0aWM%26psc%3D1%26smid%3DAM04Z7MH4HSDD',\n",
       " 'https://www.amazon.in/sspa/click?ie=UTF8&spc=MTo2NjA4MjY3NDE0Njk5ODMxOjE2NzgyMDY5Mzg6c3Bfc2VhcmNoX3RoZW1hdGljOjIwMTIxNzg0MjQwOTk4OjoxOjo&url=%2FKadence-Frontier-Acoustic-Guitar-Equalizer%2Fdp%2FB01HRIHJWY%2Fref%3Dsxin_25_pa_sp_search_thematic_sspa%3Fcontent-id%3Damzn1.sym.4d22510d-eb67-42e3-80e4-dd492aa3a3e0%253Aamzn1.sym.4d22510d-eb67-42e3-80e4-dd492aa3a3e0%26crid%3D3TG6PE6O6IMRD%26cv_ct_cx%3Dguitar%26keywords%3Dguitar%26pd_rd_i%3DB01HRIHJWY%26pd_rd_r%3D5745e324-f45a-422d-82b5-91a934159ee4%26pd_rd_w%3DdDGhl%26pd_rd_wg%3DlMvF2%26pf_rd_p%3D4d22510d-eb67-42e3-80e4-dd492aa3a3e0%26pf_rd_r%3DPMD32AMMPQ9SPDZ25272%26qid%3D1678206938%26sprefix%3D%252Caps%252C2105%26sr%3D1-2-5b19f378-d955-407f-848e-18f7f0908484-spons%26sp_csd%3Dd2lkZ2V0TmFtZT1zcF9zZWFyY2hfdGhlbWF0aWM%26psc%3D1',\n",
       " 'https://www.amazon.in/sspa/click?ie=UTF8&spc=MTo2NjA4MjY3NDE0Njk5ODMxOjE2NzgyMDY5Mzg6c3Bfc2VhcmNoX3RoZW1hdGljOjIwMDk2NjA4NzUwNDk4OjoyOjo&url=%2FKadence-Frontier-Acoustic-Guitar-Strings%2Fdp%2FB01GDZ46AA%2Fref%3Dsxin_25_pa_sp_search_thematic_sspa%3Fcontent-id%3Damzn1.sym.4d22510d-eb67-42e3-80e4-dd492aa3a3e0%253Aamzn1.sym.4d22510d-eb67-42e3-80e4-dd492aa3a3e0%26crid%3D3TG6PE6O6IMRD%26cv_ct_cx%3Dguitar%26keywords%3Dguitar%26pd_rd_i%3DB01GDZ46AA%26pd_rd_r%3D5745e324-f45a-422d-82b5-91a934159ee4%26pd_rd_w%3DdDGhl%26pd_rd_wg%3DlMvF2%26pf_rd_p%3D4d22510d-eb67-42e3-80e4-dd492aa3a3e0%26pf_rd_r%3DPMD32AMMPQ9SPDZ25272%26qid%3D1678206938%26sprefix%3D%252Caps%252C2105%26sr%3D1-3-5b19f378-d955-407f-848e-18f7f0908484-spons%26sp_csd%3Dd2lkZ2V0TmFtZT1zcF9zZWFyY2hfdGhlbWF0aWM%26psc%3D1%26smid%3DAM04Z7MH4HSDD',\n",
       " 'https://www.amazon.in/sspa/click?ie=UTF8&spc=MTo2NjA4MjY3NDE0Njk5ODMxOjE2NzgyMDY5Mzg6c3Bfc2VhcmNoX3RoZW1hdGljOjIwMDE5NjI1NTkyMTA0OjozOjo&url=%2FCort-AD810-Dreadnought-Acoustic-Guitar%2Fdp%2FB07KMBVR6V%2Fref%3Dsxin_25_pa_sp_search_thematic_sspa%3Fcontent-id%3Damzn1.sym.4d22510d-eb67-42e3-80e4-dd492aa3a3e0%253Aamzn1.sym.4d22510d-eb67-42e3-80e4-dd492aa3a3e0%26crid%3D3TG6PE6O6IMRD%26cv_ct_cx%3Dguitar%26keywords%3Dguitar%26pd_rd_i%3DB07KMBVR6V%26pd_rd_r%3D5745e324-f45a-422d-82b5-91a934159ee4%26pd_rd_w%3DdDGhl%26pd_rd_wg%3DlMvF2%26pf_rd_p%3D4d22510d-eb67-42e3-80e4-dd492aa3a3e0%26pf_rd_r%3DPMD32AMMPQ9SPDZ25272%26qid%3D1678206938%26sprefix%3D%252Caps%252C2105%26sr%3D1-4-5b19f378-d955-407f-848e-18f7f0908484-spons%26sp_csd%3Dd2lkZ2V0TmFtZT1zcF9zZWFyY2hfdGhlbWF0aWM%26psc%3D1%26smid%3DA2E0IZ06LXDJ9X',\n",
       " 'https://www.amazon.in/Fender-Dread-String-Acoustic-Guitar/dp/B07RM4B5LJ/ref=sxin_26?asc_contentid=amzn1.osa.39dd7fbf-afb9-4b33-a89b-5dc1ff018d2f.A21TJRUUN4KGV.en_IN&asc_contenttype=article&ascsubtag=amzn1.osa.39dd7fbf-afb9-4b33-a89b-5dc1ff018d2f.A21TJRUUN4KGV.en_IN&content-id=amzn1.sym.feb2b32b-0085-4665-973c-36b431684408%3Aamzn1.sym.feb2b32b-0085-4665-973c-36b431684408&creativeASIN=B07RM4B5LJ&crid=3TG6PE6O6IMRD&cv_ct_cx=guitar&cv_ct_id=amzn1.osa.39dd7fbf-afb9-4b33-a89b-5dc1ff018d2f.A21TJRUUN4KGV.en_IN&cv_ct_pg=search&cv_ct_we=asin&cv_ct_wn=osp-single-source-pecos-desktop&keywords=guitar&linkCode=oas&pd_rd_i=B07RM4B5LJ&pd_rd_r=5745e324-f45a-422d-82b5-91a934159ee4&pd_rd_w=5FBvR&pd_rd_wg=lMvF2&pf_rd_p=feb2b32b-0085-4665-973c-36b431684408&pf_rd_r=PMD32AMMPQ9SPDZ25272&qid=1678206938&sprefix=%2Caps%2C2105&sr=1-1-c84eb971-91f2-4a4d-acce-811265c24254&tag=sm-content-21',\n",
       " 'https://www.amazon.in/Yamaha-FS100C-Acoustic-Guitars-Natural/dp/B00QKD79QE/ref=sxin_26?asc_contentid=amzn1.osa.39dd7fbf-afb9-4b33-a89b-5dc1ff018d2f.A21TJRUUN4KGV.en_IN&asc_contenttype=article&ascsubtag=amzn1.osa.39dd7fbf-afb9-4b33-a89b-5dc1ff018d2f.A21TJRUUN4KGV.en_IN&content-id=amzn1.sym.feb2b32b-0085-4665-973c-36b431684408%3Aamzn1.sym.feb2b32b-0085-4665-973c-36b431684408&creativeASIN=B00QKD79QE&crid=3TG6PE6O6IMRD&cv_ct_cx=guitar&cv_ct_id=amzn1.osa.39dd7fbf-afb9-4b33-a89b-5dc1ff018d2f.A21TJRUUN4KGV.en_IN&cv_ct_pg=search&cv_ct_we=asin&cv_ct_wn=osp-single-source-pecos-desktop&keywords=guitar&linkCode=oas&pd_rd_i=B00QKD79QE&pd_rd_r=5745e324-f45a-422d-82b5-91a934159ee4&pd_rd_w=5FBvR&pd_rd_wg=lMvF2&pf_rd_p=feb2b32b-0085-4665-973c-36b431684408&pf_rd_r=PMD32AMMPQ9SPDZ25272&qid=1678206938&sprefix=%2Caps%2C2105&sr=1-2-c84eb971-91f2-4a4d-acce-811265c24254&tag=sm-content-21',\n",
       " 'https://www.amazon.in/Rosewood-Fretboard-Acoustic-Strings-K-Retail/dp/B07KLG8C4P/ref=sxin_26?asc_contentid=amzn1.osa.39dd7fbf-afb9-4b33-a89b-5dc1ff018d2f.A21TJRUUN4KGV.en_IN&asc_contenttype=article&ascsubtag=amzn1.osa.39dd7fbf-afb9-4b33-a89b-5dc1ff018d2f.A21TJRUUN4KGV.en_IN&content-id=amzn1.sym.feb2b32b-0085-4665-973c-36b431684408%3Aamzn1.sym.feb2b32b-0085-4665-973c-36b431684408&creativeASIN=B07KLG8C4P&crid=3TG6PE6O6IMRD&cv_ct_cx=guitar&cv_ct_id=amzn1.osa.39dd7fbf-afb9-4b33-a89b-5dc1ff018d2f.A21TJRUUN4KGV.en_IN&cv_ct_pg=search&cv_ct_we=asin&cv_ct_wn=osp-single-source-pecos-desktop&keywords=guitar&linkCode=oas&pd_rd_i=B07KLG8C4P&pd_rd_r=5745e324-f45a-422d-82b5-91a934159ee4&pd_rd_w=5FBvR&pd_rd_wg=lMvF2&pf_rd_p=feb2b32b-0085-4665-973c-36b431684408&pf_rd_r=PMD32AMMPQ9SPDZ25272&qid=1678206938&sprefix=%2Caps%2C2105&sr=1-3-c84eb971-91f2-4a4d-acce-811265c24254&tag=sm-content-21',\n",
       " 'https://www.amazon.in/Kadence-6-strings-Acoustic-Guitar-Natural/dp/B07JKYWGJN/ref=sxin_26?asc_contentid=amzn1.osa.39dd7fbf-afb9-4b33-a89b-5dc1ff018d2f.A21TJRUUN4KGV.en_IN&asc_contenttype=article&ascsubtag=amzn1.osa.39dd7fbf-afb9-4b33-a89b-5dc1ff018d2f.A21TJRUUN4KGV.en_IN&content-id=amzn1.sym.feb2b32b-0085-4665-973c-36b431684408%3Aamzn1.sym.feb2b32b-0085-4665-973c-36b431684408&creativeASIN=B07JKYWGJN&crid=3TG6PE6O6IMRD&cv_ct_cx=guitar&cv_ct_id=amzn1.osa.39dd7fbf-afb9-4b33-a89b-5dc1ff018d2f.A21TJRUUN4KGV.en_IN&cv_ct_pg=search&cv_ct_we=asin&cv_ct_wn=osp-single-source-pecos-desktop&keywords=guitar&linkCode=oas&pd_rd_i=B07JKYWGJN&pd_rd_r=5745e324-f45a-422d-82b5-91a934159ee4&pd_rd_w=5FBvR&pd_rd_wg=lMvF2&pf_rd_p=feb2b32b-0085-4665-973c-36b431684408&pf_rd_r=PMD32AMMPQ9SPDZ25272&qid=1678206938&sprefix=%2Caps%2C2105&sr=1-4-c84eb971-91f2-4a4d-acce-811265c24254&tag=sm-content-21',\n",
       " 'https://www.amazon.in/JUAREZ-JRZ38C-Acoustic-Sunburst-Strings/dp/B01FYYTDTU/ref=sr_1_15?crid=3TG6PE6O6IMRD&keywords=guitar&qid=1678206938&sprefix=%2Caps%2C2105&sr=8-15',\n",
       " 'https://www.amazon.in/Intern-INT-38C-Brown-Acoustic-Guitar/dp/B07X2HV158/ref=sr_1_16?crid=3TG6PE6O6IMRD&keywords=guitar&qid=1678206938&sprefix=%2Caps%2C2105&sr=8-16',\n",
       " 'https://www.amazon.in/Intern-INT-38C-Acoustic-Guitar-Sunburst/dp/B073B5MJRM/ref=sr_1_17?crid=3TG6PE6O6IMRD&keywords=guitar&qid=1678206938&sprefix=%2Caps%2C2105&sr=8-17',\n",
       " 'https://www.amazon.in/Kadence-Frontier-Acoustic-Guitar-Strings/dp/B078GTJP5Y/ref=sr_1_18?crid=3TG6PE6O6IMRD&keywords=guitar&qid=1678206938&sprefix=%2Caps%2C2105&sr=8-18',\n",
       " 'https://www.amazon.in/Revel-RVL-38C-LGP-BLS-Linden-Acoustic-Guitar/dp/B085HWKDCY/ref=sr_1_19?crid=3TG6PE6O6IMRD&keywords=guitar&qid=1678206938&sprefix=%2Caps%2C2105&sr=8-19',\n",
       " 'https://www.amazon.in/Rosewood-Fretboard-Acoustic-Strings-K-Retail/dp/B07KLG8C4P/ref=sr_1_20?crid=3TG6PE6O6IMRD&keywords=guitar&qid=1678206938&sprefix=%2Caps%2C2105&sr=8-20',\n",
       " 'https://www.amazon.in/sspa/click?ie=UTF8&spc=MToyMTEwNzA2NzQwMTU4NDU4OjE2NzgyMDY5Mzg6c3BfbXRmOjIwMTEyMTYwMzk2MDk4OjowOjo&url=%2FGiuson-Venus-Black-Acoustic-Strings%2Fdp%2FB089GNM189%2Fref%3Dsr_1_21_sspa%3Fcrid%3D3TG6PE6O6IMRD%26keywords%3Dguitar%26qid%3D1678206938%26sprefix%3D%252Caps%252C2105%26sr%3D8-21-spons%26sp_csd%3Dd2lkZ2V0TmFtZT1zcF9tdGY%26psc%3D1',\n",
       " 'https://www.amazon.in/sspa/click?ie=UTF8&spc=MToyMTEwNzA2NzQwMTU4NDU4OjE2NzgyMDY5Mzg6c3BfbXRmOjIwMDQ5MTI5MTM2MjAxOjowOjo&url=%2FGUITAR-BRO-Acoustic-Beginner-Accessories%2Fdp%2FB07T84GC8L%2Fref%3Dsr_1_22_sspa%3Fcrid%3D3TG6PE6O6IMRD%26keywords%3Dguitar%26qid%3D1678206938%26sprefix%3D%252Caps%252C2105%26sr%3D8-22-spons%26sp_csd%3Dd2lkZ2V0TmFtZT1zcF9tdGY%26psc%3D1',\n",
       " 'https://www.amazon.in/sspa/click?ie=UTF8&spc=MToyMTEwNzA2NzQwMTU4NDU4OjE2NzgyMDY5Mzg6c3BfbXRmOjIwMTI3MjgwMzA4Njk4OjowOjo&url=%2FTechblaze-Calibration-Accurate-Electronic-Specialized%2Fdp%2FB08334S5FD%2Fref%3Dsr_1_23_sspa%3Fcrid%3D3TG6PE6O6IMRD%26keywords%3Dguitar%26qid%3D1678206938%26sprefix%3D%252Caps%252C2105%26sr%3D8-23-spons%26sp_csd%3Dd2lkZ2V0TmFtZT1zcF9tdGY%26psc%3D1',\n",
       " 'https://www.amazon.in/sspa/click?ie=UTF8&spc=MToyMTEwNzA2NzQwMTU4NDU4OjE2NzgyMDY5Mzg6c3BfbXRmOjIwMDE5NjI1NTkyMTA0OjowOjo&url=%2FCort-AD810-Dreadnought-Acoustic-Guitar%2Fdp%2FB07KMBVR6V%2Fref%3Dsr_1_24_sspa%3Fcrid%3D3TG6PE6O6IMRD%26keywords%3Dguitar%26qid%3D1678206938%26sprefix%3D%252Caps%252C2105%26sr%3D8-24-spons%26sp_csd%3Dd2lkZ2V0TmFtZT1zcF9tdGY%26psc%3D1%26smid%3DA2E0IZ06LXDJ9X',\n",
       " 'https://www.amazon.in/YAMAHA-NATURAL-CONCERT-CUTAWAY-GUITAR/dp/B08KW4DRKL/ref=sr_1_25?crid=3TG6PE6O6IMRD&keywords=guitar&qid=1678206938&sprefix=%2Caps%2C2105&sr=8-25',\n",
       " 'https://www.amazon.in/YAMAHA-FS80C-CONCERT-CUTAWAY-GUITAR/dp/B08WBBVMVJ/ref=sr_1_26?crid=3TG6PE6O6IMRD&keywords=guitar&qid=1678206938&sprefix=%2Caps%2C2105&sr=8-26',\n",
       " 'https://www.amazon.in/Yamaha-FS-100C-6-String-Acoustic-without/dp/B00PAS9CK6/ref=sr_1_27?crid=3TG6PE6O6IMRD&keywords=guitar&qid=1678206938&sprefix=%2Caps%2C2105&sr=8-27',\n",
       " 'https://www.amazon.in/Yamaha-F310-6-Strings-Acoustic-Natural/dp/B000RVYW7E/ref=sr_1_28?crid=3TG6PE6O6IMRD&keywords=guitar&qid=1678206938&sprefix=%2Caps%2C2105&sr=8-28',\n",
       " 'https://www.amazon.in/Intern-Acoustic-Steel-string-plectrums-INT-38C-WH/dp/B09LR94Z2X/ref=sr_1_29?crid=3TG6PE6O6IMRD&keywords=guitar&qid=1678206938&sprefix=%2Caps%2C2105&sr=8-29',\n",
       " 'https://www.amazon.in/Juarez-Acoustic-Guitar-Cutaway-Strings/dp/B075XMRKMY/ref=sr_1_30?crid=3TG6PE6O6IMRD&keywords=guitar&qid=1678206938&sprefix=%2Caps%2C2105&sr=8-30',\n",
       " 'https://www.amazon.in/JUAREZ-JRZ38C-Handed-Acoustic-Strings/dp/B01FYYTDW2/ref=sr_1_31?crid=3TG6PE6O6IMRD&keywords=guitar&qid=1678206938&sprefix=%2Caps%2C2105&sr=8-31',\n",
       " 'https://www.amazon.in/Acoustic-Humidity-resistance-resonance-Plectrums/dp/B09RQZ6HM2/ref=sr_1_32?crid=3TG6PE6O6IMRD&keywords=guitar&qid=1678206938&sprefix=%2Caps%2C2105&sr=8-32',\n",
       " 'https://www.amazon.in/Vault-Jazz-Bass-4-String-Guitar/dp/B09ZXZDCDR/ref=sr_1_33?crid=3TG6PE6O6IMRD&keywords=guitar&qid=1678206938&sprefix=%2Caps%2C2105&sr=8-33',\n",
       " 'https://www.amazon.in/JRZ-ST01-6-String-Electric-Sunburst-Without/dp/B01FYZSOEE/ref=sr_1_34?crid=3TG6PE6O6IMRD&keywords=guitar&qid=1678206938&sprefix=%2Caps%2C2105&sr=8-34',\n",
       " 'https://www.amazon.in/Juarez-Acoustic-Guitar-Cutaway-Strings/dp/B084VRCCN7/ref=sr_1_35?crid=3TG6PE6O6IMRD&keywords=guitar&qid=1678206938&sprefix=%2Caps%2C2105&sr=8-35',\n",
       " 'https://www.amazon.in/Juarez-Acoustic-Guitar-Cutaway-JRZ38CT/dp/B01N3TTYJQ/ref=sr_1_36?crid=3TG6PE6O6IMRD&keywords=guitar&qid=1678206938&sprefix=%2Caps%2C2105&sr=8-36',\n",
       " 'https://www.amazon.in/Acoustic-Cutaway-TBLS-Strings-Sunburst/dp/B098BCCY75/ref=sr_1_37?crid=3TG6PE6O6IMRD&keywords=guitar&qid=1678206938&sprefix=%2Caps%2C2105&sr=8-37',\n",
       " 'https://www.amazon.in/Fender-String-Cutaway-Acoustic-Guitar/dp/B07YX5W8MV/ref=sr_1_38?crid=3TG6PE6O6IMRD&keywords=guitar&qid=1678206938&sprefix=%2Caps%2C2105&sr=8-38',\n",
       " 'https://www.amazon.in/Ju%C3%A2rez-JRZ38C-WH-Strings-Acoustic/dp/B072MFK4L6/ref=sr_1_39?crid=3TG6PE6O6IMRD&keywords=guitar&qid=1678206938&sprefix=%2Caps%2C2105&sr=8-39',\n",
       " 'https://www.amazon.in/Sterling-Ray4HH-4-String-Electric-Guitar/dp/B08518CCJS/ref=sr_1_40?crid=3TG6PE6O6IMRD&keywords=guitar&qid=1678206938&sprefix=%2Caps%2C2105&sr=8-40',\n",
       " 'https://www.amazon.in/Tanglewood-Crossroads-Acoustic-Strings-Orchestra/dp/B016KJHSV8/ref=sr_1_41_mod_primary_new?crid=3TG6PE6O6IMRD&keywords=guitar&qid=1678206938&sbo=RZvfv%2F%2FHxDF%2BO5021pAnSA%3D%3D&sprefix=%2Caps%2C2105&sr=8-41',\n",
       " 'https://www.amazon.in/Tanglewood-Crossroads-Acoustic-Strings-Orchestra/dp/B016KJHSV8/ref=sr_1_41_mod_new?crid=3TG6PE6O6IMRD&keywords=guitar&qid=1678206938&sbo=RZvfv%2F%2FHxDF%2BO5021pAnSA%3D%3D&sprefix=%2Caps%2C2105&sr=8-41',\n",
       " 'https://www.amazon.in/Tanglewood-Crossroads-Acoustic-Strings-Orchestra/dp/B016KJHSV8/ref=sr_1_41_mod_new?crid=3TG6PE6O6IMRD&keywords=guitar&qid=1678206938&sbo=RZvfv%2F%2FHxDF%2BO5021pAnSA%3D%3D&sprefix=%2Caps%2C2105&sr=8-41',\n",
       " 'https://www.amazon.in/Kadence-Frontier-Acoustic-Guitar-Strings/dp/B01GDZ46AA/ref=sr_1_42?crid=3TG6PE6O6IMRD&keywords=guitar&qid=1678206938&sprefix=%2Caps%2C2105&sr=8-42',\n",
       " 'https://www.amazon.in/JUAREZ-JRZ38C-Handed-Acoustic-Strings/dp/B01FYYTDX6/ref=sr_1_43?crid=3TG6PE6O6IMRD&keywords=guitar&qid=1678206938&sprefix=%2Caps%2C2105&sr=8-43',\n",
       " 'https://www.amazon.in/Acoustic-strings-plectrums-stability-age-groups/dp/B09YHC3LX6/ref=sr_1_44?crid=3TG6PE6O6IMRD&keywords=guitar&qid=1678206938&sprefix=%2Caps%2C2105&sr=8-44',\n",
       " 'https://www.amazon.in/Yamaha-FSX80C-Acoustic-Cutaway-Natural/dp/B09HL3GFZF/ref=sr_1_45?crid=3TG6PE6O6IMRD&keywords=guitar&qid=1678206938&sprefix=%2Caps%2C2105&sr=8-45',\n",
       " 'https://www.amazon.in/Yamaha-Acoustic-Guitar-Natural-Bajaao/dp/B08RMP2F6Z/ref=sr_1_46?crid=3TG6PE6O6IMRD&keywords=guitar&qid=1678206938&sprefix=%2Caps%2C2105&sr=8-46',\n",
       " 'https://www.amazon.in/Yamaha-Acoustic-Guitar-Tobacco-Sunburst/dp/B08VXR74Q2/ref=sr_1_47?crid=3TG6PE6O6IMRD&keywords=guitar&qid=1678206938&sprefix=%2Caps%2C2105&sr=8-47',\n",
       " 'https://www.amazon.in/Juarez-Acoustic-Cutaway-BK-Strings/dp/B076T3RHMG/ref=sr_1_48?crid=3TG6PE6O6IMRD&keywords=guitar&qid=1678206938&sprefix=%2Caps%2C2105&sr=8-48',\n",
       " 'https://www.amazon.in/Intern-INT-38C-Acoustic-Guitar-Kit/dp/B073B6TF31/ref=sr_1_49?crid=3TG6PE6O6IMRD&keywords=guitar&qid=1678206938&sprefix=%2Caps%2C2105&sr=8-49',\n",
       " 'https://www.amazon.in/Henrix-Cutaway-Acoustic-Die-Cast-Tuners/dp/B07KMXDXBV/ref=sr_1_50?crid=3TG6PE6O6IMRD&keywords=guitar&qid=1678206938&sprefix=%2Caps%2C2105&sr=8-50',\n",
       " 'https://www.amazon.in/Intern-INT-38C-BLS-G-Guitar-Kit-Blue/dp/B07K8YXTNW/ref=sr_1_51?crid=3TG6PE6O6IMRD&keywords=guitar&qid=1678206938&sprefix=%2Caps%2C2105&sr=8-51',\n",
       " 'https://www.amazon.in/Kadence-Frontier-Acoustic-Guitar-Strings/dp/B07T48VTZ1/ref=sr_1_52?crid=3TG6PE6O6IMRD&keywords=guitar&qid=1678206938&sprefix=%2Caps%2C2105&sr=8-52',\n",
       " 'https://www.amazon.in/Acoustic-Cutaway-3TS-Strings-Sunburst/dp/B098BD1MHM/ref=sr_1_53?crid=3TG6PE6O6IMRD&keywords=guitar&qid=1678206938&sprefix=%2Caps%2C2105&sr=8-53',\n",
       " 'https://www.amazon.in/Yamaha-FSX80C-Acoustic-Cutaway-Guitar/dp/B09HL5WFDX/ref=sr_1_54?crid=3TG6PE6O6IMRD&keywords=guitar&qid=1678206938&sprefix=%2Caps%2C2105&sr=8-54',\n",
       " 'https://www.amazon.in/Fender-Dread-String-Acoustic-Guitar/dp/B07RM4B5LJ/ref=sr_1_55?crid=3TG6PE6O6IMRD&keywords=guitar&qid=1678206938&sprefix=%2Caps%2C2105&sr=8-55',\n",
       " 'https://www.amazon.in/MUSTANG-Junior-Inch-Acoustic-Guitar/dp/B0BTBWJTGH/ref=sr_1_56?crid=3TG6PE6O6IMRD&keywords=guitar&qid=1678206938&sprefix=%2Caps%2C2105&sr=8-56',\n",
       " 'https://www.amazon.in/sspa/click?ie=UTF8&spc=MToyMTEwNzA2NzQwMTU4NDU4OjE2NzgyMDY5Mzg6c3BfYnRmOjIwMDg2MzMyMTYyOTAxOjowOjo&url=%2FUniversal-Acoustic-Classical-Mandolins-Instruments%2Fdp%2FB08XBRNC7T%2Fref%3Dsr_1_57_sspa%3Fcrid%3D3TG6PE6O6IMRD%26keywords%3Dguitar%26qid%3D1678206938%26sprefix%3D%252Caps%252C2105%26sr%3D8-57-spons%26sp_csd%3Dd2lkZ2V0TmFtZT1zcF9idGY%26psc%3D1',\n",
       " 'https://www.amazon.in/sspa/click?ie=UTF8&spc=MToyMTEwNzA2NzQwMTU4NDU4OjE2NzgyMDY5Mzg6c3BfYXRmOjIwMTIxNzg0MjQwOTk4OjowOjo&url=%2FKadence-Frontier-Acoustic-Guitar-Equalizer%2Fdp%2FB01HRIHJWY%2Fref%3Dsr_1_1_sspa%3Fcrid%3D3TG6PE6O6IMRD%26keywords%3Dguitar%26qid%3D1678206938%26sprefix%3D%252Caps%252C2105%26sr%3D8-1-spons%26sp_csd%3Dd2lkZ2V0TmFtZT1zcF9hdGY%26psc%3D1',\n",
       " 'https://www.amazon.in/sspa/click?ie=UTF8&spc=MToyMTEwNzA2NzQwMTU4NDU4OjE2NzgyMDY5Mzg6c3BfYXRmOjIwMDU3MTkzMDU2MjA0OjowOjo&url=%2FKadence-Slowhand-Premium-Acoustic-Instrument%2Fdp%2FB077SZ667X%2Fref%3Dsr_1_2_sspa%3Fcrid%3D3TG6PE6O6IMRD%26keywords%3Dguitar%26qid%3D1678206938%26sprefix%3D%252Caps%252C2105%26sr%3D8-2-spons%26sp_csd%3Dd2lkZ2V0TmFtZT1zcF9hdGY%26psc%3D1%26smid%3DAM04Z7MH4HSDD',\n",
       " 'https://www.amazon.in/sspa/click?ie=UTF8&spc=MToyMTEwNzA2NzQwMTU4NDU4OjE2NzgyMDY5Mzg6c3BfYXRmOjIwMDk2NjA4NzUwNDk4OjowOjo&url=%2FKadence-Frontier-Acoustic-Guitar-Strings%2Fdp%2FB01GDZ46AA%2Fref%3Dsr_1_3_sspa%3Fcrid%3D3TG6PE6O6IMRD%26keywords%3Dguitar%26qid%3D1678206938%26sprefix%3D%252Caps%252C2105%26sr%3D8-3-spons%26sp_csd%3Dd2lkZ2V0TmFtZT1zcF9hdGY%26psc%3D1%26smid%3DAM04Z7MH4HSDD',\n",
       " 'https://www.amazon.in/sspa/click?ie=UTF8&spc=MToyMTEwNzA2NzQwMTU4NDU4OjE2NzgyMDY5Mzg6c3BfYXRmOjIwMDM2MjI1NzQxMDk4OjowOjo&url=%2FTraveller-Acoustic-Guitar-Strings-Polishing%2Fdp%2FB07RK9962M%2Fref%3Dsr_1_4_sspa%3Fcrid%3D3TG6PE6O6IMRD%26keywords%3Dguitar%26qid%3D1678206938%26sprefix%3D%252Caps%252C2105%26sr%3D8-4-spons%26sp_csd%3Dd2lkZ2V0TmFtZT1zcF9hdGY%26psc%3D1',\n",
       " 'https://www.amazon.in/Juarez-Acoustic-Cutaway-038C-Strings/dp/B017NPCSLI/ref=sr_1_5?crid=3TG6PE6O6IMRD&keywords=guitar&qid=1678206938&sprefix=%2Caps%2C2105&sr=8-5',\n",
       " 'https://www.amazon.in/Intern-INT-38C-Acoustic-Guitar-Black/dp/B073B6TQQY/ref=sr_1_6?crid=3TG6PE6O6IMRD&keywords=guitar&qid=1678206938&sprefix=%2Caps%2C2105&sr=8-6',\n",
       " 'https://www.amazon.in/JUAREZ-JRZ38C-Acoustic-Sunburst-Strings/dp/B01FYYTDS6/ref=sr_1_7?crid=3TG6PE6O6IMRD&keywords=guitar&qid=1678206938&sprefix=%2Caps%2C2105&sr=8-7',\n",
       " 'https://www.amazon.in/Juarez-Acoustic-Guitar-Cutaway-Strings/dp/B076QHZ4HZ/ref=sr_1_8?crid=3TG6PE6O6IMRD&keywords=guitar&qid=1678206938&sprefix=%2Caps%2C2105&sr=8-8',\n",
       " 'https://www.amazon.in/Yamaha-F280-Acoustic-Guitar-Natural/dp/B08317Y4VP/ref=sr_1_9?crid=3TG6PE6O6IMRD&keywords=guitar&qid=1678206938&sprefix=%2Caps%2C2105&sr=8-9',\n",
       " 'https://www.amazon.in/Intern-38-inch-Cutaway-Design-Acoustic/dp/B07X4PN85R/ref=sr_1_10?crid=3TG6PE6O6IMRD&keywords=guitar&qid=1678206938&sprefix=%2Caps%2C2105&sr=8-10',\n",
       " 'https://www.amazon.in/Intern-INT-38C-Acoustic-Guitar-Blue/dp/B073B5RZBV/ref=sr_1_11?crid=3TG6PE6O6IMRD&keywords=guitar&qid=1678206938&sprefix=%2Caps%2C2105&sr=8-11',\n",
       " 'https://www.amazon.in/Intern-INT-38C-Natural-Acoustic-Guitar/dp/B07X4LPJ6H/ref=sr_1_12?crid=3TG6PE6O6IMRD&keywords=guitar&qid=1678206938&sprefix=%2Caps%2C2105&sr=8-12',\n",
       " 'https://www.amazon.in/JUAREZ-JRZ38C-Acoustic-Natural-Strings/dp/B01FYYTDWC/ref=sr_1_13?crid=3TG6PE6O6IMRD&keywords=guitar&qid=1678206938&sprefix=%2Caps%2C2105&sr=8-13',\n",
       " 'https://www.amazon.in/Juarez-JRZ-ST01-6-String-Electric-Without/dp/B01FYZSOEO/ref=sr_1_14?crid=3TG6PE6O6IMRD&keywords=guitar&qid=1678206938&sprefix=%2Caps%2C2105&sr=8-14',\n",
       " 'https://www.amazon.in/sspa/click?ie=UTF8&spc=MTo2NjA4MjY3NDE0Njk5ODMxOjE2NzgyMDY5Mzg6c3Bfc2VhcmNoX3RoZW1hdGljOjIwMDU3MTkzMDU2MjA0OjowOjo&url=%2FKadence-Slowhand-Premium-Acoustic-Instrument%2Fdp%2FB077SZ667X%2Fref%3Dsxin_25_pa_sp_search_thematic_sspa%3Fcontent-id%3Damzn1.sym.4d22510d-eb67-42e3-80e4-dd492aa3a3e0%253Aamzn1.sym.4d22510d-eb67-42e3-80e4-dd492aa3a3e0%26crid%3D3TG6PE6O6IMRD%26cv_ct_cx%3Dguitar%26keywords%3Dguitar%26pd_rd_i%3DB077SZ667X%26pd_rd_r%3D5745e324-f45a-422d-82b5-91a934159ee4%26pd_rd_w%3DdDGhl%26pd_rd_wg%3DlMvF2%26pf_rd_p%3D4d22510d-eb67-42e3-80e4-dd492aa3a3e0%26pf_rd_r%3DPMD32AMMPQ9SPDZ25272%26qid%3D1678206938%26sprefix%3D%252Caps%252C2105%26sr%3D1-1-5b19f378-d955-407f-848e-18f7f0908484-spons%26sp_csd%3Dd2lkZ2V0TmFtZT1zcF9zZWFyY2hfdGhlbWF0aWM%26psc%3D1%26smid%3DAM04Z7MH4HSDD',\n",
       " 'https://www.amazon.in/sspa/click?ie=UTF8&spc=MTo2NjA4MjY3NDE0Njk5ODMxOjE2NzgyMDY5Mzg6c3Bfc2VhcmNoX3RoZW1hdGljOjIwMTIxNzg0MjQwOTk4OjoxOjo&url=%2FKadence-Frontier-Acoustic-Guitar-Equalizer%2Fdp%2FB01HRIHJWY%2Fref%3Dsxin_25_pa_sp_search_thematic_sspa%3Fcontent-id%3Damzn1.sym.4d22510d-eb67-42e3-80e4-dd492aa3a3e0%253Aamzn1.sym.4d22510d-eb67-42e3-80e4-dd492aa3a3e0%26crid%3D3TG6PE6O6IMRD%26cv_ct_cx%3Dguitar%26keywords%3Dguitar%26pd_rd_i%3DB01HRIHJWY%26pd_rd_r%3D5745e324-f45a-422d-82b5-91a934159ee4%26pd_rd_w%3DdDGhl%26pd_rd_wg%3DlMvF2%26pf_rd_p%3D4d22510d-eb67-42e3-80e4-dd492aa3a3e0%26pf_rd_r%3DPMD32AMMPQ9SPDZ25272%26qid%3D1678206938%26sprefix%3D%252Caps%252C2105%26sr%3D1-2-5b19f378-d955-407f-848e-18f7f0908484-spons%26sp_csd%3Dd2lkZ2V0TmFtZT1zcF9zZWFyY2hfdGhlbWF0aWM%26psc%3D1',\n",
       " 'https://www.amazon.in/sspa/click?ie=UTF8&spc=MTo2NjA4MjY3NDE0Njk5ODMxOjE2NzgyMDY5Mzg6c3Bfc2VhcmNoX3RoZW1hdGljOjIwMDk2NjA4NzUwNDk4OjoyOjo&url=%2FKadence-Frontier-Acoustic-Guitar-Strings%2Fdp%2FB01GDZ46AA%2Fref%3Dsxin_25_pa_sp_search_thematic_sspa%3Fcontent-id%3Damzn1.sym.4d22510d-eb67-42e3-80e4-dd492aa3a3e0%253Aamzn1.sym.4d22510d-eb67-42e3-80e4-dd492aa3a3e0%26crid%3D3TG6PE6O6IMRD%26cv_ct_cx%3Dguitar%26keywords%3Dguitar%26pd_rd_i%3DB01GDZ46AA%26pd_rd_r%3D5745e324-f45a-422d-82b5-91a934159ee4%26pd_rd_w%3DdDGhl%26pd_rd_wg%3DlMvF2%26pf_rd_p%3D4d22510d-eb67-42e3-80e4-dd492aa3a3e0%26pf_rd_r%3DPMD32AMMPQ9SPDZ25272%26qid%3D1678206938%26sprefix%3D%252Caps%252C2105%26sr%3D1-3-5b19f378-d955-407f-848e-18f7f0908484-spons%26sp_csd%3Dd2lkZ2V0TmFtZT1zcF9zZWFyY2hfdGhlbWF0aWM%26psc%3D1%26smid%3DAM04Z7MH4HSDD',\n",
       " 'https://www.amazon.in/sspa/click?ie=UTF8&spc=MTo2NjA4MjY3NDE0Njk5ODMxOjE2NzgyMDY5Mzg6c3Bfc2VhcmNoX3RoZW1hdGljOjIwMDE5NjI1NTkyMTA0OjozOjo&url=%2FCort-AD810-Dreadnought-Acoustic-Guitar%2Fdp%2FB07KMBVR6V%2Fref%3Dsxin_25_pa_sp_search_thematic_sspa%3Fcontent-id%3Damzn1.sym.4d22510d-eb67-42e3-80e4-dd492aa3a3e0%253Aamzn1.sym.4d22510d-eb67-42e3-80e4-dd492aa3a3e0%26crid%3D3TG6PE6O6IMRD%26cv_ct_cx%3Dguitar%26keywords%3Dguitar%26pd_rd_i%3DB07KMBVR6V%26pd_rd_r%3D5745e324-f45a-422d-82b5-91a934159ee4%26pd_rd_w%3DdDGhl%26pd_rd_wg%3DlMvF2%26pf_rd_p%3D4d22510d-eb67-42e3-80e4-dd492aa3a3e0%26pf_rd_r%3DPMD32AMMPQ9SPDZ25272%26qid%3D1678206938%26sprefix%3D%252Caps%252C2105%26sr%3D1-4-5b19f378-d955-407f-848e-18f7f0908484-spons%26sp_csd%3Dd2lkZ2V0TmFtZT1zcF9zZWFyY2hfdGhlbWF0aWM%26psc%3D1%26smid%3DA2E0IZ06LXDJ9X',\n",
       " 'https://www.amazon.in/Fender-Dread-String-Acoustic-Guitar/dp/B07RM4B5LJ/ref=sxin_26?asc_contentid=amzn1.osa.39dd7fbf-afb9-4b33-a89b-5dc1ff018d2f.A21TJRUUN4KGV.en_IN&asc_contenttype=article&ascsubtag=amzn1.osa.39dd7fbf-afb9-4b33-a89b-5dc1ff018d2f.A21TJRUUN4KGV.en_IN&content-id=amzn1.sym.feb2b32b-0085-4665-973c-36b431684408%3Aamzn1.sym.feb2b32b-0085-4665-973c-36b431684408&creativeASIN=B07RM4B5LJ&crid=3TG6PE6O6IMRD&cv_ct_cx=guitar&cv_ct_id=amzn1.osa.39dd7fbf-afb9-4b33-a89b-5dc1ff018d2f.A21TJRUUN4KGV.en_IN&cv_ct_pg=search&cv_ct_we=asin&cv_ct_wn=osp-single-source-pecos-desktop&keywords=guitar&linkCode=oas&pd_rd_i=B07RM4B5LJ&pd_rd_r=5745e324-f45a-422d-82b5-91a934159ee4&pd_rd_w=5FBvR&pd_rd_wg=lMvF2&pf_rd_p=feb2b32b-0085-4665-973c-36b431684408&pf_rd_r=PMD32AMMPQ9SPDZ25272&qid=1678206938&sprefix=%2Caps%2C2105&sr=1-1-c84eb971-91f2-4a4d-acce-811265c24254&tag=sm-content-21',\n",
       " 'https://www.amazon.in/Yamaha-FS100C-Acoustic-Guitars-Natural/dp/B00QKD79QE/ref=sxin_26?asc_contentid=amzn1.osa.39dd7fbf-afb9-4b33-a89b-5dc1ff018d2f.A21TJRUUN4KGV.en_IN&asc_contenttype=article&ascsubtag=amzn1.osa.39dd7fbf-afb9-4b33-a89b-5dc1ff018d2f.A21TJRUUN4KGV.en_IN&content-id=amzn1.sym.feb2b32b-0085-4665-973c-36b431684408%3Aamzn1.sym.feb2b32b-0085-4665-973c-36b431684408&creativeASIN=B00QKD79QE&crid=3TG6PE6O6IMRD&cv_ct_cx=guitar&cv_ct_id=amzn1.osa.39dd7fbf-afb9-4b33-a89b-5dc1ff018d2f.A21TJRUUN4KGV.en_IN&cv_ct_pg=search&cv_ct_we=asin&cv_ct_wn=osp-single-source-pecos-desktop&keywords=guitar&linkCode=oas&pd_rd_i=B00QKD79QE&pd_rd_r=5745e324-f45a-422d-82b5-91a934159ee4&pd_rd_w=5FBvR&pd_rd_wg=lMvF2&pf_rd_p=feb2b32b-0085-4665-973c-36b431684408&pf_rd_r=PMD32AMMPQ9SPDZ25272&qid=1678206938&sprefix=%2Caps%2C2105&sr=1-2-c84eb971-91f2-4a4d-acce-811265c24254&tag=sm-content-21',\n",
       " 'https://www.amazon.in/Rosewood-Fretboard-Acoustic-Strings-K-Retail/dp/B07KLG8C4P/ref=sxin_26?asc_contentid=amzn1.osa.39dd7fbf-afb9-4b33-a89b-5dc1ff018d2f.A21TJRUUN4KGV.en_IN&asc_contenttype=article&ascsubtag=amzn1.osa.39dd7fbf-afb9-4b33-a89b-5dc1ff018d2f.A21TJRUUN4KGV.en_IN&content-id=amzn1.sym.feb2b32b-0085-4665-973c-36b431684408%3Aamzn1.sym.feb2b32b-0085-4665-973c-36b431684408&creativeASIN=B07KLG8C4P&crid=3TG6PE6O6IMRD&cv_ct_cx=guitar&cv_ct_id=amzn1.osa.39dd7fbf-afb9-4b33-a89b-5dc1ff018d2f.A21TJRUUN4KGV.en_IN&cv_ct_pg=search&cv_ct_we=asin&cv_ct_wn=osp-single-source-pecos-desktop&keywords=guitar&linkCode=oas&pd_rd_i=B07KLG8C4P&pd_rd_r=5745e324-f45a-422d-82b5-91a934159ee4&pd_rd_w=5FBvR&pd_rd_wg=lMvF2&pf_rd_p=feb2b32b-0085-4665-973c-36b431684408&pf_rd_r=PMD32AMMPQ9SPDZ25272&qid=1678206938&sprefix=%2Caps%2C2105&sr=1-3-c84eb971-91f2-4a4d-acce-811265c24254&tag=sm-content-21',\n",
       " 'https://www.amazon.in/Kadence-6-strings-Acoustic-Guitar-Natural/dp/B07JKYWGJN/ref=sxin_26?asc_contentid=amzn1.osa.39dd7fbf-afb9-4b33-a89b-5dc1ff018d2f.A21TJRUUN4KGV.en_IN&asc_contenttype=article&ascsubtag=amzn1.osa.39dd7fbf-afb9-4b33-a89b-5dc1ff018d2f.A21TJRUUN4KGV.en_IN&content-id=amzn1.sym.feb2b32b-0085-4665-973c-36b431684408%3Aamzn1.sym.feb2b32b-0085-4665-973c-36b431684408&creativeASIN=B07JKYWGJN&crid=3TG6PE6O6IMRD&cv_ct_cx=guitar&cv_ct_id=amzn1.osa.39dd7fbf-afb9-4b33-a89b-5dc1ff018d2f.A21TJRUUN4KGV.en_IN&cv_ct_pg=search&cv_ct_we=asin&cv_ct_wn=osp-single-source-pecos-desktop&keywords=guitar&linkCode=oas&pd_rd_i=B07JKYWGJN&pd_rd_r=5745e324-f45a-422d-82b5-91a934159ee4&pd_rd_w=5FBvR&pd_rd_wg=lMvF2&pf_rd_p=feb2b32b-0085-4665-973c-36b431684408&pf_rd_r=PMD32AMMPQ9SPDZ25272&qid=1678206938&sprefix=%2Caps%2C2105&sr=1-4-c84eb971-91f2-4a4d-acce-811265c24254&tag=sm-content-21',\n",
       " 'https://www.amazon.in/JUAREZ-JRZ38C-Acoustic-Sunburst-Strings/dp/B01FYYTDTU/ref=sr_1_15?crid=3TG6PE6O6IMRD&keywords=guitar&qid=1678206938&sprefix=%2Caps%2C2105&sr=8-15',\n",
       " 'https://www.amazon.in/Intern-INT-38C-Brown-Acoustic-Guitar/dp/B07X2HV158/ref=sr_1_16?crid=3TG6PE6O6IMRD&keywords=guitar&qid=1678206938&sprefix=%2Caps%2C2105&sr=8-16',\n",
       " 'https://www.amazon.in/Intern-INT-38C-Acoustic-Guitar-Sunburst/dp/B073B5MJRM/ref=sr_1_17?crid=3TG6PE6O6IMRD&keywords=guitar&qid=1678206938&sprefix=%2Caps%2C2105&sr=8-17',\n",
       " 'https://www.amazon.in/Kadence-Frontier-Acoustic-Guitar-Strings/dp/B078GTJP5Y/ref=sr_1_18?crid=3TG6PE6O6IMRD&keywords=guitar&qid=1678206938&sprefix=%2Caps%2C2105&sr=8-18',\n",
       " 'https://www.amazon.in/Revel-RVL-38C-LGP-BLS-Linden-Acoustic-Guitar/dp/B085HWKDCY/ref=sr_1_19?crid=3TG6PE6O6IMRD&keywords=guitar&qid=1678206938&sprefix=%2Caps%2C2105&sr=8-19',\n",
       " 'https://www.amazon.in/Rosewood-Fretboard-Acoustic-Strings-K-Retail/dp/B07KLG8C4P/ref=sr_1_20?crid=3TG6PE6O6IMRD&keywords=guitar&qid=1678206938&sprefix=%2Caps%2C2105&sr=8-20',\n",
       " 'https://www.amazon.in/sspa/click?ie=UTF8&spc=MToyMTEwNzA2NzQwMTU4NDU4OjE2NzgyMDY5Mzg6c3BfbXRmOjIwMTEyMTYwMzk2MDk4OjowOjo&url=%2FGiuson-Venus-Black-Acoustic-Strings%2Fdp%2FB089GNM189%2Fref%3Dsr_1_21_sspa%3Fcrid%3D3TG6PE6O6IMRD%26keywords%3Dguitar%26qid%3D1678206938%26sprefix%3D%252Caps%252C2105%26sr%3D8-21-spons%26sp_csd%3Dd2lkZ2V0TmFtZT1zcF9tdGY%26psc%3D1',\n",
       " 'https://www.amazon.in/sspa/click?ie=UTF8&spc=MToyMTEwNzA2NzQwMTU4NDU4OjE2NzgyMDY5Mzg6c3BfbXRmOjIwMDQ5MTI5MTM2MjAxOjowOjo&url=%2FGUITAR-BRO-Acoustic-Beginner-Accessories%2Fdp%2FB07T84GC8L%2Fref%3Dsr_1_22_sspa%3Fcrid%3D3TG6PE6O6IMRD%26keywords%3Dguitar%26qid%3D1678206938%26sprefix%3D%252Caps%252C2105%26sr%3D8-22-spons%26sp_csd%3Dd2lkZ2V0TmFtZT1zcF9tdGY%26psc%3D1',\n",
       " 'https://www.amazon.in/sspa/click?ie=UTF8&spc=MToyMTEwNzA2NzQwMTU4NDU4OjE2NzgyMDY5Mzg6c3BfbXRmOjIwMTI3MjgwMzA4Njk4OjowOjo&url=%2FTechblaze-Calibration-Accurate-Electronic-Specialized%2Fdp%2FB08334S5FD%2Fref%3Dsr_1_23_sspa%3Fcrid%3D3TG6PE6O6IMRD%26keywords%3Dguitar%26qid%3D1678206938%26sprefix%3D%252Caps%252C2105%26sr%3D8-23-spons%26sp_csd%3Dd2lkZ2V0TmFtZT1zcF9tdGY%26psc%3D1',\n",
       " 'https://www.amazon.in/sspa/click?ie=UTF8&spc=MToyMTEwNzA2NzQwMTU4NDU4OjE2NzgyMDY5Mzg6c3BfbXRmOjIwMDE5NjI1NTkyMTA0OjowOjo&url=%2FCort-AD810-Dreadnought-Acoustic-Guitar%2Fdp%2FB07KMBVR6V%2Fref%3Dsr_1_24_sspa%3Fcrid%3D3TG6PE6O6IMRD%26keywords%3Dguitar%26qid%3D1678206938%26sprefix%3D%252Caps%252C2105%26sr%3D8-24-spons%26sp_csd%3Dd2lkZ2V0TmFtZT1zcF9tdGY%26psc%3D1%26smid%3DA2E0IZ06LXDJ9X',\n",
       " 'https://www.amazon.in/YAMAHA-NATURAL-CONCERT-CUTAWAY-GUITAR/dp/B08KW4DRKL/ref=sr_1_25?crid=3TG6PE6O6IMRD&keywords=guitar&qid=1678206938&sprefix=%2Caps%2C2105&sr=8-25',\n",
       " 'https://www.amazon.in/YAMAHA-FS80C-CONCERT-CUTAWAY-GUITAR/dp/B08WBBVMVJ/ref=sr_1_26?crid=3TG6PE6O6IMRD&keywords=guitar&qid=1678206938&sprefix=%2Caps%2C2105&sr=8-26',\n",
       " 'https://www.amazon.in/Yamaha-FS-100C-6-String-Acoustic-without/dp/B00PAS9CK6/ref=sr_1_27?crid=3TG6PE6O6IMRD&keywords=guitar&qid=1678206938&sprefix=%2Caps%2C2105&sr=8-27',\n",
       " 'https://www.amazon.in/Yamaha-F310-6-Strings-Acoustic-Natural/dp/B000RVYW7E/ref=sr_1_28?crid=3TG6PE6O6IMRD&keywords=guitar&qid=1678206938&sprefix=%2Caps%2C2105&sr=8-28',\n",
       " 'https://www.amazon.in/Intern-Acoustic-Steel-string-plectrums-INT-38C-WH/dp/B09LR94Z2X/ref=sr_1_29?crid=3TG6PE6O6IMRD&keywords=guitar&qid=1678206938&sprefix=%2Caps%2C2105&sr=8-29',\n",
       " 'https://www.amazon.in/Juarez-Acoustic-Guitar-Cutaway-Strings/dp/B075XMRKMY/ref=sr_1_30?crid=3TG6PE6O6IMRD&keywords=guitar&qid=1678206938&sprefix=%2Caps%2C2105&sr=8-30',\n",
       " 'https://www.amazon.in/JUAREZ-JRZ38C-Handed-Acoustic-Strings/dp/B01FYYTDW2/ref=sr_1_31?crid=3TG6PE6O6IMRD&keywords=guitar&qid=1678206938&sprefix=%2Caps%2C2105&sr=8-31',\n",
       " 'https://www.amazon.in/Acoustic-Humidity-resistance-resonance-Plectrums/dp/B09RQZ6HM2/ref=sr_1_32?crid=3TG6PE6O6IMRD&keywords=guitar&qid=1678206938&sprefix=%2Caps%2C2105&sr=8-32',\n",
       " 'https://www.amazon.in/Vault-Jazz-Bass-4-String-Guitar/dp/B09ZXZDCDR/ref=sr_1_33?crid=3TG6PE6O6IMRD&keywords=guitar&qid=1678206938&sprefix=%2Caps%2C2105&sr=8-33',\n",
       " 'https://www.amazon.in/JRZ-ST01-6-String-Electric-Sunburst-Without/dp/B01FYZSOEE/ref=sr_1_34?crid=3TG6PE6O6IMRD&keywords=guitar&qid=1678206938&sprefix=%2Caps%2C2105&sr=8-34',\n",
       " 'https://www.amazon.in/Juarez-Acoustic-Guitar-Cutaway-Strings/dp/B084VRCCN7/ref=sr_1_35?crid=3TG6PE6O6IMRD&keywords=guitar&qid=1678206938&sprefix=%2Caps%2C2105&sr=8-35',\n",
       " 'https://www.amazon.in/Juarez-Acoustic-Guitar-Cutaway-JRZ38CT/dp/B01N3TTYJQ/ref=sr_1_36?crid=3TG6PE6O6IMRD&keywords=guitar&qid=1678206938&sprefix=%2Caps%2C2105&sr=8-36',\n",
       " 'https://www.amazon.in/Acoustic-Cutaway-TBLS-Strings-Sunburst/dp/B098BCCY75/ref=sr_1_37?crid=3TG6PE6O6IMRD&keywords=guitar&qid=1678206938&sprefix=%2Caps%2C2105&sr=8-37',\n",
       " 'https://www.amazon.in/Fender-String-Cutaway-Acoustic-Guitar/dp/B07YX5W8MV/ref=sr_1_38?crid=3TG6PE6O6IMRD&keywords=guitar&qid=1678206938&sprefix=%2Caps%2C2105&sr=8-38',\n",
       " 'https://www.amazon.in/Ju%C3%A2rez-JRZ38C-WH-Strings-Acoustic/dp/B072MFK4L6/ref=sr_1_39?crid=3TG6PE6O6IMRD&keywords=guitar&qid=1678206938&sprefix=%2Caps%2C2105&sr=8-39',\n",
       " 'https://www.amazon.in/Sterling-Ray4HH-4-String-Electric-Guitar/dp/B08518CCJS/ref=sr_1_40?crid=3TG6PE6O6IMRD&keywords=guitar&qid=1678206938&sprefix=%2Caps%2C2105&sr=8-40',\n",
       " 'https://www.amazon.in/Tanglewood-Crossroads-Acoustic-Strings-Orchestra/dp/B016KJHSV8/ref=sr_1_41_mod_primary_new?crid=3TG6PE6O6IMRD&keywords=guitar&qid=1678206938&sbo=RZvfv%2F%2FHxDF%2BO5021pAnSA%3D%3D&sprefix=%2Caps%2C2105&sr=8-41',\n",
       " 'https://www.amazon.in/Tanglewood-Crossroads-Acoustic-Strings-Orchestra/dp/B016KJHSV8/ref=sr_1_41_mod_new?crid=3TG6PE6O6IMRD&keywords=guitar&qid=1678206938&sbo=RZvfv%2F%2FHxDF%2BO5021pAnSA%3D%3D&sprefix=%2Caps%2C2105&sr=8-41',\n",
       " 'https://www.amazon.in/Tanglewood-Crossroads-Acoustic-Strings-Orchestra/dp/B016KJHSV8/ref=sr_1_41_mod_new?crid=3TG6PE6O6IMRD&keywords=guitar&qid=1678206938&sbo=RZvfv%2F%2FHxDF%2BO5021pAnSA%3D%3D&sprefix=%2Caps%2C2105&sr=8-41',\n",
       " 'https://www.amazon.in/Kadence-Frontier-Acoustic-Guitar-Strings/dp/B01GDZ46AA/ref=sr_1_42?crid=3TG6PE6O6IMRD&keywords=guitar&qid=1678206938&sprefix=%2Caps%2C2105&sr=8-42',\n",
       " 'https://www.amazon.in/JUAREZ-JRZ38C-Handed-Acoustic-Strings/dp/B01FYYTDX6/ref=sr_1_43?crid=3TG6PE6O6IMRD&keywords=guitar&qid=1678206938&sprefix=%2Caps%2C2105&sr=8-43',\n",
       " 'https://www.amazon.in/Acoustic-strings-plectrums-stability-age-groups/dp/B09YHC3LX6/ref=sr_1_44?crid=3TG6PE6O6IMRD&keywords=guitar&qid=1678206938&sprefix=%2Caps%2C2105&sr=8-44',\n",
       " 'https://www.amazon.in/Yamaha-FSX80C-Acoustic-Cutaway-Natural/dp/B09HL3GFZF/ref=sr_1_45?crid=3TG6PE6O6IMRD&keywords=guitar&qid=1678206938&sprefix=%2Caps%2C2105&sr=8-45',\n",
       " 'https://www.amazon.in/Yamaha-Acoustic-Guitar-Natural-Bajaao/dp/B08RMP2F6Z/ref=sr_1_46?crid=3TG6PE6O6IMRD&keywords=guitar&qid=1678206938&sprefix=%2Caps%2C2105&sr=8-46',\n",
       " 'https://www.amazon.in/Yamaha-Acoustic-Guitar-Tobacco-Sunburst/dp/B08VXR74Q2/ref=sr_1_47?crid=3TG6PE6O6IMRD&keywords=guitar&qid=1678206938&sprefix=%2Caps%2C2105&sr=8-47',\n",
       " 'https://www.amazon.in/Juarez-Acoustic-Cutaway-BK-Strings/dp/B076T3RHMG/ref=sr_1_48?crid=3TG6PE6O6IMRD&keywords=guitar&qid=1678206938&sprefix=%2Caps%2C2105&sr=8-48',\n",
       " 'https://www.amazon.in/Intern-INT-38C-Acoustic-Guitar-Kit/dp/B073B6TF31/ref=sr_1_49?crid=3TG6PE6O6IMRD&keywords=guitar&qid=1678206938&sprefix=%2Caps%2C2105&sr=8-49',\n",
       " 'https://www.amazon.in/Henrix-Cutaway-Acoustic-Die-Cast-Tuners/dp/B07KMXDXBV/ref=sr_1_50?crid=3TG6PE6O6IMRD&keywords=guitar&qid=1678206938&sprefix=%2Caps%2C2105&sr=8-50',\n",
       " 'https://www.amazon.in/Intern-INT-38C-BLS-G-Guitar-Kit-Blue/dp/B07K8YXTNW/ref=sr_1_51?crid=3TG6PE6O6IMRD&keywords=guitar&qid=1678206938&sprefix=%2Caps%2C2105&sr=8-51',\n",
       " 'https://www.amazon.in/Kadence-Frontier-Acoustic-Guitar-Strings/dp/B07T48VTZ1/ref=sr_1_52?crid=3TG6PE6O6IMRD&keywords=guitar&qid=1678206938&sprefix=%2Caps%2C2105&sr=8-52',\n",
       " 'https://www.amazon.in/Acoustic-Cutaway-3TS-Strings-Sunburst/dp/B098BD1MHM/ref=sr_1_53?crid=3TG6PE6O6IMRD&keywords=guitar&qid=1678206938&sprefix=%2Caps%2C2105&sr=8-53',\n",
       " 'https://www.amazon.in/Yamaha-FSX80C-Acoustic-Cutaway-Guitar/dp/B09HL5WFDX/ref=sr_1_54?crid=3TG6PE6O6IMRD&keywords=guitar&qid=1678206938&sprefix=%2Caps%2C2105&sr=8-54',\n",
       " 'https://www.amazon.in/Fender-Dread-String-Acoustic-Guitar/dp/B07RM4B5LJ/ref=sr_1_55?crid=3TG6PE6O6IMRD&keywords=guitar&qid=1678206938&sprefix=%2Caps%2C2105&sr=8-55',\n",
       " 'https://www.amazon.in/MUSTANG-Junior-Inch-Acoustic-Guitar/dp/B0BTBWJTGH/ref=sr_1_56?crid=3TG6PE6O6IMRD&keywords=guitar&qid=1678206938&sprefix=%2Caps%2C2105&sr=8-56',\n",
       " 'https://www.amazon.in/sspa/click?ie=UTF8&spc=MToyMTEwNzA2NzQwMTU4NDU4OjE2NzgyMDY5Mzg6c3BfYnRmOjIwMDg2MzMyMTYyOTAxOjowOjo&url=%2FUniversal-Acoustic-Classical-Mandolins-Instruments%2Fdp%2FB08XBRNC7T%2Fref%3Dsr_1_57_sspa%3Fcrid%3D3TG6PE6O6IMRD%26keywords%3Dguitar%26qid%3D1678206938%26sprefix%3D%252Caps%252C2105%26sr%3D8-57-spons%26sp_csd%3Dd2lkZ2V0TmFtZT1zcF9idGY%26psc%3D1',\n",
       " 'https://www.amazon.in/sspa/click?ie=UTF8&spc=MToyMTEwNzA2NzQwMTU4NDU4OjE2NzgyMDY5Mzg6c3BfYXRmOjIwMTIxNzg0MjQwOTk4OjowOjo&url=%2FKadence-Frontier-Acoustic-Guitar-Equalizer%2Fdp%2FB01HRIHJWY%2Fref%3Dsr_1_1_sspa%3Fcrid%3D3TG6PE6O6IMRD%26keywords%3Dguitar%26qid%3D1678206938%26sprefix%3D%252Caps%252C2105%26sr%3D8-1-spons%26sp_csd%3Dd2lkZ2V0TmFtZT1zcF9hdGY%26psc%3D1',\n",
       " 'https://www.amazon.in/sspa/click?ie=UTF8&spc=MToyMTEwNzA2NzQwMTU4NDU4OjE2NzgyMDY5Mzg6c3BfYXRmOjIwMDU3MTkzMDU2MjA0OjowOjo&url=%2FKadence-Slowhand-Premium-Acoustic-Instrument%2Fdp%2FB077SZ667X%2Fref%3Dsr_1_2_sspa%3Fcrid%3D3TG6PE6O6IMRD%26keywords%3Dguitar%26qid%3D1678206938%26sprefix%3D%252Caps%252C2105%26sr%3D8-2-spons%26sp_csd%3Dd2lkZ2V0TmFtZT1zcF9hdGY%26psc%3D1%26smid%3DAM04Z7MH4HSDD',\n",
       " 'https://www.amazon.in/sspa/click?ie=UTF8&spc=MToyMTEwNzA2NzQwMTU4NDU4OjE2NzgyMDY5Mzg6c3BfYXRmOjIwMDk2NjA4NzUwNDk4OjowOjo&url=%2FKadence-Frontier-Acoustic-Guitar-Strings%2Fdp%2FB01GDZ46AA%2Fref%3Dsr_1_3_sspa%3Fcrid%3D3TG6PE6O6IMRD%26keywords%3Dguitar%26qid%3D1678206938%26sprefix%3D%252Caps%252C2105%26sr%3D8-3-spons%26sp_csd%3Dd2lkZ2V0TmFtZT1zcF9hdGY%26psc%3D1%26smid%3DAM04Z7MH4HSDD',\n",
       " 'https://www.amazon.in/sspa/click?ie=UTF8&spc=MToyMTEwNzA2NzQwMTU4NDU4OjE2NzgyMDY5Mzg6c3BfYXRmOjIwMDM2MjI1NzQxMDk4OjowOjo&url=%2FTraveller-Acoustic-Guitar-Strings-Polishing%2Fdp%2FB07RK9962M%2Fref%3Dsr_1_4_sspa%3Fcrid%3D3TG6PE6O6IMRD%26keywords%3Dguitar%26qid%3D1678206938%26sprefix%3D%252Caps%252C2105%26sr%3D8-4-spons%26sp_csd%3Dd2lkZ2V0TmFtZT1zcF9hdGY%26psc%3D1',\n",
       " 'https://www.amazon.in/Juarez-Acoustic-Cutaway-038C-Strings/dp/B017NPCSLI/ref=sr_1_5?crid=3TG6PE6O6IMRD&keywords=guitar&qid=1678206938&sprefix=%2Caps%2C2105&sr=8-5',\n",
       " 'https://www.amazon.in/Intern-INT-38C-Acoustic-Guitar-Black/dp/B073B6TQQY/ref=sr_1_6?crid=3TG6PE6O6IMRD&keywords=guitar&qid=1678206938&sprefix=%2Caps%2C2105&sr=8-6',\n",
       " 'https://www.amazon.in/JUAREZ-JRZ38C-Acoustic-Sunburst-Strings/dp/B01FYYTDS6/ref=sr_1_7?crid=3TG6PE6O6IMRD&keywords=guitar&qid=1678206938&sprefix=%2Caps%2C2105&sr=8-7',\n",
       " 'https://www.amazon.in/Juarez-Acoustic-Guitar-Cutaway-Strings/dp/B076QHZ4HZ/ref=sr_1_8?crid=3TG6PE6O6IMRD&keywords=guitar&qid=1678206938&sprefix=%2Caps%2C2105&sr=8-8',\n",
       " 'https://www.amazon.in/Yamaha-F280-Acoustic-Guitar-Natural/dp/B08317Y4VP/ref=sr_1_9?crid=3TG6PE6O6IMRD&keywords=guitar&qid=1678206938&sprefix=%2Caps%2C2105&sr=8-9',\n",
       " 'https://www.amazon.in/Intern-38-inch-Cutaway-Design-Acoustic/dp/B07X4PN85R/ref=sr_1_10?crid=3TG6PE6O6IMRD&keywords=guitar&qid=1678206938&sprefix=%2Caps%2C2105&sr=8-10',\n",
       " 'https://www.amazon.in/Intern-INT-38C-Acoustic-Guitar-Blue/dp/B073B5RZBV/ref=sr_1_11?crid=3TG6PE6O6IMRD&keywords=guitar&qid=1678206938&sprefix=%2Caps%2C2105&sr=8-11',\n",
       " 'https://www.amazon.in/Intern-INT-38C-Natural-Acoustic-Guitar/dp/B07X4LPJ6H/ref=sr_1_12?crid=3TG6PE6O6IMRD&keywords=guitar&qid=1678206938&sprefix=%2Caps%2C2105&sr=8-12',\n",
       " 'https://www.amazon.in/JUAREZ-JRZ38C-Acoustic-Natural-Strings/dp/B01FYYTDWC/ref=sr_1_13?crid=3TG6PE6O6IMRD&keywords=guitar&qid=1678206938&sprefix=%2Caps%2C2105&sr=8-13',\n",
       " 'https://www.amazon.in/Juarez-JRZ-ST01-6-String-Electric-Without/dp/B01FYZSOEO/ref=sr_1_14?crid=3TG6PE6O6IMRD&keywords=guitar&qid=1678206938&sprefix=%2Caps%2C2105&sr=8-14',\n",
       " 'https://www.amazon.in/sspa/click?ie=UTF8&spc=MTo2NjA4MjY3NDE0Njk5ODMxOjE2NzgyMDY5Mzg6c3Bfc2VhcmNoX3RoZW1hdGljOjIwMDU3MTkzMDU2MjA0OjowOjo&url=%2FKadence-Slowhand-Premium-Acoustic-Instrument%2Fdp%2FB077SZ667X%2Fref%3Dsxin_25_pa_sp_search_thematic_sspa%3Fcontent-id%3Damzn1.sym.4d22510d-eb67-42e3-80e4-dd492aa3a3e0%253Aamzn1.sym.4d22510d-eb67-42e3-80e4-dd492aa3a3e0%26crid%3D3TG6PE6O6IMRD%26cv_ct_cx%3Dguitar%26keywords%3Dguitar%26pd_rd_i%3DB077SZ667X%26pd_rd_r%3D5745e324-f45a-422d-82b5-91a934159ee4%26pd_rd_w%3DdDGhl%26pd_rd_wg%3DlMvF2%26pf_rd_p%3D4d22510d-eb67-42e3-80e4-dd492aa3a3e0%26pf_rd_r%3DPMD32AMMPQ9SPDZ25272%26qid%3D1678206938%26sprefix%3D%252Caps%252C2105%26sr%3D1-1-5b19f378-d955-407f-848e-18f7f0908484-spons%26sp_csd%3Dd2lkZ2V0TmFtZT1zcF9zZWFyY2hfdGhlbWF0aWM%26psc%3D1%26smid%3DAM04Z7MH4HSDD',\n",
       " 'https://www.amazon.in/sspa/click?ie=UTF8&spc=MTo2NjA4MjY3NDE0Njk5ODMxOjE2NzgyMDY5Mzg6c3Bfc2VhcmNoX3RoZW1hdGljOjIwMTIxNzg0MjQwOTk4OjoxOjo&url=%2FKadence-Frontier-Acoustic-Guitar-Equalizer%2Fdp%2FB01HRIHJWY%2Fref%3Dsxin_25_pa_sp_search_thematic_sspa%3Fcontent-id%3Damzn1.sym.4d22510d-eb67-42e3-80e4-dd492aa3a3e0%253Aamzn1.sym.4d22510d-eb67-42e3-80e4-dd492aa3a3e0%26crid%3D3TG6PE6O6IMRD%26cv_ct_cx%3Dguitar%26keywords%3Dguitar%26pd_rd_i%3DB01HRIHJWY%26pd_rd_r%3D5745e324-f45a-422d-82b5-91a934159ee4%26pd_rd_w%3DdDGhl%26pd_rd_wg%3DlMvF2%26pf_rd_p%3D4d22510d-eb67-42e3-80e4-dd492aa3a3e0%26pf_rd_r%3DPMD32AMMPQ9SPDZ25272%26qid%3D1678206938%26sprefix%3D%252Caps%252C2105%26sr%3D1-2-5b19f378-d955-407f-848e-18f7f0908484-spons%26sp_csd%3Dd2lkZ2V0TmFtZT1zcF9zZWFyY2hfdGhlbWF0aWM%26psc%3D1',\n",
       " 'https://www.amazon.in/sspa/click?ie=UTF8&spc=MTo2NjA4MjY3NDE0Njk5ODMxOjE2NzgyMDY5Mzg6c3Bfc2VhcmNoX3RoZW1hdGljOjIwMDk2NjA4NzUwNDk4OjoyOjo&url=%2FKadence-Frontier-Acoustic-Guitar-Strings%2Fdp%2FB01GDZ46AA%2Fref%3Dsxin_25_pa_sp_search_thematic_sspa%3Fcontent-id%3Damzn1.sym.4d22510d-eb67-42e3-80e4-dd492aa3a3e0%253Aamzn1.sym.4d22510d-eb67-42e3-80e4-dd492aa3a3e0%26crid%3D3TG6PE6O6IMRD%26cv_ct_cx%3Dguitar%26keywords%3Dguitar%26pd_rd_i%3DB01GDZ46AA%26pd_rd_r%3D5745e324-f45a-422d-82b5-91a934159ee4%26pd_rd_w%3DdDGhl%26pd_rd_wg%3DlMvF2%26pf_rd_p%3D4d22510d-eb67-42e3-80e4-dd492aa3a3e0%26pf_rd_r%3DPMD32AMMPQ9SPDZ25272%26qid%3D1678206938%26sprefix%3D%252Caps%252C2105%26sr%3D1-3-5b19f378-d955-407f-848e-18f7f0908484-spons%26sp_csd%3Dd2lkZ2V0TmFtZT1zcF9zZWFyY2hfdGhlbWF0aWM%26psc%3D1%26smid%3DAM04Z7MH4HSDD',\n",
       " 'https://www.amazon.in/sspa/click?ie=UTF8&spc=MTo2NjA4MjY3NDE0Njk5ODMxOjE2NzgyMDY5Mzg6c3Bfc2VhcmNoX3RoZW1hdGljOjIwMDE5NjI1NTkyMTA0OjozOjo&url=%2FCort-AD810-Dreadnought-Acoustic-Guitar%2Fdp%2FB07KMBVR6V%2Fref%3Dsxin_25_pa_sp_search_thematic_sspa%3Fcontent-id%3Damzn1.sym.4d22510d-eb67-42e3-80e4-dd492aa3a3e0%253Aamzn1.sym.4d22510d-eb67-42e3-80e4-dd492aa3a3e0%26crid%3D3TG6PE6O6IMRD%26cv_ct_cx%3Dguitar%26keywords%3Dguitar%26pd_rd_i%3DB07KMBVR6V%26pd_rd_r%3D5745e324-f45a-422d-82b5-91a934159ee4%26pd_rd_w%3DdDGhl%26pd_rd_wg%3DlMvF2%26pf_rd_p%3D4d22510d-eb67-42e3-80e4-dd492aa3a3e0%26pf_rd_r%3DPMD32AMMPQ9SPDZ25272%26qid%3D1678206938%26sprefix%3D%252Caps%252C2105%26sr%3D1-4-5b19f378-d955-407f-848e-18f7f0908484-spons%26sp_csd%3Dd2lkZ2V0TmFtZT1zcF9zZWFyY2hfdGhlbWF0aWM%26psc%3D1%26smid%3DA2E0IZ06LXDJ9X',\n",
       " 'https://www.amazon.in/Fender-Dread-String-Acoustic-Guitar/dp/B07RM4B5LJ/ref=sxin_26?asc_contentid=amzn1.osa.39dd7fbf-afb9-4b33-a89b-5dc1ff018d2f.A21TJRUUN4KGV.en_IN&asc_contenttype=article&ascsubtag=amzn1.osa.39dd7fbf-afb9-4b33-a89b-5dc1ff018d2f.A21TJRUUN4KGV.en_IN&content-id=amzn1.sym.feb2b32b-0085-4665-973c-36b431684408%3Aamzn1.sym.feb2b32b-0085-4665-973c-36b431684408&creativeASIN=B07RM4B5LJ&crid=3TG6PE6O6IMRD&cv_ct_cx=guitar&cv_ct_id=amzn1.osa.39dd7fbf-afb9-4b33-a89b-5dc1ff018d2f.A21TJRUUN4KGV.en_IN&cv_ct_pg=search&cv_ct_we=asin&cv_ct_wn=osp-single-source-pecos-desktop&keywords=guitar&linkCode=oas&pd_rd_i=B07RM4B5LJ&pd_rd_r=5745e324-f45a-422d-82b5-91a934159ee4&pd_rd_w=5FBvR&pd_rd_wg=lMvF2&pf_rd_p=feb2b32b-0085-4665-973c-36b431684408&pf_rd_r=PMD32AMMPQ9SPDZ25272&qid=1678206938&sprefix=%2Caps%2C2105&sr=1-1-c84eb971-91f2-4a4d-acce-811265c24254&tag=sm-content-21',\n",
       " 'https://www.amazon.in/Yamaha-FS100C-Acoustic-Guitars-Natural/dp/B00QKD79QE/ref=sxin_26?asc_contentid=amzn1.osa.39dd7fbf-afb9-4b33-a89b-5dc1ff018d2f.A21TJRUUN4KGV.en_IN&asc_contenttype=article&ascsubtag=amzn1.osa.39dd7fbf-afb9-4b33-a89b-5dc1ff018d2f.A21TJRUUN4KGV.en_IN&content-id=amzn1.sym.feb2b32b-0085-4665-973c-36b431684408%3Aamzn1.sym.feb2b32b-0085-4665-973c-36b431684408&creativeASIN=B00QKD79QE&crid=3TG6PE6O6IMRD&cv_ct_cx=guitar&cv_ct_id=amzn1.osa.39dd7fbf-afb9-4b33-a89b-5dc1ff018d2f.A21TJRUUN4KGV.en_IN&cv_ct_pg=search&cv_ct_we=asin&cv_ct_wn=osp-single-source-pecos-desktop&keywords=guitar&linkCode=oas&pd_rd_i=B00QKD79QE&pd_rd_r=5745e324-f45a-422d-82b5-91a934159ee4&pd_rd_w=5FBvR&pd_rd_wg=lMvF2&pf_rd_p=feb2b32b-0085-4665-973c-36b431684408&pf_rd_r=PMD32AMMPQ9SPDZ25272&qid=1678206938&sprefix=%2Caps%2C2105&sr=1-2-c84eb971-91f2-4a4d-acce-811265c24254&tag=sm-content-21',\n",
       " 'https://www.amazon.in/Rosewood-Fretboard-Acoustic-Strings-K-Retail/dp/B07KLG8C4P/ref=sxin_26?asc_contentid=amzn1.osa.39dd7fbf-afb9-4b33-a89b-5dc1ff018d2f.A21TJRUUN4KGV.en_IN&asc_contenttype=article&ascsubtag=amzn1.osa.39dd7fbf-afb9-4b33-a89b-5dc1ff018d2f.A21TJRUUN4KGV.en_IN&content-id=amzn1.sym.feb2b32b-0085-4665-973c-36b431684408%3Aamzn1.sym.feb2b32b-0085-4665-973c-36b431684408&creativeASIN=B07KLG8C4P&crid=3TG6PE6O6IMRD&cv_ct_cx=guitar&cv_ct_id=amzn1.osa.39dd7fbf-afb9-4b33-a89b-5dc1ff018d2f.A21TJRUUN4KGV.en_IN&cv_ct_pg=search&cv_ct_we=asin&cv_ct_wn=osp-single-source-pecos-desktop&keywords=guitar&linkCode=oas&pd_rd_i=B07KLG8C4P&pd_rd_r=5745e324-f45a-422d-82b5-91a934159ee4&pd_rd_w=5FBvR&pd_rd_wg=lMvF2&pf_rd_p=feb2b32b-0085-4665-973c-36b431684408&pf_rd_r=PMD32AMMPQ9SPDZ25272&qid=1678206938&sprefix=%2Caps%2C2105&sr=1-3-c84eb971-91f2-4a4d-acce-811265c24254&tag=sm-content-21',\n",
       " 'https://www.amazon.in/Kadence-6-strings-Acoustic-Guitar-Natural/dp/B07JKYWGJN/ref=sxin_26?asc_contentid=amzn1.osa.39dd7fbf-afb9-4b33-a89b-5dc1ff018d2f.A21TJRUUN4KGV.en_IN&asc_contenttype=article&ascsubtag=amzn1.osa.39dd7fbf-afb9-4b33-a89b-5dc1ff018d2f.A21TJRUUN4KGV.en_IN&content-id=amzn1.sym.feb2b32b-0085-4665-973c-36b431684408%3Aamzn1.sym.feb2b32b-0085-4665-973c-36b431684408&creativeASIN=B07JKYWGJN&crid=3TG6PE6O6IMRD&cv_ct_cx=guitar&cv_ct_id=amzn1.osa.39dd7fbf-afb9-4b33-a89b-5dc1ff018d2f.A21TJRUUN4KGV.en_IN&cv_ct_pg=search&cv_ct_we=asin&cv_ct_wn=osp-single-source-pecos-desktop&keywords=guitar&linkCode=oas&pd_rd_i=B07JKYWGJN&pd_rd_r=5745e324-f45a-422d-82b5-91a934159ee4&pd_rd_w=5FBvR&pd_rd_wg=lMvF2&pf_rd_p=feb2b32b-0085-4665-973c-36b431684408&pf_rd_r=PMD32AMMPQ9SPDZ25272&qid=1678206938&sprefix=%2Caps%2C2105&sr=1-4-c84eb971-91f2-4a4d-acce-811265c24254&tag=sm-content-21',\n",
       " 'https://www.amazon.in/JUAREZ-JRZ38C-Acoustic-Sunburst-Strings/dp/B01FYYTDTU/ref=sr_1_15?crid=3TG6PE6O6IMRD&keywords=guitar&qid=1678206938&sprefix=%2Caps%2C2105&sr=8-15',\n",
       " 'https://www.amazon.in/Intern-INT-38C-Brown-Acoustic-Guitar/dp/B07X2HV158/ref=sr_1_16?crid=3TG6PE6O6IMRD&keywords=guitar&qid=1678206938&sprefix=%2Caps%2C2105&sr=8-16',\n",
       " 'https://www.amazon.in/Intern-INT-38C-Acoustic-Guitar-Sunburst/dp/B073B5MJRM/ref=sr_1_17?crid=3TG6PE6O6IMRD&keywords=guitar&qid=1678206938&sprefix=%2Caps%2C2105&sr=8-17',\n",
       " 'https://www.amazon.in/Kadence-Frontier-Acoustic-Guitar-Strings/dp/B078GTJP5Y/ref=sr_1_18?crid=3TG6PE6O6IMRD&keywords=guitar&qid=1678206938&sprefix=%2Caps%2C2105&sr=8-18',\n",
       " 'https://www.amazon.in/Revel-RVL-38C-LGP-BLS-Linden-Acoustic-Guitar/dp/B085HWKDCY/ref=sr_1_19?crid=3TG6PE6O6IMRD&keywords=guitar&qid=1678206938&sprefix=%2Caps%2C2105&sr=8-19',\n",
       " 'https://www.amazon.in/Rosewood-Fretboard-Acoustic-Strings-K-Retail/dp/B07KLG8C4P/ref=sr_1_20?crid=3TG6PE6O6IMRD&keywords=guitar&qid=1678206938&sprefix=%2Caps%2C2105&sr=8-20',\n",
       " 'https://www.amazon.in/sspa/click?ie=UTF8&spc=MToyMTEwNzA2NzQwMTU4NDU4OjE2NzgyMDY5Mzg6c3BfbXRmOjIwMTEyMTYwMzk2MDk4OjowOjo&url=%2FGiuson-Venus-Black-Acoustic-Strings%2Fdp%2FB089GNM189%2Fref%3Dsr_1_21_sspa%3Fcrid%3D3TG6PE6O6IMRD%26keywords%3Dguitar%26qid%3D1678206938%26sprefix%3D%252Caps%252C2105%26sr%3D8-21-spons%26sp_csd%3Dd2lkZ2V0TmFtZT1zcF9tdGY%26psc%3D1',\n",
       " 'https://www.amazon.in/sspa/click?ie=UTF8&spc=MToyMTEwNzA2NzQwMTU4NDU4OjE2NzgyMDY5Mzg6c3BfbXRmOjIwMDQ5MTI5MTM2MjAxOjowOjo&url=%2FGUITAR-BRO-Acoustic-Beginner-Accessories%2Fdp%2FB07T84GC8L%2Fref%3Dsr_1_22_sspa%3Fcrid%3D3TG6PE6O6IMRD%26keywords%3Dguitar%26qid%3D1678206938%26sprefix%3D%252Caps%252C2105%26sr%3D8-22-spons%26sp_csd%3Dd2lkZ2V0TmFtZT1zcF9tdGY%26psc%3D1',\n",
       " 'https://www.amazon.in/sspa/click?ie=UTF8&spc=MToyMTEwNzA2NzQwMTU4NDU4OjE2NzgyMDY5Mzg6c3BfbXRmOjIwMTI3MjgwMzA4Njk4OjowOjo&url=%2FTechblaze-Calibration-Accurate-Electronic-Specialized%2Fdp%2FB08334S5FD%2Fref%3Dsr_1_23_sspa%3Fcrid%3D3TG6PE6O6IMRD%26keywords%3Dguitar%26qid%3D1678206938%26sprefix%3D%252Caps%252C2105%26sr%3D8-23-spons%26sp_csd%3Dd2lkZ2V0TmFtZT1zcF9tdGY%26psc%3D1',\n",
       " 'https://www.amazon.in/sspa/click?ie=UTF8&spc=MToyMTEwNzA2NzQwMTU4NDU4OjE2NzgyMDY5Mzg6c3BfbXRmOjIwMDE5NjI1NTkyMTA0OjowOjo&url=%2FCort-AD810-Dreadnought-Acoustic-Guitar%2Fdp%2FB07KMBVR6V%2Fref%3Dsr_1_24_sspa%3Fcrid%3D3TG6PE6O6IMRD%26keywords%3Dguitar%26qid%3D1678206938%26sprefix%3D%252Caps%252C2105%26sr%3D8-24-spons%26sp_csd%3Dd2lkZ2V0TmFtZT1zcF9tdGY%26psc%3D1%26smid%3DA2E0IZ06LXDJ9X',\n",
       " 'https://www.amazon.in/YAMAHA-NATURAL-CONCERT-CUTAWAY-GUITAR/dp/B08KW4DRKL/ref=sr_1_25?crid=3TG6PE6O6IMRD&keywords=guitar&qid=1678206938&sprefix=%2Caps%2C2105&sr=8-25',\n",
       " 'https://www.amazon.in/YAMAHA-FS80C-CONCERT-CUTAWAY-GUITAR/dp/B08WBBVMVJ/ref=sr_1_26?crid=3TG6PE6O6IMRD&keywords=guitar&qid=1678206938&sprefix=%2Caps%2C2105&sr=8-26',\n",
       " 'https://www.amazon.in/Yamaha-FS-100C-6-String-Acoustic-without/dp/B00PAS9CK6/ref=sr_1_27?crid=3TG6PE6O6IMRD&keywords=guitar&qid=1678206938&sprefix=%2Caps%2C2105&sr=8-27',\n",
       " 'https://www.amazon.in/Yamaha-F310-6-Strings-Acoustic-Natural/dp/B000RVYW7E/ref=sr_1_28?crid=3TG6PE6O6IMRD&keywords=guitar&qid=1678206938&sprefix=%2Caps%2C2105&sr=8-28',\n",
       " 'https://www.amazon.in/Intern-Acoustic-Steel-string-plectrums-INT-38C-WH/dp/B09LR94Z2X/ref=sr_1_29?crid=3TG6PE6O6IMRD&keywords=guitar&qid=1678206938&sprefix=%2Caps%2C2105&sr=8-29',\n",
       " 'https://www.amazon.in/Juarez-Acoustic-Guitar-Cutaway-Strings/dp/B075XMRKMY/ref=sr_1_30?crid=3TG6PE6O6IMRD&keywords=guitar&qid=1678206938&sprefix=%2Caps%2C2105&sr=8-30',\n",
       " 'https://www.amazon.in/JUAREZ-JRZ38C-Handed-Acoustic-Strings/dp/B01FYYTDW2/ref=sr_1_31?crid=3TG6PE6O6IMRD&keywords=guitar&qid=1678206938&sprefix=%2Caps%2C2105&sr=8-31',\n",
       " 'https://www.amazon.in/Acoustic-Humidity-resistance-resonance-Plectrums/dp/B09RQZ6HM2/ref=sr_1_32?crid=3TG6PE6O6IMRD&keywords=guitar&qid=1678206938&sprefix=%2Caps%2C2105&sr=8-32',\n",
       " 'https://www.amazon.in/Vault-Jazz-Bass-4-String-Guitar/dp/B09ZXZDCDR/ref=sr_1_33?crid=3TG6PE6O6IMRD&keywords=guitar&qid=1678206938&sprefix=%2Caps%2C2105&sr=8-33',\n",
       " 'https://www.amazon.in/JRZ-ST01-6-String-Electric-Sunburst-Without/dp/B01FYZSOEE/ref=sr_1_34?crid=3TG6PE6O6IMRD&keywords=guitar&qid=1678206938&sprefix=%2Caps%2C2105&sr=8-34',\n",
       " 'https://www.amazon.in/Juarez-Acoustic-Guitar-Cutaway-Strings/dp/B084VRCCN7/ref=sr_1_35?crid=3TG6PE6O6IMRD&keywords=guitar&qid=1678206938&sprefix=%2Caps%2C2105&sr=8-35',\n",
       " 'https://www.amazon.in/Juarez-Acoustic-Guitar-Cutaway-JRZ38CT/dp/B01N3TTYJQ/ref=sr_1_36?crid=3TG6PE6O6IMRD&keywords=guitar&qid=1678206938&sprefix=%2Caps%2C2105&sr=8-36',\n",
       " 'https://www.amazon.in/Acoustic-Cutaway-TBLS-Strings-Sunburst/dp/B098BCCY75/ref=sr_1_37?crid=3TG6PE6O6IMRD&keywords=guitar&qid=1678206938&sprefix=%2Caps%2C2105&sr=8-37',\n",
       " 'https://www.amazon.in/Fender-String-Cutaway-Acoustic-Guitar/dp/B07YX5W8MV/ref=sr_1_38?crid=3TG6PE6O6IMRD&keywords=guitar&qid=1678206938&sprefix=%2Caps%2C2105&sr=8-38',\n",
       " 'https://www.amazon.in/Ju%C3%A2rez-JRZ38C-WH-Strings-Acoustic/dp/B072MFK4L6/ref=sr_1_39?crid=3TG6PE6O6IMRD&keywords=guitar&qid=1678206938&sprefix=%2Caps%2C2105&sr=8-39',\n",
       " 'https://www.amazon.in/Sterling-Ray4HH-4-String-Electric-Guitar/dp/B08518CCJS/ref=sr_1_40?crid=3TG6PE6O6IMRD&keywords=guitar&qid=1678206938&sprefix=%2Caps%2C2105&sr=8-40',\n",
       " 'https://www.amazon.in/Tanglewood-Crossroads-Acoustic-Strings-Orchestra/dp/B016KJHSV8/ref=sr_1_41_mod_primary_new?crid=3TG6PE6O6IMRD&keywords=guitar&qid=1678206938&sbo=RZvfv%2F%2FHxDF%2BO5021pAnSA%3D%3D&sprefix=%2Caps%2C2105&sr=8-41',\n",
       " 'https://www.amazon.in/Tanglewood-Crossroads-Acoustic-Strings-Orchestra/dp/B016KJHSV8/ref=sr_1_41_mod_new?crid=3TG6PE6O6IMRD&keywords=guitar&qid=1678206938&sbo=RZvfv%2F%2FHxDF%2BO5021pAnSA%3D%3D&sprefix=%2Caps%2C2105&sr=8-41',\n",
       " 'https://www.amazon.in/Tanglewood-Crossroads-Acoustic-Strings-Orchestra/dp/B016KJHSV8/ref=sr_1_41_mod_new?crid=3TG6PE6O6IMRD&keywords=guitar&qid=1678206938&sbo=RZvfv%2F%2FHxDF%2BO5021pAnSA%3D%3D&sprefix=%2Caps%2C2105&sr=8-41',\n",
       " 'https://www.amazon.in/Kadence-Frontier-Acoustic-Guitar-Strings/dp/B01GDZ46AA/ref=sr_1_42?crid=3TG6PE6O6IMRD&keywords=guitar&qid=1678206938&sprefix=%2Caps%2C2105&sr=8-42',\n",
       " 'https://www.amazon.in/JUAREZ-JRZ38C-Handed-Acoustic-Strings/dp/B01FYYTDX6/ref=sr_1_43?crid=3TG6PE6O6IMRD&keywords=guitar&qid=1678206938&sprefix=%2Caps%2C2105&sr=8-43',\n",
       " 'https://www.amazon.in/Acoustic-strings-plectrums-stability-age-groups/dp/B09YHC3LX6/ref=sr_1_44?crid=3TG6PE6O6IMRD&keywords=guitar&qid=1678206938&sprefix=%2Caps%2C2105&sr=8-44',\n",
       " 'https://www.amazon.in/Yamaha-FSX80C-Acoustic-Cutaway-Natural/dp/B09HL3GFZF/ref=sr_1_45?crid=3TG6PE6O6IMRD&keywords=guitar&qid=1678206938&sprefix=%2Caps%2C2105&sr=8-45',\n",
       " 'https://www.amazon.in/Yamaha-Acoustic-Guitar-Natural-Bajaao/dp/B08RMP2F6Z/ref=sr_1_46?crid=3TG6PE6O6IMRD&keywords=guitar&qid=1678206938&sprefix=%2Caps%2C2105&sr=8-46',\n",
       " 'https://www.amazon.in/Yamaha-Acoustic-Guitar-Tobacco-Sunburst/dp/B08VXR74Q2/ref=sr_1_47?crid=3TG6PE6O6IMRD&keywords=guitar&qid=1678206938&sprefix=%2Caps%2C2105&sr=8-47',\n",
       " 'https://www.amazon.in/Juarez-Acoustic-Cutaway-BK-Strings/dp/B076T3RHMG/ref=sr_1_48?crid=3TG6PE6O6IMRD&keywords=guitar&qid=1678206938&sprefix=%2Caps%2C2105&sr=8-48',\n",
       " 'https://www.amazon.in/Intern-INT-38C-Acoustic-Guitar-Kit/dp/B073B6TF31/ref=sr_1_49?crid=3TG6PE6O6IMRD&keywords=guitar&qid=1678206938&sprefix=%2Caps%2C2105&sr=8-49',\n",
       " 'https://www.amazon.in/Henrix-Cutaway-Acoustic-Die-Cast-Tuners/dp/B07KMXDXBV/ref=sr_1_50?crid=3TG6PE6O6IMRD&keywords=guitar&qid=1678206938&sprefix=%2Caps%2C2105&sr=8-50',\n",
       " 'https://www.amazon.in/Intern-INT-38C-BLS-G-Guitar-Kit-Blue/dp/B07K8YXTNW/ref=sr_1_51?crid=3TG6PE6O6IMRD&keywords=guitar&qid=1678206938&sprefix=%2Caps%2C2105&sr=8-51',\n",
       " 'https://www.amazon.in/Kadence-Frontier-Acoustic-Guitar-Strings/dp/B07T48VTZ1/ref=sr_1_52?crid=3TG6PE6O6IMRD&keywords=guitar&qid=1678206938&sprefix=%2Caps%2C2105&sr=8-52',\n",
       " 'https://www.amazon.in/Acoustic-Cutaway-3TS-Strings-Sunburst/dp/B098BD1MHM/ref=sr_1_53?crid=3TG6PE6O6IMRD&keywords=guitar&qid=1678206938&sprefix=%2Caps%2C2105&sr=8-53',\n",
       " 'https://www.amazon.in/Yamaha-FSX80C-Acoustic-Cutaway-Guitar/dp/B09HL5WFDX/ref=sr_1_54?crid=3TG6PE6O6IMRD&keywords=guitar&qid=1678206938&sprefix=%2Caps%2C2105&sr=8-54',\n",
       " 'https://www.amazon.in/Fender-Dread-String-Acoustic-Guitar/dp/B07RM4B5LJ/ref=sr_1_55?crid=3TG6PE6O6IMRD&keywords=guitar&qid=1678206938&sprefix=%2Caps%2C2105&sr=8-55',\n",
       " 'https://www.amazon.in/MUSTANG-Junior-Inch-Acoustic-Guitar/dp/B0BTBWJTGH/ref=sr_1_56?crid=3TG6PE6O6IMRD&keywords=guitar&qid=1678206938&sprefix=%2Caps%2C2105&sr=8-56',\n",
       " 'https://www.amazon.in/sspa/click?ie=UTF8&spc=MToyMTEwNzA2NzQwMTU4NDU4OjE2NzgyMDY5Mzg6c3BfYnRmOjIwMDg2MzMyMTYyOTAxOjowOjo&url=%2FUniversal-Acoustic-Classical-Mandolins-Instruments%2Fdp%2FB08XBRNC7T%2Fref%3Dsr_1_57_sspa%3Fcrid%3D3TG6PE6O6IMRD%26keywords%3Dguitar%26qid%3D1678206938%26sprefix%3D%252Caps%252C2105%26sr%3D8-57-spons%26sp_csd%3Dd2lkZ2V0TmFtZT1zcF9idGY%26psc%3D1']"
      ]
     },
     "execution_count": 14,
     "metadata": {},
     "output_type": "execute_result"
    }
   ],
   "source": [
    "job_opening_url"
   ]
  },
  {
   "cell_type": "code",
   "execution_count": 15,
   "id": "e50dd399",
   "metadata": {},
   "outputs": [],
   "source": [
    "BrandName=[]  #creating an empty list\n",
    "Name_of_product=[]\n",
    "Price=[]\n",
    "Return_Exchange=[]\n",
    "Expected_Delivery=[]\n",
    "Availability=[]\n",
    "Product_url=[]"
   ]
  },
  {
   "cell_type": "code",
   "execution_count": 16,
   "id": "8d460988",
   "metadata": {},
   "outputs": [],
   "source": [
    "search_PI=driver.find_element(By.XPATH,\"/html/body/div[1]/div[2]/div[1]/div[1]/div/span[1]/div[1]/div[3]/div/div/div/div/div/div/div[2]/div[1]/h2/a/span\")\n",
    "search_PI.click()"
   ]
  },
  {
   "cell_type": "code",
   "execution_count": 17,
   "id": "8d7f5eb4",
   "metadata": {},
   "outputs": [],
   "source": [
    "#Dear sir, It takes alot of time to scrap the data in that purposes i will scarp only 25 data, beacuse my internet is very slow in that purposes"
   ]
  },
  {
   "cell_type": "code",
   "execution_count": 19,
   "id": "9abe955b",
   "metadata": {},
   "outputs": [],
   "source": [
    "for i in job_opening_url[0:25]: #iterating over each and every url to fetch job titles\n",
    "    driver.get(i)    # Taking each url one by one as an input\n",
    "    time.sleep(5)\n",
    "    try:\n",
    "        brand = driver.find_element(By.XPATH,'/html/body/div[2]/div[2]/div[5]/div[4]/div[4]/div[44]/div/table/tbody/tr[1]/td[2]/span')\n",
    "        BrandName.append(brand.text)\n",
    "    except NoSuchElementException:\n",
    "        BrandName.append('-')"
   ]
  },
  {
   "cell_type": "code",
   "execution_count": 20,
   "id": "5d4662d5",
   "metadata": {},
   "outputs": [
    {
     "data": {
      "text/plain": [
       "['-',\n",
       " '-',\n",
       " '-',\n",
       " '-',\n",
       " '-',\n",
       " '-',\n",
       " '-',\n",
       " '-',\n",
       " '-',\n",
       " '-',\n",
       " '-',\n",
       " '-',\n",
       " '-',\n",
       " '-',\n",
       " '-',\n",
       " '-',\n",
       " '-',\n",
       " '-',\n",
       " '-',\n",
       " '-',\n",
       " '-',\n",
       " '-',\n",
       " '-',\n",
       " '-',\n",
       " '-']"
      ]
     },
     "execution_count": 20,
     "metadata": {},
     "output_type": "execute_result"
    }
   ],
   "source": [
    "BrandName"
   ]
  },
  {
   "cell_type": "code",
   "execution_count": null,
   "id": "7afa3345",
   "metadata": {},
   "outputs": [],
   "source": [
    "# I was try to scarp the data but it shows no data"
   ]
  }
 ],
 "metadata": {
  "kernelspec": {
   "display_name": "Python 3 (ipykernel)",
   "language": "python",
   "name": "python3"
  },
  "language_info": {
   "codemirror_mode": {
    "name": "ipython",
    "version": 3
   },
   "file_extension": ".py",
   "mimetype": "text/x-python",
   "name": "python",
   "nbconvert_exporter": "python",
   "pygments_lexer": "ipython3",
   "version": "3.9.12"
  }
 },
 "nbformat": 4,
 "nbformat_minor": 5
}
